{
  "nbformat": 4,
  "nbformat_minor": 0,
  "metadata": {
    "colab": {
      "provenance": []
    },
    "kernelspec": {
      "name": "python3",
      "display_name": "Python 3"
    },
    "language_info": {
      "name": "python"
    }
  },
  "cells": [
    {
      "cell_type": "code",
      "source": [
        "!apt install libnvrtc8.0\n",
        "!pip uninstall -y mxnet-cu80 && pip install mxnet-cu80==1.1.0\n",
        "!pip install turicreate"
      ],
      "metadata": {
        "colab": {
          "base_uri": "https://localhost:8080/",
          "height": 1000
        },
        "id": "6g6FKNV0cwwB",
        "outputId": "f0d1b00e-4463-4faa-dece-c331bd97d6a1"
      },
      "execution_count": null,
      "outputs": [
        {
          "output_type": "stream",
          "name": "stdout",
          "text": [
            "Reading package lists... Done\n",
            "Building dependency tree       \n",
            "Reading state information... Done\n",
            "E: Unable to locate package libnvrtc8.0\n",
            "E: Couldn't find any package by glob 'libnvrtc8.0'\n",
            "E: Couldn't find any package by regex 'libnvrtc8.0'\n",
            "\u001b[33mWARNING: Skipping mxnet-cu80 as it is not installed.\u001b[0m\n",
            "Looking in indexes: https://pypi.org/simple, https://us-python.pkg.dev/colab-wheels/public/simple/\n",
            "Collecting mxnet-cu80==1.1.0\n",
            "  Downloading mxnet_cu80-1.1.0-py2.py3-none-manylinux1_x86_64.whl (274.9 MB)\n",
            "\u001b[K     |████████████████████████████████| 274.9 MB 4.0 kB/s \n",
            "\u001b[?25hCollecting numpy<=1.13.3\n",
            "  Downloading numpy-1.13.3.zip (5.0 MB)\n",
            "\u001b[K     |████████████████████████████████| 5.0 MB 42.9 MB/s \n",
            "\u001b[?25hCollecting graphviz==0.8.1\n",
            "  Downloading graphviz-0.8.1-py2.py3-none-any.whl (17 kB)\n",
            "Collecting requests==2.18.4\n",
            "  Downloading requests-2.18.4-py2.py3-none-any.whl (88 kB)\n",
            "\u001b[K     |████████████████████████████████| 88 kB 9.1 MB/s \n",
            "\u001b[?25hRequirement already satisfied: chardet<3.1.0,>=3.0.2 in /usr/local/lib/python3.7/dist-packages (from requests==2.18.4->mxnet-cu80==1.1.0) (3.0.4)\n",
            "Requirement already satisfied: certifi>=2017.4.17 in /usr/local/lib/python3.7/dist-packages (from requests==2.18.4->mxnet-cu80==1.1.0) (2022.5.18.1)\n",
            "Collecting urllib3<1.23,>=1.21.1\n",
            "  Downloading urllib3-1.22-py2.py3-none-any.whl (132 kB)\n",
            "\u001b[K     |████████████████████████████████| 132 kB 70.0 MB/s \n",
            "\u001b[?25hCollecting idna<2.7,>=2.5\n",
            "  Downloading idna-2.6-py2.py3-none-any.whl (56 kB)\n",
            "\u001b[K     |████████████████████████████████| 56 kB 4.9 MB/s \n",
            "\u001b[?25hBuilding wheels for collected packages: numpy\n",
            "  Building wheel for numpy (setup.py) ... \u001b[?25lerror\n",
            "\u001b[31m  ERROR: Failed building wheel for numpy\u001b[0m\n",
            "\u001b[?25h  Running setup.py clean for numpy\n",
            "\u001b[31m  ERROR: Failed cleaning build dir for numpy\u001b[0m\n",
            "Failed to build numpy\n",
            "Installing collected packages: urllib3, idna, requests, numpy, graphviz, mxnet-cu80\n",
            "  Attempting uninstall: urllib3\n",
            "    Found existing installation: urllib3 1.24.3\n",
            "    Uninstalling urllib3-1.24.3:\n",
            "      Successfully uninstalled urllib3-1.24.3\n",
            "  Attempting uninstall: idna\n",
            "    Found existing installation: idna 2.10\n",
            "    Uninstalling idna-2.10:\n",
            "      Successfully uninstalled idna-2.10\n",
            "  Attempting uninstall: requests\n",
            "    Found existing installation: requests 2.23.0\n",
            "    Uninstalling requests-2.23.0:\n",
            "      Successfully uninstalled requests-2.23.0\n",
            "  Attempting uninstall: numpy\n",
            "    Found existing installation: numpy 1.21.6\n",
            "    Uninstalling numpy-1.21.6:\n",
            "      Successfully uninstalled numpy-1.21.6\n",
            "    Running setup.py install for numpy ... \u001b[?25l\u001b[?25herror\n",
            "  Rolling back uninstall of numpy\n",
            "  Moving to /usr/bin/f2py\n",
            "   from /tmp/pip-uninstall-aw_9ksz4/f2py\n",
            "  Moving to /usr/local/bin/f2py\n",
            "   from /tmp/pip-uninstall-o7phuaoo/f2py\n",
            "  Moving to /usr/local/bin/f2py3\n",
            "   from /tmp/pip-uninstall-o7phuaoo/f2py3\n",
            "  Moving to /usr/local/bin/f2py3.7\n",
            "   from /tmp/pip-uninstall-o7phuaoo/f2py3.7\n",
            "  Moving to /usr/local/lib/python3.7/dist-packages/numpy-1.21.6.dist-info/\n",
            "   from /usr/local/lib/python3.7/dist-packages/~umpy-1.21.6.dist-info\n",
            "  Moving to /usr/local/lib/python3.7/dist-packages/numpy.libs/\n",
            "   from /usr/local/lib/python3.7/dist-packages/~umpy.libs\n",
            "  Moving to /usr/local/lib/python3.7/dist-packages/numpy/\n",
            "   from /usr/local/lib/python3.7/dist-packages/~umpy\n",
            "\u001b[31mERROR: Command errored out with exit status 1: /usr/bin/python3 -u -c 'import io, os, sys, setuptools, tokenize; sys.argv[0] = '\"'\"'/tmp/pip-install-y4o1_q18/numpy_aaed02a778d4444fb05afd6e0d616c89/setup.py'\"'\"'; __file__='\"'\"'/tmp/pip-install-y4o1_q18/numpy_aaed02a778d4444fb05afd6e0d616c89/setup.py'\"'\"';f = getattr(tokenize, '\"'\"'open'\"'\"', open)(__file__) if os.path.exists(__file__) else io.StringIO('\"'\"'from setuptools import setup; setup()'\"'\"');code = f.read().replace('\"'\"'\\r\\n'\"'\"', '\"'\"'\\n'\"'\"');f.close();exec(compile(code, __file__, '\"'\"'exec'\"'\"'))' install --record /tmp/pip-record-658ttr62/install-record.txt --single-version-externally-managed --compile --install-headers /usr/local/include/python3.7/numpy Check the logs for full command output.\u001b[0m\n",
            "Looking in indexes: https://pypi.org/simple, https://us-python.pkg.dev/colab-wheels/public/simple/\n",
            "Collecting turicreate\n",
            "  Downloading turicreate-6.4.1-cp37-cp37m-manylinux1_x86_64.whl (92.0 MB)\n",
            "\u001b[K     |████████████████████████████████| 92.0 MB 16 kB/s \n",
            "\u001b[?25hCollecting coremltools==3.3\n",
            "  Downloading coremltools-3.3-cp37-none-manylinux1_x86_64.whl (3.5 MB)\n",
            "\u001b[K     |████████████████████████████████| 3.5 MB 40.0 MB/s \n",
            "\u001b[?25hRequirement already satisfied: pillow>=5.2.0 in /usr/local/lib/python3.7/dist-packages (from turicreate) (7.1.2)\n",
            "Collecting numba<0.51.0\n",
            "  Downloading numba-0.50.1-cp37-cp37m-manylinux2014_x86_64.whl (3.6 MB)\n",
            "\u001b[K     |████████████████████████████████| 3.6 MB 46.4 MB/s \n",
            "\u001b[?25hCollecting tensorflow<2.1.0,>=2.0.0\n",
            "  Downloading tensorflow-2.0.4-cp37-cp37m-manylinux2010_x86_64.whl (86.4 MB)\n",
            "\u001b[K     |████████████████████████████████| 86.4 MB 74 kB/s \n",
            "\u001b[?25hRequirement already satisfied: scipy>=1.1.0 in /usr/local/lib/python3.7/dist-packages (from turicreate) (1.4.1)\n",
            "Requirement already satisfied: numpy in /usr/local/lib/python3.7/dist-packages (from turicreate) (1.21.6)\n",
            "Requirement already satisfied: pandas>=0.23.2 in /usr/local/lib/python3.7/dist-packages (from turicreate) (1.3.5)\n",
            "Collecting prettytable==0.7.2\n",
            "  Downloading prettytable-0.7.2.zip (28 kB)\n",
            "Requirement already satisfied: requests>=2.9.1 in /usr/local/lib/python3.7/dist-packages (from turicreate) (2.18.4)\n",
            "Collecting resampy==0.2.1\n",
            "  Downloading resampy-0.2.1.tar.gz (322 kB)\n",
            "\u001b[K     |████████████████████████████████| 322 kB 67.9 MB/s \n",
            "\u001b[?25hRequirement already satisfied: six>=1.10.0 in /usr/local/lib/python3.7/dist-packages (from turicreate) (1.15.0)\n",
            "Requirement already satisfied: decorator>=4.0.9 in /usr/local/lib/python3.7/dist-packages (from turicreate) (4.4.2)\n",
            "Requirement already satisfied: protobuf>=3.1.0 in /usr/local/lib/python3.7/dist-packages (from coremltools==3.3->turicreate) (3.17.3)\n",
            "Collecting llvmlite<0.34,>=0.33.0.dev0\n",
            "  Downloading llvmlite-0.33.0-cp37-cp37m-manylinux1_x86_64.whl (18.3 MB)\n",
            "\u001b[K     |████████████████████████████████| 18.3 MB 359 kB/s \n",
            "\u001b[?25hRequirement already satisfied: setuptools in /usr/local/lib/python3.7/dist-packages (from numba<0.51.0->turicreate) (57.4.0)\n",
            "Requirement already satisfied: pytz>=2017.3 in /usr/local/lib/python3.7/dist-packages (from pandas>=0.23.2->turicreate) (2022.1)\n",
            "Requirement already satisfied: python-dateutil>=2.7.3 in /usr/local/lib/python3.7/dist-packages (from pandas>=0.23.2->turicreate) (2.8.2)\n",
            "Requirement already satisfied: idna<2.7,>=2.5 in /usr/local/lib/python3.7/dist-packages (from requests>=2.9.1->turicreate) (2.6)\n",
            "Requirement already satisfied: chardet<3.1.0,>=3.0.2 in /usr/local/lib/python3.7/dist-packages (from requests>=2.9.1->turicreate) (3.0.4)\n",
            "Requirement already satisfied: urllib3<1.23,>=1.21.1 in /usr/local/lib/python3.7/dist-packages (from requests>=2.9.1->turicreate) (1.22)\n",
            "Requirement already satisfied: certifi>=2017.4.17 in /usr/local/lib/python3.7/dist-packages (from requests>=2.9.1->turicreate) (2022.5.18.1)\n",
            "Requirement already satisfied: keras-preprocessing>=1.0.5 in /usr/local/lib/python3.7/dist-packages (from tensorflow<2.1.0,>=2.0.0->turicreate) (1.1.2)\n",
            "Collecting gast==0.2.2\n",
            "  Downloading gast-0.2.2.tar.gz (10 kB)\n",
            "Requirement already satisfied: wheel>=0.26 in /usr/local/lib/python3.7/dist-packages (from tensorflow<2.1.0,>=2.0.0->turicreate) (0.37.1)\n",
            "Collecting h5py<=2.10.0\n",
            "  Downloading h5py-2.10.0-cp37-cp37m-manylinux1_x86_64.whl (2.9 MB)\n",
            "\u001b[K     |████████████████████████████████| 2.9 MB 45.5 MB/s \n",
            "\u001b[?25hRequirement already satisfied: grpcio>=1.8.6 in /usr/local/lib/python3.7/dist-packages (from tensorflow<2.1.0,>=2.0.0->turicreate) (1.46.3)\n",
            "Collecting tensorboard<2.1.0,>=2.0.0\n",
            "  Downloading tensorboard-2.0.2-py3-none-any.whl (3.8 MB)\n",
            "\u001b[K     |████████████████████████████████| 3.8 MB 41.1 MB/s \n",
            "\u001b[?25hRequirement already satisfied: google-pasta>=0.1.6 in /usr/local/lib/python3.7/dist-packages (from tensorflow<2.1.0,>=2.0.0->turicreate) (0.2.0)\n",
            "Collecting keras-applications>=1.0.8\n",
            "  Downloading Keras_Applications-1.0.8-py3-none-any.whl (50 kB)\n",
            "\u001b[K     |████████████████████████████████| 50 kB 8.7 MB/s \n",
            "\u001b[?25hRequirement already satisfied: wrapt>=1.11.1 in /usr/local/lib/python3.7/dist-packages (from tensorflow<2.1.0,>=2.0.0->turicreate) (1.14.1)\n",
            "Collecting tensorflow-estimator<2.1.0,>=2.0.0\n",
            "  Downloading tensorflow_estimator-2.0.1-py2.py3-none-any.whl (449 kB)\n",
            "\u001b[K     |████████████████████████████████| 449 kB 64.0 MB/s \n",
            "\u001b[?25hRequirement already satisfied: termcolor>=1.1.0 in /usr/local/lib/python3.7/dist-packages (from tensorflow<2.1.0,>=2.0.0->turicreate) (1.1.0)\n",
            "Collecting numpy\n",
            "  Downloading numpy-1.18.5-cp37-cp37m-manylinux1_x86_64.whl (20.1 MB)\n",
            "\u001b[K     |████████████████████████████████| 20.1 MB 1.2 MB/s \n",
            "\u001b[?25hRequirement already satisfied: astor>=0.6.0 in /usr/local/lib/python3.7/dist-packages (from tensorflow<2.1.0,>=2.0.0->turicreate) (0.8.1)\n",
            "Requirement already satisfied: opt-einsum>=2.3.2 in /usr/local/lib/python3.7/dist-packages (from tensorflow<2.1.0,>=2.0.0->turicreate) (3.3.0)\n",
            "Requirement already satisfied: absl-py>=0.7.0 in /usr/local/lib/python3.7/dist-packages (from tensorflow<2.1.0,>=2.0.0->turicreate) (1.1.0)\n",
            "Requirement already satisfied: google-auth<2,>=1.6.3 in /usr/local/lib/python3.7/dist-packages (from tensorboard<2.1.0,>=2.0.0->tensorflow<2.1.0,>=2.0.0->turicreate) (1.35.0)\n",
            "Requirement already satisfied: werkzeug>=0.11.15 in /usr/local/lib/python3.7/dist-packages (from tensorboard<2.1.0,>=2.0.0->tensorflow<2.1.0,>=2.0.0->turicreate) (1.0.1)\n",
            "Requirement already satisfied: google-auth-oauthlib<0.5,>=0.4.1 in /usr/local/lib/python3.7/dist-packages (from tensorboard<2.1.0,>=2.0.0->tensorflow<2.1.0,>=2.0.0->turicreate) (0.4.6)\n",
            "Collecting requests>=2.9.1\n",
            "  Downloading requests-2.28.0-py3-none-any.whl (62 kB)\n",
            "\u001b[K     |████████████████████████████████| 62 kB 1.9 MB/s \n",
            "\u001b[?25hRequirement already satisfied: markdown>=2.6.8 in /usr/local/lib/python3.7/dist-packages (from tensorboard<2.1.0,>=2.0.0->tensorflow<2.1.0,>=2.0.0->turicreate) (3.3.7)\n",
            "Requirement already satisfied: rsa<5,>=3.1.4 in /usr/local/lib/python3.7/dist-packages (from google-auth<2,>=1.6.3->tensorboard<2.1.0,>=2.0.0->tensorflow<2.1.0,>=2.0.0->turicreate) (4.8)\n",
            "Requirement already satisfied: pyasn1-modules>=0.2.1 in /usr/local/lib/python3.7/dist-packages (from google-auth<2,>=1.6.3->tensorboard<2.1.0,>=2.0.0->tensorflow<2.1.0,>=2.0.0->turicreate) (0.2.8)\n",
            "Requirement already satisfied: cachetools<5.0,>=2.0.0 in /usr/local/lib/python3.7/dist-packages (from google-auth<2,>=1.6.3->tensorboard<2.1.0,>=2.0.0->tensorflow<2.1.0,>=2.0.0->turicreate) (4.2.4)\n",
            "Requirement already satisfied: requests-oauthlib>=0.7.0 in /usr/local/lib/python3.7/dist-packages (from google-auth-oauthlib<0.5,>=0.4.1->tensorboard<2.1.0,>=2.0.0->tensorflow<2.1.0,>=2.0.0->turicreate) (1.3.1)\n",
            "Requirement already satisfied: importlib-metadata>=4.4 in /usr/local/lib/python3.7/dist-packages (from markdown>=2.6.8->tensorboard<2.1.0,>=2.0.0->tensorflow<2.1.0,>=2.0.0->turicreate) (4.11.4)\n",
            "Requirement already satisfied: zipp>=0.5 in /usr/local/lib/python3.7/dist-packages (from importlib-metadata>=4.4->markdown>=2.6.8->tensorboard<2.1.0,>=2.0.0->tensorflow<2.1.0,>=2.0.0->turicreate) (3.8.0)\n",
            "Requirement already satisfied: typing-extensions>=3.6.4 in /usr/local/lib/python3.7/dist-packages (from importlib-metadata>=4.4->markdown>=2.6.8->tensorboard<2.1.0,>=2.0.0->tensorflow<2.1.0,>=2.0.0->turicreate) (4.2.0)\n",
            "Requirement already satisfied: pyasn1<0.5.0,>=0.4.6 in /usr/local/lib/python3.7/dist-packages (from pyasn1-modules>=0.2.1->google-auth<2,>=1.6.3->tensorboard<2.1.0,>=2.0.0->tensorflow<2.1.0,>=2.0.0->turicreate) (0.4.8)\n",
            "Requirement already satisfied: charset-normalizer~=2.0.0 in /usr/local/lib/python3.7/dist-packages (from requests>=2.9.1->turicreate) (2.0.12)\n",
            "Requirement already satisfied: oauthlib>=3.0.0 in /usr/local/lib/python3.7/dist-packages (from requests-oauthlib>=0.7.0->google-auth-oauthlib<0.5,>=0.4.1->tensorboard<2.1.0,>=2.0.0->tensorflow<2.1.0,>=2.0.0->turicreate) (3.2.0)\n",
            "Building wheels for collected packages: prettytable, resampy, gast\n",
            "  Building wheel for prettytable (setup.py) ... \u001b[?25l\u001b[?25hdone\n",
            "  Created wheel for prettytable: filename=prettytable-0.7.2-py3-none-any.whl size=13714 sha256=e70a2a38e48e3980978687bce230d0d724ab656d6799359fcfb97c0b8d51be8a\n",
            "  Stored in directory: /root/.cache/pip/wheels/b2/7f/f6/f180315b584f00445045ff1699b550fa895d09471337ce21c6\n",
            "  Building wheel for resampy (setup.py) ... \u001b[?25l\u001b[?25hdone\n",
            "  Created wheel for resampy: filename=resampy-0.2.1-py3-none-any.whl size=320859 sha256=334c37648d467a1fea8fa5764e3b019c6252f33b8249c48279be2b5ecf2eb8c1\n",
            "  Stored in directory: /root/.cache/pip/wheels/71/74/53/d5ceb7c5ee7a168c7d106041863e71ac3273f4a4677743a284\n",
            "  Building wheel for gast (setup.py) ... \u001b[?25l\u001b[?25hdone\n",
            "  Created wheel for gast: filename=gast-0.2.2-py3-none-any.whl size=7554 sha256=970e21cfb488ca641c665d2eef56608649314626af55e6fb5363b17c9ef522fd\n",
            "  Stored in directory: /root/.cache/pip/wheels/21/7f/02/420f32a803f7d0967b48dd823da3f558c5166991bfd204eef3\n",
            "Successfully built prettytable resampy gast\n",
            "Installing collected packages: requests, numpy, llvmlite, h5py, tensorflow-estimator, tensorboard, numba, keras-applications, gast, tensorflow, resampy, prettytable, coremltools, turicreate\n",
            "  Attempting uninstall: requests\n",
            "    Found existing installation: requests 2.18.4\n",
            "    Uninstalling requests-2.18.4:\n",
            "      Successfully uninstalled requests-2.18.4\n",
            "  Attempting uninstall: numpy\n",
            "    Found existing installation: numpy 1.21.6\n",
            "    Uninstalling numpy-1.21.6:\n",
            "      Successfully uninstalled numpy-1.21.6\n",
            "  Attempting uninstall: llvmlite\n",
            "    Found existing installation: llvmlite 0.34.0\n",
            "    Uninstalling llvmlite-0.34.0:\n",
            "      Successfully uninstalled llvmlite-0.34.0\n",
            "  Attempting uninstall: h5py\n",
            "    Found existing installation: h5py 3.1.0\n",
            "    Uninstalling h5py-3.1.0:\n",
            "      Successfully uninstalled h5py-3.1.0\n",
            "  Attempting uninstall: tensorflow-estimator\n",
            "    Found existing installation: tensorflow-estimator 2.8.0\n",
            "    Uninstalling tensorflow-estimator-2.8.0:\n",
            "      Successfully uninstalled tensorflow-estimator-2.8.0\n",
            "  Attempting uninstall: tensorboard\n",
            "    Found existing installation: tensorboard 2.8.0\n",
            "    Uninstalling tensorboard-2.8.0:\n",
            "      Successfully uninstalled tensorboard-2.8.0\n",
            "  Attempting uninstall: numba\n",
            "    Found existing installation: numba 0.51.2\n",
            "    Uninstalling numba-0.51.2:\n",
            "      Successfully uninstalled numba-0.51.2\n",
            "  Attempting uninstall: gast\n",
            "    Found existing installation: gast 0.5.3\n",
            "    Uninstalling gast-0.5.3:\n",
            "      Successfully uninstalled gast-0.5.3\n",
            "  Attempting uninstall: tensorflow\n",
            "    Found existing installation: tensorflow 2.8.2+zzzcolab20220527125636\n",
            "    Uninstalling tensorflow-2.8.2+zzzcolab20220527125636:\n",
            "      Successfully uninstalled tensorflow-2.8.2+zzzcolab20220527125636\n",
            "  Attempting uninstall: resampy\n",
            "    Found existing installation: resampy 0.2.2\n",
            "    Uninstalling resampy-0.2.2:\n",
            "      Successfully uninstalled resampy-0.2.2\n",
            "  Attempting uninstall: prettytable\n",
            "    Found existing installation: prettytable 3.3.0\n",
            "    Uninstalling prettytable-3.3.0:\n",
            "      Successfully uninstalled prettytable-3.3.0\n",
            "\u001b[31mERROR: pip's dependency resolver does not currently take into account all the packages that are installed. This behaviour is the source of the following dependency conflicts.\n",
            "xarray-einstats 0.2.2 requires numpy>=1.21, but you have numpy 1.18.5 which is incompatible.\n",
            "tensorflow-probability 0.16.0 requires gast>=0.3.2, but you have gast 0.2.2 which is incompatible.\n",
            "tables 3.7.0 requires numpy>=1.19.0, but you have numpy 1.18.5 which is incompatible.\n",
            "librosa 0.8.1 requires resampy>=0.2.2, but you have resampy 0.2.1 which is incompatible.\n",
            "jaxlib 0.3.7+cuda11.cudnn805 requires numpy>=1.19, but you have numpy 1.18.5 which is incompatible.\n",
            "jax 0.3.8 requires numpy>=1.19, but you have numpy 1.18.5 which is incompatible.\n",
            "google-colab 1.0.0 requires requests~=2.23.0, but you have requests 2.28.0 which is incompatible.\n",
            "datascience 0.10.6 requires folium==0.2.1, but you have folium 0.8.3 which is incompatible.\n",
            "albumentations 0.1.12 requires imgaug<0.2.7,>=0.2.5, but you have imgaug 0.2.9 which is incompatible.\u001b[0m\n",
            "Successfully installed coremltools-3.3 gast-0.2.2 h5py-2.10.0 keras-applications-1.0.8 llvmlite-0.33.0 numba-0.50.1 numpy-1.18.5 prettytable-0.7.2 requests-2.28.0 resampy-0.2.1 tensorboard-2.0.2 tensorflow-2.0.4 tensorflow-estimator-2.0.1 turicreate-6.4.1\n"
          ]
        },
        {
          "output_type": "display_data",
          "data": {
            "application/vnd.colab-display-data+json": {
              "pip_warning": {
                "packages": [
                  "numpy"
                ]
              }
            }
          },
          "metadata": {}
        }
      ]
    },
    {
      "cell_type": "code",
      "execution_count": null,
      "metadata": {
        "id": "K9A2DfRvcT--"
      },
      "outputs": [],
      "source": [
        "import pandas as pd\n",
        "import numpy as np\n",
        "import time\n",
        "import turicreate as tc\n",
        "import sklearn.model_selection as model_selection\n",
        "# sys.path is a built-in variable within the sys module. It contains a list of directories that the interpreter will search in for the required module.\n",
        "import sys\n",
        "sys.path.append(\"..\")\n",
        "from sklearn.model_selection import train_test_split\n"
      ]
    },
    {
      "cell_type": "code",
      "source": [
        "!pip install scikit-learn"
      ],
      "metadata": {
        "colab": {
          "base_uri": "https://localhost:8080/"
        },
        "id": "JxPgJ7D1cuJp",
        "outputId": "a915964e-f505-4271-a07a-c67c01da229b"
      },
      "execution_count": null,
      "outputs": [
        {
          "output_type": "stream",
          "name": "stdout",
          "text": [
            "Looking in indexes: https://pypi.org/simple, https://us-python.pkg.dev/colab-wheels/public/simple/\n",
            "Requirement already satisfied: scikit-learn in /usr/local/lib/python3.7/dist-packages (1.0.2)\n",
            "Requirement already satisfied: numpy>=1.14.6 in /usr/local/lib/python3.7/dist-packages (from scikit-learn) (1.18.5)\n",
            "Requirement already satisfied: scipy>=1.1.0 in /usr/local/lib/python3.7/dist-packages (from scikit-learn) (1.4.1)\n",
            "Requirement already satisfied: joblib>=0.11 in /usr/local/lib/python3.7/dist-packages (from scikit-learn) (1.1.0)\n",
            "Requirement already satisfied: threadpoolctl>=2.0.0 in /usr/local/lib/python3.7/dist-packages (from scikit-learn) (3.1.0)\n"
          ]
        }
      ]
    },
    {
      "cell_type": "code",
      "source": [
        "# mounting drive to easily access files\n",
        "from google.colab import drive\n",
        "drive.mount('/content/drive')"
      ],
      "metadata": {
        "colab": {
          "base_uri": "https://localhost:8080/"
        },
        "id": "xNHiW-rYcvb2",
        "outputId": "b4dfb228-e293-42c6-e6e4-8ecd5231a177"
      },
      "execution_count": null,
      "outputs": [
        {
          "output_type": "stream",
          "name": "stdout",
          "text": [
            "Mounted at /content/drive\n"
          ]
        }
      ]
    },
    {
      "cell_type": "code",
      "source": [
        "# importing files from drive\n",
        "customers = pd.read_csv('/content/drive/MyDrive/data/recommend_1.csv')\n",
        "transactions = pd.read_csv('/content/drive/MyDrive/data/transactions.csv' )"
      ],
      "metadata": {
        "id": "2DF0_AaAdCHD"
      },
      "execution_count": null,
      "outputs": []
    },
    {
      "cell_type": "code",
      "source": [
        "\n",
        "# shape indicates the number of rows and columns; head function is used to print the first five records\n",
        "print(customers.shape)\n",
        "customers.head()"
      ],
      "metadata": {
        "colab": {
          "base_uri": "https://localhost:8080/",
          "height": 223
        },
        "id": "KMGHg4eXdC0k",
        "outputId": "bde47e13-d1db-49f8-acce-3b6c47bedbd9"
      },
      "execution_count": null,
      "outputs": [
        {
          "output_type": "stream",
          "name": "stdout",
          "text": [
            "(1000, 1)\n"
          ]
        },
        {
          "output_type": "execute_result",
          "data": {
            "text/plain": [
              "   customerId\n",
              "0        1553\n",
              "1       20400\n",
              "2       19750\n",
              "3        6334\n",
              "4       27773"
            ],
            "text/html": [
              "\n",
              "  <div id=\"df-d5db1c6f-dde6-421c-b73c-5ffed452ef87\">\n",
              "    <div class=\"colab-df-container\">\n",
              "      <div>\n",
              "<style scoped>\n",
              "    .dataframe tbody tr th:only-of-type {\n",
              "        vertical-align: middle;\n",
              "    }\n",
              "\n",
              "    .dataframe tbody tr th {\n",
              "        vertical-align: top;\n",
              "    }\n",
              "\n",
              "    .dataframe thead th {\n",
              "        text-align: right;\n",
              "    }\n",
              "</style>\n",
              "<table border=\"1\" class=\"dataframe\">\n",
              "  <thead>\n",
              "    <tr style=\"text-align: right;\">\n",
              "      <th></th>\n",
              "      <th>customerId</th>\n",
              "    </tr>\n",
              "  </thead>\n",
              "  <tbody>\n",
              "    <tr>\n",
              "      <th>0</th>\n",
              "      <td>1553</td>\n",
              "    </tr>\n",
              "    <tr>\n",
              "      <th>1</th>\n",
              "      <td>20400</td>\n",
              "    </tr>\n",
              "    <tr>\n",
              "      <th>2</th>\n",
              "      <td>19750</td>\n",
              "    </tr>\n",
              "    <tr>\n",
              "      <th>3</th>\n",
              "      <td>6334</td>\n",
              "    </tr>\n",
              "    <tr>\n",
              "      <th>4</th>\n",
              "      <td>27773</td>\n",
              "    </tr>\n",
              "  </tbody>\n",
              "</table>\n",
              "</div>\n",
              "      <button class=\"colab-df-convert\" onclick=\"convertToInteractive('df-d5db1c6f-dde6-421c-b73c-5ffed452ef87')\"\n",
              "              title=\"Convert this dataframe to an interactive table.\"\n",
              "              style=\"display:none;\">\n",
              "        \n",
              "  <svg xmlns=\"http://www.w3.org/2000/svg\" height=\"24px\"viewBox=\"0 0 24 24\"\n",
              "       width=\"24px\">\n",
              "    <path d=\"M0 0h24v24H0V0z\" fill=\"none\"/>\n",
              "    <path d=\"M18.56 5.44l.94 2.06.94-2.06 2.06-.94-2.06-.94-.94-2.06-.94 2.06-2.06.94zm-11 1L8.5 8.5l.94-2.06 2.06-.94-2.06-.94L8.5 2.5l-.94 2.06-2.06.94zm10 10l.94 2.06.94-2.06 2.06-.94-2.06-.94-.94-2.06-.94 2.06-2.06.94z\"/><path d=\"M17.41 7.96l-1.37-1.37c-.4-.4-.92-.59-1.43-.59-.52 0-1.04.2-1.43.59L10.3 9.45l-7.72 7.72c-.78.78-.78 2.05 0 2.83L4 21.41c.39.39.9.59 1.41.59.51 0 1.02-.2 1.41-.59l7.78-7.78 2.81-2.81c.8-.78.8-2.07 0-2.86zM5.41 20L4 18.59l7.72-7.72 1.47 1.35L5.41 20z\"/>\n",
              "  </svg>\n",
              "      </button>\n",
              "      \n",
              "  <style>\n",
              "    .colab-df-container {\n",
              "      display:flex;\n",
              "      flex-wrap:wrap;\n",
              "      gap: 12px;\n",
              "    }\n",
              "\n",
              "    .colab-df-convert {\n",
              "      background-color: #E8F0FE;\n",
              "      border: none;\n",
              "      border-radius: 50%;\n",
              "      cursor: pointer;\n",
              "      display: none;\n",
              "      fill: #1967D2;\n",
              "      height: 32px;\n",
              "      padding: 0 0 0 0;\n",
              "      width: 32px;\n",
              "    }\n",
              "\n",
              "    .colab-df-convert:hover {\n",
              "      background-color: #E2EBFA;\n",
              "      box-shadow: 0px 1px 2px rgba(60, 64, 67, 0.3), 0px 1px 3px 1px rgba(60, 64, 67, 0.15);\n",
              "      fill: #174EA6;\n",
              "    }\n",
              "\n",
              "    [theme=dark] .colab-df-convert {\n",
              "      background-color: #3B4455;\n",
              "      fill: #D2E3FC;\n",
              "    }\n",
              "\n",
              "    [theme=dark] .colab-df-convert:hover {\n",
              "      background-color: #434B5C;\n",
              "      box-shadow: 0px 1px 3px 1px rgba(0, 0, 0, 0.15);\n",
              "      filter: drop-shadow(0px 1px 2px rgba(0, 0, 0, 0.3));\n",
              "      fill: #FFFFFF;\n",
              "    }\n",
              "  </style>\n",
              "\n",
              "      <script>\n",
              "        const buttonEl =\n",
              "          document.querySelector('#df-d5db1c6f-dde6-421c-b73c-5ffed452ef87 button.colab-df-convert');\n",
              "        buttonEl.style.display =\n",
              "          google.colab.kernel.accessAllowed ? 'block' : 'none';\n",
              "\n",
              "        async function convertToInteractive(key) {\n",
              "          const element = document.querySelector('#df-d5db1c6f-dde6-421c-b73c-5ffed452ef87');\n",
              "          const dataTable =\n",
              "            await google.colab.kernel.invokeFunction('convertToInteractive',\n",
              "                                                     [key], {});\n",
              "          if (!dataTable) return;\n",
              "\n",
              "          const docLinkHtml = 'Like what you see? Visit the ' +\n",
              "            '<a target=\"_blank\" href=https://colab.research.google.com/notebooks/data_table.ipynb>data table notebook</a>'\n",
              "            + ' to learn more about interactive tables.';\n",
              "          element.innerHTML = '';\n",
              "          dataTable['output_type'] = 'display_data';\n",
              "          await google.colab.output.renderOutput(dataTable, element);\n",
              "          const docLink = document.createElement('div');\n",
              "          docLink.innerHTML = docLinkHtml;\n",
              "          element.appendChild(docLink);\n",
              "        }\n",
              "      </script>\n",
              "    </div>\n",
              "  </div>\n",
              "  "
            ]
          },
          "metadata": {},
          "execution_count": 6
        }
      ]
    },
    {
      "cell_type": "code",
      "source": [
        "print(transactions.shape)\n",
        "transactions.head()"
      ],
      "metadata": {
        "colab": {
          "base_uri": "https://localhost:8080/",
          "height": 223
        },
        "id": "Pg-y9v0ZdG16",
        "outputId": "f4dccf18-bc98-4e63-c40a-28cbad33f6f8"
      },
      "execution_count": null,
      "outputs": [
        {
          "output_type": "stream",
          "name": "stdout",
          "text": [
            "(62483, 2)\n"
          ]
        },
        {
          "output_type": "execute_result",
          "data": {
            "text/plain": [
              "   customerId                        products\n",
              "0           0                              20\n",
              "1           1  2|2|23|68|68|111|29|86|107|152\n",
              "2           2       111|107|29|11|11|11|33|23\n",
              "3           3                         164|227\n",
              "4           5                             2|2"
            ],
            "text/html": [
              "\n",
              "  <div id=\"df-593f8c62-42ef-48c7-904b-50675c6a0db8\">\n",
              "    <div class=\"colab-df-container\">\n",
              "      <div>\n",
              "<style scoped>\n",
              "    .dataframe tbody tr th:only-of-type {\n",
              "        vertical-align: middle;\n",
              "    }\n",
              "\n",
              "    .dataframe tbody tr th {\n",
              "        vertical-align: top;\n",
              "    }\n",
              "\n",
              "    .dataframe thead th {\n",
              "        text-align: right;\n",
              "    }\n",
              "</style>\n",
              "<table border=\"1\" class=\"dataframe\">\n",
              "  <thead>\n",
              "    <tr style=\"text-align: right;\">\n",
              "      <th></th>\n",
              "      <th>customerId</th>\n",
              "      <th>products</th>\n",
              "    </tr>\n",
              "  </thead>\n",
              "  <tbody>\n",
              "    <tr>\n",
              "      <th>0</th>\n",
              "      <td>0</td>\n",
              "      <td>20</td>\n",
              "    </tr>\n",
              "    <tr>\n",
              "      <th>1</th>\n",
              "      <td>1</td>\n",
              "      <td>2|2|23|68|68|111|29|86|107|152</td>\n",
              "    </tr>\n",
              "    <tr>\n",
              "      <th>2</th>\n",
              "      <td>2</td>\n",
              "      <td>111|107|29|11|11|11|33|23</td>\n",
              "    </tr>\n",
              "    <tr>\n",
              "      <th>3</th>\n",
              "      <td>3</td>\n",
              "      <td>164|227</td>\n",
              "    </tr>\n",
              "    <tr>\n",
              "      <th>4</th>\n",
              "      <td>5</td>\n",
              "      <td>2|2</td>\n",
              "    </tr>\n",
              "  </tbody>\n",
              "</table>\n",
              "</div>\n",
              "      <button class=\"colab-df-convert\" onclick=\"convertToInteractive('df-593f8c62-42ef-48c7-904b-50675c6a0db8')\"\n",
              "              title=\"Convert this dataframe to an interactive table.\"\n",
              "              style=\"display:none;\">\n",
              "        \n",
              "  <svg xmlns=\"http://www.w3.org/2000/svg\" height=\"24px\"viewBox=\"0 0 24 24\"\n",
              "       width=\"24px\">\n",
              "    <path d=\"M0 0h24v24H0V0z\" fill=\"none\"/>\n",
              "    <path d=\"M18.56 5.44l.94 2.06.94-2.06 2.06-.94-2.06-.94-.94-2.06-.94 2.06-2.06.94zm-11 1L8.5 8.5l.94-2.06 2.06-.94-2.06-.94L8.5 2.5l-.94 2.06-2.06.94zm10 10l.94 2.06.94-2.06 2.06-.94-2.06-.94-.94-2.06-.94 2.06-2.06.94z\"/><path d=\"M17.41 7.96l-1.37-1.37c-.4-.4-.92-.59-1.43-.59-.52 0-1.04.2-1.43.59L10.3 9.45l-7.72 7.72c-.78.78-.78 2.05 0 2.83L4 21.41c.39.39.9.59 1.41.59.51 0 1.02-.2 1.41-.59l7.78-7.78 2.81-2.81c.8-.78.8-2.07 0-2.86zM5.41 20L4 18.59l7.72-7.72 1.47 1.35L5.41 20z\"/>\n",
              "  </svg>\n",
              "      </button>\n",
              "      \n",
              "  <style>\n",
              "    .colab-df-container {\n",
              "      display:flex;\n",
              "      flex-wrap:wrap;\n",
              "      gap: 12px;\n",
              "    }\n",
              "\n",
              "    .colab-df-convert {\n",
              "      background-color: #E8F0FE;\n",
              "      border: none;\n",
              "      border-radius: 50%;\n",
              "      cursor: pointer;\n",
              "      display: none;\n",
              "      fill: #1967D2;\n",
              "      height: 32px;\n",
              "      padding: 0 0 0 0;\n",
              "      width: 32px;\n",
              "    }\n",
              "\n",
              "    .colab-df-convert:hover {\n",
              "      background-color: #E2EBFA;\n",
              "      box-shadow: 0px 1px 2px rgba(60, 64, 67, 0.3), 0px 1px 3px 1px rgba(60, 64, 67, 0.15);\n",
              "      fill: #174EA6;\n",
              "    }\n",
              "\n",
              "    [theme=dark] .colab-df-convert {\n",
              "      background-color: #3B4455;\n",
              "      fill: #D2E3FC;\n",
              "    }\n",
              "\n",
              "    [theme=dark] .colab-df-convert:hover {\n",
              "      background-color: #434B5C;\n",
              "      box-shadow: 0px 1px 3px 1px rgba(0, 0, 0, 0.15);\n",
              "      filter: drop-shadow(0px 1px 2px rgba(0, 0, 0, 0.3));\n",
              "      fill: #FFFFFF;\n",
              "    }\n",
              "  </style>\n",
              "\n",
              "      <script>\n",
              "        const buttonEl =\n",
              "          document.querySelector('#df-593f8c62-42ef-48c7-904b-50675c6a0db8 button.colab-df-convert');\n",
              "        buttonEl.style.display =\n",
              "          google.colab.kernel.accessAllowed ? 'block' : 'none';\n",
              "\n",
              "        async function convertToInteractive(key) {\n",
              "          const element = document.querySelector('#df-593f8c62-42ef-48c7-904b-50675c6a0db8');\n",
              "          const dataTable =\n",
              "            await google.colab.kernel.invokeFunction('convertToInteractive',\n",
              "                                                     [key], {});\n",
              "          if (!dataTable) return;\n",
              "\n",
              "          const docLinkHtml = 'Like what you see? Visit the ' +\n",
              "            '<a target=\"_blank\" href=https://colab.research.google.com/notebooks/data_table.ipynb>data table notebook</a>'\n",
              "            + ' to learn more about interactive tables.';\n",
              "          element.innerHTML = '';\n",
              "          dataTable['output_type'] = 'display_data';\n",
              "          await google.colab.output.renderOutput(dataTable, element);\n",
              "          const docLink = document.createElement('div');\n",
              "          docLink.innerHTML = docLinkHtml;\n",
              "          element.appendChild(docLink);\n",
              "        }\n",
              "      </script>\n",
              "    </div>\n",
              "  </div>\n",
              "  "
            ]
          },
          "metadata": {},
          "execution_count": 7
        }
      ]
    },
    {
      "cell_type": "markdown",
      "source": [
        "Data Preparation"
      ],
      "metadata": {
        "id": "h0Ac1cLvfJzG"
      }
    },
    {
      "cell_type": "markdown",
      "source": [
        "Our goal here is to break down each list of items in the products column into rows and count the number of products bought by a user"
      ],
      "metadata": {
        "id": "2yzZome0NOR_"
      }
    },
    {
      "cell_type": "code",
      "source": [
        "# example 1: split product items\n",
        "transactions['products'] = transactions['products'].apply(lambda x: [int(i) for i in x.split('|')])\n",
        "transactions.head(6).set_index('customerId')['products'].apply(pd.Series).reset_index()"
      ],
      "metadata": {
        "colab": {
          "base_uri": "https://localhost:8080/",
          "height": 237
        },
        "id": "8E-wtikJdMhw",
        "outputId": "cc9fe17a-bbfd-4f56-c547-1b1cda507f12"
      },
      "execution_count": null,
      "outputs": [
        {
          "output_type": "execute_result",
          "data": {
            "text/plain": [
              "   customerId      0      1     2      3     4      5     6     7      8  \\\n",
              "0           0   20.0    NaN   NaN    NaN   NaN    NaN   NaN   NaN    NaN   \n",
              "1           1    2.0    2.0  23.0   68.0  68.0  111.0  29.0  86.0  107.0   \n",
              "2           2  111.0  107.0  29.0   11.0  11.0   11.0  33.0  23.0    NaN   \n",
              "3           3  164.0  227.0   NaN    NaN   NaN    NaN   NaN   NaN    NaN   \n",
              "4           5    2.0    2.0   NaN    NaN   NaN    NaN   NaN   NaN    NaN   \n",
              "5           6  144.0  144.0  55.0  266.0   NaN    NaN   NaN   NaN    NaN   \n",
              "\n",
              "       9  \n",
              "0    NaN  \n",
              "1  152.0  \n",
              "2    NaN  \n",
              "3    NaN  \n",
              "4    NaN  \n",
              "5    NaN  "
            ],
            "text/html": [
              "\n",
              "  <div id=\"df-0a83a9c2-ce14-4cf6-9b37-4b79dd6f1f89\">\n",
              "    <div class=\"colab-df-container\">\n",
              "      <div>\n",
              "<style scoped>\n",
              "    .dataframe tbody tr th:only-of-type {\n",
              "        vertical-align: middle;\n",
              "    }\n",
              "\n",
              "    .dataframe tbody tr th {\n",
              "        vertical-align: top;\n",
              "    }\n",
              "\n",
              "    .dataframe thead th {\n",
              "        text-align: right;\n",
              "    }\n",
              "</style>\n",
              "<table border=\"1\" class=\"dataframe\">\n",
              "  <thead>\n",
              "    <tr style=\"text-align: right;\">\n",
              "      <th></th>\n",
              "      <th>customerId</th>\n",
              "      <th>0</th>\n",
              "      <th>1</th>\n",
              "      <th>2</th>\n",
              "      <th>3</th>\n",
              "      <th>4</th>\n",
              "      <th>5</th>\n",
              "      <th>6</th>\n",
              "      <th>7</th>\n",
              "      <th>8</th>\n",
              "      <th>9</th>\n",
              "    </tr>\n",
              "  </thead>\n",
              "  <tbody>\n",
              "    <tr>\n",
              "      <th>0</th>\n",
              "      <td>0</td>\n",
              "      <td>20.0</td>\n",
              "      <td>NaN</td>\n",
              "      <td>NaN</td>\n",
              "      <td>NaN</td>\n",
              "      <td>NaN</td>\n",
              "      <td>NaN</td>\n",
              "      <td>NaN</td>\n",
              "      <td>NaN</td>\n",
              "      <td>NaN</td>\n",
              "      <td>NaN</td>\n",
              "    </tr>\n",
              "    <tr>\n",
              "      <th>1</th>\n",
              "      <td>1</td>\n",
              "      <td>2.0</td>\n",
              "      <td>2.0</td>\n",
              "      <td>23.0</td>\n",
              "      <td>68.0</td>\n",
              "      <td>68.0</td>\n",
              "      <td>111.0</td>\n",
              "      <td>29.0</td>\n",
              "      <td>86.0</td>\n",
              "      <td>107.0</td>\n",
              "      <td>152.0</td>\n",
              "    </tr>\n",
              "    <tr>\n",
              "      <th>2</th>\n",
              "      <td>2</td>\n",
              "      <td>111.0</td>\n",
              "      <td>107.0</td>\n",
              "      <td>29.0</td>\n",
              "      <td>11.0</td>\n",
              "      <td>11.0</td>\n",
              "      <td>11.0</td>\n",
              "      <td>33.0</td>\n",
              "      <td>23.0</td>\n",
              "      <td>NaN</td>\n",
              "      <td>NaN</td>\n",
              "    </tr>\n",
              "    <tr>\n",
              "      <th>3</th>\n",
              "      <td>3</td>\n",
              "      <td>164.0</td>\n",
              "      <td>227.0</td>\n",
              "      <td>NaN</td>\n",
              "      <td>NaN</td>\n",
              "      <td>NaN</td>\n",
              "      <td>NaN</td>\n",
              "      <td>NaN</td>\n",
              "      <td>NaN</td>\n",
              "      <td>NaN</td>\n",
              "      <td>NaN</td>\n",
              "    </tr>\n",
              "    <tr>\n",
              "      <th>4</th>\n",
              "      <td>5</td>\n",
              "      <td>2.0</td>\n",
              "      <td>2.0</td>\n",
              "      <td>NaN</td>\n",
              "      <td>NaN</td>\n",
              "      <td>NaN</td>\n",
              "      <td>NaN</td>\n",
              "      <td>NaN</td>\n",
              "      <td>NaN</td>\n",
              "      <td>NaN</td>\n",
              "      <td>NaN</td>\n",
              "    </tr>\n",
              "    <tr>\n",
              "      <th>5</th>\n",
              "      <td>6</td>\n",
              "      <td>144.0</td>\n",
              "      <td>144.0</td>\n",
              "      <td>55.0</td>\n",
              "      <td>266.0</td>\n",
              "      <td>NaN</td>\n",
              "      <td>NaN</td>\n",
              "      <td>NaN</td>\n",
              "      <td>NaN</td>\n",
              "      <td>NaN</td>\n",
              "      <td>NaN</td>\n",
              "    </tr>\n",
              "  </tbody>\n",
              "</table>\n",
              "</div>\n",
              "      <button class=\"colab-df-convert\" onclick=\"convertToInteractive('df-0a83a9c2-ce14-4cf6-9b37-4b79dd6f1f89')\"\n",
              "              title=\"Convert this dataframe to an interactive table.\"\n",
              "              style=\"display:none;\">\n",
              "        \n",
              "  <svg xmlns=\"http://www.w3.org/2000/svg\" height=\"24px\"viewBox=\"0 0 24 24\"\n",
              "       width=\"24px\">\n",
              "    <path d=\"M0 0h24v24H0V0z\" fill=\"none\"/>\n",
              "    <path d=\"M18.56 5.44l.94 2.06.94-2.06 2.06-.94-2.06-.94-.94-2.06-.94 2.06-2.06.94zm-11 1L8.5 8.5l.94-2.06 2.06-.94-2.06-.94L8.5 2.5l-.94 2.06-2.06.94zm10 10l.94 2.06.94-2.06 2.06-.94-2.06-.94-.94-2.06-.94 2.06-2.06.94z\"/><path d=\"M17.41 7.96l-1.37-1.37c-.4-.4-.92-.59-1.43-.59-.52 0-1.04.2-1.43.59L10.3 9.45l-7.72 7.72c-.78.78-.78 2.05 0 2.83L4 21.41c.39.39.9.59 1.41.59.51 0 1.02-.2 1.41-.59l7.78-7.78 2.81-2.81c.8-.78.8-2.07 0-2.86zM5.41 20L4 18.59l7.72-7.72 1.47 1.35L5.41 20z\"/>\n",
              "  </svg>\n",
              "      </button>\n",
              "      \n",
              "  <style>\n",
              "    .colab-df-container {\n",
              "      display:flex;\n",
              "      flex-wrap:wrap;\n",
              "      gap: 12px;\n",
              "    }\n",
              "\n",
              "    .colab-df-convert {\n",
              "      background-color: #E8F0FE;\n",
              "      border: none;\n",
              "      border-radius: 50%;\n",
              "      cursor: pointer;\n",
              "      display: none;\n",
              "      fill: #1967D2;\n",
              "      height: 32px;\n",
              "      padding: 0 0 0 0;\n",
              "      width: 32px;\n",
              "    }\n",
              "\n",
              "    .colab-df-convert:hover {\n",
              "      background-color: #E2EBFA;\n",
              "      box-shadow: 0px 1px 2px rgba(60, 64, 67, 0.3), 0px 1px 3px 1px rgba(60, 64, 67, 0.15);\n",
              "      fill: #174EA6;\n",
              "    }\n",
              "\n",
              "    [theme=dark] .colab-df-convert {\n",
              "      background-color: #3B4455;\n",
              "      fill: #D2E3FC;\n",
              "    }\n",
              "\n",
              "    [theme=dark] .colab-df-convert:hover {\n",
              "      background-color: #434B5C;\n",
              "      box-shadow: 0px 1px 3px 1px rgba(0, 0, 0, 0.15);\n",
              "      filter: drop-shadow(0px 1px 2px rgba(0, 0, 0, 0.3));\n",
              "      fill: #FFFFFF;\n",
              "    }\n",
              "  </style>\n",
              "\n",
              "      <script>\n",
              "        const buttonEl =\n",
              "          document.querySelector('#df-0a83a9c2-ce14-4cf6-9b37-4b79dd6f1f89 button.colab-df-convert');\n",
              "        buttonEl.style.display =\n",
              "          google.colab.kernel.accessAllowed ? 'block' : 'none';\n",
              "\n",
              "        async function convertToInteractive(key) {\n",
              "          const element = document.querySelector('#df-0a83a9c2-ce14-4cf6-9b37-4b79dd6f1f89');\n",
              "          const dataTable =\n",
              "            await google.colab.kernel.invokeFunction('convertToInteractive',\n",
              "                                                     [key], {});\n",
              "          if (!dataTable) return;\n",
              "\n",
              "          const docLinkHtml = 'Like what you see? Visit the ' +\n",
              "            '<a target=\"_blank\" href=https://colab.research.google.com/notebooks/data_table.ipynb>data table notebook</a>'\n",
              "            + ' to learn more about interactive tables.';\n",
              "          element.innerHTML = '';\n",
              "          dataTable['output_type'] = 'display_data';\n",
              "          await google.colab.output.renderOutput(dataTable, element);\n",
              "          const docLink = document.createElement('div');\n",
              "          docLink.innerHTML = docLinkHtml;\n",
              "          element.appendChild(docLink);\n",
              "        }\n",
              "      </script>\n",
              "    </div>\n",
              "  </div>\n",
              "  "
            ]
          },
          "metadata": {},
          "execution_count": 8
        }
      ]
    },
    {
      "cell_type": "code",
      "source": [
        "# example 2: organize a given table into a dataframe with customerId, single productId, and purchase count\n",
        "data = pd.melt(transactions.set_index('customerId')['products'].apply(pd.Series).reset_index(),\n",
        "             id_vars=['customerId'],\n",
        "             value_name='products') \\\n",
        "    .dropna().drop(['variable'], axis=1) \\\n",
        "    .groupby(['customerId', 'products']) \\\n",
        "    .agg({'products': 'count'}) \\\n",
        "    .rename(columns={'products': 'purchase_count'}) \\\n",
        "    .reset_index() \\\n",
        "    .rename(columns={'products': 'productId'})\n",
        "data['productId'] = data['productId'].astype(np.int64)"
      ],
      "metadata": {
        "id": "zHxN7BEndXyj"
      },
      "execution_count": null,
      "outputs": []
    },
    {
      "cell_type": "code",
      "source": [
        "print(data.shape)\n",
        "data.head()"
      ],
      "metadata": {
        "colab": {
          "base_uri": "https://localhost:8080/",
          "height": 223
        },
        "id": "NqMHXlL9dcBY",
        "outputId": "09d7010c-4efe-4358-92d9-e42532fe7d60"
      },
      "execution_count": null,
      "outputs": [
        {
          "output_type": "stream",
          "name": "stdout",
          "text": [
            "(133585, 3)\n"
          ]
        },
        {
          "output_type": "execute_result",
          "data": {
            "text/plain": [
              "   customerId  productId  purchase_count\n",
              "0           0          1               2\n",
              "1           0         13               1\n",
              "2           0         19               3\n",
              "3           0         20               1\n",
              "4           0         31               2"
            ],
            "text/html": [
              "\n",
              "  <div id=\"df-ce22fb73-1621-44be-9b87-16ed1a275a46\">\n",
              "    <div class=\"colab-df-container\">\n",
              "      <div>\n",
              "<style scoped>\n",
              "    .dataframe tbody tr th:only-of-type {\n",
              "        vertical-align: middle;\n",
              "    }\n",
              "\n",
              "    .dataframe tbody tr th {\n",
              "        vertical-align: top;\n",
              "    }\n",
              "\n",
              "    .dataframe thead th {\n",
              "        text-align: right;\n",
              "    }\n",
              "</style>\n",
              "<table border=\"1\" class=\"dataframe\">\n",
              "  <thead>\n",
              "    <tr style=\"text-align: right;\">\n",
              "      <th></th>\n",
              "      <th>customerId</th>\n",
              "      <th>productId</th>\n",
              "      <th>purchase_count</th>\n",
              "    </tr>\n",
              "  </thead>\n",
              "  <tbody>\n",
              "    <tr>\n",
              "      <th>0</th>\n",
              "      <td>0</td>\n",
              "      <td>1</td>\n",
              "      <td>2</td>\n",
              "    </tr>\n",
              "    <tr>\n",
              "      <th>1</th>\n",
              "      <td>0</td>\n",
              "      <td>13</td>\n",
              "      <td>1</td>\n",
              "    </tr>\n",
              "    <tr>\n",
              "      <th>2</th>\n",
              "      <td>0</td>\n",
              "      <td>19</td>\n",
              "      <td>3</td>\n",
              "    </tr>\n",
              "    <tr>\n",
              "      <th>3</th>\n",
              "      <td>0</td>\n",
              "      <td>20</td>\n",
              "      <td>1</td>\n",
              "    </tr>\n",
              "    <tr>\n",
              "      <th>4</th>\n",
              "      <td>0</td>\n",
              "      <td>31</td>\n",
              "      <td>2</td>\n",
              "    </tr>\n",
              "  </tbody>\n",
              "</table>\n",
              "</div>\n",
              "      <button class=\"colab-df-convert\" onclick=\"convertToInteractive('df-ce22fb73-1621-44be-9b87-16ed1a275a46')\"\n",
              "              title=\"Convert this dataframe to an interactive table.\"\n",
              "              style=\"display:none;\">\n",
              "        \n",
              "  <svg xmlns=\"http://www.w3.org/2000/svg\" height=\"24px\"viewBox=\"0 0 24 24\"\n",
              "       width=\"24px\">\n",
              "    <path d=\"M0 0h24v24H0V0z\" fill=\"none\"/>\n",
              "    <path d=\"M18.56 5.44l.94 2.06.94-2.06 2.06-.94-2.06-.94-.94-2.06-.94 2.06-2.06.94zm-11 1L8.5 8.5l.94-2.06 2.06-.94-2.06-.94L8.5 2.5l-.94 2.06-2.06.94zm10 10l.94 2.06.94-2.06 2.06-.94-2.06-.94-.94-2.06-.94 2.06-2.06.94z\"/><path d=\"M17.41 7.96l-1.37-1.37c-.4-.4-.92-.59-1.43-.59-.52 0-1.04.2-1.43.59L10.3 9.45l-7.72 7.72c-.78.78-.78 2.05 0 2.83L4 21.41c.39.39.9.59 1.41.59.51 0 1.02-.2 1.41-.59l7.78-7.78 2.81-2.81c.8-.78.8-2.07 0-2.86zM5.41 20L4 18.59l7.72-7.72 1.47 1.35L5.41 20z\"/>\n",
              "  </svg>\n",
              "      </button>\n",
              "      \n",
              "  <style>\n",
              "    .colab-df-container {\n",
              "      display:flex;\n",
              "      flex-wrap:wrap;\n",
              "      gap: 12px;\n",
              "    }\n",
              "\n",
              "    .colab-df-convert {\n",
              "      background-color: #E8F0FE;\n",
              "      border: none;\n",
              "      border-radius: 50%;\n",
              "      cursor: pointer;\n",
              "      display: none;\n",
              "      fill: #1967D2;\n",
              "      height: 32px;\n",
              "      padding: 0 0 0 0;\n",
              "      width: 32px;\n",
              "    }\n",
              "\n",
              "    .colab-df-convert:hover {\n",
              "      background-color: #E2EBFA;\n",
              "      box-shadow: 0px 1px 2px rgba(60, 64, 67, 0.3), 0px 1px 3px 1px rgba(60, 64, 67, 0.15);\n",
              "      fill: #174EA6;\n",
              "    }\n",
              "\n",
              "    [theme=dark] .colab-df-convert {\n",
              "      background-color: #3B4455;\n",
              "      fill: #D2E3FC;\n",
              "    }\n",
              "\n",
              "    [theme=dark] .colab-df-convert:hover {\n",
              "      background-color: #434B5C;\n",
              "      box-shadow: 0px 1px 3px 1px rgba(0, 0, 0, 0.15);\n",
              "      filter: drop-shadow(0px 1px 2px rgba(0, 0, 0, 0.3));\n",
              "      fill: #FFFFFF;\n",
              "    }\n",
              "  </style>\n",
              "\n",
              "      <script>\n",
              "        const buttonEl =\n",
              "          document.querySelector('#df-ce22fb73-1621-44be-9b87-16ed1a275a46 button.colab-df-convert');\n",
              "        buttonEl.style.display =\n",
              "          google.colab.kernel.accessAllowed ? 'block' : 'none';\n",
              "\n",
              "        async function convertToInteractive(key) {\n",
              "          const element = document.querySelector('#df-ce22fb73-1621-44be-9b87-16ed1a275a46');\n",
              "          const dataTable =\n",
              "            await google.colab.kernel.invokeFunction('convertToInteractive',\n",
              "                                                     [key], {});\n",
              "          if (!dataTable) return;\n",
              "\n",
              "          const docLinkHtml = 'Like what you see? Visit the ' +\n",
              "            '<a target=\"_blank\" href=https://colab.research.google.com/notebooks/data_table.ipynb>data table notebook</a>'\n",
              "            + ' to learn more about interactive tables.';\n",
              "          element.innerHTML = '';\n",
              "          dataTable['output_type'] = 'display_data';\n",
              "          await google.colab.output.renderOutput(dataTable, element);\n",
              "          const docLink = document.createElement('div');\n",
              "          docLink.innerHTML = docLinkHtml;\n",
              "          element.appendChild(docLink);\n",
              "        }\n",
              "      </script>\n",
              "    </div>\n",
              "  </div>\n",
              "  "
            ]
          },
          "metadata": {},
          "execution_count": 10
        }
      ]
    },
    {
      "cell_type": "markdown",
      "source": [
        " Create dummy"
      ],
      "metadata": {
        "id": "tEPLMPF8f_GW"
      }
    },
    {
      "cell_type": "code",
      "source": [
        "# Dummy for marking whether a customer bought that item or not.\n",
        "# If one buys an item, then purchase_dummy are marked as 1\n",
        "# Why create a dummy instead of normalizing it..Normalizing the purchase count, for example by each user,\n",
        "# would not work because customers may have different buying frequency ;don’t have the same taste.\n",
        "# However, we can normalize items by purchase frequency across all users\n",
        "def create_data_dummy(data):\n",
        "    data_dummy = data.copy()\n",
        "    data_dummy['purchase_dummy'] = 1\n",
        "    return data_dummy\n",
        "data_dummy = create_data_dummy(data)"
      ],
      "metadata": {
        "id": "etpIC25TdfQw"
      },
      "execution_count": null,
      "outputs": []
    },
    {
      "cell_type": "markdown",
      "source": [
        "Normalize"
      ],
      "metadata": {
        "id": "Y_B3hHgEgalh"
      }
    },
    {
      "cell_type": "code",
      "source": [
        "# we will normalize purchase frequency of each item across users by first creating a user-item matrix\n",
        "df_matrix = pd.pivot_table(data, values='purchase_count', index='customerId', columns='productId')\n",
        "df_matrix.head()"
      ],
      "metadata": {
        "colab": {
          "base_uri": "https://localhost:8080/",
          "height": 267
        },
        "id": "3pPXHGq2eGYk",
        "outputId": "8cbafbf6-5810-4df9-c1c0-2498c6934a81"
      },
      "execution_count": null,
      "outputs": [
        {
          "output_type": "execute_result",
          "data": {
            "text/plain": [
              "productId   0    1    2    3    4    5    6    7    8    9    ...  290  291  \\\n",
              "customerId                                                    ...             \n",
              "0           NaN  2.0  NaN  NaN  NaN  NaN  NaN  NaN  NaN  NaN  ...  NaN  NaN   \n",
              "1           NaN  NaN  6.0  NaN  NaN  NaN  NaN  NaN  NaN  NaN  ...  NaN  NaN   \n",
              "2           NaN  NaN  NaN  NaN  NaN  NaN  NaN  NaN  NaN  NaN  ...  NaN  NaN   \n",
              "3           NaN  NaN  NaN  NaN  NaN  NaN  NaN  NaN  NaN  NaN  ...  NaN  NaN   \n",
              "4           NaN  NaN  NaN  NaN  NaN  NaN  NaN  NaN  NaN  NaN  ...  NaN  NaN   \n",
              "\n",
              "productId   292  293  294  295  296  297  298  299  \n",
              "customerId                                          \n",
              "0           NaN  NaN  NaN  NaN  NaN  NaN  NaN  NaN  \n",
              "1           NaN  1.0  NaN  NaN  1.0  NaN  NaN  NaN  \n",
              "2           NaN  NaN  NaN  NaN  NaN  NaN  NaN  NaN  \n",
              "3           NaN  NaN  NaN  NaN  NaN  NaN  NaN  NaN  \n",
              "4           NaN  NaN  NaN  NaN  NaN  NaN  NaN  NaN  \n",
              "\n",
              "[5 rows x 300 columns]"
            ],
            "text/html": [
              "\n",
              "  <div id=\"df-36164c0a-8ad2-4ece-8c4d-647b21366f51\">\n",
              "    <div class=\"colab-df-container\">\n",
              "      <div>\n",
              "<style scoped>\n",
              "    .dataframe tbody tr th:only-of-type {\n",
              "        vertical-align: middle;\n",
              "    }\n",
              "\n",
              "    .dataframe tbody tr th {\n",
              "        vertical-align: top;\n",
              "    }\n",
              "\n",
              "    .dataframe thead th {\n",
              "        text-align: right;\n",
              "    }\n",
              "</style>\n",
              "<table border=\"1\" class=\"dataframe\">\n",
              "  <thead>\n",
              "    <tr style=\"text-align: right;\">\n",
              "      <th>productId</th>\n",
              "      <th>0</th>\n",
              "      <th>1</th>\n",
              "      <th>2</th>\n",
              "      <th>3</th>\n",
              "      <th>4</th>\n",
              "      <th>5</th>\n",
              "      <th>6</th>\n",
              "      <th>7</th>\n",
              "      <th>8</th>\n",
              "      <th>9</th>\n",
              "      <th>...</th>\n",
              "      <th>290</th>\n",
              "      <th>291</th>\n",
              "      <th>292</th>\n",
              "      <th>293</th>\n",
              "      <th>294</th>\n",
              "      <th>295</th>\n",
              "      <th>296</th>\n",
              "      <th>297</th>\n",
              "      <th>298</th>\n",
              "      <th>299</th>\n",
              "    </tr>\n",
              "    <tr>\n",
              "      <th>customerId</th>\n",
              "      <th></th>\n",
              "      <th></th>\n",
              "      <th></th>\n",
              "      <th></th>\n",
              "      <th></th>\n",
              "      <th></th>\n",
              "      <th></th>\n",
              "      <th></th>\n",
              "      <th></th>\n",
              "      <th></th>\n",
              "      <th></th>\n",
              "      <th></th>\n",
              "      <th></th>\n",
              "      <th></th>\n",
              "      <th></th>\n",
              "      <th></th>\n",
              "      <th></th>\n",
              "      <th></th>\n",
              "      <th></th>\n",
              "      <th></th>\n",
              "      <th></th>\n",
              "    </tr>\n",
              "  </thead>\n",
              "  <tbody>\n",
              "    <tr>\n",
              "      <th>0</th>\n",
              "      <td>NaN</td>\n",
              "      <td>2.0</td>\n",
              "      <td>NaN</td>\n",
              "      <td>NaN</td>\n",
              "      <td>NaN</td>\n",
              "      <td>NaN</td>\n",
              "      <td>NaN</td>\n",
              "      <td>NaN</td>\n",
              "      <td>NaN</td>\n",
              "      <td>NaN</td>\n",
              "      <td>...</td>\n",
              "      <td>NaN</td>\n",
              "      <td>NaN</td>\n",
              "      <td>NaN</td>\n",
              "      <td>NaN</td>\n",
              "      <td>NaN</td>\n",
              "      <td>NaN</td>\n",
              "      <td>NaN</td>\n",
              "      <td>NaN</td>\n",
              "      <td>NaN</td>\n",
              "      <td>NaN</td>\n",
              "    </tr>\n",
              "    <tr>\n",
              "      <th>1</th>\n",
              "      <td>NaN</td>\n",
              "      <td>NaN</td>\n",
              "      <td>6.0</td>\n",
              "      <td>NaN</td>\n",
              "      <td>NaN</td>\n",
              "      <td>NaN</td>\n",
              "      <td>NaN</td>\n",
              "      <td>NaN</td>\n",
              "      <td>NaN</td>\n",
              "      <td>NaN</td>\n",
              "      <td>...</td>\n",
              "      <td>NaN</td>\n",
              "      <td>NaN</td>\n",
              "      <td>NaN</td>\n",
              "      <td>1.0</td>\n",
              "      <td>NaN</td>\n",
              "      <td>NaN</td>\n",
              "      <td>1.0</td>\n",
              "      <td>NaN</td>\n",
              "      <td>NaN</td>\n",
              "      <td>NaN</td>\n",
              "    </tr>\n",
              "    <tr>\n",
              "      <th>2</th>\n",
              "      <td>NaN</td>\n",
              "      <td>NaN</td>\n",
              "      <td>NaN</td>\n",
              "      <td>NaN</td>\n",
              "      <td>NaN</td>\n",
              "      <td>NaN</td>\n",
              "      <td>NaN</td>\n",
              "      <td>NaN</td>\n",
              "      <td>NaN</td>\n",
              "      <td>NaN</td>\n",
              "      <td>...</td>\n",
              "      <td>NaN</td>\n",
              "      <td>NaN</td>\n",
              "      <td>NaN</td>\n",
              "      <td>NaN</td>\n",
              "      <td>NaN</td>\n",
              "      <td>NaN</td>\n",
              "      <td>NaN</td>\n",
              "      <td>NaN</td>\n",
              "      <td>NaN</td>\n",
              "      <td>NaN</td>\n",
              "    </tr>\n",
              "    <tr>\n",
              "      <th>3</th>\n",
              "      <td>NaN</td>\n",
              "      <td>NaN</td>\n",
              "      <td>NaN</td>\n",
              "      <td>NaN</td>\n",
              "      <td>NaN</td>\n",
              "      <td>NaN</td>\n",
              "      <td>NaN</td>\n",
              "      <td>NaN</td>\n",
              "      <td>NaN</td>\n",
              "      <td>NaN</td>\n",
              "      <td>...</td>\n",
              "      <td>NaN</td>\n",
              "      <td>NaN</td>\n",
              "      <td>NaN</td>\n",
              "      <td>NaN</td>\n",
              "      <td>NaN</td>\n",
              "      <td>NaN</td>\n",
              "      <td>NaN</td>\n",
              "      <td>NaN</td>\n",
              "      <td>NaN</td>\n",
              "      <td>NaN</td>\n",
              "    </tr>\n",
              "    <tr>\n",
              "      <th>4</th>\n",
              "      <td>NaN</td>\n",
              "      <td>NaN</td>\n",
              "      <td>NaN</td>\n",
              "      <td>NaN</td>\n",
              "      <td>NaN</td>\n",
              "      <td>NaN</td>\n",
              "      <td>NaN</td>\n",
              "      <td>NaN</td>\n",
              "      <td>NaN</td>\n",
              "      <td>NaN</td>\n",
              "      <td>...</td>\n",
              "      <td>NaN</td>\n",
              "      <td>NaN</td>\n",
              "      <td>NaN</td>\n",
              "      <td>NaN</td>\n",
              "      <td>NaN</td>\n",
              "      <td>NaN</td>\n",
              "      <td>NaN</td>\n",
              "      <td>NaN</td>\n",
              "      <td>NaN</td>\n",
              "      <td>NaN</td>\n",
              "    </tr>\n",
              "  </tbody>\n",
              "</table>\n",
              "<p>5 rows × 300 columns</p>\n",
              "</div>\n",
              "      <button class=\"colab-df-convert\" onclick=\"convertToInteractive('df-36164c0a-8ad2-4ece-8c4d-647b21366f51')\"\n",
              "              title=\"Convert this dataframe to an interactive table.\"\n",
              "              style=\"display:none;\">\n",
              "        \n",
              "  <svg xmlns=\"http://www.w3.org/2000/svg\" height=\"24px\"viewBox=\"0 0 24 24\"\n",
              "       width=\"24px\">\n",
              "    <path d=\"M0 0h24v24H0V0z\" fill=\"none\"/>\n",
              "    <path d=\"M18.56 5.44l.94 2.06.94-2.06 2.06-.94-2.06-.94-.94-2.06-.94 2.06-2.06.94zm-11 1L8.5 8.5l.94-2.06 2.06-.94-2.06-.94L8.5 2.5l-.94 2.06-2.06.94zm10 10l.94 2.06.94-2.06 2.06-.94-2.06-.94-.94-2.06-.94 2.06-2.06.94z\"/><path d=\"M17.41 7.96l-1.37-1.37c-.4-.4-.92-.59-1.43-.59-.52 0-1.04.2-1.43.59L10.3 9.45l-7.72 7.72c-.78.78-.78 2.05 0 2.83L4 21.41c.39.39.9.59 1.41.59.51 0 1.02-.2 1.41-.59l7.78-7.78 2.81-2.81c.8-.78.8-2.07 0-2.86zM5.41 20L4 18.59l7.72-7.72 1.47 1.35L5.41 20z\"/>\n",
              "  </svg>\n",
              "      </button>\n",
              "      \n",
              "  <style>\n",
              "    .colab-df-container {\n",
              "      display:flex;\n",
              "      flex-wrap:wrap;\n",
              "      gap: 12px;\n",
              "    }\n",
              "\n",
              "    .colab-df-convert {\n",
              "      background-color: #E8F0FE;\n",
              "      border: none;\n",
              "      border-radius: 50%;\n",
              "      cursor: pointer;\n",
              "      display: none;\n",
              "      fill: #1967D2;\n",
              "      height: 32px;\n",
              "      padding: 0 0 0 0;\n",
              "      width: 32px;\n",
              "    }\n",
              "\n",
              "    .colab-df-convert:hover {\n",
              "      background-color: #E2EBFA;\n",
              "      box-shadow: 0px 1px 2px rgba(60, 64, 67, 0.3), 0px 1px 3px 1px rgba(60, 64, 67, 0.15);\n",
              "      fill: #174EA6;\n",
              "    }\n",
              "\n",
              "    [theme=dark] .colab-df-convert {\n",
              "      background-color: #3B4455;\n",
              "      fill: #D2E3FC;\n",
              "    }\n",
              "\n",
              "    [theme=dark] .colab-df-convert:hover {\n",
              "      background-color: #434B5C;\n",
              "      box-shadow: 0px 1px 3px 1px rgba(0, 0, 0, 0.15);\n",
              "      filter: drop-shadow(0px 1px 2px rgba(0, 0, 0, 0.3));\n",
              "      fill: #FFFFFF;\n",
              "    }\n",
              "  </style>\n",
              "\n",
              "      <script>\n",
              "        const buttonEl =\n",
              "          document.querySelector('#df-36164c0a-8ad2-4ece-8c4d-647b21366f51 button.colab-df-convert');\n",
              "        buttonEl.style.display =\n",
              "          google.colab.kernel.accessAllowed ? 'block' : 'none';\n",
              "\n",
              "        async function convertToInteractive(key) {\n",
              "          const element = document.querySelector('#df-36164c0a-8ad2-4ece-8c4d-647b21366f51');\n",
              "          const dataTable =\n",
              "            await google.colab.kernel.invokeFunction('convertToInteractive',\n",
              "                                                     [key], {});\n",
              "          if (!dataTable) return;\n",
              "\n",
              "          const docLinkHtml = 'Like what you see? Visit the ' +\n",
              "            '<a target=\"_blank\" href=https://colab.research.google.com/notebooks/data_table.ipynb>data table notebook</a>'\n",
              "            + ' to learn more about interactive tables.';\n",
              "          element.innerHTML = '';\n",
              "          dataTable['output_type'] = 'display_data';\n",
              "          await google.colab.output.renderOutput(dataTable, element);\n",
              "          const docLink = document.createElement('div');\n",
              "          docLink.innerHTML = docLinkHtml;\n",
              "          element.appendChild(docLink);\n",
              "        }\n",
              "      </script>\n",
              "    </div>\n",
              "  </div>\n",
              "  "
            ]
          },
          "metadata": {},
          "execution_count": 12
        }
      ]
    },
    {
      "cell_type": "code",
      "source": [
        "(df_matrix.shape)"
      ],
      "metadata": {
        "colab": {
          "base_uri": "https://localhost:8080/"
        },
        "id": "spR-_zq2enpn",
        "outputId": "cbd3eb5a-152b-420c-df34-8cc6382cf346"
      },
      "execution_count": null,
      "outputs": [
        {
          "output_type": "execute_result",
          "data": {
            "text/plain": [
              "(24429, 300)"
            ]
          },
          "metadata": {},
          "execution_count": 13
        }
      ]
    },
    {
      "cell_type": "code",
      "source": [
        "df_matrix_norm = (df_matrix-df_matrix.min())/(df_matrix.max()-df_matrix.min())\n",
        "print(df_matrix_norm.shape)\n",
        "df_matrix_norm.head()"
      ],
      "metadata": {
        "colab": {
          "base_uri": "https://localhost:8080/",
          "height": 284
        },
        "id": "pcWWKMTDeOra",
        "outputId": "5b5b5a5b-556c-4371-d35c-fd748dc159df"
      },
      "execution_count": null,
      "outputs": [
        {
          "output_type": "stream",
          "name": "stdout",
          "text": [
            "(24429, 300)\n"
          ]
        },
        {
          "output_type": "execute_result",
          "data": {
            "text/plain": [
              "productId   0    1         2    3    4    5    6    7    8    9    ...  290  \\\n",
              "customerId                                                         ...        \n",
              "0           NaN  0.1       NaN  NaN  NaN  NaN  NaN  NaN  NaN  NaN  ...  NaN   \n",
              "1           NaN  NaN  0.166667  NaN  NaN  NaN  NaN  NaN  NaN  NaN  ...  NaN   \n",
              "2           NaN  NaN       NaN  NaN  NaN  NaN  NaN  NaN  NaN  NaN  ...  NaN   \n",
              "3           NaN  NaN       NaN  NaN  NaN  NaN  NaN  NaN  NaN  NaN  ...  NaN   \n",
              "4           NaN  NaN       NaN  NaN  NaN  NaN  NaN  NaN  NaN  NaN  ...  NaN   \n",
              "\n",
              "productId   291  292  293  294  295  296  297  298  299  \n",
              "customerId                                               \n",
              "0           NaN  NaN  NaN  NaN  NaN  NaN  NaN  NaN  NaN  \n",
              "1           NaN  NaN  0.0  NaN  NaN  0.0  NaN  NaN  NaN  \n",
              "2           NaN  NaN  NaN  NaN  NaN  NaN  NaN  NaN  NaN  \n",
              "3           NaN  NaN  NaN  NaN  NaN  NaN  NaN  NaN  NaN  \n",
              "4           NaN  NaN  NaN  NaN  NaN  NaN  NaN  NaN  NaN  \n",
              "\n",
              "[5 rows x 300 columns]"
            ],
            "text/html": [
              "\n",
              "  <div id=\"df-cca02121-bae1-452a-a0e3-e275fe8e6f09\">\n",
              "    <div class=\"colab-df-container\">\n",
              "      <div>\n",
              "<style scoped>\n",
              "    .dataframe tbody tr th:only-of-type {\n",
              "        vertical-align: middle;\n",
              "    }\n",
              "\n",
              "    .dataframe tbody tr th {\n",
              "        vertical-align: top;\n",
              "    }\n",
              "\n",
              "    .dataframe thead th {\n",
              "        text-align: right;\n",
              "    }\n",
              "</style>\n",
              "<table border=\"1\" class=\"dataframe\">\n",
              "  <thead>\n",
              "    <tr style=\"text-align: right;\">\n",
              "      <th>productId</th>\n",
              "      <th>0</th>\n",
              "      <th>1</th>\n",
              "      <th>2</th>\n",
              "      <th>3</th>\n",
              "      <th>4</th>\n",
              "      <th>5</th>\n",
              "      <th>6</th>\n",
              "      <th>7</th>\n",
              "      <th>8</th>\n",
              "      <th>9</th>\n",
              "      <th>...</th>\n",
              "      <th>290</th>\n",
              "      <th>291</th>\n",
              "      <th>292</th>\n",
              "      <th>293</th>\n",
              "      <th>294</th>\n",
              "      <th>295</th>\n",
              "      <th>296</th>\n",
              "      <th>297</th>\n",
              "      <th>298</th>\n",
              "      <th>299</th>\n",
              "    </tr>\n",
              "    <tr>\n",
              "      <th>customerId</th>\n",
              "      <th></th>\n",
              "      <th></th>\n",
              "      <th></th>\n",
              "      <th></th>\n",
              "      <th></th>\n",
              "      <th></th>\n",
              "      <th></th>\n",
              "      <th></th>\n",
              "      <th></th>\n",
              "      <th></th>\n",
              "      <th></th>\n",
              "      <th></th>\n",
              "      <th></th>\n",
              "      <th></th>\n",
              "      <th></th>\n",
              "      <th></th>\n",
              "      <th></th>\n",
              "      <th></th>\n",
              "      <th></th>\n",
              "      <th></th>\n",
              "      <th></th>\n",
              "    </tr>\n",
              "  </thead>\n",
              "  <tbody>\n",
              "    <tr>\n",
              "      <th>0</th>\n",
              "      <td>NaN</td>\n",
              "      <td>0.1</td>\n",
              "      <td>NaN</td>\n",
              "      <td>NaN</td>\n",
              "      <td>NaN</td>\n",
              "      <td>NaN</td>\n",
              "      <td>NaN</td>\n",
              "      <td>NaN</td>\n",
              "      <td>NaN</td>\n",
              "      <td>NaN</td>\n",
              "      <td>...</td>\n",
              "      <td>NaN</td>\n",
              "      <td>NaN</td>\n",
              "      <td>NaN</td>\n",
              "      <td>NaN</td>\n",
              "      <td>NaN</td>\n",
              "      <td>NaN</td>\n",
              "      <td>NaN</td>\n",
              "      <td>NaN</td>\n",
              "      <td>NaN</td>\n",
              "      <td>NaN</td>\n",
              "    </tr>\n",
              "    <tr>\n",
              "      <th>1</th>\n",
              "      <td>NaN</td>\n",
              "      <td>NaN</td>\n",
              "      <td>0.166667</td>\n",
              "      <td>NaN</td>\n",
              "      <td>NaN</td>\n",
              "      <td>NaN</td>\n",
              "      <td>NaN</td>\n",
              "      <td>NaN</td>\n",
              "      <td>NaN</td>\n",
              "      <td>NaN</td>\n",
              "      <td>...</td>\n",
              "      <td>NaN</td>\n",
              "      <td>NaN</td>\n",
              "      <td>NaN</td>\n",
              "      <td>0.0</td>\n",
              "      <td>NaN</td>\n",
              "      <td>NaN</td>\n",
              "      <td>0.0</td>\n",
              "      <td>NaN</td>\n",
              "      <td>NaN</td>\n",
              "      <td>NaN</td>\n",
              "    </tr>\n",
              "    <tr>\n",
              "      <th>2</th>\n",
              "      <td>NaN</td>\n",
              "      <td>NaN</td>\n",
              "      <td>NaN</td>\n",
              "      <td>NaN</td>\n",
              "      <td>NaN</td>\n",
              "      <td>NaN</td>\n",
              "      <td>NaN</td>\n",
              "      <td>NaN</td>\n",
              "      <td>NaN</td>\n",
              "      <td>NaN</td>\n",
              "      <td>...</td>\n",
              "      <td>NaN</td>\n",
              "      <td>NaN</td>\n",
              "      <td>NaN</td>\n",
              "      <td>NaN</td>\n",
              "      <td>NaN</td>\n",
              "      <td>NaN</td>\n",
              "      <td>NaN</td>\n",
              "      <td>NaN</td>\n",
              "      <td>NaN</td>\n",
              "      <td>NaN</td>\n",
              "    </tr>\n",
              "    <tr>\n",
              "      <th>3</th>\n",
              "      <td>NaN</td>\n",
              "      <td>NaN</td>\n",
              "      <td>NaN</td>\n",
              "      <td>NaN</td>\n",
              "      <td>NaN</td>\n",
              "      <td>NaN</td>\n",
              "      <td>NaN</td>\n",
              "      <td>NaN</td>\n",
              "      <td>NaN</td>\n",
              "      <td>NaN</td>\n",
              "      <td>...</td>\n",
              "      <td>NaN</td>\n",
              "      <td>NaN</td>\n",
              "      <td>NaN</td>\n",
              "      <td>NaN</td>\n",
              "      <td>NaN</td>\n",
              "      <td>NaN</td>\n",
              "      <td>NaN</td>\n",
              "      <td>NaN</td>\n",
              "      <td>NaN</td>\n",
              "      <td>NaN</td>\n",
              "    </tr>\n",
              "    <tr>\n",
              "      <th>4</th>\n",
              "      <td>NaN</td>\n",
              "      <td>NaN</td>\n",
              "      <td>NaN</td>\n",
              "      <td>NaN</td>\n",
              "      <td>NaN</td>\n",
              "      <td>NaN</td>\n",
              "      <td>NaN</td>\n",
              "      <td>NaN</td>\n",
              "      <td>NaN</td>\n",
              "      <td>NaN</td>\n",
              "      <td>...</td>\n",
              "      <td>NaN</td>\n",
              "      <td>NaN</td>\n",
              "      <td>NaN</td>\n",
              "      <td>NaN</td>\n",
              "      <td>NaN</td>\n",
              "      <td>NaN</td>\n",
              "      <td>NaN</td>\n",
              "      <td>NaN</td>\n",
              "      <td>NaN</td>\n",
              "      <td>NaN</td>\n",
              "    </tr>\n",
              "  </tbody>\n",
              "</table>\n",
              "<p>5 rows × 300 columns</p>\n",
              "</div>\n",
              "      <button class=\"colab-df-convert\" onclick=\"convertToInteractive('df-cca02121-bae1-452a-a0e3-e275fe8e6f09')\"\n",
              "              title=\"Convert this dataframe to an interactive table.\"\n",
              "              style=\"display:none;\">\n",
              "        \n",
              "  <svg xmlns=\"http://www.w3.org/2000/svg\" height=\"24px\"viewBox=\"0 0 24 24\"\n",
              "       width=\"24px\">\n",
              "    <path d=\"M0 0h24v24H0V0z\" fill=\"none\"/>\n",
              "    <path d=\"M18.56 5.44l.94 2.06.94-2.06 2.06-.94-2.06-.94-.94-2.06-.94 2.06-2.06.94zm-11 1L8.5 8.5l.94-2.06 2.06-.94-2.06-.94L8.5 2.5l-.94 2.06-2.06.94zm10 10l.94 2.06.94-2.06 2.06-.94-2.06-.94-.94-2.06-.94 2.06-2.06.94z\"/><path d=\"M17.41 7.96l-1.37-1.37c-.4-.4-.92-.59-1.43-.59-.52 0-1.04.2-1.43.59L10.3 9.45l-7.72 7.72c-.78.78-.78 2.05 0 2.83L4 21.41c.39.39.9.59 1.41.59.51 0 1.02-.2 1.41-.59l7.78-7.78 2.81-2.81c.8-.78.8-2.07 0-2.86zM5.41 20L4 18.59l7.72-7.72 1.47 1.35L5.41 20z\"/>\n",
              "  </svg>\n",
              "      </button>\n",
              "      \n",
              "  <style>\n",
              "    .colab-df-container {\n",
              "      display:flex;\n",
              "      flex-wrap:wrap;\n",
              "      gap: 12px;\n",
              "    }\n",
              "\n",
              "    .colab-df-convert {\n",
              "      background-color: #E8F0FE;\n",
              "      border: none;\n",
              "      border-radius: 50%;\n",
              "      cursor: pointer;\n",
              "      display: none;\n",
              "      fill: #1967D2;\n",
              "      height: 32px;\n",
              "      padding: 0 0 0 0;\n",
              "      width: 32px;\n",
              "    }\n",
              "\n",
              "    .colab-df-convert:hover {\n",
              "      background-color: #E2EBFA;\n",
              "      box-shadow: 0px 1px 2px rgba(60, 64, 67, 0.3), 0px 1px 3px 1px rgba(60, 64, 67, 0.15);\n",
              "      fill: #174EA6;\n",
              "    }\n",
              "\n",
              "    [theme=dark] .colab-df-convert {\n",
              "      background-color: #3B4455;\n",
              "      fill: #D2E3FC;\n",
              "    }\n",
              "\n",
              "    [theme=dark] .colab-df-convert:hover {\n",
              "      background-color: #434B5C;\n",
              "      box-shadow: 0px 1px 3px 1px rgba(0, 0, 0, 0.15);\n",
              "      filter: drop-shadow(0px 1px 2px rgba(0, 0, 0, 0.3));\n",
              "      fill: #FFFFFF;\n",
              "    }\n",
              "  </style>\n",
              "\n",
              "      <script>\n",
              "        const buttonEl =\n",
              "          document.querySelector('#df-cca02121-bae1-452a-a0e3-e275fe8e6f09 button.colab-df-convert');\n",
              "        buttonEl.style.display =\n",
              "          google.colab.kernel.accessAllowed ? 'block' : 'none';\n",
              "\n",
              "        async function convertToInteractive(key) {\n",
              "          const element = document.querySelector('#df-cca02121-bae1-452a-a0e3-e275fe8e6f09');\n",
              "          const dataTable =\n",
              "            await google.colab.kernel.invokeFunction('convertToInteractive',\n",
              "                                                     [key], {});\n",
              "          if (!dataTable) return;\n",
              "\n",
              "          const docLinkHtml = 'Like what you see? Visit the ' +\n",
              "            '<a target=\"_blank\" href=https://colab.research.google.com/notebooks/data_table.ipynb>data table notebook</a>'\n",
              "            + ' to learn more about interactive tables.';\n",
              "          element.innerHTML = '';\n",
              "          dataTable['output_type'] = 'display_data';\n",
              "          await google.colab.output.renderOutput(dataTable, element);\n",
              "          const docLink = document.createElement('div');\n",
              "          docLink.innerHTML = docLinkHtml;\n",
              "          element.appendChild(docLink);\n",
              "        }\n",
              "      </script>\n",
              "    </div>\n",
              "  </div>\n",
              "  "
            ]
          },
          "metadata": {},
          "execution_count": 14
        }
      ]
    },
    {
      "cell_type": "code",
      "source": [
        "# create a table that will be used as an input to the modeling\n",
        "d = df_matrix_norm.reset_index()\n",
        "d.index.names = ['scaled_purchase_freq']\n",
        "data_norm = pd.melt(d, id_vars=['customerId'], value_name='scaled_purchase_freq').dropna()\n",
        "print(data_norm.shape)\n",
        "data_norm.head()"
      ],
      "metadata": {
        "colab": {
          "base_uri": "https://localhost:8080/",
          "height": 223
        },
        "id": "LKRL6E2Kex_-",
        "outputId": "898aa337-fe35-444e-dfa6-758be027c85d"
      },
      "execution_count": null,
      "outputs": [
        {
          "output_type": "stream",
          "name": "stdout",
          "text": [
            "(133585, 3)\n"
          ]
        },
        {
          "output_type": "execute_result",
          "data": {
            "text/plain": [
              "    customerId productId  scaled_purchase_freq\n",
              "9            9         0              0.133333\n",
              "25          25         0              0.133333\n",
              "32          33         0              0.133333\n",
              "35          36         0              0.133333\n",
              "43          44         0              0.133333"
            ],
            "text/html": [
              "\n",
              "  <div id=\"df-8aae7ceb-3e74-4a7d-a5ad-74dc640f58aa\">\n",
              "    <div class=\"colab-df-container\">\n",
              "      <div>\n",
              "<style scoped>\n",
              "    .dataframe tbody tr th:only-of-type {\n",
              "        vertical-align: middle;\n",
              "    }\n",
              "\n",
              "    .dataframe tbody tr th {\n",
              "        vertical-align: top;\n",
              "    }\n",
              "\n",
              "    .dataframe thead th {\n",
              "        text-align: right;\n",
              "    }\n",
              "</style>\n",
              "<table border=\"1\" class=\"dataframe\">\n",
              "  <thead>\n",
              "    <tr style=\"text-align: right;\">\n",
              "      <th></th>\n",
              "      <th>customerId</th>\n",
              "      <th>productId</th>\n",
              "      <th>scaled_purchase_freq</th>\n",
              "    </tr>\n",
              "  </thead>\n",
              "  <tbody>\n",
              "    <tr>\n",
              "      <th>9</th>\n",
              "      <td>9</td>\n",
              "      <td>0</td>\n",
              "      <td>0.133333</td>\n",
              "    </tr>\n",
              "    <tr>\n",
              "      <th>25</th>\n",
              "      <td>25</td>\n",
              "      <td>0</td>\n",
              "      <td>0.133333</td>\n",
              "    </tr>\n",
              "    <tr>\n",
              "      <th>32</th>\n",
              "      <td>33</td>\n",
              "      <td>0</td>\n",
              "      <td>0.133333</td>\n",
              "    </tr>\n",
              "    <tr>\n",
              "      <th>35</th>\n",
              "      <td>36</td>\n",
              "      <td>0</td>\n",
              "      <td>0.133333</td>\n",
              "    </tr>\n",
              "    <tr>\n",
              "      <th>43</th>\n",
              "      <td>44</td>\n",
              "      <td>0</td>\n",
              "      <td>0.133333</td>\n",
              "    </tr>\n",
              "  </tbody>\n",
              "</table>\n",
              "</div>\n",
              "      <button class=\"colab-df-convert\" onclick=\"convertToInteractive('df-8aae7ceb-3e74-4a7d-a5ad-74dc640f58aa')\"\n",
              "              title=\"Convert this dataframe to an interactive table.\"\n",
              "              style=\"display:none;\">\n",
              "        \n",
              "  <svg xmlns=\"http://www.w3.org/2000/svg\" height=\"24px\"viewBox=\"0 0 24 24\"\n",
              "       width=\"24px\">\n",
              "    <path d=\"M0 0h24v24H0V0z\" fill=\"none\"/>\n",
              "    <path d=\"M18.56 5.44l.94 2.06.94-2.06 2.06-.94-2.06-.94-.94-2.06-.94 2.06-2.06.94zm-11 1L8.5 8.5l.94-2.06 2.06-.94-2.06-.94L8.5 2.5l-.94 2.06-2.06.94zm10 10l.94 2.06.94-2.06 2.06-.94-2.06-.94-.94-2.06-.94 2.06-2.06.94z\"/><path d=\"M17.41 7.96l-1.37-1.37c-.4-.4-.92-.59-1.43-.59-.52 0-1.04.2-1.43.59L10.3 9.45l-7.72 7.72c-.78.78-.78 2.05 0 2.83L4 21.41c.39.39.9.59 1.41.59.51 0 1.02-.2 1.41-.59l7.78-7.78 2.81-2.81c.8-.78.8-2.07 0-2.86zM5.41 20L4 18.59l7.72-7.72 1.47 1.35L5.41 20z\"/>\n",
              "  </svg>\n",
              "      </button>\n",
              "      \n",
              "  <style>\n",
              "    .colab-df-container {\n",
              "      display:flex;\n",
              "      flex-wrap:wrap;\n",
              "      gap: 12px;\n",
              "    }\n",
              "\n",
              "    .colab-df-convert {\n",
              "      background-color: #E8F0FE;\n",
              "      border: none;\n",
              "      border-radius: 50%;\n",
              "      cursor: pointer;\n",
              "      display: none;\n",
              "      fill: #1967D2;\n",
              "      height: 32px;\n",
              "      padding: 0 0 0 0;\n",
              "      width: 32px;\n",
              "    }\n",
              "\n",
              "    .colab-df-convert:hover {\n",
              "      background-color: #E2EBFA;\n",
              "      box-shadow: 0px 1px 2px rgba(60, 64, 67, 0.3), 0px 1px 3px 1px rgba(60, 64, 67, 0.15);\n",
              "      fill: #174EA6;\n",
              "    }\n",
              "\n",
              "    [theme=dark] .colab-df-convert {\n",
              "      background-color: #3B4455;\n",
              "      fill: #D2E3FC;\n",
              "    }\n",
              "\n",
              "    [theme=dark] .colab-df-convert:hover {\n",
              "      background-color: #434B5C;\n",
              "      box-shadow: 0px 1px 3px 1px rgba(0, 0, 0, 0.15);\n",
              "      filter: drop-shadow(0px 1px 2px rgba(0, 0, 0, 0.3));\n",
              "      fill: #FFFFFF;\n",
              "    }\n",
              "  </style>\n",
              "\n",
              "      <script>\n",
              "        const buttonEl =\n",
              "          document.querySelector('#df-8aae7ceb-3e74-4a7d-a5ad-74dc640f58aa button.colab-df-convert');\n",
              "        buttonEl.style.display =\n",
              "          google.colab.kernel.accessAllowed ? 'block' : 'none';\n",
              "\n",
              "        async function convertToInteractive(key) {\n",
              "          const element = document.querySelector('#df-8aae7ceb-3e74-4a7d-a5ad-74dc640f58aa');\n",
              "          const dataTable =\n",
              "            await google.colab.kernel.invokeFunction('convertToInteractive',\n",
              "                                                     [key], {});\n",
              "          if (!dataTable) return;\n",
              "\n",
              "          const docLinkHtml = 'Like what you see? Visit the ' +\n",
              "            '<a target=\"_blank\" href=https://colab.research.google.com/notebooks/data_table.ipynb>data table notebook</a>'\n",
              "            + ' to learn more about interactive tables.';\n",
              "          element.innerHTML = '';\n",
              "          dataTable['output_type'] = 'display_data';\n",
              "          await google.colab.output.renderOutput(dataTable, element);\n",
              "          const docLink = document.createElement('div');\n",
              "          docLink.innerHTML = docLinkHtml;\n",
              "          element.appendChild(docLink);\n",
              "        }\n",
              "      </script>\n",
              "    </div>\n",
              "  </div>\n",
              "  "
            ]
          },
          "metadata": {},
          "execution_count": 15
        }
      ]
    },
    {
      "cell_type": "markdown",
      "source": [
        "Splitting Training and Testing set"
      ],
      "metadata": {
        "id": "8q3hWu-og59e"
      }
    },
    {
      "cell_type": "code",
      "source": [
        "#Split train and test set\n",
        "train, test = train_test_split(data, test_size = .2)\n",
        "print(train.shape, test.shape)"
      ],
      "metadata": {
        "colab": {
          "base_uri": "https://localhost:8080/"
        },
        "id": "LsX_KNNWfJBo",
        "outputId": "7940e1e9-5a8b-4f1f-dc81-28ebbdae5ee3"
      },
      "execution_count": null,
      "outputs": [
        {
          "output_type": "stream",
          "name": "stdout",
          "text": [
            "(106868, 3) (26717, 3)\n"
          ]
        }
      ]
    },
    {
      "cell_type": "code",
      "source": [
        "## splitting for both dummy table and scaled/normalized purchase table also\n",
        "train_data_dummy, test_data_dummy = train_test_split(data_dummy)\n",
        "train_data_norm, test_data_norm = train_test_split(data_norm)"
      ],
      "metadata": {
        "id": "hPd-7kNlh80z"
      },
      "execution_count": null,
      "outputs": []
    },
    {
      "cell_type": "code",
      "source": [
        "# Using turicreate library, we convert dataframe to SFrame - this will be useful in the modeling part\n",
        "## SFrame means scalable data frame. A tabular, column-mutable dataframe object that can scale to big data.\n",
        "## The data in SFrame is stored column-wise, and is stored on persistent storage (e.g. disk) to avoid being constrained by memory size.\n",
        "train_data = tc.SFrame(train)\n",
        "test_data = tc.SFrame(test)\n",
        "train_data_dummy = tc.SFrame(train_data_dummy)\n",
        "test_data_dummy = tc.SFrame(test_data_dummy)\n",
        "train_data_norm = tc.SFrame(train_data_norm)\n",
        "test_data_norm = tc.SFrame(test_data_norm)"
      ],
      "metadata": {
        "id": "RlfhVq00fRnf"
      },
      "execution_count": null,
      "outputs": []
    },
    {
      "cell_type": "code",
      "source": [
        "train_data"
      ],
      "metadata": {
        "colab": {
          "base_uri": "https://localhost:8080/",
          "height": 284
        },
        "id": "MZCXBo2ofVYN",
        "outputId": "8f98f858-5f08-419b-b5e0-937287a97b58"
      },
      "execution_count": null,
      "outputs": [
        {
          "output_type": "execute_result",
          "data": {
            "text/plain": [
              "Columns:\n",
              "\tcustomerId\tint\n",
              "\tproductId\tint\n",
              "\tpurchase_count\tint\n",
              "\n",
              "Rows: 106868\n",
              "\n",
              "Data:\n",
              "+------------+-----------+----------------+\n",
              "| customerId | productId | purchase_count |\n",
              "+------------+-----------+----------------+\n",
              "|    7071    |     2     |       2        |\n",
              "|   20021    |    115    |       1        |\n",
              "|   20507    |    225    |       1        |\n",
              "|    1666    |     20    |       1        |\n",
              "|    6031    |     14    |       1        |\n",
              "|   10720    |    286    |       1        |\n",
              "|    4166    |    291    |       2        |\n",
              "|   10375    |     23    |       1        |\n",
              "|    4095    |    179    |       2        |\n",
              "|    1244    |     21    |       1        |\n",
              "+------------+-----------+----------------+\n",
              "[106868 rows x 3 columns]\n",
              "Note: Only the head of the SFrame is printed.\n",
              "You can use print_rows(num_rows=m, num_columns=n) to print more rows and columns."
            ],
            "text/html": [
              "<div style=\"max-height:1000px;max-width:1500px;overflow:auto;\"><table frame=\"box\" rules=\"cols\">\n",
              "    <tr>\n",
              "        <th style=\"padding-left: 1em; padding-right: 1em; text-align: center\">customerId</th>\n",
              "        <th style=\"padding-left: 1em; padding-right: 1em; text-align: center\">productId</th>\n",
              "        <th style=\"padding-left: 1em; padding-right: 1em; text-align: center\">purchase_count</th>\n",
              "    </tr>\n",
              "    <tr>\n",
              "        <td style=\"padding-left: 1em; padding-right: 1em; text-align: center; vertical-align: top\">7071</td>\n",
              "        <td style=\"padding-left: 1em; padding-right: 1em; text-align: center; vertical-align: top\">2</td>\n",
              "        <td style=\"padding-left: 1em; padding-right: 1em; text-align: center; vertical-align: top\">2</td>\n",
              "    </tr>\n",
              "    <tr>\n",
              "        <td style=\"padding-left: 1em; padding-right: 1em; text-align: center; vertical-align: top\">20021</td>\n",
              "        <td style=\"padding-left: 1em; padding-right: 1em; text-align: center; vertical-align: top\">115</td>\n",
              "        <td style=\"padding-left: 1em; padding-right: 1em; text-align: center; vertical-align: top\">1</td>\n",
              "    </tr>\n",
              "    <tr>\n",
              "        <td style=\"padding-left: 1em; padding-right: 1em; text-align: center; vertical-align: top\">20507</td>\n",
              "        <td style=\"padding-left: 1em; padding-right: 1em; text-align: center; vertical-align: top\">225</td>\n",
              "        <td style=\"padding-left: 1em; padding-right: 1em; text-align: center; vertical-align: top\">1</td>\n",
              "    </tr>\n",
              "    <tr>\n",
              "        <td style=\"padding-left: 1em; padding-right: 1em; text-align: center; vertical-align: top\">1666</td>\n",
              "        <td style=\"padding-left: 1em; padding-right: 1em; text-align: center; vertical-align: top\">20</td>\n",
              "        <td style=\"padding-left: 1em; padding-right: 1em; text-align: center; vertical-align: top\">1</td>\n",
              "    </tr>\n",
              "    <tr>\n",
              "        <td style=\"padding-left: 1em; padding-right: 1em; text-align: center; vertical-align: top\">6031</td>\n",
              "        <td style=\"padding-left: 1em; padding-right: 1em; text-align: center; vertical-align: top\">14</td>\n",
              "        <td style=\"padding-left: 1em; padding-right: 1em; text-align: center; vertical-align: top\">1</td>\n",
              "    </tr>\n",
              "    <tr>\n",
              "        <td style=\"padding-left: 1em; padding-right: 1em; text-align: center; vertical-align: top\">10720</td>\n",
              "        <td style=\"padding-left: 1em; padding-right: 1em; text-align: center; vertical-align: top\">286</td>\n",
              "        <td style=\"padding-left: 1em; padding-right: 1em; text-align: center; vertical-align: top\">1</td>\n",
              "    </tr>\n",
              "    <tr>\n",
              "        <td style=\"padding-left: 1em; padding-right: 1em; text-align: center; vertical-align: top\">4166</td>\n",
              "        <td style=\"padding-left: 1em; padding-right: 1em; text-align: center; vertical-align: top\">291</td>\n",
              "        <td style=\"padding-left: 1em; padding-right: 1em; text-align: center; vertical-align: top\">2</td>\n",
              "    </tr>\n",
              "    <tr>\n",
              "        <td style=\"padding-left: 1em; padding-right: 1em; text-align: center; vertical-align: top\">10375</td>\n",
              "        <td style=\"padding-left: 1em; padding-right: 1em; text-align: center; vertical-align: top\">23</td>\n",
              "        <td style=\"padding-left: 1em; padding-right: 1em; text-align: center; vertical-align: top\">1</td>\n",
              "    </tr>\n",
              "    <tr>\n",
              "        <td style=\"padding-left: 1em; padding-right: 1em; text-align: center; vertical-align: top\">4095</td>\n",
              "        <td style=\"padding-left: 1em; padding-right: 1em; text-align: center; vertical-align: top\">179</td>\n",
              "        <td style=\"padding-left: 1em; padding-right: 1em; text-align: center; vertical-align: top\">2</td>\n",
              "    </tr>\n",
              "    <tr>\n",
              "        <td style=\"padding-left: 1em; padding-right: 1em; text-align: center; vertical-align: top\">1244</td>\n",
              "        <td style=\"padding-left: 1em; padding-right: 1em; text-align: center; vertical-align: top\">21</td>\n",
              "        <td style=\"padding-left: 1em; padding-right: 1em; text-align: center; vertical-align: top\">1</td>\n",
              "    </tr>\n",
              "</table>\n",
              "[106868 rows x 3 columns]<br/>Note: Only the head of the SFrame is printed.<br/>You can use print_rows(num_rows=m, num_columns=n) to print more rows and columns.\n",
              "</div>"
            ]
          },
          "metadata": {},
          "execution_count": 19
        }
      ]
    },
    {
      "cell_type": "code",
      "source": [
        "test_data"
      ],
      "metadata": {
        "colab": {
          "base_uri": "https://localhost:8080/",
          "height": 284
        },
        "id": "Xp6-vHMwfaSi",
        "outputId": "6d71d382-9db9-4253-9dea-2fceb080ff8f"
      },
      "execution_count": null,
      "outputs": [
        {
          "output_type": "execute_result",
          "data": {
            "text/plain": [
              "Columns:\n",
              "\tcustomerId\tint\n",
              "\tproductId\tint\n",
              "\tpurchase_count\tint\n",
              "\n",
              "Rows: 26717\n",
              "\n",
              "Data:\n",
              "+------------+-----------+----------------+\n",
              "| customerId | productId | purchase_count |\n",
              "+------------+-----------+----------------+\n",
              "|    934     |     42    |       1        |\n",
              "|   16060    |    139    |       3        |\n",
              "|   22038    |    129    |       2        |\n",
              "|   25155    |    176    |       1        |\n",
              "|   21738    |     1     |       2        |\n",
              "|   18144    |     66    |       1        |\n",
              "|   15608    |     39    |       1        |\n",
              "|   22218    |     8     |       3        |\n",
              "|   17048    |     84    |       1        |\n",
              "|    5191    |     57    |       1        |\n",
              "+------------+-----------+----------------+\n",
              "[26717 rows x 3 columns]\n",
              "Note: Only the head of the SFrame is printed.\n",
              "You can use print_rows(num_rows=m, num_columns=n) to print more rows and columns."
            ],
            "text/html": [
              "<div style=\"max-height:1000px;max-width:1500px;overflow:auto;\"><table frame=\"box\" rules=\"cols\">\n",
              "    <tr>\n",
              "        <th style=\"padding-left: 1em; padding-right: 1em; text-align: center\">customerId</th>\n",
              "        <th style=\"padding-left: 1em; padding-right: 1em; text-align: center\">productId</th>\n",
              "        <th style=\"padding-left: 1em; padding-right: 1em; text-align: center\">purchase_count</th>\n",
              "    </tr>\n",
              "    <tr>\n",
              "        <td style=\"padding-left: 1em; padding-right: 1em; text-align: center; vertical-align: top\">934</td>\n",
              "        <td style=\"padding-left: 1em; padding-right: 1em; text-align: center; vertical-align: top\">42</td>\n",
              "        <td style=\"padding-left: 1em; padding-right: 1em; text-align: center; vertical-align: top\">1</td>\n",
              "    </tr>\n",
              "    <tr>\n",
              "        <td style=\"padding-left: 1em; padding-right: 1em; text-align: center; vertical-align: top\">16060</td>\n",
              "        <td style=\"padding-left: 1em; padding-right: 1em; text-align: center; vertical-align: top\">139</td>\n",
              "        <td style=\"padding-left: 1em; padding-right: 1em; text-align: center; vertical-align: top\">3</td>\n",
              "    </tr>\n",
              "    <tr>\n",
              "        <td style=\"padding-left: 1em; padding-right: 1em; text-align: center; vertical-align: top\">22038</td>\n",
              "        <td style=\"padding-left: 1em; padding-right: 1em; text-align: center; vertical-align: top\">129</td>\n",
              "        <td style=\"padding-left: 1em; padding-right: 1em; text-align: center; vertical-align: top\">2</td>\n",
              "    </tr>\n",
              "    <tr>\n",
              "        <td style=\"padding-left: 1em; padding-right: 1em; text-align: center; vertical-align: top\">25155</td>\n",
              "        <td style=\"padding-left: 1em; padding-right: 1em; text-align: center; vertical-align: top\">176</td>\n",
              "        <td style=\"padding-left: 1em; padding-right: 1em; text-align: center; vertical-align: top\">1</td>\n",
              "    </tr>\n",
              "    <tr>\n",
              "        <td style=\"padding-left: 1em; padding-right: 1em; text-align: center; vertical-align: top\">21738</td>\n",
              "        <td style=\"padding-left: 1em; padding-right: 1em; text-align: center; vertical-align: top\">1</td>\n",
              "        <td style=\"padding-left: 1em; padding-right: 1em; text-align: center; vertical-align: top\">2</td>\n",
              "    </tr>\n",
              "    <tr>\n",
              "        <td style=\"padding-left: 1em; padding-right: 1em; text-align: center; vertical-align: top\">18144</td>\n",
              "        <td style=\"padding-left: 1em; padding-right: 1em; text-align: center; vertical-align: top\">66</td>\n",
              "        <td style=\"padding-left: 1em; padding-right: 1em; text-align: center; vertical-align: top\">1</td>\n",
              "    </tr>\n",
              "    <tr>\n",
              "        <td style=\"padding-left: 1em; padding-right: 1em; text-align: center; vertical-align: top\">15608</td>\n",
              "        <td style=\"padding-left: 1em; padding-right: 1em; text-align: center; vertical-align: top\">39</td>\n",
              "        <td style=\"padding-left: 1em; padding-right: 1em; text-align: center; vertical-align: top\">1</td>\n",
              "    </tr>\n",
              "    <tr>\n",
              "        <td style=\"padding-left: 1em; padding-right: 1em; text-align: center; vertical-align: top\">22218</td>\n",
              "        <td style=\"padding-left: 1em; padding-right: 1em; text-align: center; vertical-align: top\">8</td>\n",
              "        <td style=\"padding-left: 1em; padding-right: 1em; text-align: center; vertical-align: top\">3</td>\n",
              "    </tr>\n",
              "    <tr>\n",
              "        <td style=\"padding-left: 1em; padding-right: 1em; text-align: center; vertical-align: top\">17048</td>\n",
              "        <td style=\"padding-left: 1em; padding-right: 1em; text-align: center; vertical-align: top\">84</td>\n",
              "        <td style=\"padding-left: 1em; padding-right: 1em; text-align: center; vertical-align: top\">1</td>\n",
              "    </tr>\n",
              "    <tr>\n",
              "        <td style=\"padding-left: 1em; padding-right: 1em; text-align: center; vertical-align: top\">5191</td>\n",
              "        <td style=\"padding-left: 1em; padding-right: 1em; text-align: center; vertical-align: top\">57</td>\n",
              "        <td style=\"padding-left: 1em; padding-right: 1em; text-align: center; vertical-align: top\">1</td>\n",
              "    </tr>\n",
              "</table>\n",
              "[26717 rows x 3 columns]<br/>Note: Only the head of the SFrame is printed.<br/>You can use print_rows(num_rows=m, num_columns=n) to print more rows and columns.\n",
              "</div>"
            ]
          },
          "metadata": {},
          "execution_count": 20
        }
      ]
    },
    {
      "cell_type": "markdown",
      "source": [
        "Popularity Model"
      ],
      "metadata": {
        "id": "-Ms8QXZ2iPL9"
      }
    },
    {
      "cell_type": "code",
      "source": [
        "# The popularity model takes the most popular items for recommendation. These items are products with the highest number of sells across customers.\n",
        "## We use turicreate library for running and evaluating both baseline and collaborative filtering models below\n",
        "# Training data is used for model selection\n",
        "\n",
        "user_id = 'customerId'\n",
        "item_id = 'productId'\n",
        "target = 'purchase_count'\n",
        "users_to_recommend = list(transactions[user_id])\n",
        "n_rec = 10 # number of items to recommend\n",
        "n_display = 30"
      ],
      "metadata": {
        "id": "MdMF7QA7fj67"
      },
      "execution_count": null,
      "outputs": []
    },
    {
      "cell_type": "code",
      "source": [
        "# Create a model that makes recommendations using item popularity\n",
        "popularity_model = tc.popularity_recommender.create(train_data,\n",
        "                                                    user_id=user_id,\n",
        "                                                    item_id=item_id,\n",
        "                                                    target=target)"
      ],
      "metadata": {
        "colab": {
          "base_uri": "https://localhost:8080/",
          "height": 86
        },
        "id": "wgrMYpvSfnNL",
        "outputId": "0dfdb4a2-c82c-4383-bc60-010c47aede2f"
      },
      "execution_count": null,
      "outputs": [
        {
          "output_type": "display_data",
          "data": {
            "text/plain": [
              "Preparing data set."
            ],
            "text/html": [
              "<pre>Preparing data set.</pre>"
            ]
          },
          "metadata": {}
        },
        {
          "output_type": "display_data",
          "data": {
            "text/plain": [
              "    Data has 106868 observations with 23257 users and 300 items."
            ],
            "text/html": [
              "<pre>    Data has 106868 observations with 23257 users and 300 items.</pre>"
            ]
          },
          "metadata": {}
        },
        {
          "output_type": "display_data",
          "data": {
            "text/plain": [
              "    Data prepared in: 0.130203s"
            ],
            "text/html": [
              "<pre>    Data prepared in: 0.130203s</pre>"
            ]
          },
          "metadata": {}
        },
        {
          "output_type": "display_data",
          "data": {
            "text/plain": [
              "106868 observations to process; with 300 unique items."
            ],
            "text/html": [
              "<pre>106868 observations to process; with 300 unique items.</pre>"
            ]
          },
          "metadata": {}
        }
      ]
    },
    {
      "cell_type": "code",
      "source": [
        "# top 30 rows for first 3 customers with 10 recommendations each will be printed\n",
        "\n",
        "popularity_recomm = popularity_model.recommend(users=users_to_recommend, k=n_rec)\n",
        "popularity_recomm.print_rows(n_display)"
      ],
      "metadata": {
        "colab": {
          "base_uri": "https://localhost:8080/",
          "height": 1000
        },
        "id": "vHdd4IllfqW9",
        "outputId": "6b62cb54-e8fa-4358-e83e-13b3daf7015f"
      },
      "execution_count": null,
      "outputs": [
        {
          "output_type": "display_data",
          "data": {
            "text/plain": [
              "recommendations finished on 1000/62483 queries. users per second: 117110"
            ],
            "text/html": [
              "<pre>recommendations finished on 1000/62483 queries. users per second: 117110</pre>"
            ]
          },
          "metadata": {}
        },
        {
          "output_type": "display_data",
          "data": {
            "text/plain": [
              "recommendations finished on 2000/62483 queries. users per second: 114929"
            ],
            "text/html": [
              "<pre>recommendations finished on 2000/62483 queries. users per second: 114929</pre>"
            ]
          },
          "metadata": {}
        },
        {
          "output_type": "display_data",
          "data": {
            "text/plain": [
              "recommendations finished on 3000/62483 queries. users per second: 116009"
            ],
            "text/html": [
              "<pre>recommendations finished on 3000/62483 queries. users per second: 116009</pre>"
            ]
          },
          "metadata": {}
        },
        {
          "output_type": "display_data",
          "data": {
            "text/plain": [
              "recommendations finished on 4000/62483 queries. users per second: 119193"
            ],
            "text/html": [
              "<pre>recommendations finished on 4000/62483 queries. users per second: 119193</pre>"
            ]
          },
          "metadata": {}
        },
        {
          "output_type": "display_data",
          "data": {
            "text/plain": [
              "recommendations finished on 5000/62483 queries. users per second: 116689"
            ],
            "text/html": [
              "<pre>recommendations finished on 5000/62483 queries. users per second: 116689</pre>"
            ]
          },
          "metadata": {}
        },
        {
          "output_type": "display_data",
          "data": {
            "text/plain": [
              "recommendations finished on 6000/62483 queries. users per second: 117142"
            ],
            "text/html": [
              "<pre>recommendations finished on 6000/62483 queries. users per second: 117142</pre>"
            ]
          },
          "metadata": {}
        },
        {
          "output_type": "display_data",
          "data": {
            "text/plain": [
              "recommendations finished on 7000/62483 queries. users per second: 117222"
            ],
            "text/html": [
              "<pre>recommendations finished on 7000/62483 queries. users per second: 117222</pre>"
            ]
          },
          "metadata": {}
        },
        {
          "output_type": "display_data",
          "data": {
            "text/plain": [
              "recommendations finished on 8000/62483 queries. users per second: 119364"
            ],
            "text/html": [
              "<pre>recommendations finished on 8000/62483 queries. users per second: 119364</pre>"
            ]
          },
          "metadata": {}
        },
        {
          "output_type": "display_data",
          "data": {
            "text/plain": [
              "recommendations finished on 9000/62483 queries. users per second: 118165"
            ],
            "text/html": [
              "<pre>recommendations finished on 9000/62483 queries. users per second: 118165</pre>"
            ]
          },
          "metadata": {}
        },
        {
          "output_type": "display_data",
          "data": {
            "text/plain": [
              "recommendations finished on 10000/62483 queries. users per second: 113952"
            ],
            "text/html": [
              "<pre>recommendations finished on 10000/62483 queries. users per second: 113952</pre>"
            ]
          },
          "metadata": {}
        },
        {
          "output_type": "display_data",
          "data": {
            "text/plain": [
              "recommendations finished on 11000/62483 queries. users per second: 116149"
            ],
            "text/html": [
              "<pre>recommendations finished on 11000/62483 queries. users per second: 116149</pre>"
            ]
          },
          "metadata": {}
        },
        {
          "output_type": "display_data",
          "data": {
            "text/plain": [
              "recommendations finished on 12000/62483 queries. users per second: 114702"
            ],
            "text/html": [
              "<pre>recommendations finished on 12000/62483 queries. users per second: 114702</pre>"
            ]
          },
          "metadata": {}
        },
        {
          "output_type": "display_data",
          "data": {
            "text/plain": [
              "recommendations finished on 13000/62483 queries. users per second: 111337"
            ],
            "text/html": [
              "<pre>recommendations finished on 13000/62483 queries. users per second: 111337</pre>"
            ]
          },
          "metadata": {}
        },
        {
          "output_type": "display_data",
          "data": {
            "text/plain": [
              "recommendations finished on 14000/62483 queries. users per second: 110690"
            ],
            "text/html": [
              "<pre>recommendations finished on 14000/62483 queries. users per second: 110690</pre>"
            ]
          },
          "metadata": {}
        },
        {
          "output_type": "display_data",
          "data": {
            "text/plain": [
              "recommendations finished on 15000/62483 queries. users per second: 110135"
            ],
            "text/html": [
              "<pre>recommendations finished on 15000/62483 queries. users per second: 110135</pre>"
            ]
          },
          "metadata": {}
        },
        {
          "output_type": "display_data",
          "data": {
            "text/plain": [
              "recommendations finished on 16000/62483 queries. users per second: 111199"
            ],
            "text/html": [
              "<pre>recommendations finished on 16000/62483 queries. users per second: 111199</pre>"
            ]
          },
          "metadata": {}
        },
        {
          "output_type": "display_data",
          "data": {
            "text/plain": [
              "recommendations finished on 17000/62483 queries. users per second: 113981"
            ],
            "text/html": [
              "<pre>recommendations finished on 17000/62483 queries. users per second: 113981</pre>"
            ]
          },
          "metadata": {}
        },
        {
          "output_type": "display_data",
          "data": {
            "text/plain": [
              "recommendations finished on 18000/62483 queries. users per second: 113093"
            ],
            "text/html": [
              "<pre>recommendations finished on 18000/62483 queries. users per second: 113093</pre>"
            ]
          },
          "metadata": {}
        },
        {
          "output_type": "display_data",
          "data": {
            "text/plain": [
              "recommendations finished on 19000/62483 queries. users per second: 109542"
            ],
            "text/html": [
              "<pre>recommendations finished on 19000/62483 queries. users per second: 109542</pre>"
            ]
          },
          "metadata": {}
        },
        {
          "output_type": "display_data",
          "data": {
            "text/plain": [
              "recommendations finished on 20000/62483 queries. users per second: 109422"
            ],
            "text/html": [
              "<pre>recommendations finished on 20000/62483 queries. users per second: 109422</pre>"
            ]
          },
          "metadata": {}
        },
        {
          "output_type": "display_data",
          "data": {
            "text/plain": [
              "recommendations finished on 21000/62483 queries. users per second: 110413"
            ],
            "text/html": [
              "<pre>recommendations finished on 21000/62483 queries. users per second: 110413</pre>"
            ]
          },
          "metadata": {}
        },
        {
          "output_type": "display_data",
          "data": {
            "text/plain": [
              "recommendations finished on 22000/62483 queries. users per second: 110029"
            ],
            "text/html": [
              "<pre>recommendations finished on 22000/62483 queries. users per second: 110029</pre>"
            ]
          },
          "metadata": {}
        },
        {
          "output_type": "display_data",
          "data": {
            "text/plain": [
              "recommendations finished on 23000/62483 queries. users per second: 110459"
            ],
            "text/html": [
              "<pre>recommendations finished on 23000/62483 queries. users per second: 110459</pre>"
            ]
          },
          "metadata": {}
        },
        {
          "output_type": "display_data",
          "data": {
            "text/plain": [
              "recommendations finished on 24000/62483 queries. users per second: 110838"
            ],
            "text/html": [
              "<pre>recommendations finished on 24000/62483 queries. users per second: 110838</pre>"
            ]
          },
          "metadata": {}
        },
        {
          "output_type": "display_data",
          "data": {
            "text/plain": [
              "recommendations finished on 25000/62483 queries. users per second: 111021"
            ],
            "text/html": [
              "<pre>recommendations finished on 25000/62483 queries. users per second: 111021</pre>"
            ]
          },
          "metadata": {}
        },
        {
          "output_type": "display_data",
          "data": {
            "text/plain": [
              "recommendations finished on 26000/62483 queries. users per second: 110974"
            ],
            "text/html": [
              "<pre>recommendations finished on 26000/62483 queries. users per second: 110974</pre>"
            ]
          },
          "metadata": {}
        },
        {
          "output_type": "display_data",
          "data": {
            "text/plain": [
              "recommendations finished on 27000/62483 queries. users per second: 111017"
            ],
            "text/html": [
              "<pre>recommendations finished on 27000/62483 queries. users per second: 111017</pre>"
            ]
          },
          "metadata": {}
        },
        {
          "output_type": "display_data",
          "data": {
            "text/plain": [
              "recommendations finished on 28000/62483 queries. users per second: 110199"
            ],
            "text/html": [
              "<pre>recommendations finished on 28000/62483 queries. users per second: 110199</pre>"
            ]
          },
          "metadata": {}
        },
        {
          "output_type": "display_data",
          "data": {
            "text/plain": [
              "recommendations finished on 29000/62483 queries. users per second: 108868"
            ],
            "text/html": [
              "<pre>recommendations finished on 29000/62483 queries. users per second: 108868</pre>"
            ]
          },
          "metadata": {}
        },
        {
          "output_type": "display_data",
          "data": {
            "text/plain": [
              "recommendations finished on 30000/62483 queries. users per second: 107213"
            ],
            "text/html": [
              "<pre>recommendations finished on 30000/62483 queries. users per second: 107213</pre>"
            ]
          },
          "metadata": {}
        },
        {
          "output_type": "display_data",
          "data": {
            "text/plain": [
              "recommendations finished on 31000/62483 queries. users per second: 107544"
            ],
            "text/html": [
              "<pre>recommendations finished on 31000/62483 queries. users per second: 107544</pre>"
            ]
          },
          "metadata": {}
        },
        {
          "output_type": "display_data",
          "data": {
            "text/plain": [
              "recommendations finished on 32000/62483 queries. users per second: 107933"
            ],
            "text/html": [
              "<pre>recommendations finished on 32000/62483 queries. users per second: 107933</pre>"
            ]
          },
          "metadata": {}
        },
        {
          "output_type": "display_data",
          "data": {
            "text/plain": [
              "recommendations finished on 33000/62483 queries. users per second: 108668"
            ],
            "text/html": [
              "<pre>recommendations finished on 33000/62483 queries. users per second: 108668</pre>"
            ]
          },
          "metadata": {}
        },
        {
          "output_type": "display_data",
          "data": {
            "text/plain": [
              "recommendations finished on 34000/62483 queries. users per second: 108816"
            ],
            "text/html": [
              "<pre>recommendations finished on 34000/62483 queries. users per second: 108816</pre>"
            ]
          },
          "metadata": {}
        },
        {
          "output_type": "display_data",
          "data": {
            "text/plain": [
              "recommendations finished on 35000/62483 queries. users per second: 109076"
            ],
            "text/html": [
              "<pre>recommendations finished on 35000/62483 queries. users per second: 109076</pre>"
            ]
          },
          "metadata": {}
        },
        {
          "output_type": "display_data",
          "data": {
            "text/plain": [
              "recommendations finished on 36000/62483 queries. users per second: 108790"
            ],
            "text/html": [
              "<pre>recommendations finished on 36000/62483 queries. users per second: 108790</pre>"
            ]
          },
          "metadata": {}
        },
        {
          "output_type": "display_data",
          "data": {
            "text/plain": [
              "recommendations finished on 37000/62483 queries. users per second: 109320"
            ],
            "text/html": [
              "<pre>recommendations finished on 37000/62483 queries. users per second: 109320</pre>"
            ]
          },
          "metadata": {}
        },
        {
          "output_type": "display_data",
          "data": {
            "text/plain": [
              "recommendations finished on 38000/62483 queries. users per second: 109371"
            ],
            "text/html": [
              "<pre>recommendations finished on 38000/62483 queries. users per second: 109371</pre>"
            ]
          },
          "metadata": {}
        },
        {
          "output_type": "display_data",
          "data": {
            "text/plain": [
              "recommendations finished on 39000/62483 queries. users per second: 109462"
            ],
            "text/html": [
              "<pre>recommendations finished on 39000/62483 queries. users per second: 109462</pre>"
            ]
          },
          "metadata": {}
        },
        {
          "output_type": "display_data",
          "data": {
            "text/plain": [
              "recommendations finished on 40000/62483 queries. users per second: 109735"
            ],
            "text/html": [
              "<pre>recommendations finished on 40000/62483 queries. users per second: 109735</pre>"
            ]
          },
          "metadata": {}
        },
        {
          "output_type": "display_data",
          "data": {
            "text/plain": [
              "recommendations finished on 41000/62483 queries. users per second: 110289"
            ],
            "text/html": [
              "<pre>recommendations finished on 41000/62483 queries. users per second: 110289</pre>"
            ]
          },
          "metadata": {}
        },
        {
          "output_type": "display_data",
          "data": {
            "text/plain": [
              "recommendations finished on 42000/62483 queries. users per second: 109707"
            ],
            "text/html": [
              "<pre>recommendations finished on 42000/62483 queries. users per second: 109707</pre>"
            ]
          },
          "metadata": {}
        },
        {
          "output_type": "display_data",
          "data": {
            "text/plain": [
              "recommendations finished on 43000/62483 queries. users per second: 109747"
            ],
            "text/html": [
              "<pre>recommendations finished on 43000/62483 queries. users per second: 109747</pre>"
            ]
          },
          "metadata": {}
        },
        {
          "output_type": "display_data",
          "data": {
            "text/plain": [
              "recommendations finished on 44000/62483 queries. users per second: 109566"
            ],
            "text/html": [
              "<pre>recommendations finished on 44000/62483 queries. users per second: 109566</pre>"
            ]
          },
          "metadata": {}
        },
        {
          "output_type": "display_data",
          "data": {
            "text/plain": [
              "recommendations finished on 45000/62483 queries. users per second: 110034"
            ],
            "text/html": [
              "<pre>recommendations finished on 45000/62483 queries. users per second: 110034</pre>"
            ]
          },
          "metadata": {}
        },
        {
          "output_type": "display_data",
          "data": {
            "text/plain": [
              "recommendations finished on 46000/62483 queries. users per second: 109871"
            ],
            "text/html": [
              "<pre>recommendations finished on 46000/62483 queries. users per second: 109871</pre>"
            ]
          },
          "metadata": {}
        },
        {
          "output_type": "display_data",
          "data": {
            "text/plain": [
              "recommendations finished on 47000/62483 queries. users per second: 109993"
            ],
            "text/html": [
              "<pre>recommendations finished on 47000/62483 queries. users per second: 109993</pre>"
            ]
          },
          "metadata": {}
        },
        {
          "output_type": "display_data",
          "data": {
            "text/plain": [
              "recommendations finished on 48000/62483 queries. users per second: 109780"
            ],
            "text/html": [
              "<pre>recommendations finished on 48000/62483 queries. users per second: 109780</pre>"
            ]
          },
          "metadata": {}
        },
        {
          "output_type": "display_data",
          "data": {
            "text/plain": [
              "recommendations finished on 49000/62483 queries. users per second: 109509"
            ],
            "text/html": [
              "<pre>recommendations finished on 49000/62483 queries. users per second: 109509</pre>"
            ]
          },
          "metadata": {}
        },
        {
          "output_type": "display_data",
          "data": {
            "text/plain": [
              "recommendations finished on 50000/62483 queries. users per second: 109496"
            ],
            "text/html": [
              "<pre>recommendations finished on 50000/62483 queries. users per second: 109496</pre>"
            ]
          },
          "metadata": {}
        },
        {
          "output_type": "display_data",
          "data": {
            "text/plain": [
              "recommendations finished on 51000/62483 queries. users per second: 109411"
            ],
            "text/html": [
              "<pre>recommendations finished on 51000/62483 queries. users per second: 109411</pre>"
            ]
          },
          "metadata": {}
        },
        {
          "output_type": "display_data",
          "data": {
            "text/plain": [
              "recommendations finished on 52000/62483 queries. users per second: 109562"
            ],
            "text/html": [
              "<pre>recommendations finished on 52000/62483 queries. users per second: 109562</pre>"
            ]
          },
          "metadata": {}
        },
        {
          "output_type": "display_data",
          "data": {
            "text/plain": [
              "recommendations finished on 53000/62483 queries. users per second: 109974"
            ],
            "text/html": [
              "<pre>recommendations finished on 53000/62483 queries. users per second: 109974</pre>"
            ]
          },
          "metadata": {}
        },
        {
          "output_type": "display_data",
          "data": {
            "text/plain": [
              "recommendations finished on 54000/62483 queries. users per second: 109457"
            ],
            "text/html": [
              "<pre>recommendations finished on 54000/62483 queries. users per second: 109457</pre>"
            ]
          },
          "metadata": {}
        },
        {
          "output_type": "display_data",
          "data": {
            "text/plain": [
              "recommendations finished on 55000/62483 queries. users per second: 108770"
            ],
            "text/html": [
              "<pre>recommendations finished on 55000/62483 queries. users per second: 108770</pre>"
            ]
          },
          "metadata": {}
        },
        {
          "output_type": "display_data",
          "data": {
            "text/plain": [
              "recommendations finished on 56000/62483 queries. users per second: 108391"
            ],
            "text/html": [
              "<pre>recommendations finished on 56000/62483 queries. users per second: 108391</pre>"
            ]
          },
          "metadata": {}
        },
        {
          "output_type": "display_data",
          "data": {
            "text/plain": [
              "recommendations finished on 57000/62483 queries. users per second: 108282"
            ],
            "text/html": [
              "<pre>recommendations finished on 57000/62483 queries. users per second: 108282</pre>"
            ]
          },
          "metadata": {}
        },
        {
          "output_type": "display_data",
          "data": {
            "text/plain": [
              "recommendations finished on 58000/62483 queries. users per second: 107613"
            ],
            "text/html": [
              "<pre>recommendations finished on 58000/62483 queries. users per second: 107613</pre>"
            ]
          },
          "metadata": {}
        },
        {
          "output_type": "display_data",
          "data": {
            "text/plain": [
              "recommendations finished on 59000/62483 queries. users per second: 107673"
            ],
            "text/html": [
              "<pre>recommendations finished on 59000/62483 queries. users per second: 107673</pre>"
            ]
          },
          "metadata": {}
        },
        {
          "output_type": "display_data",
          "data": {
            "text/plain": [
              "recommendations finished on 60000/62483 queries. users per second: 107679"
            ],
            "text/html": [
              "<pre>recommendations finished on 60000/62483 queries. users per second: 107679</pre>"
            ]
          },
          "metadata": {}
        },
        {
          "output_type": "display_data",
          "data": {
            "text/plain": [
              "recommendations finished on 61000/62483 queries. users per second: 107837"
            ],
            "text/html": [
              "<pre>recommendations finished on 61000/62483 queries. users per second: 107837</pre>"
            ]
          },
          "metadata": {}
        },
        {
          "output_type": "display_data",
          "data": {
            "text/plain": [
              "recommendations finished on 62000/62483 queries. users per second: 107550"
            ],
            "text/html": [
              "<pre>recommendations finished on 62000/62483 queries. users per second: 107550</pre>"
            ]
          },
          "metadata": {}
        },
        {
          "output_type": "stream",
          "name": "stdout",
          "text": [
            "+------------+-----------+--------------------+------+\n",
            "| customerId | productId |       score        | rank |\n",
            "+------------+-----------+--------------------+------+\n",
            "|     0      |     34    | 3.066945606694561  |  1   |\n",
            "|     0      |     37    | 3.0116731517509727 |  2   |\n",
            "|     0      |    132    | 2.981132075471698  |  3   |\n",
            "|     0      |     0     | 2.956813819577735  |  4   |\n",
            "|     0      |    248    | 2.951219512195122  |  5   |\n",
            "|     0      |     3     | 2.8270833333333334 |  6   |\n",
            "|     0      |    110    |        2.7         |  7   |\n",
            "|     0      |     27    | 2.656716417910448  |  8   |\n",
            "|     0      |     32    | 2.6142857142857143 |  9   |\n",
            "|     0      |     10    | 2.6064139941690962 |  10  |\n",
            "|     1      |     34    | 3.066945606694561  |  1   |\n",
            "|     1      |     37    | 3.0116731517509727 |  2   |\n",
            "|     1      |    132    | 2.981132075471698  |  3   |\n",
            "|     1      |     0     | 2.956813819577735  |  4   |\n",
            "|     1      |    248    | 2.951219512195122  |  5   |\n",
            "|     1      |     3     | 2.8270833333333334 |  6   |\n",
            "|     1      |    110    |        2.7         |  7   |\n",
            "|     1      |     27    | 2.656716417910448  |  8   |\n",
            "|     1      |     32    | 2.6142857142857143 |  9   |\n",
            "|     1      |     10    | 2.6064139941690962 |  10  |\n",
            "|     2      |     34    | 3.066945606694561  |  1   |\n",
            "|     2      |     37    | 3.0116731517509727 |  2   |\n",
            "|     2      |    132    | 2.981132075471698  |  3   |\n",
            "|     2      |     0     | 2.956813819577735  |  4   |\n",
            "|     2      |    248    | 2.951219512195122  |  5   |\n",
            "|     2      |     3     | 2.8270833333333334 |  6   |\n",
            "|     2      |    110    |        2.7         |  7   |\n",
            "|     2      |     27    | 2.656716417910448  |  8   |\n",
            "|     2      |     32    | 2.6142857142857143 |  9   |\n",
            "|     2      |     10    | 2.6064139941690962 |  10  |\n",
            "+------------+-----------+--------------------+------+\n",
            "[624830 rows x 4 columns]\n",
            "\n"
          ]
        }
      ]
    },
    {
      "cell_type": "code",
      "source": [
        "# Since turicreate is very accessible library, we can define a model selection function as below\n",
        "# model type = popularity\n",
        "def model(train_data, name, user_id, item_id, target, users_to_recommend, n_rec, n_display):\n",
        "    if name == 'popularity':\n",
        "        model = tc.popularity_recommender.create(train_data,\n",
        "                                                    user_id=user_id,\n",
        "                                                    item_id=item_id,\n",
        "                                                    target=target)\n",
        "    elif name == 'cosine':\n",
        "        model = tc.item_similarity_recommender.create(train_data,\n",
        "                                                    user_id=user_id,\n",
        "                                                    item_id=item_id,\n",
        "                                                    target=target,\n",
        "                                                    similarity_type='cosine')\n",
        "    elif name == 'pearson':\n",
        "        model = tc.item_similarity_recommender.create(train_data,\n",
        "                                                    user_id=user_id,\n",
        "                                                    item_id=item_id,\n",
        "                                                    target=target,\n",
        "                                                    similarity_type='pearson')\n",
        "\n",
        "    recom = model.recommend(users=users_to_recommend, k=n_rec)\n",
        "    recom.print_rows(n_display)\n",
        "    return model\n"
      ],
      "metadata": {
        "id": "XGGfBAOCfvlO"
      },
      "execution_count": null,
      "outputs": []
    },
    {
      "cell_type": "code",
      "source": [
        "# these variables will change accordingly, we have used trained dummy data i.e. puchase dummy\n",
        "\n",
        "name = 'popularity'\n",
        "target = 'purchase_dummy'\n",
        "pop_dummy = model(train_data_dummy, name, user_id, item_id, target, users_to_recommend, n_rec, n_display)"
      ],
      "metadata": {
        "colab": {
          "base_uri": "https://localhost:8080/",
          "height": 1000
        },
        "id": "Lx7_KdKQf4-u",
        "outputId": "3de64314-648c-4751-8fea-6332cb260b33"
      },
      "execution_count": null,
      "outputs": [
        {
          "output_type": "display_data",
          "data": {
            "text/plain": [
              "Warning: Ignoring columns purchase_count;"
            ],
            "text/html": [
              "<pre>Warning: Ignoring columns purchase_count;</pre>"
            ]
          },
          "metadata": {}
        },
        {
          "output_type": "display_data",
          "data": {
            "text/plain": [
              "    To use these columns in scoring predictions, use a model that allows the use of additional features."
            ],
            "text/html": [
              "<pre>    To use these columns in scoring predictions, use a model that allows the use of additional features.</pre>"
            ]
          },
          "metadata": {}
        },
        {
          "output_type": "display_data",
          "data": {
            "text/plain": [
              "Preparing data set."
            ],
            "text/html": [
              "<pre>Preparing data set.</pre>"
            ]
          },
          "metadata": {}
        },
        {
          "output_type": "display_data",
          "data": {
            "text/plain": [
              "    Data has 100188 observations with 22999 users and 300 items."
            ],
            "text/html": [
              "<pre>    Data has 100188 observations with 22999 users and 300 items.</pre>"
            ]
          },
          "metadata": {}
        },
        {
          "output_type": "display_data",
          "data": {
            "text/plain": [
              "    Data prepared in: 0.136852s"
            ],
            "text/html": [
              "<pre>    Data prepared in: 0.136852s</pre>"
            ]
          },
          "metadata": {}
        },
        {
          "output_type": "display_data",
          "data": {
            "text/plain": [
              "100188 observations to process; with 300 unique items."
            ],
            "text/html": [
              "<pre>100188 observations to process; with 300 unique items.</pre>"
            ]
          },
          "metadata": {}
        },
        {
          "output_type": "display_data",
          "data": {
            "text/plain": [
              "recommendations finished on 1000/62483 queries. users per second: 109757"
            ],
            "text/html": [
              "<pre>recommendations finished on 1000/62483 queries. users per second: 109757</pre>"
            ]
          },
          "metadata": {}
        },
        {
          "output_type": "display_data",
          "data": {
            "text/plain": [
              "recommendations finished on 2000/62483 queries. users per second: 111863"
            ],
            "text/html": [
              "<pre>recommendations finished on 2000/62483 queries. users per second: 111863</pre>"
            ]
          },
          "metadata": {}
        },
        {
          "output_type": "display_data",
          "data": {
            "text/plain": [
              "recommendations finished on 3000/62483 queries. users per second: 115358"
            ],
            "text/html": [
              "<pre>recommendations finished on 3000/62483 queries. users per second: 115358</pre>"
            ]
          },
          "metadata": {}
        },
        {
          "output_type": "display_data",
          "data": {
            "text/plain": [
              "recommendations finished on 4000/62483 queries. users per second: 120106"
            ],
            "text/html": [
              "<pre>recommendations finished on 4000/62483 queries. users per second: 120106</pre>"
            ]
          },
          "metadata": {}
        },
        {
          "output_type": "display_data",
          "data": {
            "text/plain": [
              "recommendations finished on 5000/62483 queries. users per second: 117156"
            ],
            "text/html": [
              "<pre>recommendations finished on 5000/62483 queries. users per second: 117156</pre>"
            ]
          },
          "metadata": {}
        },
        {
          "output_type": "display_data",
          "data": {
            "text/plain": [
              "recommendations finished on 6000/62483 queries. users per second: 118711"
            ],
            "text/html": [
              "<pre>recommendations finished on 6000/62483 queries. users per second: 118711</pre>"
            ]
          },
          "metadata": {}
        },
        {
          "output_type": "display_data",
          "data": {
            "text/plain": [
              "recommendations finished on 7000/62483 queries. users per second: 120792"
            ],
            "text/html": [
              "<pre>recommendations finished on 7000/62483 queries. users per second: 120792</pre>"
            ]
          },
          "metadata": {}
        },
        {
          "output_type": "display_data",
          "data": {
            "text/plain": [
              "recommendations finished on 8000/62483 queries. users per second: 120698"
            ],
            "text/html": [
              "<pre>recommendations finished on 8000/62483 queries. users per second: 120698</pre>"
            ]
          },
          "metadata": {}
        },
        {
          "output_type": "display_data",
          "data": {
            "text/plain": [
              "recommendations finished on 9000/62483 queries. users per second: 118823"
            ],
            "text/html": [
              "<pre>recommendations finished on 9000/62483 queries. users per second: 118823</pre>"
            ]
          },
          "metadata": {}
        },
        {
          "output_type": "display_data",
          "data": {
            "text/plain": [
              "recommendations finished on 10000/62483 queries. users per second: 119537"
            ],
            "text/html": [
              "<pre>recommendations finished on 10000/62483 queries. users per second: 119537</pre>"
            ]
          },
          "metadata": {}
        },
        {
          "output_type": "display_data",
          "data": {
            "text/plain": [
              "recommendations finished on 11000/62483 queries. users per second: 116361"
            ],
            "text/html": [
              "<pre>recommendations finished on 11000/62483 queries. users per second: 116361</pre>"
            ]
          },
          "metadata": {}
        },
        {
          "output_type": "display_data",
          "data": {
            "text/plain": [
              "recommendations finished on 12000/62483 queries. users per second: 113821"
            ],
            "text/html": [
              "<pre>recommendations finished on 12000/62483 queries. users per second: 113821</pre>"
            ]
          },
          "metadata": {}
        },
        {
          "output_type": "display_data",
          "data": {
            "text/plain": [
              "recommendations finished on 13000/62483 queries. users per second: 114302"
            ],
            "text/html": [
              "<pre>recommendations finished on 13000/62483 queries. users per second: 114302</pre>"
            ]
          },
          "metadata": {}
        },
        {
          "output_type": "display_data",
          "data": {
            "text/plain": [
              "recommendations finished on 14000/62483 queries. users per second: 114100"
            ],
            "text/html": [
              "<pre>recommendations finished on 14000/62483 queries. users per second: 114100</pre>"
            ]
          },
          "metadata": {}
        },
        {
          "output_type": "display_data",
          "data": {
            "text/plain": [
              "recommendations finished on 15000/62483 queries. users per second: 114333"
            ],
            "text/html": [
              "<pre>recommendations finished on 15000/62483 queries. users per second: 114333</pre>"
            ]
          },
          "metadata": {}
        },
        {
          "output_type": "display_data",
          "data": {
            "text/plain": [
              "recommendations finished on 16000/62483 queries. users per second: 115086"
            ],
            "text/html": [
              "<pre>recommendations finished on 16000/62483 queries. users per second: 115086</pre>"
            ]
          },
          "metadata": {}
        },
        {
          "output_type": "display_data",
          "data": {
            "text/plain": [
              "recommendations finished on 17000/62483 queries. users per second: 115210"
            ],
            "text/html": [
              "<pre>recommendations finished on 17000/62483 queries. users per second: 115210</pre>"
            ]
          },
          "metadata": {}
        },
        {
          "output_type": "display_data",
          "data": {
            "text/plain": [
              "recommendations finished on 18000/62483 queries. users per second: 115244"
            ],
            "text/html": [
              "<pre>recommendations finished on 18000/62483 queries. users per second: 115244</pre>"
            ]
          },
          "metadata": {}
        },
        {
          "output_type": "display_data",
          "data": {
            "text/plain": [
              "recommendations finished on 19000/62483 queries. users per second: 114438"
            ],
            "text/html": [
              "<pre>recommendations finished on 19000/62483 queries. users per second: 114438</pre>"
            ]
          },
          "metadata": {}
        },
        {
          "output_type": "display_data",
          "data": {
            "text/plain": [
              "recommendations finished on 20000/62483 queries. users per second: 114363"
            ],
            "text/html": [
              "<pre>recommendations finished on 20000/62483 queries. users per second: 114363</pre>"
            ]
          },
          "metadata": {}
        },
        {
          "output_type": "display_data",
          "data": {
            "text/plain": [
              "recommendations finished on 21000/62483 queries. users per second: 114971"
            ],
            "text/html": [
              "<pre>recommendations finished on 21000/62483 queries. users per second: 114971</pre>"
            ]
          },
          "metadata": {}
        },
        {
          "output_type": "display_data",
          "data": {
            "text/plain": [
              "recommendations finished on 22000/62483 queries. users per second: 114434"
            ],
            "text/html": [
              "<pre>recommendations finished on 22000/62483 queries. users per second: 114434</pre>"
            ]
          },
          "metadata": {}
        },
        {
          "output_type": "display_data",
          "data": {
            "text/plain": [
              "recommendations finished on 23000/62483 queries. users per second: 113207"
            ],
            "text/html": [
              "<pre>recommendations finished on 23000/62483 queries. users per second: 113207</pre>"
            ]
          },
          "metadata": {}
        },
        {
          "output_type": "display_data",
          "data": {
            "text/plain": [
              "recommendations finished on 24000/62483 queries. users per second: 113193"
            ],
            "text/html": [
              "<pre>recommendations finished on 24000/62483 queries. users per second: 113193</pre>"
            ]
          },
          "metadata": {}
        },
        {
          "output_type": "display_data",
          "data": {
            "text/plain": [
              "recommendations finished on 25000/62483 queries. users per second: 113895"
            ],
            "text/html": [
              "<pre>recommendations finished on 25000/62483 queries. users per second: 113895</pre>"
            ]
          },
          "metadata": {}
        },
        {
          "output_type": "display_data",
          "data": {
            "text/plain": [
              "recommendations finished on 26000/62483 queries. users per second: 113763"
            ],
            "text/html": [
              "<pre>recommendations finished on 26000/62483 queries. users per second: 113763</pre>"
            ]
          },
          "metadata": {}
        },
        {
          "output_type": "display_data",
          "data": {
            "text/plain": [
              "recommendations finished on 27000/62483 queries. users per second: 112245"
            ],
            "text/html": [
              "<pre>recommendations finished on 27000/62483 queries. users per second: 112245</pre>"
            ]
          },
          "metadata": {}
        },
        {
          "output_type": "display_data",
          "data": {
            "text/plain": [
              "recommendations finished on 28000/62483 queries. users per second: 112537"
            ],
            "text/html": [
              "<pre>recommendations finished on 28000/62483 queries. users per second: 112537</pre>"
            ]
          },
          "metadata": {}
        },
        {
          "output_type": "display_data",
          "data": {
            "text/plain": [
              "recommendations finished on 29000/62483 queries. users per second: 112713"
            ],
            "text/html": [
              "<pre>recommendations finished on 29000/62483 queries. users per second: 112713</pre>"
            ]
          },
          "metadata": {}
        },
        {
          "output_type": "display_data",
          "data": {
            "text/plain": [
              "recommendations finished on 30000/62483 queries. users per second: 112690"
            ],
            "text/html": [
              "<pre>recommendations finished on 30000/62483 queries. users per second: 112690</pre>"
            ]
          },
          "metadata": {}
        },
        {
          "output_type": "display_data",
          "data": {
            "text/plain": [
              "recommendations finished on 31000/62483 queries. users per second: 112889"
            ],
            "text/html": [
              "<pre>recommendations finished on 31000/62483 queries. users per second: 112889</pre>"
            ]
          },
          "metadata": {}
        },
        {
          "output_type": "display_data",
          "data": {
            "text/plain": [
              "recommendations finished on 32000/62483 queries. users per second: 112536"
            ],
            "text/html": [
              "<pre>recommendations finished on 32000/62483 queries. users per second: 112536</pre>"
            ]
          },
          "metadata": {}
        },
        {
          "output_type": "display_data",
          "data": {
            "text/plain": [
              "recommendations finished on 33000/62483 queries. users per second: 113219"
            ],
            "text/html": [
              "<pre>recommendations finished on 33000/62483 queries. users per second: 113219</pre>"
            ]
          },
          "metadata": {}
        },
        {
          "output_type": "display_data",
          "data": {
            "text/plain": [
              "recommendations finished on 34000/62483 queries. users per second: 113076"
            ],
            "text/html": [
              "<pre>recommendations finished on 34000/62483 queries. users per second: 113076</pre>"
            ]
          },
          "metadata": {}
        },
        {
          "output_type": "display_data",
          "data": {
            "text/plain": [
              "recommendations finished on 35000/62483 queries. users per second: 113323"
            ],
            "text/html": [
              "<pre>recommendations finished on 35000/62483 queries. users per second: 113323</pre>"
            ]
          },
          "metadata": {}
        },
        {
          "output_type": "display_data",
          "data": {
            "text/plain": [
              "recommendations finished on 36000/62483 queries. users per second: 113541"
            ],
            "text/html": [
              "<pre>recommendations finished on 36000/62483 queries. users per second: 113541</pre>"
            ]
          },
          "metadata": {}
        },
        {
          "output_type": "display_data",
          "data": {
            "text/plain": [
              "recommendations finished on 37000/62483 queries. users per second: 113935"
            ],
            "text/html": [
              "<pre>recommendations finished on 37000/62483 queries. users per second: 113935</pre>"
            ]
          },
          "metadata": {}
        },
        {
          "output_type": "display_data",
          "data": {
            "text/plain": [
              "recommendations finished on 38000/62483 queries. users per second: 113717"
            ],
            "text/html": [
              "<pre>recommendations finished on 38000/62483 queries. users per second: 113717</pre>"
            ]
          },
          "metadata": {}
        },
        {
          "output_type": "display_data",
          "data": {
            "text/plain": [
              "recommendations finished on 39000/62483 queries. users per second: 114011"
            ],
            "text/html": [
              "<pre>recommendations finished on 39000/62483 queries. users per second: 114011</pre>"
            ]
          },
          "metadata": {}
        },
        {
          "output_type": "display_data",
          "data": {
            "text/plain": [
              "recommendations finished on 40000/62483 queries. users per second: 114220"
            ],
            "text/html": [
              "<pre>recommendations finished on 40000/62483 queries. users per second: 114220</pre>"
            ]
          },
          "metadata": {}
        },
        {
          "output_type": "display_data",
          "data": {
            "text/plain": [
              "recommendations finished on 41000/62483 queries. users per second: 114773"
            ],
            "text/html": [
              "<pre>recommendations finished on 41000/62483 queries. users per second: 114773</pre>"
            ]
          },
          "metadata": {}
        },
        {
          "output_type": "display_data",
          "data": {
            "text/plain": [
              "recommendations finished on 42000/62483 queries. users per second: 113388"
            ],
            "text/html": [
              "<pre>recommendations finished on 42000/62483 queries. users per second: 113388</pre>"
            ]
          },
          "metadata": {}
        },
        {
          "output_type": "display_data",
          "data": {
            "text/plain": [
              "recommendations finished on 43000/62483 queries. users per second: 113012"
            ],
            "text/html": [
              "<pre>recommendations finished on 43000/62483 queries. users per second: 113012</pre>"
            ]
          },
          "metadata": {}
        },
        {
          "output_type": "display_data",
          "data": {
            "text/plain": [
              "recommendations finished on 44000/62483 queries. users per second: 113244"
            ],
            "text/html": [
              "<pre>recommendations finished on 44000/62483 queries. users per second: 113244</pre>"
            ]
          },
          "metadata": {}
        },
        {
          "output_type": "display_data",
          "data": {
            "text/plain": [
              "recommendations finished on 45000/62483 queries. users per second: 113781"
            ],
            "text/html": [
              "<pre>recommendations finished on 45000/62483 queries. users per second: 113781</pre>"
            ]
          },
          "metadata": {}
        },
        {
          "output_type": "display_data",
          "data": {
            "text/plain": [
              "recommendations finished on 46000/62483 queries. users per second: 113157"
            ],
            "text/html": [
              "<pre>recommendations finished on 46000/62483 queries. users per second: 113157</pre>"
            ]
          },
          "metadata": {}
        },
        {
          "output_type": "display_data",
          "data": {
            "text/plain": [
              "recommendations finished on 47000/62483 queries. users per second: 113075"
            ],
            "text/html": [
              "<pre>recommendations finished on 47000/62483 queries. users per second: 113075</pre>"
            ]
          },
          "metadata": {}
        },
        {
          "output_type": "display_data",
          "data": {
            "text/plain": [
              "recommendations finished on 48000/62483 queries. users per second: 113005"
            ],
            "text/html": [
              "<pre>recommendations finished on 48000/62483 queries. users per second: 113005</pre>"
            ]
          },
          "metadata": {}
        },
        {
          "output_type": "display_data",
          "data": {
            "text/plain": [
              "recommendations finished on 49000/62483 queries. users per second: 113335"
            ],
            "text/html": [
              "<pre>recommendations finished on 49000/62483 queries. users per second: 113335</pre>"
            ]
          },
          "metadata": {}
        },
        {
          "output_type": "display_data",
          "data": {
            "text/plain": [
              "recommendations finished on 50000/62483 queries. users per second: 112944"
            ],
            "text/html": [
              "<pre>recommendations finished on 50000/62483 queries. users per second: 112944</pre>"
            ]
          },
          "metadata": {}
        },
        {
          "output_type": "display_data",
          "data": {
            "text/plain": [
              "recommendations finished on 51000/62483 queries. users per second: 112507"
            ],
            "text/html": [
              "<pre>recommendations finished on 51000/62483 queries. users per second: 112507</pre>"
            ]
          },
          "metadata": {}
        },
        {
          "output_type": "display_data",
          "data": {
            "text/plain": [
              "recommendations finished on 52000/62483 queries. users per second: 112126"
            ],
            "text/html": [
              "<pre>recommendations finished on 52000/62483 queries. users per second: 112126</pre>"
            ]
          },
          "metadata": {}
        },
        {
          "output_type": "display_data",
          "data": {
            "text/plain": [
              "recommendations finished on 53000/62483 queries. users per second: 112527"
            ],
            "text/html": [
              "<pre>recommendations finished on 53000/62483 queries. users per second: 112527</pre>"
            ]
          },
          "metadata": {}
        },
        {
          "output_type": "display_data",
          "data": {
            "text/plain": [
              "recommendations finished on 54000/62483 queries. users per second: 112407"
            ],
            "text/html": [
              "<pre>recommendations finished on 54000/62483 queries. users per second: 112407</pre>"
            ]
          },
          "metadata": {}
        },
        {
          "output_type": "display_data",
          "data": {
            "text/plain": [
              "recommendations finished on 55000/62483 queries. users per second: 112368"
            ],
            "text/html": [
              "<pre>recommendations finished on 55000/62483 queries. users per second: 112368</pre>"
            ]
          },
          "metadata": {}
        },
        {
          "output_type": "display_data",
          "data": {
            "text/plain": [
              "recommendations finished on 56000/62483 queries. users per second: 112236"
            ],
            "text/html": [
              "<pre>recommendations finished on 56000/62483 queries. users per second: 112236</pre>"
            ]
          },
          "metadata": {}
        },
        {
          "output_type": "display_data",
          "data": {
            "text/plain": [
              "recommendations finished on 57000/62483 queries. users per second: 112471"
            ],
            "text/html": [
              "<pre>recommendations finished on 57000/62483 queries. users per second: 112471</pre>"
            ]
          },
          "metadata": {}
        },
        {
          "output_type": "display_data",
          "data": {
            "text/plain": [
              "recommendations finished on 58000/62483 queries. users per second: 110721"
            ],
            "text/html": [
              "<pre>recommendations finished on 58000/62483 queries. users per second: 110721</pre>"
            ]
          },
          "metadata": {}
        },
        {
          "output_type": "display_data",
          "data": {
            "text/plain": [
              "recommendations finished on 59000/62483 queries. users per second: 110642"
            ],
            "text/html": [
              "<pre>recommendations finished on 59000/62483 queries. users per second: 110642</pre>"
            ]
          },
          "metadata": {}
        },
        {
          "output_type": "display_data",
          "data": {
            "text/plain": [
              "recommendations finished on 60000/62483 queries. users per second: 110384"
            ],
            "text/html": [
              "<pre>recommendations finished on 60000/62483 queries. users per second: 110384</pre>"
            ]
          },
          "metadata": {}
        },
        {
          "output_type": "display_data",
          "data": {
            "text/plain": [
              "recommendations finished on 61000/62483 queries. users per second: 110666"
            ],
            "text/html": [
              "<pre>recommendations finished on 61000/62483 queries. users per second: 110666</pre>"
            ]
          },
          "metadata": {}
        },
        {
          "output_type": "display_data",
          "data": {
            "text/plain": [
              "recommendations finished on 62000/62483 queries. users per second: 110531"
            ],
            "text/html": [
              "<pre>recommendations finished on 62000/62483 queries. users per second: 110531</pre>"
            ]
          },
          "metadata": {}
        },
        {
          "output_type": "stream",
          "name": "stdout",
          "text": [
            "+------------+-----------+-------+------+\n",
            "| customerId | productId | score | rank |\n",
            "+------------+-----------+-------+------+\n",
            "|     0      |    131    |  1.0  |  1   |\n",
            "|     0      |    276    |  1.0  |  2   |\n",
            "|     0      |    178    |  1.0  |  3   |\n",
            "|     0      |    296    |  1.0  |  4   |\n",
            "|     0      |    218    |  1.0  |  5   |\n",
            "|     0      |    133    |  1.0  |  6   |\n",
            "|     0      |    149    |  1.0  |  7   |\n",
            "|     0      |    221    |  1.0  |  8   |\n",
            "|     0      |     2     |  1.0  |  9   |\n",
            "|     0      |     16    |  1.0  |  10  |\n",
            "|     1      |     11    |  1.0  |  1   |\n",
            "|     1      |    271    |  1.0  |  2   |\n",
            "|     1      |    131    |  1.0  |  3   |\n",
            "|     1      |    276    |  1.0  |  4   |\n",
            "|     1      |    178    |  1.0  |  5   |\n",
            "|     1      |    218    |  1.0  |  6   |\n",
            "|     1      |    133    |  1.0  |  7   |\n",
            "|     1      |    149    |  1.0  |  8   |\n",
            "|     1      |    221    |  1.0  |  9   |\n",
            "|     1      |     16    |  1.0  |  10  |\n",
            "|     2      |    131    |  1.0  |  1   |\n",
            "|     2      |    276    |  1.0  |  2   |\n",
            "|     2      |    178    |  1.0  |  3   |\n",
            "|     2      |    296    |  1.0  |  4   |\n",
            "|     2      |    218    |  1.0  |  5   |\n",
            "|     2      |    133    |  1.0  |  6   |\n",
            "|     2      |    149    |  1.0  |  7   |\n",
            "|     2      |    221    |  1.0  |  8   |\n",
            "|     2      |     2     |  1.0  |  9   |\n",
            "|     2      |     16    |  1.0  |  10  |\n",
            "+------------+-----------+-------+------+\n",
            "[624830 rows x 4 columns]\n",
            "\n"
          ]
        }
      ]
    },
    {
      "cell_type": "code",
      "source": [
        "# we have used trained normalized data here\n",
        "\n",
        "name = 'popularity'\n",
        "target = 'scaled_purchase_freq'\n",
        "pop_norm = model(train_data_norm, name, user_id, item_id, target, users_to_recommend, n_rec, n_display)"
      ],
      "metadata": {
        "colab": {
          "base_uri": "https://localhost:8080/",
          "height": 1000
        },
        "id": "EJSAEmacf9im",
        "outputId": "b3ee3673-7dd4-4006-b467-20bd45e1508d"
      },
      "execution_count": null,
      "outputs": [
        {
          "output_type": "display_data",
          "data": {
            "text/plain": [
              "Preparing data set."
            ],
            "text/html": [
              "<pre>Preparing data set.</pre>"
            ]
          },
          "metadata": {}
        },
        {
          "output_type": "display_data",
          "data": {
            "text/plain": [
              "    Data has 100188 observations with 22877 users and 300 items."
            ],
            "text/html": [
              "<pre>    Data has 100188 observations with 22877 users and 300 items.</pre>"
            ]
          },
          "metadata": {}
        },
        {
          "output_type": "display_data",
          "data": {
            "text/plain": [
              "    Data prepared in: 0.134255s"
            ],
            "text/html": [
              "<pre>    Data prepared in: 0.134255s</pre>"
            ]
          },
          "metadata": {}
        },
        {
          "output_type": "display_data",
          "data": {
            "text/plain": [
              "100188 observations to process; with 300 unique items."
            ],
            "text/html": [
              "<pre>100188 observations to process; with 300 unique items.</pre>"
            ]
          },
          "metadata": {}
        },
        {
          "output_type": "display_data",
          "data": {
            "text/plain": [
              "recommendations finished on 1000/62483 queries. users per second: 65647"
            ],
            "text/html": [
              "<pre>recommendations finished on 1000/62483 queries. users per second: 65647</pre>"
            ]
          },
          "metadata": {}
        },
        {
          "output_type": "display_data",
          "data": {
            "text/plain": [
              "recommendations finished on 2000/62483 queries. users per second: 81030.7"
            ],
            "text/html": [
              "<pre>recommendations finished on 2000/62483 queries. users per second: 81030.7</pre>"
            ]
          },
          "metadata": {}
        },
        {
          "output_type": "display_data",
          "data": {
            "text/plain": [
              "recommendations finished on 3000/62483 queries. users per second: 89007.6"
            ],
            "text/html": [
              "<pre>recommendations finished on 3000/62483 queries. users per second: 89007.6</pre>"
            ]
          },
          "metadata": {}
        },
        {
          "output_type": "display_data",
          "data": {
            "text/plain": [
              "recommendations finished on 4000/62483 queries. users per second: 89944.2"
            ],
            "text/html": [
              "<pre>recommendations finished on 4000/62483 queries. users per second: 89944.2</pre>"
            ]
          },
          "metadata": {}
        },
        {
          "output_type": "display_data",
          "data": {
            "text/plain": [
              "recommendations finished on 5000/62483 queries. users per second: 90671.7"
            ],
            "text/html": [
              "<pre>recommendations finished on 5000/62483 queries. users per second: 90671.7</pre>"
            ]
          },
          "metadata": {}
        },
        {
          "output_type": "display_data",
          "data": {
            "text/plain": [
              "recommendations finished on 6000/62483 queries. users per second: 92699.9"
            ],
            "text/html": [
              "<pre>recommendations finished on 6000/62483 queries. users per second: 92699.9</pre>"
            ]
          },
          "metadata": {}
        },
        {
          "output_type": "display_data",
          "data": {
            "text/plain": [
              "recommendations finished on 7000/62483 queries. users per second: 91091.3"
            ],
            "text/html": [
              "<pre>recommendations finished on 7000/62483 queries. users per second: 91091.3</pre>"
            ]
          },
          "metadata": {}
        },
        {
          "output_type": "display_data",
          "data": {
            "text/plain": [
              "recommendations finished on 8000/62483 queries. users per second: 92452.4"
            ],
            "text/html": [
              "<pre>recommendations finished on 8000/62483 queries. users per second: 92452.4</pre>"
            ]
          },
          "metadata": {}
        },
        {
          "output_type": "display_data",
          "data": {
            "text/plain": [
              "recommendations finished on 9000/62483 queries. users per second: 93518.2"
            ],
            "text/html": [
              "<pre>recommendations finished on 9000/62483 queries. users per second: 93518.2</pre>"
            ]
          },
          "metadata": {}
        },
        {
          "output_type": "display_data",
          "data": {
            "text/plain": [
              "recommendations finished on 10000/62483 queries. users per second: 94540.3"
            ],
            "text/html": [
              "<pre>recommendations finished on 10000/62483 queries. users per second: 94540.3</pre>"
            ]
          },
          "metadata": {}
        },
        {
          "output_type": "display_data",
          "data": {
            "text/plain": [
              "recommendations finished on 11000/62483 queries. users per second: 96681.2"
            ],
            "text/html": [
              "<pre>recommendations finished on 11000/62483 queries. users per second: 96681.2</pre>"
            ]
          },
          "metadata": {}
        },
        {
          "output_type": "display_data",
          "data": {
            "text/plain": [
              "recommendations finished on 12000/62483 queries. users per second: 98008"
            ],
            "text/html": [
              "<pre>recommendations finished on 12000/62483 queries. users per second: 98008</pre>"
            ]
          },
          "metadata": {}
        },
        {
          "output_type": "display_data",
          "data": {
            "text/plain": [
              "recommendations finished on 13000/62483 queries. users per second: 98291.2"
            ],
            "text/html": [
              "<pre>recommendations finished on 13000/62483 queries. users per second: 98291.2</pre>"
            ]
          },
          "metadata": {}
        },
        {
          "output_type": "display_data",
          "data": {
            "text/plain": [
              "recommendations finished on 14000/62483 queries. users per second: 99193"
            ],
            "text/html": [
              "<pre>recommendations finished on 14000/62483 queries. users per second: 99193</pre>"
            ]
          },
          "metadata": {}
        },
        {
          "output_type": "display_data",
          "data": {
            "text/plain": [
              "recommendations finished on 15000/62483 queries. users per second: 99230"
            ],
            "text/html": [
              "<pre>recommendations finished on 15000/62483 queries. users per second: 99230</pre>"
            ]
          },
          "metadata": {}
        },
        {
          "output_type": "display_data",
          "data": {
            "text/plain": [
              "recommendations finished on 16000/62483 queries. users per second: 98458.5"
            ],
            "text/html": [
              "<pre>recommendations finished on 16000/62483 queries. users per second: 98458.5</pre>"
            ]
          },
          "metadata": {}
        },
        {
          "output_type": "display_data",
          "data": {
            "text/plain": [
              "recommendations finished on 17000/62483 queries. users per second: 100035"
            ],
            "text/html": [
              "<pre>recommendations finished on 17000/62483 queries. users per second: 100035</pre>"
            ]
          },
          "metadata": {}
        },
        {
          "output_type": "display_data",
          "data": {
            "text/plain": [
              "recommendations finished on 18000/62483 queries. users per second: 99703.7"
            ],
            "text/html": [
              "<pre>recommendations finished on 18000/62483 queries. users per second: 99703.7</pre>"
            ]
          },
          "metadata": {}
        },
        {
          "output_type": "display_data",
          "data": {
            "text/plain": [
              "recommendations finished on 19000/62483 queries. users per second: 96631.1"
            ],
            "text/html": [
              "<pre>recommendations finished on 19000/62483 queries. users per second: 96631.1</pre>"
            ]
          },
          "metadata": {}
        },
        {
          "output_type": "display_data",
          "data": {
            "text/plain": [
              "recommendations finished on 20000/62483 queries. users per second: 97621.5"
            ],
            "text/html": [
              "<pre>recommendations finished on 20000/62483 queries. users per second: 97621.5</pre>"
            ]
          },
          "metadata": {}
        },
        {
          "output_type": "display_data",
          "data": {
            "text/plain": [
              "recommendations finished on 21000/62483 queries. users per second: 98598"
            ],
            "text/html": [
              "<pre>recommendations finished on 21000/62483 queries. users per second: 98598</pre>"
            ]
          },
          "metadata": {}
        },
        {
          "output_type": "display_data",
          "data": {
            "text/plain": [
              "recommendations finished on 22000/62483 queries. users per second: 98954.7"
            ],
            "text/html": [
              "<pre>recommendations finished on 22000/62483 queries. users per second: 98954.7</pre>"
            ]
          },
          "metadata": {}
        },
        {
          "output_type": "display_data",
          "data": {
            "text/plain": [
              "recommendations finished on 23000/62483 queries. users per second: 98580.9"
            ],
            "text/html": [
              "<pre>recommendations finished on 23000/62483 queries. users per second: 98580.9</pre>"
            ]
          },
          "metadata": {}
        },
        {
          "output_type": "display_data",
          "data": {
            "text/plain": [
              "recommendations finished on 24000/62483 queries. users per second: 98024"
            ],
            "text/html": [
              "<pre>recommendations finished on 24000/62483 queries. users per second: 98024</pre>"
            ]
          },
          "metadata": {}
        },
        {
          "output_type": "display_data",
          "data": {
            "text/plain": [
              "recommendations finished on 25000/62483 queries. users per second: 98818.5"
            ],
            "text/html": [
              "<pre>recommendations finished on 25000/62483 queries. users per second: 98818.5</pre>"
            ]
          },
          "metadata": {}
        },
        {
          "output_type": "display_data",
          "data": {
            "text/plain": [
              "recommendations finished on 26000/62483 queries. users per second: 99295"
            ],
            "text/html": [
              "<pre>recommendations finished on 26000/62483 queries. users per second: 99295</pre>"
            ]
          },
          "metadata": {}
        },
        {
          "output_type": "display_data",
          "data": {
            "text/plain": [
              "recommendations finished on 27000/62483 queries. users per second: 99460.3"
            ],
            "text/html": [
              "<pre>recommendations finished on 27000/62483 queries. users per second: 99460.3</pre>"
            ]
          },
          "metadata": {}
        },
        {
          "output_type": "display_data",
          "data": {
            "text/plain": [
              "recommendations finished on 28000/62483 queries. users per second: 100019"
            ],
            "text/html": [
              "<pre>recommendations finished on 28000/62483 queries. users per second: 100019</pre>"
            ]
          },
          "metadata": {}
        },
        {
          "output_type": "display_data",
          "data": {
            "text/plain": [
              "recommendations finished on 29000/62483 queries. users per second: 100636"
            ],
            "text/html": [
              "<pre>recommendations finished on 29000/62483 queries. users per second: 100636</pre>"
            ]
          },
          "metadata": {}
        },
        {
          "output_type": "display_data",
          "data": {
            "text/plain": [
              "recommendations finished on 30000/62483 queries. users per second: 99415.1"
            ],
            "text/html": [
              "<pre>recommendations finished on 30000/62483 queries. users per second: 99415.1</pre>"
            ]
          },
          "metadata": {}
        },
        {
          "output_type": "display_data",
          "data": {
            "text/plain": [
              "recommendations finished on 31000/62483 queries. users per second: 99680.4"
            ],
            "text/html": [
              "<pre>recommendations finished on 31000/62483 queries. users per second: 99680.4</pre>"
            ]
          },
          "metadata": {}
        },
        {
          "output_type": "display_data",
          "data": {
            "text/plain": [
              "recommendations finished on 32000/62483 queries. users per second: 99979.4"
            ],
            "text/html": [
              "<pre>recommendations finished on 32000/62483 queries. users per second: 99979.4</pre>"
            ]
          },
          "metadata": {}
        },
        {
          "output_type": "display_data",
          "data": {
            "text/plain": [
              "recommendations finished on 33000/62483 queries. users per second: 100130"
            ],
            "text/html": [
              "<pre>recommendations finished on 33000/62483 queries. users per second: 100130</pre>"
            ]
          },
          "metadata": {}
        },
        {
          "output_type": "display_data",
          "data": {
            "text/plain": [
              "recommendations finished on 34000/62483 queries. users per second: 100676"
            ],
            "text/html": [
              "<pre>recommendations finished on 34000/62483 queries. users per second: 100676</pre>"
            ]
          },
          "metadata": {}
        },
        {
          "output_type": "display_data",
          "data": {
            "text/plain": [
              "recommendations finished on 35000/62483 queries. users per second: 100817"
            ],
            "text/html": [
              "<pre>recommendations finished on 35000/62483 queries. users per second: 100817</pre>"
            ]
          },
          "metadata": {}
        },
        {
          "output_type": "display_data",
          "data": {
            "text/plain": [
              "recommendations finished on 36000/62483 queries. users per second: 100182"
            ],
            "text/html": [
              "<pre>recommendations finished on 36000/62483 queries. users per second: 100182</pre>"
            ]
          },
          "metadata": {}
        },
        {
          "output_type": "display_data",
          "data": {
            "text/plain": [
              "recommendations finished on 37000/62483 queries. users per second: 99569.7"
            ],
            "text/html": [
              "<pre>recommendations finished on 37000/62483 queries. users per second: 99569.7</pre>"
            ]
          },
          "metadata": {}
        },
        {
          "output_type": "display_data",
          "data": {
            "text/plain": [
              "recommendations finished on 38000/62483 queries. users per second: 99897.2"
            ],
            "text/html": [
              "<pre>recommendations finished on 38000/62483 queries. users per second: 99897.2</pre>"
            ]
          },
          "metadata": {}
        },
        {
          "output_type": "display_data",
          "data": {
            "text/plain": [
              "recommendations finished on 39000/62483 queries. users per second: 100218"
            ],
            "text/html": [
              "<pre>recommendations finished on 39000/62483 queries. users per second: 100218</pre>"
            ]
          },
          "metadata": {}
        },
        {
          "output_type": "display_data",
          "data": {
            "text/plain": [
              "recommendations finished on 40000/62483 queries. users per second: 100193"
            ],
            "text/html": [
              "<pre>recommendations finished on 40000/62483 queries. users per second: 100193</pre>"
            ]
          },
          "metadata": {}
        },
        {
          "output_type": "display_data",
          "data": {
            "text/plain": [
              "recommendations finished on 41000/62483 queries. users per second: 99849.3"
            ],
            "text/html": [
              "<pre>recommendations finished on 41000/62483 queries. users per second: 99849.3</pre>"
            ]
          },
          "metadata": {}
        },
        {
          "output_type": "display_data",
          "data": {
            "text/plain": [
              "recommendations finished on 42000/62483 queries. users per second: 100179"
            ],
            "text/html": [
              "<pre>recommendations finished on 42000/62483 queries. users per second: 100179</pre>"
            ]
          },
          "metadata": {}
        },
        {
          "output_type": "display_data",
          "data": {
            "text/plain": [
              "recommendations finished on 43000/62483 queries. users per second: 100431"
            ],
            "text/html": [
              "<pre>recommendations finished on 43000/62483 queries. users per second: 100431</pre>"
            ]
          },
          "metadata": {}
        },
        {
          "output_type": "display_data",
          "data": {
            "text/plain": [
              "recommendations finished on 44000/62483 queries. users per second: 100652"
            ],
            "text/html": [
              "<pre>recommendations finished on 44000/62483 queries. users per second: 100652</pre>"
            ]
          },
          "metadata": {}
        },
        {
          "output_type": "display_data",
          "data": {
            "text/plain": [
              "recommendations finished on 45000/62483 queries. users per second: 101060"
            ],
            "text/html": [
              "<pre>recommendations finished on 45000/62483 queries. users per second: 101060</pre>"
            ]
          },
          "metadata": {}
        },
        {
          "output_type": "display_data",
          "data": {
            "text/plain": [
              "recommendations finished on 46000/62483 queries. users per second: 99861.1"
            ],
            "text/html": [
              "<pre>recommendations finished on 46000/62483 queries. users per second: 99861.1</pre>"
            ]
          },
          "metadata": {}
        },
        {
          "output_type": "display_data",
          "data": {
            "text/plain": [
              "recommendations finished on 47000/62483 queries. users per second: 99877.8"
            ],
            "text/html": [
              "<pre>recommendations finished on 47000/62483 queries. users per second: 99877.8</pre>"
            ]
          },
          "metadata": {}
        },
        {
          "output_type": "display_data",
          "data": {
            "text/plain": [
              "recommendations finished on 48000/62483 queries. users per second: 99006.2"
            ],
            "text/html": [
              "<pre>recommendations finished on 48000/62483 queries. users per second: 99006.2</pre>"
            ]
          },
          "metadata": {}
        },
        {
          "output_type": "display_data",
          "data": {
            "text/plain": [
              "recommendations finished on 49000/62483 queries. users per second: 98958.1"
            ],
            "text/html": [
              "<pre>recommendations finished on 49000/62483 queries. users per second: 98958.1</pre>"
            ]
          },
          "metadata": {}
        },
        {
          "output_type": "display_data",
          "data": {
            "text/plain": [
              "recommendations finished on 50000/62483 queries. users per second: 98525.1"
            ],
            "text/html": [
              "<pre>recommendations finished on 50000/62483 queries. users per second: 98525.1</pre>"
            ]
          },
          "metadata": {}
        },
        {
          "output_type": "display_data",
          "data": {
            "text/plain": [
              "recommendations finished on 51000/62483 queries. users per second: 98822.1"
            ],
            "text/html": [
              "<pre>recommendations finished on 51000/62483 queries. users per second: 98822.1</pre>"
            ]
          },
          "metadata": {}
        },
        {
          "output_type": "display_data",
          "data": {
            "text/plain": [
              "recommendations finished on 52000/62483 queries. users per second: 99073.1"
            ],
            "text/html": [
              "<pre>recommendations finished on 52000/62483 queries. users per second: 99073.1</pre>"
            ]
          },
          "metadata": {}
        },
        {
          "output_type": "display_data",
          "data": {
            "text/plain": [
              "recommendations finished on 53000/62483 queries. users per second: 99594.1"
            ],
            "text/html": [
              "<pre>recommendations finished on 53000/62483 queries. users per second: 99594.1</pre>"
            ]
          },
          "metadata": {}
        },
        {
          "output_type": "display_data",
          "data": {
            "text/plain": [
              "recommendations finished on 54000/62483 queries. users per second: 99658.2"
            ],
            "text/html": [
              "<pre>recommendations finished on 54000/62483 queries. users per second: 99658.2</pre>"
            ]
          },
          "metadata": {}
        },
        {
          "output_type": "display_data",
          "data": {
            "text/plain": [
              "recommendations finished on 55000/62483 queries. users per second: 99503.7"
            ],
            "text/html": [
              "<pre>recommendations finished on 55000/62483 queries. users per second: 99503.7</pre>"
            ]
          },
          "metadata": {}
        },
        {
          "output_type": "display_data",
          "data": {
            "text/plain": [
              "recommendations finished on 56000/62483 queries. users per second: 99748.1"
            ],
            "text/html": [
              "<pre>recommendations finished on 56000/62483 queries. users per second: 99748.1</pre>"
            ]
          },
          "metadata": {}
        },
        {
          "output_type": "display_data",
          "data": {
            "text/plain": [
              "recommendations finished on 57000/62483 queries. users per second: 99398.9"
            ],
            "text/html": [
              "<pre>recommendations finished on 57000/62483 queries. users per second: 99398.9</pre>"
            ]
          },
          "metadata": {}
        },
        {
          "output_type": "display_data",
          "data": {
            "text/plain": [
              "recommendations finished on 58000/62483 queries. users per second: 99470.2"
            ],
            "text/html": [
              "<pre>recommendations finished on 58000/62483 queries. users per second: 99470.2</pre>"
            ]
          },
          "metadata": {}
        },
        {
          "output_type": "display_data",
          "data": {
            "text/plain": [
              "recommendations finished on 59000/62483 queries. users per second: 99715.2"
            ],
            "text/html": [
              "<pre>recommendations finished on 59000/62483 queries. users per second: 99715.2</pre>"
            ]
          },
          "metadata": {}
        },
        {
          "output_type": "display_data",
          "data": {
            "text/plain": [
              "recommendations finished on 60000/62483 queries. users per second: 98808.5"
            ],
            "text/html": [
              "<pre>recommendations finished on 60000/62483 queries. users per second: 98808.5</pre>"
            ]
          },
          "metadata": {}
        },
        {
          "output_type": "display_data",
          "data": {
            "text/plain": [
              "recommendations finished on 61000/62483 queries. users per second: 99081.3"
            ],
            "text/html": [
              "<pre>recommendations finished on 61000/62483 queries. users per second: 99081.3</pre>"
            ]
          },
          "metadata": {}
        },
        {
          "output_type": "display_data",
          "data": {
            "text/plain": [
              "recommendations finished on 62000/62483 queries. users per second: 99148"
            ],
            "text/html": [
              "<pre>recommendations finished on 62000/62483 queries. users per second: 99148</pre>"
            ]
          },
          "metadata": {}
        },
        {
          "output_type": "stream",
          "name": "stdout",
          "text": [
            "+------------+-----------+---------------------+------+\n",
            "| customerId | productId |        score        | rank |\n",
            "+------------+-----------+---------------------+------+\n",
            "|     0      |    226    |  0.7992424242424242 |  1   |\n",
            "|     0      |    247    |  0.3333333333333335 |  2   |\n",
            "|     0      |    230    | 0.32343749999999954 |  3   |\n",
            "|     0      |    125    |  0.2666666666666663 |  4   |\n",
            "|     0      |    294    |  0.2605042016806719 |  5   |\n",
            "|     0      |    248    |         0.25        |  6   |\n",
            "|     0      |    204    | 0.24249999999999988 |  7   |\n",
            "|     0      |    155    |  0.2377358490566037 |  8   |\n",
            "|     0      |    213    | 0.23548922056384758 |  9   |\n",
            "|     0      |    276    | 0.23228346456692914 |  10  |\n",
            "|     1      |    226    |  0.7992424242424242 |  1   |\n",
            "|     1      |    247    |  0.3333333333333335 |  2   |\n",
            "|     1      |    230    | 0.32343749999999954 |  3   |\n",
            "|     1      |    125    |  0.2666666666666663 |  4   |\n",
            "|     1      |    294    |  0.2605042016806719 |  5   |\n",
            "|     1      |    248    |         0.25        |  6   |\n",
            "|     1      |    204    | 0.24249999999999988 |  7   |\n",
            "|     1      |    155    |  0.2377358490566037 |  8   |\n",
            "|     1      |    213    | 0.23548922056384758 |  9   |\n",
            "|     1      |    276    | 0.23228346456692914 |  10  |\n",
            "|     2      |    226    |  0.7992424242424242 |  1   |\n",
            "|     2      |    247    |  0.3333333333333335 |  2   |\n",
            "|     2      |    230    | 0.32343749999999954 |  3   |\n",
            "|     2      |    125    |  0.2666666666666663 |  4   |\n",
            "|     2      |    294    |  0.2605042016806719 |  5   |\n",
            "|     2      |    248    |         0.25        |  6   |\n",
            "|     2      |    204    | 0.24249999999999988 |  7   |\n",
            "|     2      |    155    |  0.2377358490566037 |  8   |\n",
            "|     2      |    213    | 0.23548922056384758 |  9   |\n",
            "|     2      |    276    | 0.23228346456692914 |  10  |\n",
            "+------------+-----------+---------------------+------+\n",
            "[624830 rows x 4 columns]\n",
            "\n"
          ]
        }
      ]
    },
    {
      "cell_type": "markdown",
      "source": [
        "In the result, although different models have different recommendation list, each user is recommended the same list of 10 items. This is because popularity is calculated by taking the most popular items across all users."
      ],
      "metadata": {
        "id": "UoF8IAD8zPCs"
      }
    },
    {
      "cell_type": "markdown",
      "source": [
        "Collaborative Filtering Model"
      ],
      "metadata": {
        "id": "LGxsylIszkPE"
      }
    },
    {
      "cell_type": "code",
      "source": [
        "name = 'cosine'\n",
        "target = 'purchase_count'\n",
        "cos = model(train_data, name, user_id, item_id, target, users_to_recommend, n_rec, n_display)"
      ],
      "metadata": {
        "colab": {
          "base_uri": "https://localhost:8080/",
          "height": 1000
        },
        "id": "vz9DJ4xLgBsh",
        "outputId": "34c454e2-1117-469c-de11-51ee4cd7f368"
      },
      "execution_count": null,
      "outputs": [
        {
          "output_type": "display_data",
          "data": {
            "text/plain": [
              "Preparing data set."
            ],
            "text/html": [
              "<pre>Preparing data set.</pre>"
            ]
          },
          "metadata": {}
        },
        {
          "output_type": "display_data",
          "data": {
            "text/plain": [
              "    Data has 106868 observations with 23257 users and 300 items."
            ],
            "text/html": [
              "<pre>    Data has 106868 observations with 23257 users and 300 items.</pre>"
            ]
          },
          "metadata": {}
        },
        {
          "output_type": "display_data",
          "data": {
            "text/plain": [
              "    Data prepared in: 0.135746s"
            ],
            "text/html": [
              "<pre>    Data prepared in: 0.135746s</pre>"
            ]
          },
          "metadata": {}
        },
        {
          "output_type": "display_data",
          "data": {
            "text/plain": [
              "Training model from provided data."
            ],
            "text/html": [
              "<pre>Training model from provided data.</pre>"
            ]
          },
          "metadata": {}
        },
        {
          "output_type": "display_data",
          "data": {
            "text/plain": [
              "Gathering per-item and per-user statistics."
            ],
            "text/html": [
              "<pre>Gathering per-item and per-user statistics.</pre>"
            ]
          },
          "metadata": {}
        },
        {
          "output_type": "display_data",
          "data": {
            "text/plain": [
              "+--------------------------------+------------+"
            ],
            "text/html": [
              "<pre>+--------------------------------+------------+</pre>"
            ]
          },
          "metadata": {}
        },
        {
          "output_type": "display_data",
          "data": {
            "text/plain": [
              "| Elapsed Time (Item Statistics) | % Complete |"
            ],
            "text/html": [
              "<pre>| Elapsed Time (Item Statistics) | % Complete |</pre>"
            ]
          },
          "metadata": {}
        },
        {
          "output_type": "display_data",
          "data": {
            "text/plain": [
              "+--------------------------------+------------+"
            ],
            "text/html": [
              "<pre>+--------------------------------+------------+</pre>"
            ]
          },
          "metadata": {}
        },
        {
          "output_type": "display_data",
          "data": {
            "text/plain": [
              "| 1.119ms                        | 4.25       |"
            ],
            "text/html": [
              "<pre>| 1.119ms                        | 4.25       |</pre>"
            ]
          },
          "metadata": {}
        },
        {
          "output_type": "display_data",
          "data": {
            "text/plain": [
              "| 15.766ms                       | 100        |"
            ],
            "text/html": [
              "<pre>| 15.766ms                       | 100        |</pre>"
            ]
          },
          "metadata": {}
        },
        {
          "output_type": "display_data",
          "data": {
            "text/plain": [
              "+--------------------------------+------------+"
            ],
            "text/html": [
              "<pre>+--------------------------------+------------+</pre>"
            ]
          },
          "metadata": {}
        },
        {
          "output_type": "display_data",
          "data": {
            "text/plain": [
              "Setting up lookup tables."
            ],
            "text/html": [
              "<pre>Setting up lookup tables.</pre>"
            ]
          },
          "metadata": {}
        },
        {
          "output_type": "display_data",
          "data": {
            "text/plain": [
              "Processing data in one pass using dense lookup tables."
            ],
            "text/html": [
              "<pre>Processing data in one pass using dense lookup tables.</pre>"
            ]
          },
          "metadata": {}
        },
        {
          "output_type": "display_data",
          "data": {
            "text/plain": [
              "+-------------------------------------+------------------+-----------------+"
            ],
            "text/html": [
              "<pre>+-------------------------------------+------------------+-----------------+</pre>"
            ]
          },
          "metadata": {}
        },
        {
          "output_type": "display_data",
          "data": {
            "text/plain": [
              "| Elapsed Time (Constructing Lookups) | Total % Complete | Items Processed |"
            ],
            "text/html": [
              "<pre>| Elapsed Time (Constructing Lookups) | Total % Complete | Items Processed |</pre>"
            ]
          },
          "metadata": {}
        },
        {
          "output_type": "display_data",
          "data": {
            "text/plain": [
              "+-------------------------------------+------------------+-----------------+"
            ],
            "text/html": [
              "<pre>+-------------------------------------+------------------+-----------------+</pre>"
            ]
          },
          "metadata": {}
        },
        {
          "output_type": "display_data",
          "data": {
            "text/plain": [
              "| 16.645ms                            | 0                | 0               |"
            ],
            "text/html": [
              "<pre>| 16.645ms                            | 0                | 0               |</pre>"
            ]
          },
          "metadata": {}
        },
        {
          "output_type": "display_data",
          "data": {
            "text/plain": [
              "| 52.882ms                            | 100              | 300             |"
            ],
            "text/html": [
              "<pre>| 52.882ms                            | 100              | 300             |</pre>"
            ]
          },
          "metadata": {}
        },
        {
          "output_type": "display_data",
          "data": {
            "text/plain": [
              "+-------------------------------------+------------------+-----------------+"
            ],
            "text/html": [
              "<pre>+-------------------------------------+------------------+-----------------+</pre>"
            ]
          },
          "metadata": {}
        },
        {
          "output_type": "display_data",
          "data": {
            "text/plain": [
              "Finalizing lookup tables."
            ],
            "text/html": [
              "<pre>Finalizing lookup tables.</pre>"
            ]
          },
          "metadata": {}
        },
        {
          "output_type": "display_data",
          "data": {
            "text/plain": [
              "Generating candidate set for working with new users."
            ],
            "text/html": [
              "<pre>Generating candidate set for working with new users.</pre>"
            ]
          },
          "metadata": {}
        },
        {
          "output_type": "display_data",
          "data": {
            "text/plain": [
              "Finished training in 1.09153s"
            ],
            "text/html": [
              "<pre>Finished training in 1.09153s</pre>"
            ]
          },
          "metadata": {}
        },
        {
          "output_type": "display_data",
          "data": {
            "text/plain": [
              "recommendations finished on 1000/62483 queries. users per second: 66520.3"
            ],
            "text/html": [
              "<pre>recommendations finished on 1000/62483 queries. users per second: 66520.3</pre>"
            ]
          },
          "metadata": {}
        },
        {
          "output_type": "display_data",
          "data": {
            "text/plain": [
              "recommendations finished on 2000/62483 queries. users per second: 68823.1"
            ],
            "text/html": [
              "<pre>recommendations finished on 2000/62483 queries. users per second: 68823.1</pre>"
            ]
          },
          "metadata": {}
        },
        {
          "output_type": "display_data",
          "data": {
            "text/plain": [
              "recommendations finished on 3000/62483 queries. users per second: 70803.1"
            ],
            "text/html": [
              "<pre>recommendations finished on 3000/62483 queries. users per second: 70803.1</pre>"
            ]
          },
          "metadata": {}
        },
        {
          "output_type": "display_data",
          "data": {
            "text/plain": [
              "recommendations finished on 4000/62483 queries. users per second: 71778.5"
            ],
            "text/html": [
              "<pre>recommendations finished on 4000/62483 queries. users per second: 71778.5</pre>"
            ]
          },
          "metadata": {}
        },
        {
          "output_type": "display_data",
          "data": {
            "text/plain": [
              "recommendations finished on 5000/62483 queries. users per second: 72351.6"
            ],
            "text/html": [
              "<pre>recommendations finished on 5000/62483 queries. users per second: 72351.6</pre>"
            ]
          },
          "metadata": {}
        },
        {
          "output_type": "display_data",
          "data": {
            "text/plain": [
              "recommendations finished on 6000/62483 queries. users per second: 71470.3"
            ],
            "text/html": [
              "<pre>recommendations finished on 6000/62483 queries. users per second: 71470.3</pre>"
            ]
          },
          "metadata": {}
        },
        {
          "output_type": "display_data",
          "data": {
            "text/plain": [
              "recommendations finished on 7000/62483 queries. users per second: 72460.8"
            ],
            "text/html": [
              "<pre>recommendations finished on 7000/62483 queries. users per second: 72460.8</pre>"
            ]
          },
          "metadata": {}
        },
        {
          "output_type": "display_data",
          "data": {
            "text/plain": [
              "recommendations finished on 8000/62483 queries. users per second: 69452.9"
            ],
            "text/html": [
              "<pre>recommendations finished on 8000/62483 queries. users per second: 69452.9</pre>"
            ]
          },
          "metadata": {}
        },
        {
          "output_type": "display_data",
          "data": {
            "text/plain": [
              "recommendations finished on 9000/62483 queries. users per second: 67640.2"
            ],
            "text/html": [
              "<pre>recommendations finished on 9000/62483 queries. users per second: 67640.2</pre>"
            ]
          },
          "metadata": {}
        },
        {
          "output_type": "display_data",
          "data": {
            "text/plain": [
              "recommendations finished on 10000/62483 queries. users per second: 66964.4"
            ],
            "text/html": [
              "<pre>recommendations finished on 10000/62483 queries. users per second: 66964.4</pre>"
            ]
          },
          "metadata": {}
        },
        {
          "output_type": "display_data",
          "data": {
            "text/plain": [
              "recommendations finished on 11000/62483 queries. users per second: 66921"
            ],
            "text/html": [
              "<pre>recommendations finished on 11000/62483 queries. users per second: 66921</pre>"
            ]
          },
          "metadata": {}
        },
        {
          "output_type": "display_data",
          "data": {
            "text/plain": [
              "recommendations finished on 12000/62483 queries. users per second: 67078.8"
            ],
            "text/html": [
              "<pre>recommendations finished on 12000/62483 queries. users per second: 67078.8</pre>"
            ]
          },
          "metadata": {}
        },
        {
          "output_type": "display_data",
          "data": {
            "text/plain": [
              "recommendations finished on 13000/62483 queries. users per second: 67579.2"
            ],
            "text/html": [
              "<pre>recommendations finished on 13000/62483 queries. users per second: 67579.2</pre>"
            ]
          },
          "metadata": {}
        },
        {
          "output_type": "display_data",
          "data": {
            "text/plain": [
              "recommendations finished on 14000/62483 queries. users per second: 67561.7"
            ],
            "text/html": [
              "<pre>recommendations finished on 14000/62483 queries. users per second: 67561.7</pre>"
            ]
          },
          "metadata": {}
        },
        {
          "output_type": "display_data",
          "data": {
            "text/plain": [
              "recommendations finished on 15000/62483 queries. users per second: 68148.1"
            ],
            "text/html": [
              "<pre>recommendations finished on 15000/62483 queries. users per second: 68148.1</pre>"
            ]
          },
          "metadata": {}
        },
        {
          "output_type": "display_data",
          "data": {
            "text/plain": [
              "recommendations finished on 16000/62483 queries. users per second: 68204.7"
            ],
            "text/html": [
              "<pre>recommendations finished on 16000/62483 queries. users per second: 68204.7</pre>"
            ]
          },
          "metadata": {}
        },
        {
          "output_type": "display_data",
          "data": {
            "text/plain": [
              "recommendations finished on 17000/62483 queries. users per second: 67525.4"
            ],
            "text/html": [
              "<pre>recommendations finished on 17000/62483 queries. users per second: 67525.4</pre>"
            ]
          },
          "metadata": {}
        },
        {
          "output_type": "display_data",
          "data": {
            "text/plain": [
              "recommendations finished on 18000/62483 queries. users per second: 67693.3"
            ],
            "text/html": [
              "<pre>recommendations finished on 18000/62483 queries. users per second: 67693.3</pre>"
            ]
          },
          "metadata": {}
        },
        {
          "output_type": "display_data",
          "data": {
            "text/plain": [
              "recommendations finished on 19000/62483 queries. users per second: 68274.6"
            ],
            "text/html": [
              "<pre>recommendations finished on 19000/62483 queries. users per second: 68274.6</pre>"
            ]
          },
          "metadata": {}
        },
        {
          "output_type": "display_data",
          "data": {
            "text/plain": [
              "recommendations finished on 20000/62483 queries. users per second: 67591.8"
            ],
            "text/html": [
              "<pre>recommendations finished on 20000/62483 queries. users per second: 67591.8</pre>"
            ]
          },
          "metadata": {}
        },
        {
          "output_type": "display_data",
          "data": {
            "text/plain": [
              "recommendations finished on 21000/62483 queries. users per second: 67987.1"
            ],
            "text/html": [
              "<pre>recommendations finished on 21000/62483 queries. users per second: 67987.1</pre>"
            ]
          },
          "metadata": {}
        },
        {
          "output_type": "display_data",
          "data": {
            "text/plain": [
              "recommendations finished on 22000/62483 queries. users per second: 68084.7"
            ],
            "text/html": [
              "<pre>recommendations finished on 22000/62483 queries. users per second: 68084.7</pre>"
            ]
          },
          "metadata": {}
        },
        {
          "output_type": "display_data",
          "data": {
            "text/plain": [
              "recommendations finished on 23000/62483 queries. users per second: 68581.2"
            ],
            "text/html": [
              "<pre>recommendations finished on 23000/62483 queries. users per second: 68581.2</pre>"
            ]
          },
          "metadata": {}
        },
        {
          "output_type": "display_data",
          "data": {
            "text/plain": [
              "recommendations finished on 24000/62483 queries. users per second: 68212"
            ],
            "text/html": [
              "<pre>recommendations finished on 24000/62483 queries. users per second: 68212</pre>"
            ]
          },
          "metadata": {}
        },
        {
          "output_type": "display_data",
          "data": {
            "text/plain": [
              "recommendations finished on 25000/62483 queries. users per second: 68222.7"
            ],
            "text/html": [
              "<pre>recommendations finished on 25000/62483 queries. users per second: 68222.7</pre>"
            ]
          },
          "metadata": {}
        },
        {
          "output_type": "display_data",
          "data": {
            "text/plain": [
              "recommendations finished on 26000/62483 queries. users per second: 67911.9"
            ],
            "text/html": [
              "<pre>recommendations finished on 26000/62483 queries. users per second: 67911.9</pre>"
            ]
          },
          "metadata": {}
        },
        {
          "output_type": "display_data",
          "data": {
            "text/plain": [
              "recommendations finished on 27000/62483 queries. users per second: 67698.7"
            ],
            "text/html": [
              "<pre>recommendations finished on 27000/62483 queries. users per second: 67698.7</pre>"
            ]
          },
          "metadata": {}
        },
        {
          "output_type": "display_data",
          "data": {
            "text/plain": [
              "recommendations finished on 28000/62483 queries. users per second: 68139.9"
            ],
            "text/html": [
              "<pre>recommendations finished on 28000/62483 queries. users per second: 68139.9</pre>"
            ]
          },
          "metadata": {}
        },
        {
          "output_type": "display_data",
          "data": {
            "text/plain": [
              "recommendations finished on 29000/62483 queries. users per second: 68063.3"
            ],
            "text/html": [
              "<pre>recommendations finished on 29000/62483 queries. users per second: 68063.3</pre>"
            ]
          },
          "metadata": {}
        },
        {
          "output_type": "display_data",
          "data": {
            "text/plain": [
              "recommendations finished on 30000/62483 queries. users per second: 68159.8"
            ],
            "text/html": [
              "<pre>recommendations finished on 30000/62483 queries. users per second: 68159.8</pre>"
            ]
          },
          "metadata": {}
        },
        {
          "output_type": "display_data",
          "data": {
            "text/plain": [
              "recommendations finished on 31000/62483 queries. users per second: 68259.4"
            ],
            "text/html": [
              "<pre>recommendations finished on 31000/62483 queries. users per second: 68259.4</pre>"
            ]
          },
          "metadata": {}
        },
        {
          "output_type": "display_data",
          "data": {
            "text/plain": [
              "recommendations finished on 32000/62483 queries. users per second: 68048.3"
            ],
            "text/html": [
              "<pre>recommendations finished on 32000/62483 queries. users per second: 68048.3</pre>"
            ]
          },
          "metadata": {}
        },
        {
          "output_type": "display_data",
          "data": {
            "text/plain": [
              "recommendations finished on 33000/62483 queries. users per second: 68069.7"
            ],
            "text/html": [
              "<pre>recommendations finished on 33000/62483 queries. users per second: 68069.7</pre>"
            ]
          },
          "metadata": {}
        },
        {
          "output_type": "display_data",
          "data": {
            "text/plain": [
              "recommendations finished on 34000/62483 queries. users per second: 68256.6"
            ],
            "text/html": [
              "<pre>recommendations finished on 34000/62483 queries. users per second: 68256.6</pre>"
            ]
          },
          "metadata": {}
        },
        {
          "output_type": "display_data",
          "data": {
            "text/plain": [
              "recommendations finished on 35000/62483 queries. users per second: 68344.3"
            ],
            "text/html": [
              "<pre>recommendations finished on 35000/62483 queries. users per second: 68344.3</pre>"
            ]
          },
          "metadata": {}
        },
        {
          "output_type": "display_data",
          "data": {
            "text/plain": [
              "recommendations finished on 36000/62483 queries. users per second: 68578.7"
            ],
            "text/html": [
              "<pre>recommendations finished on 36000/62483 queries. users per second: 68578.7</pre>"
            ]
          },
          "metadata": {}
        },
        {
          "output_type": "display_data",
          "data": {
            "text/plain": [
              "recommendations finished on 37000/62483 queries. users per second: 68407"
            ],
            "text/html": [
              "<pre>recommendations finished on 37000/62483 queries. users per second: 68407</pre>"
            ]
          },
          "metadata": {}
        },
        {
          "output_type": "display_data",
          "data": {
            "text/plain": [
              "recommendations finished on 38000/62483 queries. users per second: 68346.2"
            ],
            "text/html": [
              "<pre>recommendations finished on 38000/62483 queries. users per second: 68346.2</pre>"
            ]
          },
          "metadata": {}
        },
        {
          "output_type": "display_data",
          "data": {
            "text/plain": [
              "recommendations finished on 39000/62483 queries. users per second: 68374.5"
            ],
            "text/html": [
              "<pre>recommendations finished on 39000/62483 queries. users per second: 68374.5</pre>"
            ]
          },
          "metadata": {}
        },
        {
          "output_type": "display_data",
          "data": {
            "text/plain": [
              "recommendations finished on 40000/62483 queries. users per second: 67655"
            ],
            "text/html": [
              "<pre>recommendations finished on 40000/62483 queries. users per second: 67655</pre>"
            ]
          },
          "metadata": {}
        },
        {
          "output_type": "display_data",
          "data": {
            "text/plain": [
              "recommendations finished on 41000/62483 queries. users per second: 67936.5"
            ],
            "text/html": [
              "<pre>recommendations finished on 41000/62483 queries. users per second: 67936.5</pre>"
            ]
          },
          "metadata": {}
        },
        {
          "output_type": "display_data",
          "data": {
            "text/plain": [
              "recommendations finished on 42000/62483 queries. users per second: 67864.4"
            ],
            "text/html": [
              "<pre>recommendations finished on 42000/62483 queries. users per second: 67864.4</pre>"
            ]
          },
          "metadata": {}
        },
        {
          "output_type": "display_data",
          "data": {
            "text/plain": [
              "recommendations finished on 43000/62483 queries. users per second: 67860.5"
            ],
            "text/html": [
              "<pre>recommendations finished on 43000/62483 queries. users per second: 67860.5</pre>"
            ]
          },
          "metadata": {}
        },
        {
          "output_type": "display_data",
          "data": {
            "text/plain": [
              "recommendations finished on 44000/62483 queries. users per second: 67537.7"
            ],
            "text/html": [
              "<pre>recommendations finished on 44000/62483 queries. users per second: 67537.7</pre>"
            ]
          },
          "metadata": {}
        },
        {
          "output_type": "display_data",
          "data": {
            "text/plain": [
              "recommendations finished on 45000/62483 queries. users per second: 67769.6"
            ],
            "text/html": [
              "<pre>recommendations finished on 45000/62483 queries. users per second: 67769.6</pre>"
            ]
          },
          "metadata": {}
        },
        {
          "output_type": "display_data",
          "data": {
            "text/plain": [
              "recommendations finished on 46000/62483 queries. users per second: 67694"
            ],
            "text/html": [
              "<pre>recommendations finished on 46000/62483 queries. users per second: 67694</pre>"
            ]
          },
          "metadata": {}
        },
        {
          "output_type": "display_data",
          "data": {
            "text/plain": [
              "recommendations finished on 47000/62483 queries. users per second: 67517.4"
            ],
            "text/html": [
              "<pre>recommendations finished on 47000/62483 queries. users per second: 67517.4</pre>"
            ]
          },
          "metadata": {}
        },
        {
          "output_type": "display_data",
          "data": {
            "text/plain": [
              "recommendations finished on 48000/62483 queries. users per second: 67576.2"
            ],
            "text/html": [
              "<pre>recommendations finished on 48000/62483 queries. users per second: 67576.2</pre>"
            ]
          },
          "metadata": {}
        },
        {
          "output_type": "display_data",
          "data": {
            "text/plain": [
              "recommendations finished on 49000/62483 queries. users per second: 67458.9"
            ],
            "text/html": [
              "<pre>recommendations finished on 49000/62483 queries. users per second: 67458.9</pre>"
            ]
          },
          "metadata": {}
        },
        {
          "output_type": "display_data",
          "data": {
            "text/plain": [
              "recommendations finished on 50000/62483 queries. users per second: 67599.2"
            ],
            "text/html": [
              "<pre>recommendations finished on 50000/62483 queries. users per second: 67599.2</pre>"
            ]
          },
          "metadata": {}
        },
        {
          "output_type": "display_data",
          "data": {
            "text/plain": [
              "recommendations finished on 51000/62483 queries. users per second: 67539.2"
            ],
            "text/html": [
              "<pre>recommendations finished on 51000/62483 queries. users per second: 67539.2</pre>"
            ]
          },
          "metadata": {}
        },
        {
          "output_type": "display_data",
          "data": {
            "text/plain": [
              "recommendations finished on 52000/62483 queries. users per second: 67574.5"
            ],
            "text/html": [
              "<pre>recommendations finished on 52000/62483 queries. users per second: 67574.5</pre>"
            ]
          },
          "metadata": {}
        },
        {
          "output_type": "display_data",
          "data": {
            "text/plain": [
              "recommendations finished on 53000/62483 queries. users per second: 67460"
            ],
            "text/html": [
              "<pre>recommendations finished on 53000/62483 queries. users per second: 67460</pre>"
            ]
          },
          "metadata": {}
        },
        {
          "output_type": "display_data",
          "data": {
            "text/plain": [
              "recommendations finished on 54000/62483 queries. users per second: 67650.2"
            ],
            "text/html": [
              "<pre>recommendations finished on 54000/62483 queries. users per second: 67650.2</pre>"
            ]
          },
          "metadata": {}
        },
        {
          "output_type": "display_data",
          "data": {
            "text/plain": [
              "recommendations finished on 55000/62483 queries. users per second: 67622.3"
            ],
            "text/html": [
              "<pre>recommendations finished on 55000/62483 queries. users per second: 67622.3</pre>"
            ]
          },
          "metadata": {}
        },
        {
          "output_type": "display_data",
          "data": {
            "text/plain": [
              "recommendations finished on 56000/62483 queries. users per second: 67632.5"
            ],
            "text/html": [
              "<pre>recommendations finished on 56000/62483 queries. users per second: 67632.5</pre>"
            ]
          },
          "metadata": {}
        },
        {
          "output_type": "display_data",
          "data": {
            "text/plain": [
              "recommendations finished on 57000/62483 queries. users per second: 67631"
            ],
            "text/html": [
              "<pre>recommendations finished on 57000/62483 queries. users per second: 67631</pre>"
            ]
          },
          "metadata": {}
        },
        {
          "output_type": "display_data",
          "data": {
            "text/plain": [
              "recommendations finished on 58000/62483 queries. users per second: 67659.1"
            ],
            "text/html": [
              "<pre>recommendations finished on 58000/62483 queries. users per second: 67659.1</pre>"
            ]
          },
          "metadata": {}
        },
        {
          "output_type": "display_data",
          "data": {
            "text/plain": [
              "recommendations finished on 59000/62483 queries. users per second: 67474.4"
            ],
            "text/html": [
              "<pre>recommendations finished on 59000/62483 queries. users per second: 67474.4</pre>"
            ]
          },
          "metadata": {}
        },
        {
          "output_type": "display_data",
          "data": {
            "text/plain": [
              "recommendations finished on 60000/62483 queries. users per second: 67254.9"
            ],
            "text/html": [
              "<pre>recommendations finished on 60000/62483 queries. users per second: 67254.9</pre>"
            ]
          },
          "metadata": {}
        },
        {
          "output_type": "display_data",
          "data": {
            "text/plain": [
              "recommendations finished on 61000/62483 queries. users per second: 67294.2"
            ],
            "text/html": [
              "<pre>recommendations finished on 61000/62483 queries. users per second: 67294.2</pre>"
            ]
          },
          "metadata": {}
        },
        {
          "output_type": "display_data",
          "data": {
            "text/plain": [
              "recommendations finished on 62000/62483 queries. users per second: 67198.3"
            ],
            "text/html": [
              "<pre>recommendations finished on 62000/62483 queries. users per second: 67198.3</pre>"
            ]
          },
          "metadata": {}
        },
        {
          "output_type": "stream",
          "name": "stdout",
          "text": [
            "+------------+-----------+---------------------+------+\n",
            "| customerId | productId |        score        | rank |\n",
            "+------------+-----------+---------------------+------+\n",
            "|     0      |     2     | 0.15628153085708618 |  1   |\n",
            "|     0      |     5     | 0.11865206406666683 |  2   |\n",
            "|     0      |     21    | 0.10568000261600201 |  3   |\n",
            "|     0      |     33    |  0.0915721975840055 |  4   |\n",
            "|     0      |     15    | 0.07969538065103385 |  5   |\n",
            "|     0      |     8     | 0.07838407846597525 |  6   |\n",
            "|     0      |     11    | 0.07837480765122634 |  7   |\n",
            "|     0      |     59    | 0.07703012686509353 |  8   |\n",
            "|     0      |     0     | 0.07683671896274273 |  9   |\n",
            "|     0      |     14    | 0.07090835846387424 |  10  |\n",
            "|     1      |     2     | 0.10281421740849812 |  1   |\n",
            "|     1      |     1     | 0.08884261382950677 |  2   |\n",
            "|     1      |     21    | 0.07716303732660082 |  3   |\n",
            "|     1      |     39    | 0.07691757877667744 |  4   |\n",
            "|     1      |     5     | 0.07362190551227993 |  5   |\n",
            "|     1      |     14    | 0.06058297554651896 |  6   |\n",
            "|     1      |     13    |  0.0567469596862793 |  7   |\n",
            "|     1      |    141    | 0.05437626110182868 |  8   |\n",
            "|     1      |     11    | 0.05415141913625929 |  9   |\n",
            "|     1      |    298    | 0.05298412839571635 |  10  |\n",
            "|     2      |     2     | 0.12134175300598145 |  1   |\n",
            "|     2      |     5     | 0.11355946063995362 |  2   |\n",
            "|     2      |    114    | 0.10700212717056275 |  3   |\n",
            "|     2      |     1     | 0.09753152132034301 |  4   |\n",
            "|     2      |     13    |  0.0790593147277832 |  5   |\n",
            "|     2      |     12    | 0.07778633832931518 |  6   |\n",
            "|     2      |     21    | 0.07660720348358155 |  7   |\n",
            "|     2      |     19    | 0.07654862403869629 |  8   |\n",
            "|     2      |     46    | 0.07497813701629638 |  9   |\n",
            "|     2      |     20    | 0.07437340021133423 |  10  |\n",
            "+------------+-----------+---------------------+------+\n",
            "[624830 rows x 4 columns]\n",
            "\n"
          ]
        }
      ]
    },
    {
      "cell_type": "code",
      "source": [
        "# these variables will change accordingly\n",
        "name = 'cosine'\n",
        "target = 'purchase_dummy'\n",
        "cos_dummy = model(train_data_dummy, name, user_id, item_id, target, users_to_recommend, n_rec, n_display)"
      ],
      "metadata": {
        "colab": {
          "base_uri": "https://localhost:8080/",
          "height": 1000
        },
        "id": "BaP4cPLzgGOd",
        "outputId": "df17507f-7db5-441e-db02-b8af2b07892c"
      },
      "execution_count": null,
      "outputs": [
        {
          "output_type": "display_data",
          "data": {
            "text/plain": [
              "Warning: Ignoring columns purchase_count;"
            ],
            "text/html": [
              "<pre>Warning: Ignoring columns purchase_count;</pre>"
            ]
          },
          "metadata": {}
        },
        {
          "output_type": "display_data",
          "data": {
            "text/plain": [
              "    To use these columns in scoring predictions, use a model that allows the use of additional features."
            ],
            "text/html": [
              "<pre>    To use these columns in scoring predictions, use a model that allows the use of additional features.</pre>"
            ]
          },
          "metadata": {}
        },
        {
          "output_type": "display_data",
          "data": {
            "text/plain": [
              "Preparing data set."
            ],
            "text/html": [
              "<pre>Preparing data set.</pre>"
            ]
          },
          "metadata": {}
        },
        {
          "output_type": "display_data",
          "data": {
            "text/plain": [
              "    Data has 100188 observations with 22999 users and 300 items."
            ],
            "text/html": [
              "<pre>    Data has 100188 observations with 22999 users and 300 items.</pre>"
            ]
          },
          "metadata": {}
        },
        {
          "output_type": "display_data",
          "data": {
            "text/plain": [
              "    Data prepared in: 0.146803s"
            ],
            "text/html": [
              "<pre>    Data prepared in: 0.146803s</pre>"
            ]
          },
          "metadata": {}
        },
        {
          "output_type": "display_data",
          "data": {
            "text/plain": [
              "Training model from provided data."
            ],
            "text/html": [
              "<pre>Training model from provided data.</pre>"
            ]
          },
          "metadata": {}
        },
        {
          "output_type": "display_data",
          "data": {
            "text/plain": [
              "Gathering per-item and per-user statistics."
            ],
            "text/html": [
              "<pre>Gathering per-item and per-user statistics.</pre>"
            ]
          },
          "metadata": {}
        },
        {
          "output_type": "display_data",
          "data": {
            "text/plain": [
              "+--------------------------------+------------+"
            ],
            "text/html": [
              "<pre>+--------------------------------+------------+</pre>"
            ]
          },
          "metadata": {}
        },
        {
          "output_type": "display_data",
          "data": {
            "text/plain": [
              "| Elapsed Time (Item Statistics) | % Complete |"
            ],
            "text/html": [
              "<pre>| Elapsed Time (Item Statistics) | % Complete |</pre>"
            ]
          },
          "metadata": {}
        },
        {
          "output_type": "display_data",
          "data": {
            "text/plain": [
              "+--------------------------------+------------+"
            ],
            "text/html": [
              "<pre>+--------------------------------+------------+</pre>"
            ]
          },
          "metadata": {}
        },
        {
          "output_type": "display_data",
          "data": {
            "text/plain": [
              "| 1.034ms                        | 4.25       |"
            ],
            "text/html": [
              "<pre>| 1.034ms                        | 4.25       |</pre>"
            ]
          },
          "metadata": {}
        },
        {
          "output_type": "display_data",
          "data": {
            "text/plain": [
              "| 22.229ms                       | 100        |"
            ],
            "text/html": [
              "<pre>| 22.229ms                       | 100        |</pre>"
            ]
          },
          "metadata": {}
        },
        {
          "output_type": "display_data",
          "data": {
            "text/plain": [
              "+--------------------------------+------------+"
            ],
            "text/html": [
              "<pre>+--------------------------------+------------+</pre>"
            ]
          },
          "metadata": {}
        },
        {
          "output_type": "display_data",
          "data": {
            "text/plain": [
              "Setting up lookup tables."
            ],
            "text/html": [
              "<pre>Setting up lookup tables.</pre>"
            ]
          },
          "metadata": {}
        },
        {
          "output_type": "display_data",
          "data": {
            "text/plain": [
              "Processing data in one pass using dense lookup tables."
            ],
            "text/html": [
              "<pre>Processing data in one pass using dense lookup tables.</pre>"
            ]
          },
          "metadata": {}
        },
        {
          "output_type": "display_data",
          "data": {
            "text/plain": [
              "+-------------------------------------+------------------+-----------------+"
            ],
            "text/html": [
              "<pre>+-------------------------------------+------------------+-----------------+</pre>"
            ]
          },
          "metadata": {}
        },
        {
          "output_type": "display_data",
          "data": {
            "text/plain": [
              "| Elapsed Time (Constructing Lookups) | Total % Complete | Items Processed |"
            ],
            "text/html": [
              "<pre>| Elapsed Time (Constructing Lookups) | Total % Complete | Items Processed |</pre>"
            ]
          },
          "metadata": {}
        },
        {
          "output_type": "display_data",
          "data": {
            "text/plain": [
              "+-------------------------------------+------------------+-----------------+"
            ],
            "text/html": [
              "<pre>+-------------------------------------+------------------+-----------------+</pre>"
            ]
          },
          "metadata": {}
        },
        {
          "output_type": "display_data",
          "data": {
            "text/plain": [
              "| 23.041ms                            | 0                | 0               |"
            ],
            "text/html": [
              "<pre>| 23.041ms                            | 0                | 0               |</pre>"
            ]
          },
          "metadata": {}
        },
        {
          "output_type": "display_data",
          "data": {
            "text/plain": [
              "| 75.266ms                            | 100              | 300             |"
            ],
            "text/html": [
              "<pre>| 75.266ms                            | 100              | 300             |</pre>"
            ]
          },
          "metadata": {}
        },
        {
          "output_type": "display_data",
          "data": {
            "text/plain": [
              "+-------------------------------------+------------------+-----------------+"
            ],
            "text/html": [
              "<pre>+-------------------------------------+------------------+-----------------+</pre>"
            ]
          },
          "metadata": {}
        },
        {
          "output_type": "display_data",
          "data": {
            "text/plain": [
              "Finalizing lookup tables."
            ],
            "text/html": [
              "<pre>Finalizing lookup tables.</pre>"
            ]
          },
          "metadata": {}
        },
        {
          "output_type": "display_data",
          "data": {
            "text/plain": [
              "Generating candidate set for working with new users."
            ],
            "text/html": [
              "<pre>Generating candidate set for working with new users.</pre>"
            ]
          },
          "metadata": {}
        },
        {
          "output_type": "display_data",
          "data": {
            "text/plain": [
              "Finished training in 0.107573s"
            ],
            "text/html": [
              "<pre>Finished training in 0.107573s</pre>"
            ]
          },
          "metadata": {}
        },
        {
          "output_type": "display_data",
          "data": {
            "text/plain": [
              "recommendations finished on 1000/62483 queries. users per second: 63832.5"
            ],
            "text/html": [
              "<pre>recommendations finished on 1000/62483 queries. users per second: 63832.5</pre>"
            ]
          },
          "metadata": {}
        },
        {
          "output_type": "display_data",
          "data": {
            "text/plain": [
              "recommendations finished on 2000/62483 queries. users per second: 67177.2"
            ],
            "text/html": [
              "<pre>recommendations finished on 2000/62483 queries. users per second: 67177.2</pre>"
            ]
          },
          "metadata": {}
        },
        {
          "output_type": "display_data",
          "data": {
            "text/plain": [
              "recommendations finished on 3000/62483 queries. users per second: 69178.6"
            ],
            "text/html": [
              "<pre>recommendations finished on 3000/62483 queries. users per second: 69178.6</pre>"
            ]
          },
          "metadata": {}
        },
        {
          "output_type": "display_data",
          "data": {
            "text/plain": [
              "recommendations finished on 4000/62483 queries. users per second: 71414.5"
            ],
            "text/html": [
              "<pre>recommendations finished on 4000/62483 queries. users per second: 71414.5</pre>"
            ]
          },
          "metadata": {}
        },
        {
          "output_type": "display_data",
          "data": {
            "text/plain": [
              "recommendations finished on 5000/62483 queries. users per second: 71109.6"
            ],
            "text/html": [
              "<pre>recommendations finished on 5000/62483 queries. users per second: 71109.6</pre>"
            ]
          },
          "metadata": {}
        },
        {
          "output_type": "display_data",
          "data": {
            "text/plain": [
              "recommendations finished on 6000/62483 queries. users per second: 69913.8"
            ],
            "text/html": [
              "<pre>recommendations finished on 6000/62483 queries. users per second: 69913.8</pre>"
            ]
          },
          "metadata": {}
        },
        {
          "output_type": "display_data",
          "data": {
            "text/plain": [
              "recommendations finished on 7000/62483 queries. users per second: 69022.6"
            ],
            "text/html": [
              "<pre>recommendations finished on 7000/62483 queries. users per second: 69022.6</pre>"
            ]
          },
          "metadata": {}
        },
        {
          "output_type": "display_data",
          "data": {
            "text/plain": [
              "recommendations finished on 8000/62483 queries. users per second: 70613.4"
            ],
            "text/html": [
              "<pre>recommendations finished on 8000/62483 queries. users per second: 70613.4</pre>"
            ]
          },
          "metadata": {}
        },
        {
          "output_type": "display_data",
          "data": {
            "text/plain": [
              "recommendations finished on 9000/62483 queries. users per second: 70603.7"
            ],
            "text/html": [
              "<pre>recommendations finished on 9000/62483 queries. users per second: 70603.7</pre>"
            ]
          },
          "metadata": {}
        },
        {
          "output_type": "display_data",
          "data": {
            "text/plain": [
              "recommendations finished on 10000/62483 queries. users per second: 70896.3"
            ],
            "text/html": [
              "<pre>recommendations finished on 10000/62483 queries. users per second: 70896.3</pre>"
            ]
          },
          "metadata": {}
        },
        {
          "output_type": "display_data",
          "data": {
            "text/plain": [
              "recommendations finished on 11000/62483 queries. users per second: 70717.3"
            ],
            "text/html": [
              "<pre>recommendations finished on 11000/62483 queries. users per second: 70717.3</pre>"
            ]
          },
          "metadata": {}
        },
        {
          "output_type": "display_data",
          "data": {
            "text/plain": [
              "recommendations finished on 12000/62483 queries. users per second: 70555"
            ],
            "text/html": [
              "<pre>recommendations finished on 12000/62483 queries. users per second: 70555</pre>"
            ]
          },
          "metadata": {}
        },
        {
          "output_type": "display_data",
          "data": {
            "text/plain": [
              "recommendations finished on 13000/62483 queries. users per second: 70462.2"
            ],
            "text/html": [
              "<pre>recommendations finished on 13000/62483 queries. users per second: 70462.2</pre>"
            ]
          },
          "metadata": {}
        },
        {
          "output_type": "display_data",
          "data": {
            "text/plain": [
              "recommendations finished on 14000/62483 queries. users per second: 69561.1"
            ],
            "text/html": [
              "<pre>recommendations finished on 14000/62483 queries. users per second: 69561.1</pre>"
            ]
          },
          "metadata": {}
        },
        {
          "output_type": "display_data",
          "data": {
            "text/plain": [
              "recommendations finished on 15000/62483 queries. users per second: 69501.4"
            ],
            "text/html": [
              "<pre>recommendations finished on 15000/62483 queries. users per second: 69501.4</pre>"
            ]
          },
          "metadata": {}
        },
        {
          "output_type": "display_data",
          "data": {
            "text/plain": [
              "recommendations finished on 16000/62483 queries. users per second: 69738"
            ],
            "text/html": [
              "<pre>recommendations finished on 16000/62483 queries. users per second: 69738</pre>"
            ]
          },
          "metadata": {}
        },
        {
          "output_type": "display_data",
          "data": {
            "text/plain": [
              "recommendations finished on 17000/62483 queries. users per second: 68317.3"
            ],
            "text/html": [
              "<pre>recommendations finished on 17000/62483 queries. users per second: 68317.3</pre>"
            ]
          },
          "metadata": {}
        },
        {
          "output_type": "display_data",
          "data": {
            "text/plain": [
              "recommendations finished on 18000/62483 queries. users per second: 68438.2"
            ],
            "text/html": [
              "<pre>recommendations finished on 18000/62483 queries. users per second: 68438.2</pre>"
            ]
          },
          "metadata": {}
        },
        {
          "output_type": "display_data",
          "data": {
            "text/plain": [
              "recommendations finished on 19000/62483 queries. users per second: 68638.9"
            ],
            "text/html": [
              "<pre>recommendations finished on 19000/62483 queries. users per second: 68638.9</pre>"
            ]
          },
          "metadata": {}
        },
        {
          "output_type": "display_data",
          "data": {
            "text/plain": [
              "recommendations finished on 20000/62483 queries. users per second: 68884"
            ],
            "text/html": [
              "<pre>recommendations finished on 20000/62483 queries. users per second: 68884</pre>"
            ]
          },
          "metadata": {}
        },
        {
          "output_type": "display_data",
          "data": {
            "text/plain": [
              "recommendations finished on 21000/62483 queries. users per second: 69293.7"
            ],
            "text/html": [
              "<pre>recommendations finished on 21000/62483 queries. users per second: 69293.7</pre>"
            ]
          },
          "metadata": {}
        },
        {
          "output_type": "display_data",
          "data": {
            "text/plain": [
              "recommendations finished on 22000/62483 queries. users per second: 69314.9"
            ],
            "text/html": [
              "<pre>recommendations finished on 22000/62483 queries. users per second: 69314.9</pre>"
            ]
          },
          "metadata": {}
        },
        {
          "output_type": "display_data",
          "data": {
            "text/plain": [
              "recommendations finished on 23000/62483 queries. users per second: 69234.8"
            ],
            "text/html": [
              "<pre>recommendations finished on 23000/62483 queries. users per second: 69234.8</pre>"
            ]
          },
          "metadata": {}
        },
        {
          "output_type": "display_data",
          "data": {
            "text/plain": [
              "recommendations finished on 24000/62483 queries. users per second: 69326.1"
            ],
            "text/html": [
              "<pre>recommendations finished on 24000/62483 queries. users per second: 69326.1</pre>"
            ]
          },
          "metadata": {}
        },
        {
          "output_type": "display_data",
          "data": {
            "text/plain": [
              "recommendations finished on 25000/62483 queries. users per second: 69451.2"
            ],
            "text/html": [
              "<pre>recommendations finished on 25000/62483 queries. users per second: 69451.2</pre>"
            ]
          },
          "metadata": {}
        },
        {
          "output_type": "display_data",
          "data": {
            "text/plain": [
              "recommendations finished on 26000/62483 queries. users per second: 69329.8"
            ],
            "text/html": [
              "<pre>recommendations finished on 26000/62483 queries. users per second: 69329.8</pre>"
            ]
          },
          "metadata": {}
        },
        {
          "output_type": "display_data",
          "data": {
            "text/plain": [
              "recommendations finished on 27000/62483 queries. users per second: 69286.7"
            ],
            "text/html": [
              "<pre>recommendations finished on 27000/62483 queries. users per second: 69286.7</pre>"
            ]
          },
          "metadata": {}
        },
        {
          "output_type": "display_data",
          "data": {
            "text/plain": [
              "recommendations finished on 28000/62483 queries. users per second: 69030"
            ],
            "text/html": [
              "<pre>recommendations finished on 28000/62483 queries. users per second: 69030</pre>"
            ]
          },
          "metadata": {}
        },
        {
          "output_type": "display_data",
          "data": {
            "text/plain": [
              "recommendations finished on 29000/62483 queries. users per second: 69145.4"
            ],
            "text/html": [
              "<pre>recommendations finished on 29000/62483 queries. users per second: 69145.4</pre>"
            ]
          },
          "metadata": {}
        },
        {
          "output_type": "display_data",
          "data": {
            "text/plain": [
              "recommendations finished on 30000/62483 queries. users per second: 69193.8"
            ],
            "text/html": [
              "<pre>recommendations finished on 30000/62483 queries. users per second: 69193.8</pre>"
            ]
          },
          "metadata": {}
        },
        {
          "output_type": "display_data",
          "data": {
            "text/plain": [
              "recommendations finished on 31000/62483 queries. users per second: 69357.9"
            ],
            "text/html": [
              "<pre>recommendations finished on 31000/62483 queries. users per second: 69357.9</pre>"
            ]
          },
          "metadata": {}
        },
        {
          "output_type": "display_data",
          "data": {
            "text/plain": [
              "recommendations finished on 32000/62483 queries. users per second: 69380"
            ],
            "text/html": [
              "<pre>recommendations finished on 32000/62483 queries. users per second: 69380</pre>"
            ]
          },
          "metadata": {}
        },
        {
          "output_type": "display_data",
          "data": {
            "text/plain": [
              "recommendations finished on 33000/62483 queries. users per second: 69602.3"
            ],
            "text/html": [
              "<pre>recommendations finished on 33000/62483 queries. users per second: 69602.3</pre>"
            ]
          },
          "metadata": {}
        },
        {
          "output_type": "display_data",
          "data": {
            "text/plain": [
              "recommendations finished on 34000/62483 queries. users per second: 69558.8"
            ],
            "text/html": [
              "<pre>recommendations finished on 34000/62483 queries. users per second: 69558.8</pre>"
            ]
          },
          "metadata": {}
        },
        {
          "output_type": "display_data",
          "data": {
            "text/plain": [
              "recommendations finished on 35000/62483 queries. users per second: 68351.5"
            ],
            "text/html": [
              "<pre>recommendations finished on 35000/62483 queries. users per second: 68351.5</pre>"
            ]
          },
          "metadata": {}
        },
        {
          "output_type": "display_data",
          "data": {
            "text/plain": [
              "recommendations finished on 36000/62483 queries. users per second: 67351.8"
            ],
            "text/html": [
              "<pre>recommendations finished on 36000/62483 queries. users per second: 67351.8</pre>"
            ]
          },
          "metadata": {}
        },
        {
          "output_type": "display_data",
          "data": {
            "text/plain": [
              "recommendations finished on 37000/62483 queries. users per second: 67522.1"
            ],
            "text/html": [
              "<pre>recommendations finished on 37000/62483 queries. users per second: 67522.1</pre>"
            ]
          },
          "metadata": {}
        },
        {
          "output_type": "display_data",
          "data": {
            "text/plain": [
              "recommendations finished on 38000/62483 queries. users per second: 67462.2"
            ],
            "text/html": [
              "<pre>recommendations finished on 38000/62483 queries. users per second: 67462.2</pre>"
            ]
          },
          "metadata": {}
        },
        {
          "output_type": "display_data",
          "data": {
            "text/plain": [
              "recommendations finished on 39000/62483 queries. users per second: 67138.9"
            ],
            "text/html": [
              "<pre>recommendations finished on 39000/62483 queries. users per second: 67138.9</pre>"
            ]
          },
          "metadata": {}
        },
        {
          "output_type": "display_data",
          "data": {
            "text/plain": [
              "recommendations finished on 40000/62483 queries. users per second: 66632.5"
            ],
            "text/html": [
              "<pre>recommendations finished on 40000/62483 queries. users per second: 66632.5</pre>"
            ]
          },
          "metadata": {}
        },
        {
          "output_type": "display_data",
          "data": {
            "text/plain": [
              "recommendations finished on 41000/62483 queries. users per second: 66637.7"
            ],
            "text/html": [
              "<pre>recommendations finished on 41000/62483 queries. users per second: 66637.7</pre>"
            ]
          },
          "metadata": {}
        },
        {
          "output_type": "display_data",
          "data": {
            "text/plain": [
              "recommendations finished on 42000/62483 queries. users per second: 66877.2"
            ],
            "text/html": [
              "<pre>recommendations finished on 42000/62483 queries. users per second: 66877.2</pre>"
            ]
          },
          "metadata": {}
        },
        {
          "output_type": "display_data",
          "data": {
            "text/plain": [
              "recommendations finished on 43000/62483 queries. users per second: 66569"
            ],
            "text/html": [
              "<pre>recommendations finished on 43000/62483 queries. users per second: 66569</pre>"
            ]
          },
          "metadata": {}
        },
        {
          "output_type": "display_data",
          "data": {
            "text/plain": [
              "recommendations finished on 44000/62483 queries. users per second: 66489.1"
            ],
            "text/html": [
              "<pre>recommendations finished on 44000/62483 queries. users per second: 66489.1</pre>"
            ]
          },
          "metadata": {}
        },
        {
          "output_type": "display_data",
          "data": {
            "text/plain": [
              "recommendations finished on 45000/62483 queries. users per second: 66595.8"
            ],
            "text/html": [
              "<pre>recommendations finished on 45000/62483 queries. users per second: 66595.8</pre>"
            ]
          },
          "metadata": {}
        },
        {
          "output_type": "display_data",
          "data": {
            "text/plain": [
              "recommendations finished on 46000/62483 queries. users per second: 66588.2"
            ],
            "text/html": [
              "<pre>recommendations finished on 46000/62483 queries. users per second: 66588.2</pre>"
            ]
          },
          "metadata": {}
        },
        {
          "output_type": "display_data",
          "data": {
            "text/plain": [
              "recommendations finished on 47000/62483 queries. users per second: 66811.8"
            ],
            "text/html": [
              "<pre>recommendations finished on 47000/62483 queries. users per second: 66811.8</pre>"
            ]
          },
          "metadata": {}
        },
        {
          "output_type": "display_data",
          "data": {
            "text/plain": [
              "recommendations finished on 48000/62483 queries. users per second: 66790.6"
            ],
            "text/html": [
              "<pre>recommendations finished on 48000/62483 queries. users per second: 66790.6</pre>"
            ]
          },
          "metadata": {}
        },
        {
          "output_type": "display_data",
          "data": {
            "text/plain": [
              "recommendations finished on 49000/62483 queries. users per second: 66874.3"
            ],
            "text/html": [
              "<pre>recommendations finished on 49000/62483 queries. users per second: 66874.3</pre>"
            ]
          },
          "metadata": {}
        },
        {
          "output_type": "display_data",
          "data": {
            "text/plain": [
              "recommendations finished on 50000/62483 queries. users per second: 66644.8"
            ],
            "text/html": [
              "<pre>recommendations finished on 50000/62483 queries. users per second: 66644.8</pre>"
            ]
          },
          "metadata": {}
        },
        {
          "output_type": "display_data",
          "data": {
            "text/plain": [
              "recommendations finished on 51000/62483 queries. users per second: 66700.8"
            ],
            "text/html": [
              "<pre>recommendations finished on 51000/62483 queries. users per second: 66700.8</pre>"
            ]
          },
          "metadata": {}
        },
        {
          "output_type": "display_data",
          "data": {
            "text/plain": [
              "recommendations finished on 52000/62483 queries. users per second: 66727.9"
            ],
            "text/html": [
              "<pre>recommendations finished on 52000/62483 queries. users per second: 66727.9</pre>"
            ]
          },
          "metadata": {}
        },
        {
          "output_type": "display_data",
          "data": {
            "text/plain": [
              "recommendations finished on 53000/62483 queries. users per second: 66723.4"
            ],
            "text/html": [
              "<pre>recommendations finished on 53000/62483 queries. users per second: 66723.4</pre>"
            ]
          },
          "metadata": {}
        },
        {
          "output_type": "display_data",
          "data": {
            "text/plain": [
              "recommendations finished on 54000/62483 queries. users per second: 66653.6"
            ],
            "text/html": [
              "<pre>recommendations finished on 54000/62483 queries. users per second: 66653.6</pre>"
            ]
          },
          "metadata": {}
        },
        {
          "output_type": "display_data",
          "data": {
            "text/plain": [
              "recommendations finished on 55000/62483 queries. users per second: 66620.4"
            ],
            "text/html": [
              "<pre>recommendations finished on 55000/62483 queries. users per second: 66620.4</pre>"
            ]
          },
          "metadata": {}
        },
        {
          "output_type": "display_data",
          "data": {
            "text/plain": [
              "recommendations finished on 56000/62483 queries. users per second: 66804.3"
            ],
            "text/html": [
              "<pre>recommendations finished on 56000/62483 queries. users per second: 66804.3</pre>"
            ]
          },
          "metadata": {}
        },
        {
          "output_type": "display_data",
          "data": {
            "text/plain": [
              "recommendations finished on 57000/62483 queries. users per second: 66913"
            ],
            "text/html": [
              "<pre>recommendations finished on 57000/62483 queries. users per second: 66913</pre>"
            ]
          },
          "metadata": {}
        },
        {
          "output_type": "display_data",
          "data": {
            "text/plain": [
              "recommendations finished on 58000/62483 queries. users per second: 67057.1"
            ],
            "text/html": [
              "<pre>recommendations finished on 58000/62483 queries. users per second: 67057.1</pre>"
            ]
          },
          "metadata": {}
        },
        {
          "output_type": "display_data",
          "data": {
            "text/plain": [
              "recommendations finished on 59000/62483 queries. users per second: 66965.9"
            ],
            "text/html": [
              "<pre>recommendations finished on 59000/62483 queries. users per second: 66965.9</pre>"
            ]
          },
          "metadata": {}
        },
        {
          "output_type": "display_data",
          "data": {
            "text/plain": [
              "recommendations finished on 60000/62483 queries. users per second: 66917.5"
            ],
            "text/html": [
              "<pre>recommendations finished on 60000/62483 queries. users per second: 66917.5</pre>"
            ]
          },
          "metadata": {}
        },
        {
          "output_type": "display_data",
          "data": {
            "text/plain": [
              "recommendations finished on 61000/62483 queries. users per second: 66789.7"
            ],
            "text/html": [
              "<pre>recommendations finished on 61000/62483 queries. users per second: 66789.7</pre>"
            ]
          },
          "metadata": {}
        },
        {
          "output_type": "display_data",
          "data": {
            "text/plain": [
              "recommendations finished on 62000/62483 queries. users per second: 66599.8"
            ],
            "text/html": [
              "<pre>recommendations finished on 62000/62483 queries. users per second: 66599.8</pre>"
            ]
          },
          "metadata": {}
        },
        {
          "output_type": "stream",
          "name": "stdout",
          "text": [
            "+------------+-----------+----------------------+------+\n",
            "| customerId | productId |        score         | rank |\n",
            "+------------+-----------+----------------------+------+\n",
            "|     0      |     2     | 0.06778916716575623  |  1   |\n",
            "|     0      |     21    | 0.057318496704101565 |  2   |\n",
            "|     0      |     14    | 0.05400232672691345  |  3   |\n",
            "|     0      |     44    | 0.046806931495666504 |  4   |\n",
            "|     0      |     4     | 0.04553281664848328  |  5   |\n",
            "|     0      |     5     | 0.04395653605461121  |  6   |\n",
            "|     0      |     16    | 0.043809282779693606 |  7   |\n",
            "|     0      |     63    | 0.043410366773605345 |  8   |\n",
            "|     0      |     24    |  0.0429409921169281  |  9   |\n",
            "|     0      |     43    | 0.042276835441589354 |  10  |\n",
            "|     1      |     11    | 0.08533799275755882  |  1   |\n",
            "|     1      |     1     | 0.06907200440764427  |  2   |\n",
            "|     1      |     14    | 0.051421333104372025 |  3   |\n",
            "|     1      |     21    | 0.045379675924777985 |  4   |\n",
            "|     1      |     5     | 0.04506959021091461  |  5   |\n",
            "|     1      |     17    | 0.04416487738490105  |  6   |\n",
            "|     1      |     20    | 0.04169199988245964  |  7   |\n",
            "|     1      |     13    | 0.04046719893813133  |  8   |\n",
            "|     1      |     16    | 0.036292389035224915 |  9   |\n",
            "|     1      |     33    | 0.03524460643529892  |  10  |\n",
            "|     2      |     2     | 0.06802845001220703  |  1   |\n",
            "|     2      |     1     | 0.06498774290084838  |  2   |\n",
            "|     2      |     17    | 0.06082106828689575  |  3   |\n",
            "|     2      |     14    | 0.05739462375640869  |  4   |\n",
            "|     2      |    114    | 0.05619581937789917  |  5   |\n",
            "|     2      |     46    |  0.0548021674156189  |  6   |\n",
            "|     2      |     47    | 0.051080751419067386 |  7   |\n",
            "|     2      |     16    | 0.04841773509979248  |  8   |\n",
            "|     2      |     5     | 0.047688770294189456 |  9   |\n",
            "|     2      |     0     | 0.047077083587646486 |  10  |\n",
            "+------------+-----------+----------------------+------+\n",
            "[624830 rows x 4 columns]\n",
            "\n"
          ]
        }
      ]
    },
    {
      "cell_type": "code",
      "source": [
        "# Using normalized purchase count\n",
        "name = 'cosine'\n",
        "target = 'scaled_purchase_freq'\n",
        "cos_norm = model(train_data_norm, name, user_id, item_id, target, users_to_recommend, n_rec, n_display)"
      ],
      "metadata": {
        "colab": {
          "base_uri": "https://localhost:8080/",
          "height": 1000
        },
        "id": "j7dXOFCcgKCY",
        "outputId": "cf4ee05d-2af0-4ba6-d1fc-8db80044cde7"
      },
      "execution_count": null,
      "outputs": [
        {
          "output_type": "display_data",
          "data": {
            "text/plain": [
              "Preparing data set."
            ],
            "text/html": [
              "<pre>Preparing data set.</pre>"
            ]
          },
          "metadata": {}
        },
        {
          "output_type": "display_data",
          "data": {
            "text/plain": [
              "    Data has 100188 observations with 22877 users and 300 items."
            ],
            "text/html": [
              "<pre>    Data has 100188 observations with 22877 users and 300 items.</pre>"
            ]
          },
          "metadata": {}
        },
        {
          "output_type": "display_data",
          "data": {
            "text/plain": [
              "    Data prepared in: 0.134419s"
            ],
            "text/html": [
              "<pre>    Data prepared in: 0.134419s</pre>"
            ]
          },
          "metadata": {}
        },
        {
          "output_type": "display_data",
          "data": {
            "text/plain": [
              "Training model from provided data."
            ],
            "text/html": [
              "<pre>Training model from provided data.</pre>"
            ]
          },
          "metadata": {}
        },
        {
          "output_type": "display_data",
          "data": {
            "text/plain": [
              "Gathering per-item and per-user statistics."
            ],
            "text/html": [
              "<pre>Gathering per-item and per-user statistics.</pre>"
            ]
          },
          "metadata": {}
        },
        {
          "output_type": "display_data",
          "data": {
            "text/plain": [
              "+--------------------------------+------------+"
            ],
            "text/html": [
              "<pre>+--------------------------------+------------+</pre>"
            ]
          },
          "metadata": {}
        },
        {
          "output_type": "display_data",
          "data": {
            "text/plain": [
              "| Elapsed Time (Item Statistics) | % Complete |"
            ],
            "text/html": [
              "<pre>| Elapsed Time (Item Statistics) | % Complete |</pre>"
            ]
          },
          "metadata": {}
        },
        {
          "output_type": "display_data",
          "data": {
            "text/plain": [
              "+--------------------------------+------------+"
            ],
            "text/html": [
              "<pre>+--------------------------------+------------+</pre>"
            ]
          },
          "metadata": {}
        },
        {
          "output_type": "display_data",
          "data": {
            "text/plain": [
              "| 961us                          | 4.25       |"
            ],
            "text/html": [
              "<pre>| 961us                          | 4.25       |</pre>"
            ]
          },
          "metadata": {}
        },
        {
          "output_type": "display_data",
          "data": {
            "text/plain": [
              "| 14.808ms                       | 100        |"
            ],
            "text/html": [
              "<pre>| 14.808ms                       | 100        |</pre>"
            ]
          },
          "metadata": {}
        },
        {
          "output_type": "display_data",
          "data": {
            "text/plain": [
              "+--------------------------------+------------+"
            ],
            "text/html": [
              "<pre>+--------------------------------+------------+</pre>"
            ]
          },
          "metadata": {}
        },
        {
          "output_type": "display_data",
          "data": {
            "text/plain": [
              "Setting up lookup tables."
            ],
            "text/html": [
              "<pre>Setting up lookup tables.</pre>"
            ]
          },
          "metadata": {}
        },
        {
          "output_type": "display_data",
          "data": {
            "text/plain": [
              "Processing data in one pass using dense lookup tables."
            ],
            "text/html": [
              "<pre>Processing data in one pass using dense lookup tables.</pre>"
            ]
          },
          "metadata": {}
        },
        {
          "output_type": "display_data",
          "data": {
            "text/plain": [
              "+-------------------------------------+------------------+-----------------+"
            ],
            "text/html": [
              "<pre>+-------------------------------------+------------------+-----------------+</pre>"
            ]
          },
          "metadata": {}
        },
        {
          "output_type": "display_data",
          "data": {
            "text/plain": [
              "| Elapsed Time (Constructing Lookups) | Total % Complete | Items Processed |"
            ],
            "text/html": [
              "<pre>| Elapsed Time (Constructing Lookups) | Total % Complete | Items Processed |</pre>"
            ]
          },
          "metadata": {}
        },
        {
          "output_type": "display_data",
          "data": {
            "text/plain": [
              "+-------------------------------------+------------------+-----------------+"
            ],
            "text/html": [
              "<pre>+-------------------------------------+------------------+-----------------+</pre>"
            ]
          },
          "metadata": {}
        },
        {
          "output_type": "display_data",
          "data": {
            "text/plain": [
              "| 15.383ms                            | 0                | 0               |"
            ],
            "text/html": [
              "<pre>| 15.383ms                            | 0                | 0               |</pre>"
            ]
          },
          "metadata": {}
        },
        {
          "output_type": "display_data",
          "data": {
            "text/plain": [
              "| 50.924ms                            | 100              | 300             |"
            ],
            "text/html": [
              "<pre>| 50.924ms                            | 100              | 300             |</pre>"
            ]
          },
          "metadata": {}
        },
        {
          "output_type": "display_data",
          "data": {
            "text/plain": [
              "+-------------------------------------+------------------+-----------------+"
            ],
            "text/html": [
              "<pre>+-------------------------------------+------------------+-----------------+</pre>"
            ]
          },
          "metadata": {}
        },
        {
          "output_type": "display_data",
          "data": {
            "text/plain": [
              "Finalizing lookup tables."
            ],
            "text/html": [
              "<pre>Finalizing lookup tables.</pre>"
            ]
          },
          "metadata": {}
        },
        {
          "output_type": "display_data",
          "data": {
            "text/plain": [
              "Generating candidate set for working with new users."
            ],
            "text/html": [
              "<pre>Generating candidate set for working with new users.</pre>"
            ]
          },
          "metadata": {}
        },
        {
          "output_type": "display_data",
          "data": {
            "text/plain": [
              "Finished training in 0.078657s"
            ],
            "text/html": [
              "<pre>Finished training in 0.078657s</pre>"
            ]
          },
          "metadata": {}
        },
        {
          "output_type": "display_data",
          "data": {
            "text/plain": [
              "recommendations finished on 1000/62483 queries. users per second: 67622.4"
            ],
            "text/html": [
              "<pre>recommendations finished on 1000/62483 queries. users per second: 67622.4</pre>"
            ]
          },
          "metadata": {}
        },
        {
          "output_type": "display_data",
          "data": {
            "text/plain": [
              "recommendations finished on 2000/62483 queries. users per second: 69087"
            ],
            "text/html": [
              "<pre>recommendations finished on 2000/62483 queries. users per second: 69087</pre>"
            ]
          },
          "metadata": {}
        },
        {
          "output_type": "display_data",
          "data": {
            "text/plain": [
              "recommendations finished on 3000/62483 queries. users per second: 71002.6"
            ],
            "text/html": [
              "<pre>recommendations finished on 3000/62483 queries. users per second: 71002.6</pre>"
            ]
          },
          "metadata": {}
        },
        {
          "output_type": "display_data",
          "data": {
            "text/plain": [
              "recommendations finished on 4000/62483 queries. users per second: 71154.1"
            ],
            "text/html": [
              "<pre>recommendations finished on 4000/62483 queries. users per second: 71154.1</pre>"
            ]
          },
          "metadata": {}
        },
        {
          "output_type": "display_data",
          "data": {
            "text/plain": [
              "recommendations finished on 5000/62483 queries. users per second: 71562.5"
            ],
            "text/html": [
              "<pre>recommendations finished on 5000/62483 queries. users per second: 71562.5</pre>"
            ]
          },
          "metadata": {}
        },
        {
          "output_type": "display_data",
          "data": {
            "text/plain": [
              "recommendations finished on 6000/62483 queries. users per second: 72329.2"
            ],
            "text/html": [
              "<pre>recommendations finished on 6000/62483 queries. users per second: 72329.2</pre>"
            ]
          },
          "metadata": {}
        },
        {
          "output_type": "display_data",
          "data": {
            "text/plain": [
              "recommendations finished on 7000/62483 queries. users per second: 72246.9"
            ],
            "text/html": [
              "<pre>recommendations finished on 7000/62483 queries. users per second: 72246.9</pre>"
            ]
          },
          "metadata": {}
        },
        {
          "output_type": "display_data",
          "data": {
            "text/plain": [
              "recommendations finished on 8000/62483 queries. users per second: 72755.1"
            ],
            "text/html": [
              "<pre>recommendations finished on 8000/62483 queries. users per second: 72755.1</pre>"
            ]
          },
          "metadata": {}
        },
        {
          "output_type": "display_data",
          "data": {
            "text/plain": [
              "recommendations finished on 9000/62483 queries. users per second: 72357.7"
            ],
            "text/html": [
              "<pre>recommendations finished on 9000/62483 queries. users per second: 72357.7</pre>"
            ]
          },
          "metadata": {}
        },
        {
          "output_type": "display_data",
          "data": {
            "text/plain": [
              "recommendations finished on 10000/62483 queries. users per second: 71621.4"
            ],
            "text/html": [
              "<pre>recommendations finished on 10000/62483 queries. users per second: 71621.4</pre>"
            ]
          },
          "metadata": {}
        },
        {
          "output_type": "display_data",
          "data": {
            "text/plain": [
              "recommendations finished on 11000/62483 queries. users per second: 71467.1"
            ],
            "text/html": [
              "<pre>recommendations finished on 11000/62483 queries. users per second: 71467.1</pre>"
            ]
          },
          "metadata": {}
        },
        {
          "output_type": "display_data",
          "data": {
            "text/plain": [
              "recommendations finished on 12000/62483 queries. users per second: 71056.4"
            ],
            "text/html": [
              "<pre>recommendations finished on 12000/62483 queries. users per second: 71056.4</pre>"
            ]
          },
          "metadata": {}
        },
        {
          "output_type": "display_data",
          "data": {
            "text/plain": [
              "recommendations finished on 13000/62483 queries. users per second: 68989.7"
            ],
            "text/html": [
              "<pre>recommendations finished on 13000/62483 queries. users per second: 68989.7</pre>"
            ]
          },
          "metadata": {}
        },
        {
          "output_type": "display_data",
          "data": {
            "text/plain": [
              "recommendations finished on 14000/62483 queries. users per second: 69958.4"
            ],
            "text/html": [
              "<pre>recommendations finished on 14000/62483 queries. users per second: 69958.4</pre>"
            ]
          },
          "metadata": {}
        },
        {
          "output_type": "display_data",
          "data": {
            "text/plain": [
              "recommendations finished on 15000/62483 queries. users per second: 69349.1"
            ],
            "text/html": [
              "<pre>recommendations finished on 15000/62483 queries. users per second: 69349.1</pre>"
            ]
          },
          "metadata": {}
        },
        {
          "output_type": "display_data",
          "data": {
            "text/plain": [
              "recommendations finished on 16000/62483 queries. users per second: 69400.8"
            ],
            "text/html": [
              "<pre>recommendations finished on 16000/62483 queries. users per second: 69400.8</pre>"
            ]
          },
          "metadata": {}
        },
        {
          "output_type": "display_data",
          "data": {
            "text/plain": [
              "recommendations finished on 17000/62483 queries. users per second: 69485.3"
            ],
            "text/html": [
              "<pre>recommendations finished on 17000/62483 queries. users per second: 69485.3</pre>"
            ]
          },
          "metadata": {}
        },
        {
          "output_type": "display_data",
          "data": {
            "text/plain": [
              "recommendations finished on 18000/62483 queries. users per second: 70132.8"
            ],
            "text/html": [
              "<pre>recommendations finished on 18000/62483 queries. users per second: 70132.8</pre>"
            ]
          },
          "metadata": {}
        },
        {
          "output_type": "display_data",
          "data": {
            "text/plain": [
              "recommendations finished on 19000/62483 queries. users per second: 69806.2"
            ],
            "text/html": [
              "<pre>recommendations finished on 19000/62483 queries. users per second: 69806.2</pre>"
            ]
          },
          "metadata": {}
        },
        {
          "output_type": "display_data",
          "data": {
            "text/plain": [
              "recommendations finished on 20000/62483 queries. users per second: 69403.7"
            ],
            "text/html": [
              "<pre>recommendations finished on 20000/62483 queries. users per second: 69403.7</pre>"
            ]
          },
          "metadata": {}
        },
        {
          "output_type": "display_data",
          "data": {
            "text/plain": [
              "recommendations finished on 21000/62483 queries. users per second: 69513.4"
            ],
            "text/html": [
              "<pre>recommendations finished on 21000/62483 queries. users per second: 69513.4</pre>"
            ]
          },
          "metadata": {}
        },
        {
          "output_type": "display_data",
          "data": {
            "text/plain": [
              "recommendations finished on 22000/62483 queries. users per second: 70023.3"
            ],
            "text/html": [
              "<pre>recommendations finished on 22000/62483 queries. users per second: 70023.3</pre>"
            ]
          },
          "metadata": {}
        },
        {
          "output_type": "display_data",
          "data": {
            "text/plain": [
              "recommendations finished on 23000/62483 queries. users per second: 70027.6"
            ],
            "text/html": [
              "<pre>recommendations finished on 23000/62483 queries. users per second: 70027.6</pre>"
            ]
          },
          "metadata": {}
        },
        {
          "output_type": "display_data",
          "data": {
            "text/plain": [
              "recommendations finished on 24000/62483 queries. users per second: 69958"
            ],
            "text/html": [
              "<pre>recommendations finished on 24000/62483 queries. users per second: 69958</pre>"
            ]
          },
          "metadata": {}
        },
        {
          "output_type": "display_data",
          "data": {
            "text/plain": [
              "recommendations finished on 25000/62483 queries. users per second: 69864.2"
            ],
            "text/html": [
              "<pre>recommendations finished on 25000/62483 queries. users per second: 69864.2</pre>"
            ]
          },
          "metadata": {}
        },
        {
          "output_type": "display_data",
          "data": {
            "text/plain": [
              "recommendations finished on 26000/62483 queries. users per second: 69446.3"
            ],
            "text/html": [
              "<pre>recommendations finished on 26000/62483 queries. users per second: 69446.3</pre>"
            ]
          },
          "metadata": {}
        },
        {
          "output_type": "display_data",
          "data": {
            "text/plain": [
              "recommendations finished on 27000/62483 queries. users per second: 69539.8"
            ],
            "text/html": [
              "<pre>recommendations finished on 27000/62483 queries. users per second: 69539.8</pre>"
            ]
          },
          "metadata": {}
        },
        {
          "output_type": "display_data",
          "data": {
            "text/plain": [
              "recommendations finished on 28000/62483 queries. users per second: 69987.9"
            ],
            "text/html": [
              "<pre>recommendations finished on 28000/62483 queries. users per second: 69987.9</pre>"
            ]
          },
          "metadata": {}
        },
        {
          "output_type": "display_data",
          "data": {
            "text/plain": [
              "recommendations finished on 29000/62483 queries. users per second: 69464.7"
            ],
            "text/html": [
              "<pre>recommendations finished on 29000/62483 queries. users per second: 69464.7</pre>"
            ]
          },
          "metadata": {}
        },
        {
          "output_type": "display_data",
          "data": {
            "text/plain": [
              "recommendations finished on 30000/62483 queries. users per second: 69328.4"
            ],
            "text/html": [
              "<pre>recommendations finished on 30000/62483 queries. users per second: 69328.4</pre>"
            ]
          },
          "metadata": {}
        },
        {
          "output_type": "display_data",
          "data": {
            "text/plain": [
              "recommendations finished on 31000/62483 queries. users per second: 68879.2"
            ],
            "text/html": [
              "<pre>recommendations finished on 31000/62483 queries. users per second: 68879.2</pre>"
            ]
          },
          "metadata": {}
        },
        {
          "output_type": "display_data",
          "data": {
            "text/plain": [
              "recommendations finished on 32000/62483 queries. users per second: 69134.5"
            ],
            "text/html": [
              "<pre>recommendations finished on 32000/62483 queries. users per second: 69134.5</pre>"
            ]
          },
          "metadata": {}
        },
        {
          "output_type": "display_data",
          "data": {
            "text/plain": [
              "recommendations finished on 33000/62483 queries. users per second: 69072.5"
            ],
            "text/html": [
              "<pre>recommendations finished on 33000/62483 queries. users per second: 69072.5</pre>"
            ]
          },
          "metadata": {}
        },
        {
          "output_type": "display_data",
          "data": {
            "text/plain": [
              "recommendations finished on 34000/62483 queries. users per second: 69021.2"
            ],
            "text/html": [
              "<pre>recommendations finished on 34000/62483 queries. users per second: 69021.2</pre>"
            ]
          },
          "metadata": {}
        },
        {
          "output_type": "display_data",
          "data": {
            "text/plain": [
              "recommendations finished on 35000/62483 queries. users per second: 68932.6"
            ],
            "text/html": [
              "<pre>recommendations finished on 35000/62483 queries. users per second: 68932.6</pre>"
            ]
          },
          "metadata": {}
        },
        {
          "output_type": "display_data",
          "data": {
            "text/plain": [
              "recommendations finished on 36000/62483 queries. users per second: 69165.6"
            ],
            "text/html": [
              "<pre>recommendations finished on 36000/62483 queries. users per second: 69165.6</pre>"
            ]
          },
          "metadata": {}
        },
        {
          "output_type": "display_data",
          "data": {
            "text/plain": [
              "recommendations finished on 37000/62483 queries. users per second: 68883.9"
            ],
            "text/html": [
              "<pre>recommendations finished on 37000/62483 queries. users per second: 68883.9</pre>"
            ]
          },
          "metadata": {}
        },
        {
          "output_type": "display_data",
          "data": {
            "text/plain": [
              "recommendations finished on 38000/62483 queries. users per second: 69028.5"
            ],
            "text/html": [
              "<pre>recommendations finished on 38000/62483 queries. users per second: 69028.5</pre>"
            ]
          },
          "metadata": {}
        },
        {
          "output_type": "display_data",
          "data": {
            "text/plain": [
              "recommendations finished on 39000/62483 queries. users per second: 68861.4"
            ],
            "text/html": [
              "<pre>recommendations finished on 39000/62483 queries. users per second: 68861.4</pre>"
            ]
          },
          "metadata": {}
        },
        {
          "output_type": "display_data",
          "data": {
            "text/plain": [
              "recommendations finished on 40000/62483 queries. users per second: 68623.5"
            ],
            "text/html": [
              "<pre>recommendations finished on 40000/62483 queries. users per second: 68623.5</pre>"
            ]
          },
          "metadata": {}
        },
        {
          "output_type": "display_data",
          "data": {
            "text/plain": [
              "recommendations finished on 41000/62483 queries. users per second: 68615.6"
            ],
            "text/html": [
              "<pre>recommendations finished on 41000/62483 queries. users per second: 68615.6</pre>"
            ]
          },
          "metadata": {}
        },
        {
          "output_type": "display_data",
          "data": {
            "text/plain": [
              "recommendations finished on 42000/62483 queries. users per second: 68597.5"
            ],
            "text/html": [
              "<pre>recommendations finished on 42000/62483 queries. users per second: 68597.5</pre>"
            ]
          },
          "metadata": {}
        },
        {
          "output_type": "display_data",
          "data": {
            "text/plain": [
              "recommendations finished on 43000/62483 queries. users per second: 68242.5"
            ],
            "text/html": [
              "<pre>recommendations finished on 43000/62483 queries. users per second: 68242.5</pre>"
            ]
          },
          "metadata": {}
        },
        {
          "output_type": "display_data",
          "data": {
            "text/plain": [
              "recommendations finished on 44000/62483 queries. users per second: 68303.3"
            ],
            "text/html": [
              "<pre>recommendations finished on 44000/62483 queries. users per second: 68303.3</pre>"
            ]
          },
          "metadata": {}
        },
        {
          "output_type": "display_data",
          "data": {
            "text/plain": [
              "recommendations finished on 45000/62483 queries. users per second: 68168.1"
            ],
            "text/html": [
              "<pre>recommendations finished on 45000/62483 queries. users per second: 68168.1</pre>"
            ]
          },
          "metadata": {}
        },
        {
          "output_type": "display_data",
          "data": {
            "text/plain": [
              "recommendations finished on 46000/62483 queries. users per second: 67753"
            ],
            "text/html": [
              "<pre>recommendations finished on 46000/62483 queries. users per second: 67753</pre>"
            ]
          },
          "metadata": {}
        },
        {
          "output_type": "display_data",
          "data": {
            "text/plain": [
              "recommendations finished on 47000/62483 queries. users per second: 67200.6"
            ],
            "text/html": [
              "<pre>recommendations finished on 47000/62483 queries. users per second: 67200.6</pre>"
            ]
          },
          "metadata": {}
        },
        {
          "output_type": "display_data",
          "data": {
            "text/plain": [
              "recommendations finished on 48000/62483 queries. users per second: 66637.1"
            ],
            "text/html": [
              "<pre>recommendations finished on 48000/62483 queries. users per second: 66637.1</pre>"
            ]
          },
          "metadata": {}
        },
        {
          "output_type": "display_data",
          "data": {
            "text/plain": [
              "recommendations finished on 49000/62483 queries. users per second: 66117.2"
            ],
            "text/html": [
              "<pre>recommendations finished on 49000/62483 queries. users per second: 66117.2</pre>"
            ]
          },
          "metadata": {}
        },
        {
          "output_type": "display_data",
          "data": {
            "text/plain": [
              "recommendations finished on 50000/62483 queries. users per second: 66271.6"
            ],
            "text/html": [
              "<pre>recommendations finished on 50000/62483 queries. users per second: 66271.6</pre>"
            ]
          },
          "metadata": {}
        },
        {
          "output_type": "display_data",
          "data": {
            "text/plain": [
              "recommendations finished on 51000/62483 queries. users per second: 66000.8"
            ],
            "text/html": [
              "<pre>recommendations finished on 51000/62483 queries. users per second: 66000.8</pre>"
            ]
          },
          "metadata": {}
        },
        {
          "output_type": "display_data",
          "data": {
            "text/plain": [
              "recommendations finished on 52000/62483 queries. users per second: 65868.7"
            ],
            "text/html": [
              "<pre>recommendations finished on 52000/62483 queries. users per second: 65868.7</pre>"
            ]
          },
          "metadata": {}
        },
        {
          "output_type": "display_data",
          "data": {
            "text/plain": [
              "recommendations finished on 53000/62483 queries. users per second: 65800.4"
            ],
            "text/html": [
              "<pre>recommendations finished on 53000/62483 queries. users per second: 65800.4</pre>"
            ]
          },
          "metadata": {}
        },
        {
          "output_type": "display_data",
          "data": {
            "text/plain": [
              "recommendations finished on 54000/62483 queries. users per second: 65659.1"
            ],
            "text/html": [
              "<pre>recommendations finished on 54000/62483 queries. users per second: 65659.1</pre>"
            ]
          },
          "metadata": {}
        },
        {
          "output_type": "display_data",
          "data": {
            "text/plain": [
              "recommendations finished on 55000/62483 queries. users per second: 65539.9"
            ],
            "text/html": [
              "<pre>recommendations finished on 55000/62483 queries. users per second: 65539.9</pre>"
            ]
          },
          "metadata": {}
        },
        {
          "output_type": "display_data",
          "data": {
            "text/plain": [
              "recommendations finished on 56000/62483 queries. users per second: 65528.9"
            ],
            "text/html": [
              "<pre>recommendations finished on 56000/62483 queries. users per second: 65528.9</pre>"
            ]
          },
          "metadata": {}
        },
        {
          "output_type": "display_data",
          "data": {
            "text/plain": [
              "recommendations finished on 57000/62483 queries. users per second: 65273.7"
            ],
            "text/html": [
              "<pre>recommendations finished on 57000/62483 queries. users per second: 65273.7</pre>"
            ]
          },
          "metadata": {}
        },
        {
          "output_type": "display_data",
          "data": {
            "text/plain": [
              "recommendations finished on 58000/62483 queries. users per second: 65095.7"
            ],
            "text/html": [
              "<pre>recommendations finished on 58000/62483 queries. users per second: 65095.7</pre>"
            ]
          },
          "metadata": {}
        },
        {
          "output_type": "display_data",
          "data": {
            "text/plain": [
              "recommendations finished on 59000/62483 queries. users per second: 65181.1"
            ],
            "text/html": [
              "<pre>recommendations finished on 59000/62483 queries. users per second: 65181.1</pre>"
            ]
          },
          "metadata": {}
        },
        {
          "output_type": "display_data",
          "data": {
            "text/plain": [
              "recommendations finished on 60000/62483 queries. users per second: 65046.9"
            ],
            "text/html": [
              "<pre>recommendations finished on 60000/62483 queries. users per second: 65046.9</pre>"
            ]
          },
          "metadata": {}
        },
        {
          "output_type": "display_data",
          "data": {
            "text/plain": [
              "recommendations finished on 61000/62483 queries. users per second: 64956.4"
            ],
            "text/html": [
              "<pre>recommendations finished on 61000/62483 queries. users per second: 64956.4</pre>"
            ]
          },
          "metadata": {}
        },
        {
          "output_type": "display_data",
          "data": {
            "text/plain": [
              "recommendations finished on 62000/62483 queries. users per second: 64828.2"
            ],
            "text/html": [
              "<pre>recommendations finished on 62000/62483 queries. users per second: 64828.2</pre>"
            ]
          },
          "metadata": {}
        },
        {
          "output_type": "stream",
          "name": "stdout",
          "text": [
            "+------------+-----------+-----------------------+------+\n",
            "| customerId | productId |         score         | rank |\n",
            "+------------+-----------+-----------------------+------+\n",
            "|     0      |     2     |  0.005219560861587524 |  1   |\n",
            "|     0      |     31    |  0.005169111490249634 |  2   |\n",
            "|     0      |    248    |  0.005016016960144043 |  3   |\n",
            "|     0      |     43    |  0.004192674160003662 |  4   |\n",
            "|     0      |    139    |  0.003735482692718506 |  5   |\n",
            "|     0      |     8     |  0.003126031160354614 |  6   |\n",
            "|     0      |    137    | 0.0029234230518341065 |  7   |\n",
            "|     0      |     30    | 0.0026917636394500734 |  8   |\n",
            "|     0      |     73    | 0.0026587128639221193 |  9   |\n",
            "|     0      |     13    |  0.002646172046661377 |  10  |\n",
            "|     1      |     14    | 0.0059734702110290526 |  1   |\n",
            "|     1      |    162    |  0.004814457893371582 |  2   |\n",
            "|     1      |     8     |   0.0045684814453125  |  3   |\n",
            "|     1      |     38    | 0.0035710811614990236 |  4   |\n",
            "|     1      |     48    | 0.0032712618509928384 |  5   |\n",
            "|     1      |     1     |  0.003035279115041097 |  6   |\n",
            "|     1      |    141    | 0.0030125101407368978 |  7   |\n",
            "|     1      |    150    | 0.0027506470680236815 |  8   |\n",
            "|     1      |    275    |  0.002736508846282959 |  9   |\n",
            "|     1      |     21    | 0.0024880091349283855 |  10  |\n",
            "|     2      |     29    |  0.004294246435165405 |  1   |\n",
            "|     2      |    134    | 0.0036108940839767456 |  2   |\n",
            "|     2      |    186    |  0.003435105085372925 |  3   |\n",
            "|     2      |    207    |  0.003200516104698181 |  4   |\n",
            "|     2      |    212    | 0.0023702681064605713 |  5   |\n",
            "|     2      |    204    | 0.0018981993198394775 |  6   |\n",
            "|     2      |    216    | 0.0017719566822052002 |  7   |\n",
            "|     2      |    250    |  0.001603052020072937 |  8   |\n",
            "|     2      |    102    |  0.001599639654159546 |  9   |\n",
            "|     2      |     31    | 0.0014943629503250122 |  10  |\n",
            "+------------+-----------+-----------------------+------+\n",
            "[624830 rows x 4 columns]\n",
            "\n"
          ]
        }
      ]
    },
    {
      "cell_type": "code",
      "source": [
        "# these variables will change accordingly\n",
        "name = 'pearson'\n",
        "target = 'purchase_count'\n",
        "pear = model(train_data, name, user_id, item_id, target, users_to_recommend, n_rec, n_display)"
      ],
      "metadata": {
        "colab": {
          "base_uri": "https://localhost:8080/",
          "height": 1000
        },
        "id": "QmSXgq0XhS4q",
        "outputId": "ef53e009-8323-4aea-8820-1f97104357cc"
      },
      "execution_count": null,
      "outputs": [
        {
          "output_type": "display_data",
          "data": {
            "text/plain": [
              "Preparing data set."
            ],
            "text/html": [
              "<pre>Preparing data set.</pre>"
            ]
          },
          "metadata": {}
        },
        {
          "output_type": "display_data",
          "data": {
            "text/plain": [
              "    Data has 106868 observations with 23257 users and 300 items."
            ],
            "text/html": [
              "<pre>    Data has 106868 observations with 23257 users and 300 items.</pre>"
            ]
          },
          "metadata": {}
        },
        {
          "output_type": "display_data",
          "data": {
            "text/plain": [
              "    Data prepared in: 0.13394s"
            ],
            "text/html": [
              "<pre>    Data prepared in: 0.13394s</pre>"
            ]
          },
          "metadata": {}
        },
        {
          "output_type": "display_data",
          "data": {
            "text/plain": [
              "Training model from provided data."
            ],
            "text/html": [
              "<pre>Training model from provided data.</pre>"
            ]
          },
          "metadata": {}
        },
        {
          "output_type": "display_data",
          "data": {
            "text/plain": [
              "Gathering per-item and per-user statistics."
            ],
            "text/html": [
              "<pre>Gathering per-item and per-user statistics.</pre>"
            ]
          },
          "metadata": {}
        },
        {
          "output_type": "display_data",
          "data": {
            "text/plain": [
              "+--------------------------------+------------+"
            ],
            "text/html": [
              "<pre>+--------------------------------+------------+</pre>"
            ]
          },
          "metadata": {}
        },
        {
          "output_type": "display_data",
          "data": {
            "text/plain": [
              "| Elapsed Time (Item Statistics) | % Complete |"
            ],
            "text/html": [
              "<pre>| Elapsed Time (Item Statistics) | % Complete |</pre>"
            ]
          },
          "metadata": {}
        },
        {
          "output_type": "display_data",
          "data": {
            "text/plain": [
              "+--------------------------------+------------+"
            ],
            "text/html": [
              "<pre>+--------------------------------+------------+</pre>"
            ]
          },
          "metadata": {}
        },
        {
          "output_type": "display_data",
          "data": {
            "text/plain": [
              "| 1.141ms                        | 4.25       |"
            ],
            "text/html": [
              "<pre>| 1.141ms                        | 4.25       |</pre>"
            ]
          },
          "metadata": {}
        },
        {
          "output_type": "display_data",
          "data": {
            "text/plain": [
              "| 32.934ms                       | 100        |"
            ],
            "text/html": [
              "<pre>| 32.934ms                       | 100        |</pre>"
            ]
          },
          "metadata": {}
        },
        {
          "output_type": "display_data",
          "data": {
            "text/plain": [
              "+--------------------------------+------------+"
            ],
            "text/html": [
              "<pre>+--------------------------------+------------+</pre>"
            ]
          },
          "metadata": {}
        },
        {
          "output_type": "display_data",
          "data": {
            "text/plain": [
              "Setting up lookup tables."
            ],
            "text/html": [
              "<pre>Setting up lookup tables.</pre>"
            ]
          },
          "metadata": {}
        },
        {
          "output_type": "display_data",
          "data": {
            "text/plain": [
              "Processing data in one pass using dense lookup tables."
            ],
            "text/html": [
              "<pre>Processing data in one pass using dense lookup tables.</pre>"
            ]
          },
          "metadata": {}
        },
        {
          "output_type": "display_data",
          "data": {
            "text/plain": [
              "+-------------------------------------+------------------+-----------------+"
            ],
            "text/html": [
              "<pre>+-------------------------------------+------------------+-----------------+</pre>"
            ]
          },
          "metadata": {}
        },
        {
          "output_type": "display_data",
          "data": {
            "text/plain": [
              "| Elapsed Time (Constructing Lookups) | Total % Complete | Items Processed |"
            ],
            "text/html": [
              "<pre>| Elapsed Time (Constructing Lookups) | Total % Complete | Items Processed |</pre>"
            ]
          },
          "metadata": {}
        },
        {
          "output_type": "display_data",
          "data": {
            "text/plain": [
              "+-------------------------------------+------------------+-----------------+"
            ],
            "text/html": [
              "<pre>+-------------------------------------+------------------+-----------------+</pre>"
            ]
          },
          "metadata": {}
        },
        {
          "output_type": "display_data",
          "data": {
            "text/plain": [
              "| 34.611ms                            | 0                | 0               |"
            ],
            "text/html": [
              "<pre>| 34.611ms                            | 0                | 0               |</pre>"
            ]
          },
          "metadata": {}
        },
        {
          "output_type": "display_data",
          "data": {
            "text/plain": [
              "| 88.683ms                            | 100              | 300             |"
            ],
            "text/html": [
              "<pre>| 88.683ms                            | 100              | 300             |</pre>"
            ]
          },
          "metadata": {}
        },
        {
          "output_type": "display_data",
          "data": {
            "text/plain": [
              "+-------------------------------------+------------------+-----------------+"
            ],
            "text/html": [
              "<pre>+-------------------------------------+------------------+-----------------+</pre>"
            ]
          },
          "metadata": {}
        },
        {
          "output_type": "display_data",
          "data": {
            "text/plain": [
              "Finalizing lookup tables."
            ],
            "text/html": [
              "<pre>Finalizing lookup tables.</pre>"
            ]
          },
          "metadata": {}
        },
        {
          "output_type": "display_data",
          "data": {
            "text/plain": [
              "Generating candidate set for working with new users."
            ],
            "text/html": [
              "<pre>Generating candidate set for working with new users.</pre>"
            ]
          },
          "metadata": {}
        },
        {
          "output_type": "display_data",
          "data": {
            "text/plain": [
              "Finished training in 0.118245s"
            ],
            "text/html": [
              "<pre>Finished training in 0.118245s</pre>"
            ]
          },
          "metadata": {}
        },
        {
          "output_type": "display_data",
          "data": {
            "text/plain": [
              "recommendations finished on 1000/62483 queries. users per second: 61565"
            ],
            "text/html": [
              "<pre>recommendations finished on 1000/62483 queries. users per second: 61565</pre>"
            ]
          },
          "metadata": {}
        },
        {
          "output_type": "display_data",
          "data": {
            "text/plain": [
              "recommendations finished on 2000/62483 queries. users per second: 65040.7"
            ],
            "text/html": [
              "<pre>recommendations finished on 2000/62483 queries. users per second: 65040.7</pre>"
            ]
          },
          "metadata": {}
        },
        {
          "output_type": "display_data",
          "data": {
            "text/plain": [
              "recommendations finished on 3000/62483 queries. users per second: 65395.1"
            ],
            "text/html": [
              "<pre>recommendations finished on 3000/62483 queries. users per second: 65395.1</pre>"
            ]
          },
          "metadata": {}
        },
        {
          "output_type": "display_data",
          "data": {
            "text/plain": [
              "recommendations finished on 4000/62483 queries. users per second: 57642.7"
            ],
            "text/html": [
              "<pre>recommendations finished on 4000/62483 queries. users per second: 57642.7</pre>"
            ]
          },
          "metadata": {}
        },
        {
          "output_type": "display_data",
          "data": {
            "text/plain": [
              "recommendations finished on 5000/62483 queries. users per second: 57899.2"
            ],
            "text/html": [
              "<pre>recommendations finished on 5000/62483 queries. users per second: 57899.2</pre>"
            ]
          },
          "metadata": {}
        },
        {
          "output_type": "display_data",
          "data": {
            "text/plain": [
              "recommendations finished on 6000/62483 queries. users per second: 58558.9"
            ],
            "text/html": [
              "<pre>recommendations finished on 6000/62483 queries. users per second: 58558.9</pre>"
            ]
          },
          "metadata": {}
        },
        {
          "output_type": "display_data",
          "data": {
            "text/plain": [
              "recommendations finished on 7000/62483 queries. users per second: 59566.9"
            ],
            "text/html": [
              "<pre>recommendations finished on 7000/62483 queries. users per second: 59566.9</pre>"
            ]
          },
          "metadata": {}
        },
        {
          "output_type": "display_data",
          "data": {
            "text/plain": [
              "recommendations finished on 8000/62483 queries. users per second: 60072.2"
            ],
            "text/html": [
              "<pre>recommendations finished on 8000/62483 queries. users per second: 60072.2</pre>"
            ]
          },
          "metadata": {}
        },
        {
          "output_type": "display_data",
          "data": {
            "text/plain": [
              "recommendations finished on 9000/62483 queries. users per second: 61319.6"
            ],
            "text/html": [
              "<pre>recommendations finished on 9000/62483 queries. users per second: 61319.6</pre>"
            ]
          },
          "metadata": {}
        },
        {
          "output_type": "display_data",
          "data": {
            "text/plain": [
              "recommendations finished on 10000/62483 queries. users per second: 62470.7"
            ],
            "text/html": [
              "<pre>recommendations finished on 10000/62483 queries. users per second: 62470.7</pre>"
            ]
          },
          "metadata": {}
        },
        {
          "output_type": "display_data",
          "data": {
            "text/plain": [
              "recommendations finished on 11000/62483 queries. users per second: 62353.3"
            ],
            "text/html": [
              "<pre>recommendations finished on 11000/62483 queries. users per second: 62353.3</pre>"
            ]
          },
          "metadata": {}
        },
        {
          "output_type": "display_data",
          "data": {
            "text/plain": [
              "recommendations finished on 12000/62483 queries. users per second: 62729"
            ],
            "text/html": [
              "<pre>recommendations finished on 12000/62483 queries. users per second: 62729</pre>"
            ]
          },
          "metadata": {}
        },
        {
          "output_type": "display_data",
          "data": {
            "text/plain": [
              "recommendations finished on 13000/62483 queries. users per second: 62857.5"
            ],
            "text/html": [
              "<pre>recommendations finished on 13000/62483 queries. users per second: 62857.5</pre>"
            ]
          },
          "metadata": {}
        },
        {
          "output_type": "display_data",
          "data": {
            "text/plain": [
              "recommendations finished on 14000/62483 queries. users per second: 63118.8"
            ],
            "text/html": [
              "<pre>recommendations finished on 14000/62483 queries. users per second: 63118.8</pre>"
            ]
          },
          "metadata": {}
        },
        {
          "output_type": "display_data",
          "data": {
            "text/plain": [
              "recommendations finished on 15000/62483 queries. users per second: 63260.2"
            ],
            "text/html": [
              "<pre>recommendations finished on 15000/62483 queries. users per second: 63260.2</pre>"
            ]
          },
          "metadata": {}
        },
        {
          "output_type": "display_data",
          "data": {
            "text/plain": [
              "recommendations finished on 16000/62483 queries. users per second: 63608.4"
            ],
            "text/html": [
              "<pre>recommendations finished on 16000/62483 queries. users per second: 63608.4</pre>"
            ]
          },
          "metadata": {}
        },
        {
          "output_type": "display_data",
          "data": {
            "text/plain": [
              "recommendations finished on 17000/62483 queries. users per second: 63085.9"
            ],
            "text/html": [
              "<pre>recommendations finished on 17000/62483 queries. users per second: 63085.9</pre>"
            ]
          },
          "metadata": {}
        },
        {
          "output_type": "display_data",
          "data": {
            "text/plain": [
              "recommendations finished on 18000/62483 queries. users per second: 63299.6"
            ],
            "text/html": [
              "<pre>recommendations finished on 18000/62483 queries. users per second: 63299.6</pre>"
            ]
          },
          "metadata": {}
        },
        {
          "output_type": "display_data",
          "data": {
            "text/plain": [
              "recommendations finished on 19000/62483 queries. users per second: 63619.8"
            ],
            "text/html": [
              "<pre>recommendations finished on 19000/62483 queries. users per second: 63619.8</pre>"
            ]
          },
          "metadata": {}
        },
        {
          "output_type": "display_data",
          "data": {
            "text/plain": [
              "recommendations finished on 20000/62483 queries. users per second: 64008.4"
            ],
            "text/html": [
              "<pre>recommendations finished on 20000/62483 queries. users per second: 64008.4</pre>"
            ]
          },
          "metadata": {}
        },
        {
          "output_type": "display_data",
          "data": {
            "text/plain": [
              "recommendations finished on 21000/62483 queries. users per second: 63884.4"
            ],
            "text/html": [
              "<pre>recommendations finished on 21000/62483 queries. users per second: 63884.4</pre>"
            ]
          },
          "metadata": {}
        },
        {
          "output_type": "display_data",
          "data": {
            "text/plain": [
              "recommendations finished on 22000/62483 queries. users per second: 63901.5"
            ],
            "text/html": [
              "<pre>recommendations finished on 22000/62483 queries. users per second: 63901.5</pre>"
            ]
          },
          "metadata": {}
        },
        {
          "output_type": "display_data",
          "data": {
            "text/plain": [
              "recommendations finished on 23000/62483 queries. users per second: 64148.9"
            ],
            "text/html": [
              "<pre>recommendations finished on 23000/62483 queries. users per second: 64148.9</pre>"
            ]
          },
          "metadata": {}
        },
        {
          "output_type": "display_data",
          "data": {
            "text/plain": [
              "recommendations finished on 24000/62483 queries. users per second: 64353.5"
            ],
            "text/html": [
              "<pre>recommendations finished on 24000/62483 queries. users per second: 64353.5</pre>"
            ]
          },
          "metadata": {}
        },
        {
          "output_type": "display_data",
          "data": {
            "text/plain": [
              "recommendations finished on 25000/62483 queries. users per second: 64305.2"
            ],
            "text/html": [
              "<pre>recommendations finished on 25000/62483 queries. users per second: 64305.2</pre>"
            ]
          },
          "metadata": {}
        },
        {
          "output_type": "display_data",
          "data": {
            "text/plain": [
              "recommendations finished on 26000/62483 queries. users per second: 64245.4"
            ],
            "text/html": [
              "<pre>recommendations finished on 26000/62483 queries. users per second: 64245.4</pre>"
            ]
          },
          "metadata": {}
        },
        {
          "output_type": "display_data",
          "data": {
            "text/plain": [
              "recommendations finished on 27000/62483 queries. users per second: 64007.3"
            ],
            "text/html": [
              "<pre>recommendations finished on 27000/62483 queries. users per second: 64007.3</pre>"
            ]
          },
          "metadata": {}
        },
        {
          "output_type": "display_data",
          "data": {
            "text/plain": [
              "recommendations finished on 28000/62483 queries. users per second: 64217.5"
            ],
            "text/html": [
              "<pre>recommendations finished on 28000/62483 queries. users per second: 64217.5</pre>"
            ]
          },
          "metadata": {}
        },
        {
          "output_type": "display_data",
          "data": {
            "text/plain": [
              "recommendations finished on 29000/62483 queries. users per second: 64048.1"
            ],
            "text/html": [
              "<pre>recommendations finished on 29000/62483 queries. users per second: 64048.1</pre>"
            ]
          },
          "metadata": {}
        },
        {
          "output_type": "display_data",
          "data": {
            "text/plain": [
              "recommendations finished on 30000/62483 queries. users per second: 62961.9"
            ],
            "text/html": [
              "<pre>recommendations finished on 30000/62483 queries. users per second: 62961.9</pre>"
            ]
          },
          "metadata": {}
        },
        {
          "output_type": "display_data",
          "data": {
            "text/plain": [
              "recommendations finished on 31000/62483 queries. users per second: 62620.3"
            ],
            "text/html": [
              "<pre>recommendations finished on 31000/62483 queries. users per second: 62620.3</pre>"
            ]
          },
          "metadata": {}
        },
        {
          "output_type": "display_data",
          "data": {
            "text/plain": [
              "recommendations finished on 32000/62483 queries. users per second: 63029.3"
            ],
            "text/html": [
              "<pre>recommendations finished on 32000/62483 queries. users per second: 63029.3</pre>"
            ]
          },
          "metadata": {}
        },
        {
          "output_type": "display_data",
          "data": {
            "text/plain": [
              "recommendations finished on 33000/62483 queries. users per second: 63092.9"
            ],
            "text/html": [
              "<pre>recommendations finished on 33000/62483 queries. users per second: 63092.9</pre>"
            ]
          },
          "metadata": {}
        },
        {
          "output_type": "display_data",
          "data": {
            "text/plain": [
              "recommendations finished on 34000/62483 queries. users per second: 63164.7"
            ],
            "text/html": [
              "<pre>recommendations finished on 34000/62483 queries. users per second: 63164.7</pre>"
            ]
          },
          "metadata": {}
        },
        {
          "output_type": "display_data",
          "data": {
            "text/plain": [
              "recommendations finished on 35000/62483 queries. users per second: 62878.2"
            ],
            "text/html": [
              "<pre>recommendations finished on 35000/62483 queries. users per second: 62878.2</pre>"
            ]
          },
          "metadata": {}
        },
        {
          "output_type": "display_data",
          "data": {
            "text/plain": [
              "recommendations finished on 36000/62483 queries. users per second: 63097.9"
            ],
            "text/html": [
              "<pre>recommendations finished on 36000/62483 queries. users per second: 63097.9</pre>"
            ]
          },
          "metadata": {}
        },
        {
          "output_type": "display_data",
          "data": {
            "text/plain": [
              "recommendations finished on 37000/62483 queries. users per second: 62568.8"
            ],
            "text/html": [
              "<pre>recommendations finished on 37000/62483 queries. users per second: 62568.8</pre>"
            ]
          },
          "metadata": {}
        },
        {
          "output_type": "display_data",
          "data": {
            "text/plain": [
              "recommendations finished on 38000/62483 queries. users per second: 62607.5"
            ],
            "text/html": [
              "<pre>recommendations finished on 38000/62483 queries. users per second: 62607.5</pre>"
            ]
          },
          "metadata": {}
        },
        {
          "output_type": "display_data",
          "data": {
            "text/plain": [
              "recommendations finished on 39000/62483 queries. users per second: 62768.7"
            ],
            "text/html": [
              "<pre>recommendations finished on 39000/62483 queries. users per second: 62768.7</pre>"
            ]
          },
          "metadata": {}
        },
        {
          "output_type": "display_data",
          "data": {
            "text/plain": [
              "recommendations finished on 40000/62483 queries. users per second: 63044"
            ],
            "text/html": [
              "<pre>recommendations finished on 40000/62483 queries. users per second: 63044</pre>"
            ]
          },
          "metadata": {}
        },
        {
          "output_type": "display_data",
          "data": {
            "text/plain": [
              "recommendations finished on 41000/62483 queries. users per second: 62718.4"
            ],
            "text/html": [
              "<pre>recommendations finished on 41000/62483 queries. users per second: 62718.4</pre>"
            ]
          },
          "metadata": {}
        },
        {
          "output_type": "display_data",
          "data": {
            "text/plain": [
              "recommendations finished on 42000/62483 queries. users per second: 62764.8"
            ],
            "text/html": [
              "<pre>recommendations finished on 42000/62483 queries. users per second: 62764.8</pre>"
            ]
          },
          "metadata": {}
        },
        {
          "output_type": "display_data",
          "data": {
            "text/plain": [
              "recommendations finished on 43000/62483 queries. users per second: 62733.2"
            ],
            "text/html": [
              "<pre>recommendations finished on 43000/62483 queries. users per second: 62733.2</pre>"
            ]
          },
          "metadata": {}
        },
        {
          "output_type": "display_data",
          "data": {
            "text/plain": [
              "recommendations finished on 44000/62483 queries. users per second: 62968.8"
            ],
            "text/html": [
              "<pre>recommendations finished on 44000/62483 queries. users per second: 62968.8</pre>"
            ]
          },
          "metadata": {}
        },
        {
          "output_type": "display_data",
          "data": {
            "text/plain": [
              "recommendations finished on 45000/62483 queries. users per second: 62957.2"
            ],
            "text/html": [
              "<pre>recommendations finished on 45000/62483 queries. users per second: 62957.2</pre>"
            ]
          },
          "metadata": {}
        },
        {
          "output_type": "display_data",
          "data": {
            "text/plain": [
              "recommendations finished on 46000/62483 queries. users per second: 62945.7"
            ],
            "text/html": [
              "<pre>recommendations finished on 46000/62483 queries. users per second: 62945.7</pre>"
            ]
          },
          "metadata": {}
        },
        {
          "output_type": "display_data",
          "data": {
            "text/plain": [
              "recommendations finished on 47000/62483 queries. users per second: 62994.3"
            ],
            "text/html": [
              "<pre>recommendations finished on 47000/62483 queries. users per second: 62994.3</pre>"
            ]
          },
          "metadata": {}
        },
        {
          "output_type": "display_data",
          "data": {
            "text/plain": [
              "recommendations finished on 48000/62483 queries. users per second: 63121.6"
            ],
            "text/html": [
              "<pre>recommendations finished on 48000/62483 queries. users per second: 63121.6</pre>"
            ]
          },
          "metadata": {}
        },
        {
          "output_type": "display_data",
          "data": {
            "text/plain": [
              "recommendations finished on 49000/62483 queries. users per second: 62983.1"
            ],
            "text/html": [
              "<pre>recommendations finished on 49000/62483 queries. users per second: 62983.1</pre>"
            ]
          },
          "metadata": {}
        },
        {
          "output_type": "display_data",
          "data": {
            "text/plain": [
              "recommendations finished on 50000/62483 queries. users per second: 63118.2"
            ],
            "text/html": [
              "<pre>recommendations finished on 50000/62483 queries. users per second: 63118.2</pre>"
            ]
          },
          "metadata": {}
        },
        {
          "output_type": "display_data",
          "data": {
            "text/plain": [
              "recommendations finished on 51000/62483 queries. users per second: 63159"
            ],
            "text/html": [
              "<pre>recommendations finished on 51000/62483 queries. users per second: 63159</pre>"
            ]
          },
          "metadata": {}
        },
        {
          "output_type": "display_data",
          "data": {
            "text/plain": [
              "recommendations finished on 52000/62483 queries. users per second: 63033.8"
            ],
            "text/html": [
              "<pre>recommendations finished on 52000/62483 queries. users per second: 63033.8</pre>"
            ]
          },
          "metadata": {}
        },
        {
          "output_type": "display_data",
          "data": {
            "text/plain": [
              "recommendations finished on 53000/62483 queries. users per second: 62766"
            ],
            "text/html": [
              "<pre>recommendations finished on 53000/62483 queries. users per second: 62766</pre>"
            ]
          },
          "metadata": {}
        },
        {
          "output_type": "display_data",
          "data": {
            "text/plain": [
              "recommendations finished on 54000/62483 queries. users per second: 62475.1"
            ],
            "text/html": [
              "<pre>recommendations finished on 54000/62483 queries. users per second: 62475.1</pre>"
            ]
          },
          "metadata": {}
        },
        {
          "output_type": "display_data",
          "data": {
            "text/plain": [
              "recommendations finished on 55000/62483 queries. users per second: 62325.1"
            ],
            "text/html": [
              "<pre>recommendations finished on 55000/62483 queries. users per second: 62325.1</pre>"
            ]
          },
          "metadata": {}
        },
        {
          "output_type": "display_data",
          "data": {
            "text/plain": [
              "recommendations finished on 56000/62483 queries. users per second: 62060.9"
            ],
            "text/html": [
              "<pre>recommendations finished on 56000/62483 queries. users per second: 62060.9</pre>"
            ]
          },
          "metadata": {}
        },
        {
          "output_type": "display_data",
          "data": {
            "text/plain": [
              "recommendations finished on 57000/62483 queries. users per second: 61988.5"
            ],
            "text/html": [
              "<pre>recommendations finished on 57000/62483 queries. users per second: 61988.5</pre>"
            ]
          },
          "metadata": {}
        },
        {
          "output_type": "display_data",
          "data": {
            "text/plain": [
              "recommendations finished on 58000/62483 queries. users per second: 61739.4"
            ],
            "text/html": [
              "<pre>recommendations finished on 58000/62483 queries. users per second: 61739.4</pre>"
            ]
          },
          "metadata": {}
        },
        {
          "output_type": "display_data",
          "data": {
            "text/plain": [
              "recommendations finished on 59000/62483 queries. users per second: 61617.3"
            ],
            "text/html": [
              "<pre>recommendations finished on 59000/62483 queries. users per second: 61617.3</pre>"
            ]
          },
          "metadata": {}
        },
        {
          "output_type": "display_data",
          "data": {
            "text/plain": [
              "recommendations finished on 60000/62483 queries. users per second: 61430.4"
            ],
            "text/html": [
              "<pre>recommendations finished on 60000/62483 queries. users per second: 61430.4</pre>"
            ]
          },
          "metadata": {}
        },
        {
          "output_type": "display_data",
          "data": {
            "text/plain": [
              "recommendations finished on 61000/62483 queries. users per second: 61095.8"
            ],
            "text/html": [
              "<pre>recommendations finished on 61000/62483 queries. users per second: 61095.8</pre>"
            ]
          },
          "metadata": {}
        },
        {
          "output_type": "display_data",
          "data": {
            "text/plain": [
              "recommendations finished on 62000/62483 queries. users per second: 60964.6"
            ],
            "text/html": [
              "<pre>recommendations finished on 62000/62483 queries. users per second: 60964.6</pre>"
            ]
          },
          "metadata": {}
        },
        {
          "output_type": "stream",
          "name": "stdout",
          "text": [
            "+------------+-----------+--------------------+------+\n",
            "| customerId | productId |       score        | rank |\n",
            "+------------+-----------+--------------------+------+\n",
            "|     0      |     34    | 3.065192854170405  |  1   |\n",
            "|     0      |     37    | 3.0130212620966663 |  2   |\n",
            "|     0      |    132    | 2.9815762309446736 |  3   |\n",
            "|     0      |     0     |  2.9575444349735   |  4   |\n",
            "|     0      |    248    | 2.9507693366530234 |  5   |\n",
            "|     0      |     3     | 2.827047052444554  |  6   |\n",
            "|     0      |    110    | 2.700192619287051  |  7   |\n",
            "|     0      |     27    | 2.656566938631297  |  8   |\n",
            "|     0      |     32    | 2.6142167654666277 |  9   |\n",
            "|     0      |     10    | 2.606413994169095  |  10  |\n",
            "|     1      |     34    | 3.066018771025149  |  1   |\n",
            "|     1      |     37    | 3.0095574252800255 |  2   |\n",
            "|     1      |    132    | 2.981114859663465  |  3   |\n",
            "|     1      |     0     | 2.9568138195777336 |  4   |\n",
            "|     1      |    248    | 2.954719705552589  |  5   |\n",
            "|     1      |     3     | 2.827121351162591  |  6   |\n",
            "|     1      |    110    | 2.698382204108768  |  7   |\n",
            "|     1      |     27    | 2.6567164179104483 |  8   |\n",
            "|     1      |     32    | 2.6142710349862543 |  9   |\n",
            "|     1      |     10    | 2.607306487629008  |  10  |\n",
            "|     2      |     34    |  3.06371474884544  |  1   |\n",
            "|     2      |     37    | 3.0116731517509727 |  2   |\n",
            "|     2      |    132    | 2.981132075471698  |  3   |\n",
            "|     2      |     0     | 2.960165352990667  |  4   |\n",
            "|     2      |    248    | 2.9512195121951215 |  5   |\n",
            "|     2      |     3     | 2.8270833333333316 |  6   |\n",
            "|     2      |    110    | 2.693384528160095  |  7   |\n",
            "|     2      |     27    | 2.6567164179104483 |  8   |\n",
            "|     2      |     32    | 2.6142857142857148 |  9   |\n",
            "|     2      |     10    | 2.606413994169095  |  10  |\n",
            "+------------+-----------+--------------------+------+\n",
            "[624830 rows x 4 columns]\n",
            "\n"
          ]
        }
      ]
    },
    {
      "cell_type": "code",
      "source": [
        "# these variables will change accordingly\n",
        "name = 'pearson'\n",
        "target = 'purchase_dummy'\n",
        "pear_dummy = model(train_data_dummy, name, user_id, item_id, target, users_to_recommend, n_rec, n_display)"
      ],
      "metadata": {
        "colab": {
          "base_uri": "https://localhost:8080/",
          "height": 1000
        },
        "id": "xzCy2aYlhXJ7",
        "outputId": "5b4507fa-6ca4-4b55-da02-b42ae3f2c5bd"
      },
      "execution_count": null,
      "outputs": [
        {
          "output_type": "display_data",
          "data": {
            "text/plain": [
              "Warning: Ignoring columns purchase_count;"
            ],
            "text/html": [
              "<pre>Warning: Ignoring columns purchase_count;</pre>"
            ]
          },
          "metadata": {}
        },
        {
          "output_type": "display_data",
          "data": {
            "text/plain": [
              "    To use these columns in scoring predictions, use a model that allows the use of additional features."
            ],
            "text/html": [
              "<pre>    To use these columns in scoring predictions, use a model that allows the use of additional features.</pre>"
            ]
          },
          "metadata": {}
        },
        {
          "output_type": "display_data",
          "data": {
            "text/plain": [
              "Preparing data set."
            ],
            "text/html": [
              "<pre>Preparing data set.</pre>"
            ]
          },
          "metadata": {}
        },
        {
          "output_type": "display_data",
          "data": {
            "text/plain": [
              "    Data has 100188 observations with 22999 users and 300 items."
            ],
            "text/html": [
              "<pre>    Data has 100188 observations with 22999 users and 300 items.</pre>"
            ]
          },
          "metadata": {}
        },
        {
          "output_type": "display_data",
          "data": {
            "text/plain": [
              "    Data prepared in: 0.130317s"
            ],
            "text/html": [
              "<pre>    Data prepared in: 0.130317s</pre>"
            ]
          },
          "metadata": {}
        },
        {
          "output_type": "display_data",
          "data": {
            "text/plain": [
              "Training model from provided data."
            ],
            "text/html": [
              "<pre>Training model from provided data.</pre>"
            ]
          },
          "metadata": {}
        },
        {
          "output_type": "display_data",
          "data": {
            "text/plain": [
              "Gathering per-item and per-user statistics."
            ],
            "text/html": [
              "<pre>Gathering per-item and per-user statistics.</pre>"
            ]
          },
          "metadata": {}
        },
        {
          "output_type": "display_data",
          "data": {
            "text/plain": [
              "+--------------------------------+------------+"
            ],
            "text/html": [
              "<pre>+--------------------------------+------------+</pre>"
            ]
          },
          "metadata": {}
        },
        {
          "output_type": "display_data",
          "data": {
            "text/plain": [
              "| Elapsed Time (Item Statistics) | % Complete |"
            ],
            "text/html": [
              "<pre>| Elapsed Time (Item Statistics) | % Complete |</pre>"
            ]
          },
          "metadata": {}
        },
        {
          "output_type": "display_data",
          "data": {
            "text/plain": [
              "+--------------------------------+------------+"
            ],
            "text/html": [
              "<pre>+--------------------------------+------------+</pre>"
            ]
          },
          "metadata": {}
        },
        {
          "output_type": "display_data",
          "data": {
            "text/plain": [
              "| 1.211ms                        | 4.25       |"
            ],
            "text/html": [
              "<pre>| 1.211ms                        | 4.25       |</pre>"
            ]
          },
          "metadata": {}
        },
        {
          "output_type": "display_data",
          "data": {
            "text/plain": [
              "| 16.749ms                       | 100        |"
            ],
            "text/html": [
              "<pre>| 16.749ms                       | 100        |</pre>"
            ]
          },
          "metadata": {}
        },
        {
          "output_type": "display_data",
          "data": {
            "text/plain": [
              "+--------------------------------+------------+"
            ],
            "text/html": [
              "<pre>+--------------------------------+------------+</pre>"
            ]
          },
          "metadata": {}
        },
        {
          "output_type": "display_data",
          "data": {
            "text/plain": [
              "Setting up lookup tables."
            ],
            "text/html": [
              "<pre>Setting up lookup tables.</pre>"
            ]
          },
          "metadata": {}
        },
        {
          "output_type": "display_data",
          "data": {
            "text/plain": [
              "Processing data in one pass using dense lookup tables."
            ],
            "text/html": [
              "<pre>Processing data in one pass using dense lookup tables.</pre>"
            ]
          },
          "metadata": {}
        },
        {
          "output_type": "display_data",
          "data": {
            "text/plain": [
              "+-------------------------------------+------------------+-----------------+"
            ],
            "text/html": [
              "<pre>+-------------------------------------+------------------+-----------------+</pre>"
            ]
          },
          "metadata": {}
        },
        {
          "output_type": "display_data",
          "data": {
            "text/plain": [
              "| Elapsed Time (Constructing Lookups) | Total % Complete | Items Processed |"
            ],
            "text/html": [
              "<pre>| Elapsed Time (Constructing Lookups) | Total % Complete | Items Processed |</pre>"
            ]
          },
          "metadata": {}
        },
        {
          "output_type": "display_data",
          "data": {
            "text/plain": [
              "+-------------------------------------+------------------+-----------------+"
            ],
            "text/html": [
              "<pre>+-------------------------------------+------------------+-----------------+</pre>"
            ]
          },
          "metadata": {}
        },
        {
          "output_type": "display_data",
          "data": {
            "text/plain": [
              "| 17.845ms                            | 0                | 0               |"
            ],
            "text/html": [
              "<pre>| 17.845ms                            | 0                | 0               |</pre>"
            ]
          },
          "metadata": {}
        },
        {
          "output_type": "display_data",
          "data": {
            "text/plain": [
              "| 55.282ms                            | 100              | 300             |"
            ],
            "text/html": [
              "<pre>| 55.282ms                            | 100              | 300             |</pre>"
            ]
          },
          "metadata": {}
        },
        {
          "output_type": "display_data",
          "data": {
            "text/plain": [
              "+-------------------------------------+------------------+-----------------+"
            ],
            "text/html": [
              "<pre>+-------------------------------------+------------------+-----------------+</pre>"
            ]
          },
          "metadata": {}
        },
        {
          "output_type": "display_data",
          "data": {
            "text/plain": [
              "Finalizing lookup tables."
            ],
            "text/html": [
              "<pre>Finalizing lookup tables.</pre>"
            ]
          },
          "metadata": {}
        },
        {
          "output_type": "display_data",
          "data": {
            "text/plain": [
              "Generating candidate set for working with new users."
            ],
            "text/html": [
              "<pre>Generating candidate set for working with new users.</pre>"
            ]
          },
          "metadata": {}
        },
        {
          "output_type": "display_data",
          "data": {
            "text/plain": [
              "Finished training in 0.091203s"
            ],
            "text/html": [
              "<pre>Finished training in 0.091203s</pre>"
            ]
          },
          "metadata": {}
        },
        {
          "output_type": "display_data",
          "data": {
            "text/plain": [
              "recommendations finished on 1000/62483 queries. users per second: 83773.1"
            ],
            "text/html": [
              "<pre>recommendations finished on 1000/62483 queries. users per second: 83773.1</pre>"
            ]
          },
          "metadata": {}
        },
        {
          "output_type": "display_data",
          "data": {
            "text/plain": [
              "recommendations finished on 2000/62483 queries. users per second: 85073.8"
            ],
            "text/html": [
              "<pre>recommendations finished on 2000/62483 queries. users per second: 85073.8</pre>"
            ]
          },
          "metadata": {}
        },
        {
          "output_type": "display_data",
          "data": {
            "text/plain": [
              "recommendations finished on 3000/62483 queries. users per second: 86986.8"
            ],
            "text/html": [
              "<pre>recommendations finished on 3000/62483 queries. users per second: 86986.8</pre>"
            ]
          },
          "metadata": {}
        },
        {
          "output_type": "display_data",
          "data": {
            "text/plain": [
              "recommendations finished on 4000/62483 queries. users per second: 88425.1"
            ],
            "text/html": [
              "<pre>recommendations finished on 4000/62483 queries. users per second: 88425.1</pre>"
            ]
          },
          "metadata": {}
        },
        {
          "output_type": "display_data",
          "data": {
            "text/plain": [
              "recommendations finished on 5000/62483 queries. users per second: 87424.8"
            ],
            "text/html": [
              "<pre>recommendations finished on 5000/62483 queries. users per second: 87424.8</pre>"
            ]
          },
          "metadata": {}
        },
        {
          "output_type": "display_data",
          "data": {
            "text/plain": [
              "recommendations finished on 6000/62483 queries. users per second: 86399.3"
            ],
            "text/html": [
              "<pre>recommendations finished on 6000/62483 queries. users per second: 86399.3</pre>"
            ]
          },
          "metadata": {}
        },
        {
          "output_type": "display_data",
          "data": {
            "text/plain": [
              "recommendations finished on 7000/62483 queries. users per second: 86517"
            ],
            "text/html": [
              "<pre>recommendations finished on 7000/62483 queries. users per second: 86517</pre>"
            ]
          },
          "metadata": {}
        },
        {
          "output_type": "display_data",
          "data": {
            "text/plain": [
              "recommendations finished on 8000/62483 queries. users per second: 87352.5"
            ],
            "text/html": [
              "<pre>recommendations finished on 8000/62483 queries. users per second: 87352.5</pre>"
            ]
          },
          "metadata": {}
        },
        {
          "output_type": "display_data",
          "data": {
            "text/plain": [
              "recommendations finished on 9000/62483 queries. users per second: 87581.9"
            ],
            "text/html": [
              "<pre>recommendations finished on 9000/62483 queries. users per second: 87581.9</pre>"
            ]
          },
          "metadata": {}
        },
        {
          "output_type": "display_data",
          "data": {
            "text/plain": [
              "recommendations finished on 10000/62483 queries. users per second: 88065.4"
            ],
            "text/html": [
              "<pre>recommendations finished on 10000/62483 queries. users per second: 88065.4</pre>"
            ]
          },
          "metadata": {}
        },
        {
          "output_type": "display_data",
          "data": {
            "text/plain": [
              "recommendations finished on 11000/62483 queries. users per second: 88263.4"
            ],
            "text/html": [
              "<pre>recommendations finished on 11000/62483 queries. users per second: 88263.4</pre>"
            ]
          },
          "metadata": {}
        },
        {
          "output_type": "display_data",
          "data": {
            "text/plain": [
              "recommendations finished on 12000/62483 queries. users per second: 85163.2"
            ],
            "text/html": [
              "<pre>recommendations finished on 12000/62483 queries. users per second: 85163.2</pre>"
            ]
          },
          "metadata": {}
        },
        {
          "output_type": "display_data",
          "data": {
            "text/plain": [
              "recommendations finished on 13000/62483 queries. users per second: 81919.2"
            ],
            "text/html": [
              "<pre>recommendations finished on 13000/62483 queries. users per second: 81919.2</pre>"
            ]
          },
          "metadata": {}
        },
        {
          "output_type": "display_data",
          "data": {
            "text/plain": [
              "recommendations finished on 14000/62483 queries. users per second: 81301.8"
            ],
            "text/html": [
              "<pre>recommendations finished on 14000/62483 queries. users per second: 81301.8</pre>"
            ]
          },
          "metadata": {}
        },
        {
          "output_type": "display_data",
          "data": {
            "text/plain": [
              "recommendations finished on 15000/62483 queries. users per second: 80880.4"
            ],
            "text/html": [
              "<pre>recommendations finished on 15000/62483 queries. users per second: 80880.4</pre>"
            ]
          },
          "metadata": {}
        },
        {
          "output_type": "display_data",
          "data": {
            "text/plain": [
              "recommendations finished on 16000/62483 queries. users per second: 81452.3"
            ],
            "text/html": [
              "<pre>recommendations finished on 16000/62483 queries. users per second: 81452.3</pre>"
            ]
          },
          "metadata": {}
        },
        {
          "output_type": "display_data",
          "data": {
            "text/plain": [
              "recommendations finished on 17000/62483 queries. users per second: 81834.6"
            ],
            "text/html": [
              "<pre>recommendations finished on 17000/62483 queries. users per second: 81834.6</pre>"
            ]
          },
          "metadata": {}
        },
        {
          "output_type": "display_data",
          "data": {
            "text/plain": [
              "recommendations finished on 18000/62483 queries. users per second: 82674.6"
            ],
            "text/html": [
              "<pre>recommendations finished on 18000/62483 queries. users per second: 82674.6</pre>"
            ]
          },
          "metadata": {}
        },
        {
          "output_type": "display_data",
          "data": {
            "text/plain": [
              "recommendations finished on 19000/62483 queries. users per second: 82934.7"
            ],
            "text/html": [
              "<pre>recommendations finished on 19000/62483 queries. users per second: 82934.7</pre>"
            ]
          },
          "metadata": {}
        },
        {
          "output_type": "display_data",
          "data": {
            "text/plain": [
              "recommendations finished on 20000/62483 queries. users per second: 83491.6"
            ],
            "text/html": [
              "<pre>recommendations finished on 20000/62483 queries. users per second: 83491.6</pre>"
            ]
          },
          "metadata": {}
        },
        {
          "output_type": "display_data",
          "data": {
            "text/plain": [
              "recommendations finished on 21000/62483 queries. users per second: 84010.4"
            ],
            "text/html": [
              "<pre>recommendations finished on 21000/62483 queries. users per second: 84010.4</pre>"
            ]
          },
          "metadata": {}
        },
        {
          "output_type": "display_data",
          "data": {
            "text/plain": [
              "recommendations finished on 22000/62483 queries. users per second: 84388.5"
            ],
            "text/html": [
              "<pre>recommendations finished on 22000/62483 queries. users per second: 84388.5</pre>"
            ]
          },
          "metadata": {}
        },
        {
          "output_type": "display_data",
          "data": {
            "text/plain": [
              "recommendations finished on 23000/62483 queries. users per second: 84247.5"
            ],
            "text/html": [
              "<pre>recommendations finished on 23000/62483 queries. users per second: 84247.5</pre>"
            ]
          },
          "metadata": {}
        },
        {
          "output_type": "display_data",
          "data": {
            "text/plain": [
              "recommendations finished on 24000/62483 queries. users per second: 84390"
            ],
            "text/html": [
              "<pre>recommendations finished on 24000/62483 queries. users per second: 84390</pre>"
            ]
          },
          "metadata": {}
        },
        {
          "output_type": "display_data",
          "data": {
            "text/plain": [
              "recommendations finished on 25000/62483 queries. users per second: 84809.6"
            ],
            "text/html": [
              "<pre>recommendations finished on 25000/62483 queries. users per second: 84809.6</pre>"
            ]
          },
          "metadata": {}
        },
        {
          "output_type": "display_data",
          "data": {
            "text/plain": [
              "recommendations finished on 26000/62483 queries. users per second: 85088.8"
            ],
            "text/html": [
              "<pre>recommendations finished on 26000/62483 queries. users per second: 85088.8</pre>"
            ]
          },
          "metadata": {}
        },
        {
          "output_type": "display_data",
          "data": {
            "text/plain": [
              "recommendations finished on 27000/62483 queries. users per second: 85380.6"
            ],
            "text/html": [
              "<pre>recommendations finished on 27000/62483 queries. users per second: 85380.6</pre>"
            ]
          },
          "metadata": {}
        },
        {
          "output_type": "display_data",
          "data": {
            "text/plain": [
              "recommendations finished on 28000/62483 queries. users per second: 85909.1"
            ],
            "text/html": [
              "<pre>recommendations finished on 28000/62483 queries. users per second: 85909.1</pre>"
            ]
          },
          "metadata": {}
        },
        {
          "output_type": "display_data",
          "data": {
            "text/plain": [
              "recommendations finished on 29000/62483 queries. users per second: 85632.9"
            ],
            "text/html": [
              "<pre>recommendations finished on 29000/62483 queries. users per second: 85632.9</pre>"
            ]
          },
          "metadata": {}
        },
        {
          "output_type": "display_data",
          "data": {
            "text/plain": [
              "recommendations finished on 30000/62483 queries. users per second: 84272.7"
            ],
            "text/html": [
              "<pre>recommendations finished on 30000/62483 queries. users per second: 84272.7</pre>"
            ]
          },
          "metadata": {}
        },
        {
          "output_type": "display_data",
          "data": {
            "text/plain": [
              "recommendations finished on 31000/62483 queries. users per second: 84330.6"
            ],
            "text/html": [
              "<pre>recommendations finished on 31000/62483 queries. users per second: 84330.6</pre>"
            ]
          },
          "metadata": {}
        },
        {
          "output_type": "display_data",
          "data": {
            "text/plain": [
              "recommendations finished on 32000/62483 queries. users per second: 84830.5"
            ],
            "text/html": [
              "<pre>recommendations finished on 32000/62483 queries. users per second: 84830.5</pre>"
            ]
          },
          "metadata": {}
        },
        {
          "output_type": "display_data",
          "data": {
            "text/plain": [
              "recommendations finished on 33000/62483 queries. users per second: 84245.8"
            ],
            "text/html": [
              "<pre>recommendations finished on 33000/62483 queries. users per second: 84245.8</pre>"
            ]
          },
          "metadata": {}
        },
        {
          "output_type": "display_data",
          "data": {
            "text/plain": [
              "recommendations finished on 34000/62483 queries. users per second: 84471.6"
            ],
            "text/html": [
              "<pre>recommendations finished on 34000/62483 queries. users per second: 84471.6</pre>"
            ]
          },
          "metadata": {}
        },
        {
          "output_type": "display_data",
          "data": {
            "text/plain": [
              "recommendations finished on 35000/62483 queries. users per second: 84667.2"
            ],
            "text/html": [
              "<pre>recommendations finished on 35000/62483 queries. users per second: 84667.2</pre>"
            ]
          },
          "metadata": {}
        },
        {
          "output_type": "display_data",
          "data": {
            "text/plain": [
              "recommendations finished on 36000/62483 queries. users per second: 85027.4"
            ],
            "text/html": [
              "<pre>recommendations finished on 36000/62483 queries. users per second: 85027.4</pre>"
            ]
          },
          "metadata": {}
        },
        {
          "output_type": "display_data",
          "data": {
            "text/plain": [
              "recommendations finished on 37000/62483 queries. users per second: 84636.2"
            ],
            "text/html": [
              "<pre>recommendations finished on 37000/62483 queries. users per second: 84636.2</pre>"
            ]
          },
          "metadata": {}
        },
        {
          "output_type": "display_data",
          "data": {
            "text/plain": [
              "recommendations finished on 38000/62483 queries. users per second: 83854.3"
            ],
            "text/html": [
              "<pre>recommendations finished on 38000/62483 queries. users per second: 83854.3</pre>"
            ]
          },
          "metadata": {}
        },
        {
          "output_type": "display_data",
          "data": {
            "text/plain": [
              "recommendations finished on 39000/62483 queries. users per second: 83745.1"
            ],
            "text/html": [
              "<pre>recommendations finished on 39000/62483 queries. users per second: 83745.1</pre>"
            ]
          },
          "metadata": {}
        },
        {
          "output_type": "display_data",
          "data": {
            "text/plain": [
              "recommendations finished on 40000/62483 queries. users per second: 84184.8"
            ],
            "text/html": [
              "<pre>recommendations finished on 40000/62483 queries. users per second: 84184.8</pre>"
            ]
          },
          "metadata": {}
        },
        {
          "output_type": "display_data",
          "data": {
            "text/plain": [
              "recommendations finished on 41000/62483 queries. users per second: 84267.6"
            ],
            "text/html": [
              "<pre>recommendations finished on 41000/62483 queries. users per second: 84267.6</pre>"
            ]
          },
          "metadata": {}
        },
        {
          "output_type": "display_data",
          "data": {
            "text/plain": [
              "recommendations finished on 42000/62483 queries. users per second: 84530"
            ],
            "text/html": [
              "<pre>recommendations finished on 42000/62483 queries. users per second: 84530</pre>"
            ]
          },
          "metadata": {}
        },
        {
          "output_type": "display_data",
          "data": {
            "text/plain": [
              "recommendations finished on 43000/62483 queries. users per second: 84722.7"
            ],
            "text/html": [
              "<pre>recommendations finished on 43000/62483 queries. users per second: 84722.7</pre>"
            ]
          },
          "metadata": {}
        },
        {
          "output_type": "display_data",
          "data": {
            "text/plain": [
              "recommendations finished on 44000/62483 queries. users per second: 84513.3"
            ],
            "text/html": [
              "<pre>recommendations finished on 44000/62483 queries. users per second: 84513.3</pre>"
            ]
          },
          "metadata": {}
        },
        {
          "output_type": "display_data",
          "data": {
            "text/plain": [
              "recommendations finished on 45000/62483 queries. users per second: 84654.3"
            ],
            "text/html": [
              "<pre>recommendations finished on 45000/62483 queries. users per second: 84654.3</pre>"
            ]
          },
          "metadata": {}
        },
        {
          "output_type": "display_data",
          "data": {
            "text/plain": [
              "recommendations finished on 46000/62483 queries. users per second: 84386.3"
            ],
            "text/html": [
              "<pre>recommendations finished on 46000/62483 queries. users per second: 84386.3</pre>"
            ]
          },
          "metadata": {}
        },
        {
          "output_type": "display_data",
          "data": {
            "text/plain": [
              "recommendations finished on 47000/62483 queries. users per second: 84190"
            ],
            "text/html": [
              "<pre>recommendations finished on 47000/62483 queries. users per second: 84190</pre>"
            ]
          },
          "metadata": {}
        },
        {
          "output_type": "display_data",
          "data": {
            "text/plain": [
              "recommendations finished on 48000/62483 queries. users per second: 84035.4"
            ],
            "text/html": [
              "<pre>recommendations finished on 48000/62483 queries. users per second: 84035.4</pre>"
            ]
          },
          "metadata": {}
        },
        {
          "output_type": "display_data",
          "data": {
            "text/plain": [
              "recommendations finished on 49000/62483 queries. users per second: 83834.9"
            ],
            "text/html": [
              "<pre>recommendations finished on 49000/62483 queries. users per second: 83834.9</pre>"
            ]
          },
          "metadata": {}
        },
        {
          "output_type": "display_data",
          "data": {
            "text/plain": [
              "recommendations finished on 50000/62483 queries. users per second: 83989.3"
            ],
            "text/html": [
              "<pre>recommendations finished on 50000/62483 queries. users per second: 83989.3</pre>"
            ]
          },
          "metadata": {}
        },
        {
          "output_type": "display_data",
          "data": {
            "text/plain": [
              "recommendations finished on 51000/62483 queries. users per second: 84137.7"
            ],
            "text/html": [
              "<pre>recommendations finished on 51000/62483 queries. users per second: 84137.7</pre>"
            ]
          },
          "metadata": {}
        },
        {
          "output_type": "display_data",
          "data": {
            "text/plain": [
              "recommendations finished on 52000/62483 queries. users per second: 84166.9"
            ],
            "text/html": [
              "<pre>recommendations finished on 52000/62483 queries. users per second: 84166.9</pre>"
            ]
          },
          "metadata": {}
        },
        {
          "output_type": "display_data",
          "data": {
            "text/plain": [
              "recommendations finished on 53000/62483 queries. users per second: 84213.3"
            ],
            "text/html": [
              "<pre>recommendations finished on 53000/62483 queries. users per second: 84213.3</pre>"
            ]
          },
          "metadata": {}
        },
        {
          "output_type": "display_data",
          "data": {
            "text/plain": [
              "recommendations finished on 54000/62483 queries. users per second: 84106.1"
            ],
            "text/html": [
              "<pre>recommendations finished on 54000/62483 queries. users per second: 84106.1</pre>"
            ]
          },
          "metadata": {}
        },
        {
          "output_type": "display_data",
          "data": {
            "text/plain": [
              "recommendations finished on 55000/62483 queries. users per second: 84249"
            ],
            "text/html": [
              "<pre>recommendations finished on 55000/62483 queries. users per second: 84249</pre>"
            ]
          },
          "metadata": {}
        },
        {
          "output_type": "display_data",
          "data": {
            "text/plain": [
              "recommendations finished on 56000/62483 queries. users per second: 84164.6"
            ],
            "text/html": [
              "<pre>recommendations finished on 56000/62483 queries. users per second: 84164.6</pre>"
            ]
          },
          "metadata": {}
        },
        {
          "output_type": "display_data",
          "data": {
            "text/plain": [
              "recommendations finished on 57000/62483 queries. users per second: 84167.6"
            ],
            "text/html": [
              "<pre>recommendations finished on 57000/62483 queries. users per second: 84167.6</pre>"
            ]
          },
          "metadata": {}
        },
        {
          "output_type": "display_data",
          "data": {
            "text/plain": [
              "recommendations finished on 58000/62483 queries. users per second: 82763"
            ],
            "text/html": [
              "<pre>recommendations finished on 58000/62483 queries. users per second: 82763</pre>"
            ]
          },
          "metadata": {}
        },
        {
          "output_type": "display_data",
          "data": {
            "text/plain": [
              "recommendations finished on 59000/62483 queries. users per second: 82748.4"
            ],
            "text/html": [
              "<pre>recommendations finished on 59000/62483 queries. users per second: 82748.4</pre>"
            ]
          },
          "metadata": {}
        },
        {
          "output_type": "display_data",
          "data": {
            "text/plain": [
              "recommendations finished on 60000/62483 queries. users per second: 82670.9"
            ],
            "text/html": [
              "<pre>recommendations finished on 60000/62483 queries. users per second: 82670.9</pre>"
            ]
          },
          "metadata": {}
        },
        {
          "output_type": "display_data",
          "data": {
            "text/plain": [
              "recommendations finished on 61000/62483 queries. users per second: 82673.5"
            ],
            "text/html": [
              "<pre>recommendations finished on 61000/62483 queries. users per second: 82673.5</pre>"
            ]
          },
          "metadata": {}
        },
        {
          "output_type": "display_data",
          "data": {
            "text/plain": [
              "recommendations finished on 62000/62483 queries. users per second: 82491.3"
            ],
            "text/html": [
              "<pre>recommendations finished on 62000/62483 queries. users per second: 82491.3</pre>"
            ]
          },
          "metadata": {}
        },
        {
          "output_type": "stream",
          "name": "stdout",
          "text": [
            "+------------+-----------+-------+------+\n",
            "| customerId | productId | score | rank |\n",
            "+------------+-----------+-------+------+\n",
            "|     0      |    131    |  0.0  |  1   |\n",
            "|     0      |    276    |  0.0  |  2   |\n",
            "|     0      |    178    |  0.0  |  3   |\n",
            "|     0      |    296    |  0.0  |  4   |\n",
            "|     0      |    218    |  0.0  |  5   |\n",
            "|     0      |    133    |  0.0  |  6   |\n",
            "|     0      |    149    |  0.0  |  7   |\n",
            "|     0      |    221    |  0.0  |  8   |\n",
            "|     0      |     2     |  0.0  |  9   |\n",
            "|     0      |     16    |  0.0  |  10  |\n",
            "|     1      |     11    |  0.0  |  1   |\n",
            "|     1      |    271    |  0.0  |  2   |\n",
            "|     1      |    131    |  0.0  |  3   |\n",
            "|     1      |    276    |  0.0  |  4   |\n",
            "|     1      |    178    |  0.0  |  5   |\n",
            "|     1      |    218    |  0.0  |  6   |\n",
            "|     1      |    133    |  0.0  |  7   |\n",
            "|     1      |    149    |  0.0  |  8   |\n",
            "|     1      |    221    |  0.0  |  9   |\n",
            "|     1      |     16    |  0.0  |  10  |\n",
            "|     2      |    131    |  0.0  |  1   |\n",
            "|     2      |    276    |  0.0  |  2   |\n",
            "|     2      |    178    |  0.0  |  3   |\n",
            "|     2      |    296    |  0.0  |  4   |\n",
            "|     2      |    218    |  0.0  |  5   |\n",
            "|     2      |    133    |  0.0  |  6   |\n",
            "|     2      |    149    |  0.0  |  7   |\n",
            "|     2      |    221    |  0.0  |  8   |\n",
            "|     2      |     2     |  0.0  |  9   |\n",
            "|     2      |     16    |  0.0  |  10  |\n",
            "+------------+-----------+-------+------+\n",
            "[624830 rows x 4 columns]\n",
            "\n"
          ]
        }
      ]
    },
    {
      "cell_type": "code",
      "source": [
        "name = 'pearson'\n",
        "target = 'scaled_purchase_freq'\n",
        "pear_norm = model(train_data_norm, name, user_id, item_id, target, users_to_recommend, n_rec, n_display)"
      ],
      "metadata": {
        "colab": {
          "base_uri": "https://localhost:8080/",
          "height": 1000
        },
        "id": "hddtfk9fhgl1",
        "outputId": "2becdd4c-ca70-4a7a-8da1-518f024e188c"
      },
      "execution_count": null,
      "outputs": [
        {
          "output_type": "display_data",
          "data": {
            "text/plain": [
              "Preparing data set."
            ],
            "text/html": [
              "<pre>Preparing data set.</pre>"
            ]
          },
          "metadata": {}
        },
        {
          "output_type": "display_data",
          "data": {
            "text/plain": [
              "    Data has 100188 observations with 22877 users and 300 items."
            ],
            "text/html": [
              "<pre>    Data has 100188 observations with 22877 users and 300 items.</pre>"
            ]
          },
          "metadata": {}
        },
        {
          "output_type": "display_data",
          "data": {
            "text/plain": [
              "    Data prepared in: 0.134847s"
            ],
            "text/html": [
              "<pre>    Data prepared in: 0.134847s</pre>"
            ]
          },
          "metadata": {}
        },
        {
          "output_type": "display_data",
          "data": {
            "text/plain": [
              "Training model from provided data."
            ],
            "text/html": [
              "<pre>Training model from provided data.</pre>"
            ]
          },
          "metadata": {}
        },
        {
          "output_type": "display_data",
          "data": {
            "text/plain": [
              "Gathering per-item and per-user statistics."
            ],
            "text/html": [
              "<pre>Gathering per-item and per-user statistics.</pre>"
            ]
          },
          "metadata": {}
        },
        {
          "output_type": "display_data",
          "data": {
            "text/plain": [
              "+--------------------------------+------------+"
            ],
            "text/html": [
              "<pre>+--------------------------------+------------+</pre>"
            ]
          },
          "metadata": {}
        },
        {
          "output_type": "display_data",
          "data": {
            "text/plain": [
              "| Elapsed Time (Item Statistics) | % Complete |"
            ],
            "text/html": [
              "<pre>| Elapsed Time (Item Statistics) | % Complete |</pre>"
            ]
          },
          "metadata": {}
        },
        {
          "output_type": "display_data",
          "data": {
            "text/plain": [
              "+--------------------------------+------------+"
            ],
            "text/html": [
              "<pre>+--------------------------------+------------+</pre>"
            ]
          },
          "metadata": {}
        },
        {
          "output_type": "display_data",
          "data": {
            "text/plain": [
              "| 1.163ms                        | 4.25       |"
            ],
            "text/html": [
              "<pre>| 1.163ms                        | 4.25       |</pre>"
            ]
          },
          "metadata": {}
        },
        {
          "output_type": "display_data",
          "data": {
            "text/plain": [
              "| 21.943ms                       | 100        |"
            ],
            "text/html": [
              "<pre>| 21.943ms                       | 100        |</pre>"
            ]
          },
          "metadata": {}
        },
        {
          "output_type": "display_data",
          "data": {
            "text/plain": [
              "+--------------------------------+------------+"
            ],
            "text/html": [
              "<pre>+--------------------------------+------------+</pre>"
            ]
          },
          "metadata": {}
        },
        {
          "output_type": "display_data",
          "data": {
            "text/plain": [
              "Setting up lookup tables."
            ],
            "text/html": [
              "<pre>Setting up lookup tables.</pre>"
            ]
          },
          "metadata": {}
        },
        {
          "output_type": "display_data",
          "data": {
            "text/plain": [
              "Processing data in one pass using dense lookup tables."
            ],
            "text/html": [
              "<pre>Processing data in one pass using dense lookup tables.</pre>"
            ]
          },
          "metadata": {}
        },
        {
          "output_type": "display_data",
          "data": {
            "text/plain": [
              "+-------------------------------------+------------------+-----------------+"
            ],
            "text/html": [
              "<pre>+-------------------------------------+------------------+-----------------+</pre>"
            ]
          },
          "metadata": {}
        },
        {
          "output_type": "display_data",
          "data": {
            "text/plain": [
              "| Elapsed Time (Constructing Lookups) | Total % Complete | Items Processed |"
            ],
            "text/html": [
              "<pre>| Elapsed Time (Constructing Lookups) | Total % Complete | Items Processed |</pre>"
            ]
          },
          "metadata": {}
        },
        {
          "output_type": "display_data",
          "data": {
            "text/plain": [
              "+-------------------------------------+------------------+-----------------+"
            ],
            "text/html": [
              "<pre>+-------------------------------------+------------------+-----------------+</pre>"
            ]
          },
          "metadata": {}
        },
        {
          "output_type": "display_data",
          "data": {
            "text/plain": [
              "| 22.662ms                            | 0                | 0               |"
            ],
            "text/html": [
              "<pre>| 22.662ms                            | 0                | 0               |</pre>"
            ]
          },
          "metadata": {}
        },
        {
          "output_type": "display_data",
          "data": {
            "text/plain": [
              "| 98.117ms                            | 100              | 300             |"
            ],
            "text/html": [
              "<pre>| 98.117ms                            | 100              | 300             |</pre>"
            ]
          },
          "metadata": {}
        },
        {
          "output_type": "display_data",
          "data": {
            "text/plain": [
              "+-------------------------------------+------------------+-----------------+"
            ],
            "text/html": [
              "<pre>+-------------------------------------+------------------+-----------------+</pre>"
            ]
          },
          "metadata": {}
        },
        {
          "output_type": "display_data",
          "data": {
            "text/plain": [
              "Finalizing lookup tables."
            ],
            "text/html": [
              "<pre>Finalizing lookup tables.</pre>"
            ]
          },
          "metadata": {}
        },
        {
          "output_type": "display_data",
          "data": {
            "text/plain": [
              "Generating candidate set for working with new users."
            ],
            "text/html": [
              "<pre>Generating candidate set for working with new users.</pre>"
            ]
          },
          "metadata": {}
        },
        {
          "output_type": "display_data",
          "data": {
            "text/plain": [
              "Finished training in 0.12397s"
            ],
            "text/html": [
              "<pre>Finished training in 0.12397s</pre>"
            ]
          },
          "metadata": {}
        },
        {
          "output_type": "display_data",
          "data": {
            "text/plain": [
              "recommendations finished on 1000/62483 queries. users per second: 63379.4"
            ],
            "text/html": [
              "<pre>recommendations finished on 1000/62483 queries. users per second: 63379.4</pre>"
            ]
          },
          "metadata": {}
        },
        {
          "output_type": "display_data",
          "data": {
            "text/plain": [
              "recommendations finished on 2000/62483 queries. users per second: 56607.5"
            ],
            "text/html": [
              "<pre>recommendations finished on 2000/62483 queries. users per second: 56607.5</pre>"
            ]
          },
          "metadata": {}
        },
        {
          "output_type": "display_data",
          "data": {
            "text/plain": [
              "recommendations finished on 3000/62483 queries. users per second: 56530.2"
            ],
            "text/html": [
              "<pre>recommendations finished on 3000/62483 queries. users per second: 56530.2</pre>"
            ]
          },
          "metadata": {}
        },
        {
          "output_type": "display_data",
          "data": {
            "text/plain": [
              "recommendations finished on 4000/62483 queries. users per second: 58429.1"
            ],
            "text/html": [
              "<pre>recommendations finished on 4000/62483 queries. users per second: 58429.1</pre>"
            ]
          },
          "metadata": {}
        },
        {
          "output_type": "display_data",
          "data": {
            "text/plain": [
              "recommendations finished on 5000/62483 queries. users per second: 56513.8"
            ],
            "text/html": [
              "<pre>recommendations finished on 5000/62483 queries. users per second: 56513.8</pre>"
            ]
          },
          "metadata": {}
        },
        {
          "output_type": "display_data",
          "data": {
            "text/plain": [
              "recommendations finished on 6000/62483 queries. users per second: 54972.2"
            ],
            "text/html": [
              "<pre>recommendations finished on 6000/62483 queries. users per second: 54972.2</pre>"
            ]
          },
          "metadata": {}
        },
        {
          "output_type": "display_data",
          "data": {
            "text/plain": [
              "recommendations finished on 7000/62483 queries. users per second: 54582.6"
            ],
            "text/html": [
              "<pre>recommendations finished on 7000/62483 queries. users per second: 54582.6</pre>"
            ]
          },
          "metadata": {}
        },
        {
          "output_type": "display_data",
          "data": {
            "text/plain": [
              "recommendations finished on 8000/62483 queries. users per second: 56565.9"
            ],
            "text/html": [
              "<pre>recommendations finished on 8000/62483 queries. users per second: 56565.9</pre>"
            ]
          },
          "metadata": {}
        },
        {
          "output_type": "display_data",
          "data": {
            "text/plain": [
              "recommendations finished on 9000/62483 queries. users per second: 56106.9"
            ],
            "text/html": [
              "<pre>recommendations finished on 9000/62483 queries. users per second: 56106.9</pre>"
            ]
          },
          "metadata": {}
        },
        {
          "output_type": "display_data",
          "data": {
            "text/plain": [
              "recommendations finished on 10000/62483 queries. users per second: 57132.1"
            ],
            "text/html": [
              "<pre>recommendations finished on 10000/62483 queries. users per second: 57132.1</pre>"
            ]
          },
          "metadata": {}
        },
        {
          "output_type": "display_data",
          "data": {
            "text/plain": [
              "recommendations finished on 11000/62483 queries. users per second: 57846"
            ],
            "text/html": [
              "<pre>recommendations finished on 11000/62483 queries. users per second: 57846</pre>"
            ]
          },
          "metadata": {}
        },
        {
          "output_type": "display_data",
          "data": {
            "text/plain": [
              "recommendations finished on 12000/62483 queries. users per second: 58608.1"
            ],
            "text/html": [
              "<pre>recommendations finished on 12000/62483 queries. users per second: 58608.1</pre>"
            ]
          },
          "metadata": {}
        },
        {
          "output_type": "display_data",
          "data": {
            "text/plain": [
              "recommendations finished on 13000/62483 queries. users per second: 59005.4"
            ],
            "text/html": [
              "<pre>recommendations finished on 13000/62483 queries. users per second: 59005.4</pre>"
            ]
          },
          "metadata": {}
        },
        {
          "output_type": "display_data",
          "data": {
            "text/plain": [
              "recommendations finished on 14000/62483 queries. users per second: 59018.2"
            ],
            "text/html": [
              "<pre>recommendations finished on 14000/62483 queries. users per second: 59018.2</pre>"
            ]
          },
          "metadata": {}
        },
        {
          "output_type": "display_data",
          "data": {
            "text/plain": [
              "recommendations finished on 15000/62483 queries. users per second: 59454.9"
            ],
            "text/html": [
              "<pre>recommendations finished on 15000/62483 queries. users per second: 59454.9</pre>"
            ]
          },
          "metadata": {}
        },
        {
          "output_type": "display_data",
          "data": {
            "text/plain": [
              "recommendations finished on 16000/62483 queries. users per second: 59727.6"
            ],
            "text/html": [
              "<pre>recommendations finished on 16000/62483 queries. users per second: 59727.6</pre>"
            ]
          },
          "metadata": {}
        },
        {
          "output_type": "display_data",
          "data": {
            "text/plain": [
              "recommendations finished on 17000/62483 queries. users per second: 60088.7"
            ],
            "text/html": [
              "<pre>recommendations finished on 17000/62483 queries. users per second: 60088.7</pre>"
            ]
          },
          "metadata": {}
        },
        {
          "output_type": "display_data",
          "data": {
            "text/plain": [
              "recommendations finished on 18000/62483 queries. users per second: 60026.4"
            ],
            "text/html": [
              "<pre>recommendations finished on 18000/62483 queries. users per second: 60026.4</pre>"
            ]
          },
          "metadata": {}
        },
        {
          "output_type": "display_data",
          "data": {
            "text/plain": [
              "recommendations finished on 19000/62483 queries. users per second: 60571.1"
            ],
            "text/html": [
              "<pre>recommendations finished on 19000/62483 queries. users per second: 60571.1</pre>"
            ]
          },
          "metadata": {}
        },
        {
          "output_type": "display_data",
          "data": {
            "text/plain": [
              "recommendations finished on 20000/62483 queries. users per second: 60618.6"
            ],
            "text/html": [
              "<pre>recommendations finished on 20000/62483 queries. users per second: 60618.6</pre>"
            ]
          },
          "metadata": {}
        },
        {
          "output_type": "display_data",
          "data": {
            "text/plain": [
              "recommendations finished on 21000/62483 queries. users per second: 60783.2"
            ],
            "text/html": [
              "<pre>recommendations finished on 21000/62483 queries. users per second: 60783.2</pre>"
            ]
          },
          "metadata": {}
        },
        {
          "output_type": "display_data",
          "data": {
            "text/plain": [
              "recommendations finished on 22000/62483 queries. users per second: 60876.6"
            ],
            "text/html": [
              "<pre>recommendations finished on 22000/62483 queries. users per second: 60876.6</pre>"
            ]
          },
          "metadata": {}
        },
        {
          "output_type": "display_data",
          "data": {
            "text/plain": [
              "recommendations finished on 23000/62483 queries. users per second: 61380.8"
            ],
            "text/html": [
              "<pre>recommendations finished on 23000/62483 queries. users per second: 61380.8</pre>"
            ]
          },
          "metadata": {}
        },
        {
          "output_type": "display_data",
          "data": {
            "text/plain": [
              "recommendations finished on 24000/62483 queries. users per second: 61421.6"
            ],
            "text/html": [
              "<pre>recommendations finished on 24000/62483 queries. users per second: 61421.6</pre>"
            ]
          },
          "metadata": {}
        },
        {
          "output_type": "display_data",
          "data": {
            "text/plain": [
              "recommendations finished on 25000/62483 queries. users per second: 61159.5"
            ],
            "text/html": [
              "<pre>recommendations finished on 25000/62483 queries. users per second: 61159.5</pre>"
            ]
          },
          "metadata": {}
        },
        {
          "output_type": "display_data",
          "data": {
            "text/plain": [
              "recommendations finished on 26000/62483 queries. users per second: 61119.5"
            ],
            "text/html": [
              "<pre>recommendations finished on 26000/62483 queries. users per second: 61119.5</pre>"
            ]
          },
          "metadata": {}
        },
        {
          "output_type": "display_data",
          "data": {
            "text/plain": [
              "recommendations finished on 27000/62483 queries. users per second: 61184"
            ],
            "text/html": [
              "<pre>recommendations finished on 27000/62483 queries. users per second: 61184</pre>"
            ]
          },
          "metadata": {}
        },
        {
          "output_type": "display_data",
          "data": {
            "text/plain": [
              "recommendations finished on 28000/62483 queries. users per second: 61172.4"
            ],
            "text/html": [
              "<pre>recommendations finished on 28000/62483 queries. users per second: 61172.4</pre>"
            ]
          },
          "metadata": {}
        },
        {
          "output_type": "display_data",
          "data": {
            "text/plain": [
              "recommendations finished on 29000/62483 queries. users per second: 61385.5"
            ],
            "text/html": [
              "<pre>recommendations finished on 29000/62483 queries. users per second: 61385.5</pre>"
            ]
          },
          "metadata": {}
        },
        {
          "output_type": "display_data",
          "data": {
            "text/plain": [
              "recommendations finished on 30000/62483 queries. users per second: 61447.8"
            ],
            "text/html": [
              "<pre>recommendations finished on 30000/62483 queries. users per second: 61447.8</pre>"
            ]
          },
          "metadata": {}
        },
        {
          "output_type": "display_data",
          "data": {
            "text/plain": [
              "recommendations finished on 31000/62483 queries. users per second: 61470.2"
            ],
            "text/html": [
              "<pre>recommendations finished on 31000/62483 queries. users per second: 61470.2</pre>"
            ]
          },
          "metadata": {}
        },
        {
          "output_type": "display_data",
          "data": {
            "text/plain": [
              "recommendations finished on 32000/62483 queries. users per second: 61080.1"
            ],
            "text/html": [
              "<pre>recommendations finished on 32000/62483 queries. users per second: 61080.1</pre>"
            ]
          },
          "metadata": {}
        },
        {
          "output_type": "display_data",
          "data": {
            "text/plain": [
              "recommendations finished on 33000/62483 queries. users per second: 60974.6"
            ],
            "text/html": [
              "<pre>recommendations finished on 33000/62483 queries. users per second: 60974.6</pre>"
            ]
          },
          "metadata": {}
        },
        {
          "output_type": "display_data",
          "data": {
            "text/plain": [
              "recommendations finished on 34000/62483 queries. users per second: 61154.4"
            ],
            "text/html": [
              "<pre>recommendations finished on 34000/62483 queries. users per second: 61154.4</pre>"
            ]
          },
          "metadata": {}
        },
        {
          "output_type": "display_data",
          "data": {
            "text/plain": [
              "recommendations finished on 35000/62483 queries. users per second: 61372.2"
            ],
            "text/html": [
              "<pre>recommendations finished on 35000/62483 queries. users per second: 61372.2</pre>"
            ]
          },
          "metadata": {}
        },
        {
          "output_type": "display_data",
          "data": {
            "text/plain": [
              "recommendations finished on 36000/62483 queries. users per second: 61561.1"
            ],
            "text/html": [
              "<pre>recommendations finished on 36000/62483 queries. users per second: 61561.1</pre>"
            ]
          },
          "metadata": {}
        },
        {
          "output_type": "display_data",
          "data": {
            "text/plain": [
              "recommendations finished on 37000/62483 queries. users per second: 61470.7"
            ],
            "text/html": [
              "<pre>recommendations finished on 37000/62483 queries. users per second: 61470.7</pre>"
            ]
          },
          "metadata": {}
        },
        {
          "output_type": "display_data",
          "data": {
            "text/plain": [
              "recommendations finished on 38000/62483 queries. users per second: 61581.1"
            ],
            "text/html": [
              "<pre>recommendations finished on 38000/62483 queries. users per second: 61581.1</pre>"
            ]
          },
          "metadata": {}
        },
        {
          "output_type": "display_data",
          "data": {
            "text/plain": [
              "recommendations finished on 39000/62483 queries. users per second: 61928.8"
            ],
            "text/html": [
              "<pre>recommendations finished on 39000/62483 queries. users per second: 61928.8</pre>"
            ]
          },
          "metadata": {}
        },
        {
          "output_type": "display_data",
          "data": {
            "text/plain": [
              "recommendations finished on 40000/62483 queries. users per second: 61794.6"
            ],
            "text/html": [
              "<pre>recommendations finished on 40000/62483 queries. users per second: 61794.6</pre>"
            ]
          },
          "metadata": {}
        },
        {
          "output_type": "display_data",
          "data": {
            "text/plain": [
              "recommendations finished on 41000/62483 queries. users per second: 61314.1"
            ],
            "text/html": [
              "<pre>recommendations finished on 41000/62483 queries. users per second: 61314.1</pre>"
            ]
          },
          "metadata": {}
        },
        {
          "output_type": "display_data",
          "data": {
            "text/plain": [
              "recommendations finished on 42000/62483 queries. users per second: 61346.5"
            ],
            "text/html": [
              "<pre>recommendations finished on 42000/62483 queries. users per second: 61346.5</pre>"
            ]
          },
          "metadata": {}
        },
        {
          "output_type": "display_data",
          "data": {
            "text/plain": [
              "recommendations finished on 43000/62483 queries. users per second: 61638.9"
            ],
            "text/html": [
              "<pre>recommendations finished on 43000/62483 queries. users per second: 61638.9</pre>"
            ]
          },
          "metadata": {}
        },
        {
          "output_type": "display_data",
          "data": {
            "text/plain": [
              "recommendations finished on 44000/62483 queries. users per second: 61549.7"
            ],
            "text/html": [
              "<pre>recommendations finished on 44000/62483 queries. users per second: 61549.7</pre>"
            ]
          },
          "metadata": {}
        },
        {
          "output_type": "display_data",
          "data": {
            "text/plain": [
              "recommendations finished on 45000/62483 queries. users per second: 61551.3"
            ],
            "text/html": [
              "<pre>recommendations finished on 45000/62483 queries. users per second: 61551.3</pre>"
            ]
          },
          "metadata": {}
        },
        {
          "output_type": "display_data",
          "data": {
            "text/plain": [
              "recommendations finished on 46000/62483 queries. users per second: 61600.4"
            ],
            "text/html": [
              "<pre>recommendations finished on 46000/62483 queries. users per second: 61600.4</pre>"
            ]
          },
          "metadata": {}
        },
        {
          "output_type": "display_data",
          "data": {
            "text/plain": [
              "recommendations finished on 47000/62483 queries. users per second: 61830.7"
            ],
            "text/html": [
              "<pre>recommendations finished on 47000/62483 queries. users per second: 61830.7</pre>"
            ]
          },
          "metadata": {}
        },
        {
          "output_type": "display_data",
          "data": {
            "text/plain": [
              "recommendations finished on 48000/62483 queries. users per second: 61781"
            ],
            "text/html": [
              "<pre>recommendations finished on 48000/62483 queries. users per second: 61781</pre>"
            ]
          },
          "metadata": {}
        },
        {
          "output_type": "display_data",
          "data": {
            "text/plain": [
              "recommendations finished on 49000/62483 queries. users per second: 61345.1"
            ],
            "text/html": [
              "<pre>recommendations finished on 49000/62483 queries. users per second: 61345.1</pre>"
            ]
          },
          "metadata": {}
        },
        {
          "output_type": "display_data",
          "data": {
            "text/plain": [
              "recommendations finished on 50000/62483 queries. users per second: 61324.9"
            ],
            "text/html": [
              "<pre>recommendations finished on 50000/62483 queries. users per second: 61324.9</pre>"
            ]
          },
          "metadata": {}
        },
        {
          "output_type": "display_data",
          "data": {
            "text/plain": [
              "recommendations finished on 51000/62483 queries. users per second: 61352.6"
            ],
            "text/html": [
              "<pre>recommendations finished on 51000/62483 queries. users per second: 61352.6</pre>"
            ]
          },
          "metadata": {}
        },
        {
          "output_type": "display_data",
          "data": {
            "text/plain": [
              "recommendations finished on 52000/62483 queries. users per second: 61415.6"
            ],
            "text/html": [
              "<pre>recommendations finished on 52000/62483 queries. users per second: 61415.6</pre>"
            ]
          },
          "metadata": {}
        },
        {
          "output_type": "display_data",
          "data": {
            "text/plain": [
              "recommendations finished on 53000/62483 queries. users per second: 61459.8"
            ],
            "text/html": [
              "<pre>recommendations finished on 53000/62483 queries. users per second: 61459.8</pre>"
            ]
          },
          "metadata": {}
        },
        {
          "output_type": "display_data",
          "data": {
            "text/plain": [
              "recommendations finished on 54000/62483 queries. users per second: 61304.3"
            ],
            "text/html": [
              "<pre>recommendations finished on 54000/62483 queries. users per second: 61304.3</pre>"
            ]
          },
          "metadata": {}
        },
        {
          "output_type": "display_data",
          "data": {
            "text/plain": [
              "recommendations finished on 55000/62483 queries. users per second: 61274"
            ],
            "text/html": [
              "<pre>recommendations finished on 55000/62483 queries. users per second: 61274</pre>"
            ]
          },
          "metadata": {}
        },
        {
          "output_type": "display_data",
          "data": {
            "text/plain": [
              "recommendations finished on 56000/62483 queries. users per second: 61456.5"
            ],
            "text/html": [
              "<pre>recommendations finished on 56000/62483 queries. users per second: 61456.5</pre>"
            ]
          },
          "metadata": {}
        },
        {
          "output_type": "display_data",
          "data": {
            "text/plain": [
              "recommendations finished on 57000/62483 queries. users per second: 61344.7"
            ],
            "text/html": [
              "<pre>recommendations finished on 57000/62483 queries. users per second: 61344.7</pre>"
            ]
          },
          "metadata": {}
        },
        {
          "output_type": "display_data",
          "data": {
            "text/plain": [
              "recommendations finished on 58000/62483 queries. users per second: 61273.6"
            ],
            "text/html": [
              "<pre>recommendations finished on 58000/62483 queries. users per second: 61273.6</pre>"
            ]
          },
          "metadata": {}
        },
        {
          "output_type": "display_data",
          "data": {
            "text/plain": [
              "recommendations finished on 59000/62483 queries. users per second: 61321.6"
            ],
            "text/html": [
              "<pre>recommendations finished on 59000/62483 queries. users per second: 61321.6</pre>"
            ]
          },
          "metadata": {}
        },
        {
          "output_type": "display_data",
          "data": {
            "text/plain": [
              "recommendations finished on 60000/62483 queries. users per second: 61325.4"
            ],
            "text/html": [
              "<pre>recommendations finished on 60000/62483 queries. users per second: 61325.4</pre>"
            ]
          },
          "metadata": {}
        },
        {
          "output_type": "display_data",
          "data": {
            "text/plain": [
              "recommendations finished on 61000/62483 queries. users per second: 61178.8"
            ],
            "text/html": [
              "<pre>recommendations finished on 61000/62483 queries. users per second: 61178.8</pre>"
            ]
          },
          "metadata": {}
        },
        {
          "output_type": "display_data",
          "data": {
            "text/plain": [
              "recommendations finished on 62000/62483 queries. users per second: 60890.5"
            ],
            "text/html": [
              "<pre>recommendations finished on 62000/62483 queries. users per second: 60890.5</pre>"
            ]
          },
          "metadata": {}
        },
        {
          "output_type": "stream",
          "name": "stdout",
          "text": [
            "+------------+-----------+---------------------+------+\n",
            "| customerId | productId |        score        | rank |\n",
            "+------------+-----------+---------------------+------+\n",
            "|     0      |    226    |  0.7990779333042374 |  1   |\n",
            "|     0      |    247    | 0.33331538637479147 |  2   |\n",
            "|     0      |    230    |  0.3236202478408812 |  3   |\n",
            "|     0      |    125    |  0.2666336278120676 |  4   |\n",
            "|     0      |    294    | 0.26050272348548187 |  5   |\n",
            "|     0      |    248    |  0.2534359395503998 |  6   |\n",
            "|     0      |    204    |  0.2423662948608399 |  7   |\n",
            "|     0      |    155    |  0.2377358490566038 |  8   |\n",
            "|     0      |    213    |   0.23548006529041  |  9   |\n",
            "|     0      |    276    |  0.2320187066953013 |  10  |\n",
            "|     1      |    226    |  0.7993213169502487 |  1   |\n",
            "|     1      |    247    | 0.33330311775207516 |  2   |\n",
            "|     1      |    230    |  0.3233690857887267 |  3   |\n",
            "|     1      |    125    | 0.26662703752517697 |  4   |\n",
            "|     1      |    294    |  0.2603607929053427 |  5   |\n",
            "|     1      |    248    | 0.24995352427164713 |  6   |\n",
            "|     1      |    204    | 0.24244704325993863 |  7   |\n",
            "|     1      |    155    |  0.2376413001954181 |  8   |\n",
            "|     1      |    213    |  0.2354257932745205 |  9   |\n",
            "|     1      |    276    | 0.23217311252759196 |  10  |\n",
            "|     2      |    226    |  0.799242424242424  |  1   |\n",
            "|     2      |    247    |  0.3333333333333333 |  2   |\n",
            "|     2      |    230    |  0.3233064740896224 |  3   |\n",
            "|     2      |    125    |  0.2666666666666666 |  4   |\n",
            "|     2      |    294    |  0.2605042016806723 |  5   |\n",
            "|     2      |    248    |  0.2498595267534256 |  6   |\n",
            "|     2      |    204    |  0.2432483214139939 |  7   |\n",
            "|     2      |    155    |  0.2377358490566038 |  8   |\n",
            "|     2      |    213    |  0.2354892205638475 |  9   |\n",
            "|     2      |    276    |  0.2321771745841334 |  10  |\n",
            "+------------+-----------+---------------------+------+\n",
            "[624830 rows x 4 columns]\n",
            "\n"
          ]
        }
      ]
    },
    {
      "cell_type": "markdown",
      "source": [
        "In collaborative filtering above, we used two approaches: cosine and pearson distance. We also got to apply them to three training datasets with normal counts, dummy, or normalized counts of items purchase.\n",
        "We can see that the recommendations are different for each user. This suggests that personalization does exist.\n",
        "But how good is this model compared to the baseline..we will look upto evaluation for that"
      ],
      "metadata": {
        "id": "3TOL9czj1qpK"
      }
    },
    {
      "cell_type": "code",
      "source": [
        "#For evaluating recommendation engines\n",
        "# RMSE (Root Mean Squared Errors)\n",
        "# Measures the error of predicted values, Lesser the RMSE value, better the recommendations\n",
        "\n",
        "# Recall\n",
        "# What percentage of products that a user buys are actually recommended?\n",
        "# If a customer buys 5 products and the recommendation decided to show 3 of them, then the recall is 0.6\n",
        "\n",
        "# Precision\n",
        "# Out of all the recommended items, how many the user actually liked?\n",
        "# If 5 products were recommended to the customer out of which he buys 4 of them, then precision is 0.8\n",
        "\n",
        "# Recall and precision both are important\n",
        "# Consider a case where we recommend all products, so our customers will surely cover the items that they liked and bought. In this case, we have 100% recall!\n",
        "# We have to consider precision. If we recommend 300 items but user likes and buys only 3 of them, then precision is 0.1%!\n",
        "# This very low precision indicates that the model is not great, despite their excellent recall.\n",
        "# So our aim has to be optimizing both recall and precision (to be close to 1 as possible).\n",
        "\n",
        "models_w_counts = [popularity_model, cos, pear]\n",
        "models_w_dummy = [pop_dummy, cos_dummy, pear_dummy]\n",
        "models_w_norm = [pop_norm, cos_norm, pear_norm]\n",
        "\n",
        "names_w_counts = ['Popularity Model on Purchase Counts', 'Cosine Similarity on Purchase Counts', 'Pearson Similarity on Purchase Counts']\n",
        "names_w_dummy = ['Popularity Model on Purchase Dummy', 'Cosine Similarity on Purchase Dummy', 'Pearson Similarity on Purchase Dummy']\n",
        "names_w_norm = ['Popularity Model on Scaled Purchase Counts', 'Cosine Similarity on Scaled Purchase Counts', 'Pearson Similarity on Scaled Purchase CounTS']"
      ],
      "metadata": {
        "id": "xw5K-bsvURjc"
      },
      "execution_count": null,
      "outputs": []
    },
    {
      "cell_type": "markdown",
      "source": [
        "Models on purchase counts"
      ],
      "metadata": {
        "id": "aWMEzgpn3R93"
      }
    },
    {
      "cell_type": "code",
      "source": [
        "eval_counts = tc.recommender.util.compare_models(test_data, models_w_counts, model_names=names_w_counts)"
      ],
      "metadata": {
        "colab": {
          "base_uri": "https://localhost:8080/",
          "height": 1000
        },
        "id": "4nw1TgPO3MJ1",
        "outputId": "3fa86b4f-c0af-4a9f-a026-fe6f484141a6"
      },
      "execution_count": null,
      "outputs": [
        {
          "output_type": "stream",
          "name": "stdout",
          "text": [
            "PROGRESS: Evaluate model Popularity Model on Purchase Counts\n"
          ]
        },
        {
          "output_type": "display_data",
          "data": {
            "text/plain": [
              "recommendations finished on 1000/14031 queries. users per second: 52485.2"
            ],
            "text/html": [
              "<pre>recommendations finished on 1000/14031 queries. users per second: 52485.2</pre>"
            ]
          },
          "metadata": {}
        },
        {
          "output_type": "display_data",
          "data": {
            "text/plain": [
              "recommendations finished on 2000/14031 queries. users per second: 52907.3"
            ],
            "text/html": [
              "<pre>recommendations finished on 2000/14031 queries. users per second: 52907.3</pre>"
            ]
          },
          "metadata": {}
        },
        {
          "output_type": "display_data",
          "data": {
            "text/plain": [
              "recommendations finished on 3000/14031 queries. users per second: 57111.3"
            ],
            "text/html": [
              "<pre>recommendations finished on 3000/14031 queries. users per second: 57111.3</pre>"
            ]
          },
          "metadata": {}
        },
        {
          "output_type": "display_data",
          "data": {
            "text/plain": [
              "recommendations finished on 4000/14031 queries. users per second: 59542.4"
            ],
            "text/html": [
              "<pre>recommendations finished on 4000/14031 queries. users per second: 59542.4</pre>"
            ]
          },
          "metadata": {}
        },
        {
          "output_type": "display_data",
          "data": {
            "text/plain": [
              "recommendations finished on 5000/14031 queries. users per second: 61163.6"
            ],
            "text/html": [
              "<pre>recommendations finished on 5000/14031 queries. users per second: 61163.6</pre>"
            ]
          },
          "metadata": {}
        },
        {
          "output_type": "display_data",
          "data": {
            "text/plain": [
              "recommendations finished on 6000/14031 queries. users per second: 60117.8"
            ],
            "text/html": [
              "<pre>recommendations finished on 6000/14031 queries. users per second: 60117.8</pre>"
            ]
          },
          "metadata": {}
        },
        {
          "output_type": "display_data",
          "data": {
            "text/plain": [
              "recommendations finished on 7000/14031 queries. users per second: 58207.2"
            ],
            "text/html": [
              "<pre>recommendations finished on 7000/14031 queries. users per second: 58207.2</pre>"
            ]
          },
          "metadata": {}
        },
        {
          "output_type": "display_data",
          "data": {
            "text/plain": [
              "recommendations finished on 8000/14031 queries. users per second: 58878.5"
            ],
            "text/html": [
              "<pre>recommendations finished on 8000/14031 queries. users per second: 58878.5</pre>"
            ]
          },
          "metadata": {}
        },
        {
          "output_type": "display_data",
          "data": {
            "text/plain": [
              "recommendations finished on 9000/14031 queries. users per second: 60120.6"
            ],
            "text/html": [
              "<pre>recommendations finished on 9000/14031 queries. users per second: 60120.6</pre>"
            ]
          },
          "metadata": {}
        },
        {
          "output_type": "display_data",
          "data": {
            "text/plain": [
              "recommendations finished on 10000/14031 queries. users per second: 60498.6"
            ],
            "text/html": [
              "<pre>recommendations finished on 10000/14031 queries. users per second: 60498.6</pre>"
            ]
          },
          "metadata": {}
        },
        {
          "output_type": "display_data",
          "data": {
            "text/plain": [
              "recommendations finished on 11000/14031 queries. users per second: 60120.5"
            ],
            "text/html": [
              "<pre>recommendations finished on 11000/14031 queries. users per second: 60120.5</pre>"
            ]
          },
          "metadata": {}
        },
        {
          "output_type": "display_data",
          "data": {
            "text/plain": [
              "recommendations finished on 12000/14031 queries. users per second: 59878.1"
            ],
            "text/html": [
              "<pre>recommendations finished on 12000/14031 queries. users per second: 59878.1</pre>"
            ]
          },
          "metadata": {}
        },
        {
          "output_type": "display_data",
          "data": {
            "text/plain": [
              "recommendations finished on 13000/14031 queries. users per second: 60698.9"
            ],
            "text/html": [
              "<pre>recommendations finished on 13000/14031 queries. users per second: 60698.9</pre>"
            ]
          },
          "metadata": {}
        },
        {
          "output_type": "display_data",
          "data": {
            "text/plain": [
              "recommendations finished on 14000/14031 queries. users per second: 60315.7"
            ],
            "text/html": [
              "<pre>recommendations finished on 14000/14031 queries. users per second: 60315.7</pre>"
            ]
          },
          "metadata": {}
        },
        {
          "output_type": "stream",
          "name": "stdout",
          "text": [
            "\n",
            "Precision and recall summary statistics by cutoff\n",
            "+--------+----------------------+-----------------------+\n",
            "| cutoff |    mean_precision    |      mean_recall      |\n",
            "+--------+----------------------+-----------------------+\n",
            "|   1    | 0.006913263487990877 | 0.0037765763951578104 |\n",
            "|   2    | 0.00527403606300335  | 0.0056576502558188845 |\n",
            "|   3    | 0.004181217779678347 |  0.006619904470692301 |\n",
            "|   4    | 0.00776851257928873  |  0.016445260897418254 |\n",
            "|   5    | 0.006499893093863632 |  0.017163596600787118 |\n",
            "|   6    | 0.006758843513173239 |  0.02143067867415525  |\n",
            "|   7    | 0.006200555911909348 |  0.022790253221670775 |\n",
            "|   8    | 0.005728387142755327 |  0.024084312408075476 |\n",
            "|   9    | 0.00559079498570632  |  0.026986407643312706 |\n",
            "|   10   | 0.005430831729741297 |  0.029391965404867895 |\n",
            "+--------+----------------------+-----------------------+\n",
            "[10 rows x 3 columns]\n",
            "\n",
            "\n",
            "Overall RMSE: 1.066058310954435\n",
            "\n",
            "Per User RMSE (best)\n",
            "+------------+------+-------+\n",
            "| customerId | rmse | count |\n",
            "+------------+------+-------+\n",
            "|   11274    | 0.0  |   1   |\n",
            "+------------+------+-------+\n",
            "[1 rows x 3 columns]\n",
            "\n",
            "\n",
            "Per User RMSE (worst)\n",
            "+------------+-------------------+-------+\n",
            "| customerId |        rmse       | count |\n",
            "+------------+-------------------+-------+\n",
            "|    1453    | 30.84541162246167 |   4   |\n",
            "+------------+-------------------+-------+\n",
            "[1 rows x 3 columns]\n",
            "\n",
            "\n",
            "Per Item RMSE (best)\n",
            "+-----------+--------------------+-------+\n",
            "| productId |        rmse        | count |\n",
            "+-----------+--------------------+-------+\n",
            "|    202    | 0.3228212755333707 |   85  |\n",
            "+-----------+--------------------+-------+\n",
            "[1 rows x 3 columns]\n",
            "\n",
            "\n",
            "Per Item RMSE (worst)\n",
            "+-----------+-------------------+-------+\n",
            "| productId |        rmse       | count |\n",
            "+-----------+-------------------+-------+\n",
            "|     82    | 8.026065786397202 |   66  |\n",
            "+-----------+-------------------+-------+\n",
            "[1 rows x 3 columns]\n",
            "\n",
            "PROGRESS: Evaluate model Cosine Similarity on Purchase Counts\n"
          ]
        },
        {
          "output_type": "display_data",
          "data": {
            "text/plain": [
              "recommendations finished on 1000/14031 queries. users per second: 45535.3"
            ],
            "text/html": [
              "<pre>recommendations finished on 1000/14031 queries. users per second: 45535.3</pre>"
            ]
          },
          "metadata": {}
        },
        {
          "output_type": "display_data",
          "data": {
            "text/plain": [
              "recommendations finished on 2000/14031 queries. users per second: 42744.2"
            ],
            "text/html": [
              "<pre>recommendations finished on 2000/14031 queries. users per second: 42744.2</pre>"
            ]
          },
          "metadata": {}
        },
        {
          "output_type": "display_data",
          "data": {
            "text/plain": [
              "recommendations finished on 3000/14031 queries. users per second: 41863.2"
            ],
            "text/html": [
              "<pre>recommendations finished on 3000/14031 queries. users per second: 41863.2</pre>"
            ]
          },
          "metadata": {}
        },
        {
          "output_type": "display_data",
          "data": {
            "text/plain": [
              "recommendations finished on 4000/14031 queries. users per second: 43385.8"
            ],
            "text/html": [
              "<pre>recommendations finished on 4000/14031 queries. users per second: 43385.8</pre>"
            ]
          },
          "metadata": {}
        },
        {
          "output_type": "display_data",
          "data": {
            "text/plain": [
              "recommendations finished on 5000/14031 queries. users per second: 44148.6"
            ],
            "text/html": [
              "<pre>recommendations finished on 5000/14031 queries. users per second: 44148.6</pre>"
            ]
          },
          "metadata": {}
        },
        {
          "output_type": "display_data",
          "data": {
            "text/plain": [
              "recommendations finished on 6000/14031 queries. users per second: 43267.9"
            ],
            "text/html": [
              "<pre>recommendations finished on 6000/14031 queries. users per second: 43267.9</pre>"
            ]
          },
          "metadata": {}
        },
        {
          "output_type": "display_data",
          "data": {
            "text/plain": [
              "recommendations finished on 7000/14031 queries. users per second: 43262.2"
            ],
            "text/html": [
              "<pre>recommendations finished on 7000/14031 queries. users per second: 43262.2</pre>"
            ]
          },
          "metadata": {}
        },
        {
          "output_type": "display_data",
          "data": {
            "text/plain": [
              "recommendations finished on 8000/14031 queries. users per second: 43858"
            ],
            "text/html": [
              "<pre>recommendations finished on 8000/14031 queries. users per second: 43858</pre>"
            ]
          },
          "metadata": {}
        },
        {
          "output_type": "display_data",
          "data": {
            "text/plain": [
              "recommendations finished on 9000/14031 queries. users per second: 44292.2"
            ],
            "text/html": [
              "<pre>recommendations finished on 9000/14031 queries. users per second: 44292.2</pre>"
            ]
          },
          "metadata": {}
        },
        {
          "output_type": "display_data",
          "data": {
            "text/plain": [
              "recommendations finished on 10000/14031 queries. users per second: 44633.7"
            ],
            "text/html": [
              "<pre>recommendations finished on 10000/14031 queries. users per second: 44633.7</pre>"
            ]
          },
          "metadata": {}
        },
        {
          "output_type": "display_data",
          "data": {
            "text/plain": [
              "recommendations finished on 11000/14031 queries. users per second: 44927.1"
            ],
            "text/html": [
              "<pre>recommendations finished on 11000/14031 queries. users per second: 44927.1</pre>"
            ]
          },
          "metadata": {}
        },
        {
          "output_type": "display_data",
          "data": {
            "text/plain": [
              "recommendations finished on 12000/14031 queries. users per second: 44645.2"
            ],
            "text/html": [
              "<pre>recommendations finished on 12000/14031 queries. users per second: 44645.2</pre>"
            ]
          },
          "metadata": {}
        },
        {
          "output_type": "display_data",
          "data": {
            "text/plain": [
              "recommendations finished on 13000/14031 queries. users per second: 43810.7"
            ],
            "text/html": [
              "<pre>recommendations finished on 13000/14031 queries. users per second: 43810.7</pre>"
            ]
          },
          "metadata": {}
        },
        {
          "output_type": "display_data",
          "data": {
            "text/plain": [
              "recommendations finished on 14000/14031 queries. users per second: 43425.5"
            ],
            "text/html": [
              "<pre>recommendations finished on 14000/14031 queries. users per second: 43425.5</pre>"
            ]
          },
          "metadata": {}
        },
        {
          "output_type": "stream",
          "name": "stdout",
          "text": [
            "\n",
            "Precision and recall summary statistics by cutoff\n",
            "+--------+----------------------+---------------------+\n",
            "| cutoff |    mean_precision    |     mean_recall     |\n",
            "+--------+----------------------+---------------------+\n",
            "|   1    | 0.11752547929584507  | 0.06970143012437972 |\n",
            "|   2    | 0.09603734587698665  | 0.11210007330442211 |\n",
            "|   3    | 0.08027462998598335  | 0.13806776139357765 |\n",
            "|   4    | 0.07014824317582503  | 0.15994896063838734 |\n",
            "|   5    | 0.06213384648278859  |  0.1757659060683326 |\n",
            "|   6    | 0.055971301641603056 | 0.18967770006213003 |\n",
            "|   7    | 0.050968773226631126 | 0.19983044858776738 |\n",
            "|   8    | 0.04734160074121588  | 0.21171425171595779 |\n",
            "|   9    | 0.044227464582392476 | 0.22130248760676074 |\n",
            "|   10   | 0.04165063074620495  |   0.23101745612002  |\n",
            "+--------+----------------------+---------------------+\n",
            "[10 rows x 3 columns]\n",
            "\n",
            "\n",
            "Overall RMSE: 1.8985542264657878\n",
            "\n",
            "Per User RMSE (best)\n",
            "+------------+-------------------+-------+\n",
            "| customerId |        rmse       | count |\n",
            "+------------+-------------------+-------+\n",
            "|   23900    | 0.329681396484375 |   1   |\n",
            "+------------+-------------------+-------+\n",
            "[1 rows x 3 columns]\n",
            "\n",
            "\n",
            "Per User RMSE (worst)\n",
            "+------------+-------------------+-------+\n",
            "| customerId |        rmse       | count |\n",
            "+------------+-------------------+-------+\n",
            "|    1453    | 31.94812006674805 |   4   |\n",
            "+------------+-------------------+-------+\n",
            "[1 rows x 3 columns]\n",
            "\n",
            "\n",
            "Per Item RMSE (best)\n",
            "+-----------+-------------------+-------+\n",
            "| productId |        rmse       | count |\n",
            "+-----------+-------------------+-------+\n",
            "|    166    | 1.097927795059441 |   99  |\n",
            "+-----------+-------------------+-------+\n",
            "[1 rows x 3 columns]\n",
            "\n",
            "\n",
            "Per Item RMSE (worst)\n",
            "+-----------+-------------------+-------+\n",
            "| productId |        rmse       | count |\n",
            "+-----------+-------------------+-------+\n",
            "|     82    | 8.523919474265755 |   66  |\n",
            "+-----------+-------------------+-------+\n",
            "[1 rows x 3 columns]\n",
            "\n",
            "PROGRESS: Evaluate model Pearson Similarity on Purchase Counts\n"
          ]
        },
        {
          "output_type": "display_data",
          "data": {
            "text/plain": [
              "recommendations finished on 1000/14031 queries. users per second: 42337"
            ],
            "text/html": [
              "<pre>recommendations finished on 1000/14031 queries. users per second: 42337</pre>"
            ]
          },
          "metadata": {}
        },
        {
          "output_type": "display_data",
          "data": {
            "text/plain": [
              "recommendations finished on 2000/14031 queries. users per second: 39899.5"
            ],
            "text/html": [
              "<pre>recommendations finished on 2000/14031 queries. users per second: 39899.5</pre>"
            ]
          },
          "metadata": {}
        },
        {
          "output_type": "display_data",
          "data": {
            "text/plain": [
              "recommendations finished on 3000/14031 queries. users per second: 41349.7"
            ],
            "text/html": [
              "<pre>recommendations finished on 3000/14031 queries. users per second: 41349.7</pre>"
            ]
          },
          "metadata": {}
        },
        {
          "output_type": "display_data",
          "data": {
            "text/plain": [
              "recommendations finished on 4000/14031 queries. users per second: 42273.9"
            ],
            "text/html": [
              "<pre>recommendations finished on 4000/14031 queries. users per second: 42273.9</pre>"
            ]
          },
          "metadata": {}
        },
        {
          "output_type": "display_data",
          "data": {
            "text/plain": [
              "recommendations finished on 5000/14031 queries. users per second: 39921.4"
            ],
            "text/html": [
              "<pre>recommendations finished on 5000/14031 queries. users per second: 39921.4</pre>"
            ]
          },
          "metadata": {}
        },
        {
          "output_type": "display_data",
          "data": {
            "text/plain": [
              "recommendations finished on 6000/14031 queries. users per second: 39024.4"
            ],
            "text/html": [
              "<pre>recommendations finished on 6000/14031 queries. users per second: 39024.4</pre>"
            ]
          },
          "metadata": {}
        },
        {
          "output_type": "display_data",
          "data": {
            "text/plain": [
              "recommendations finished on 7000/14031 queries. users per second: 38111.4"
            ],
            "text/html": [
              "<pre>recommendations finished on 7000/14031 queries. users per second: 38111.4</pre>"
            ]
          },
          "metadata": {}
        },
        {
          "output_type": "display_data",
          "data": {
            "text/plain": [
              "recommendations finished on 8000/14031 queries. users per second: 38960.9"
            ],
            "text/html": [
              "<pre>recommendations finished on 8000/14031 queries. users per second: 38960.9</pre>"
            ]
          },
          "metadata": {}
        },
        {
          "output_type": "display_data",
          "data": {
            "text/plain": [
              "recommendations finished on 9000/14031 queries. users per second: 39364.9"
            ],
            "text/html": [
              "<pre>recommendations finished on 9000/14031 queries. users per second: 39364.9</pre>"
            ]
          },
          "metadata": {}
        },
        {
          "output_type": "display_data",
          "data": {
            "text/plain": [
              "recommendations finished on 10000/14031 queries. users per second: 39927.8"
            ],
            "text/html": [
              "<pre>recommendations finished on 10000/14031 queries. users per second: 39927.8</pre>"
            ]
          },
          "metadata": {}
        },
        {
          "output_type": "display_data",
          "data": {
            "text/plain": [
              "recommendations finished on 11000/14031 queries. users per second: 40404.6"
            ],
            "text/html": [
              "<pre>recommendations finished on 11000/14031 queries. users per second: 40404.6</pre>"
            ]
          },
          "metadata": {}
        },
        {
          "output_type": "display_data",
          "data": {
            "text/plain": [
              "recommendations finished on 12000/14031 queries. users per second: 40929"
            ],
            "text/html": [
              "<pre>recommendations finished on 12000/14031 queries. users per second: 40929</pre>"
            ]
          },
          "metadata": {}
        },
        {
          "output_type": "display_data",
          "data": {
            "text/plain": [
              "recommendations finished on 13000/14031 queries. users per second: 40062.5"
            ],
            "text/html": [
              "<pre>recommendations finished on 13000/14031 queries. users per second: 40062.5</pre>"
            ]
          },
          "metadata": {}
        },
        {
          "output_type": "display_data",
          "data": {
            "text/plain": [
              "recommendations finished on 14000/14031 queries. users per second: 39902.6"
            ],
            "text/html": [
              "<pre>recommendations finished on 14000/14031 queries. users per second: 39902.6</pre>"
            ]
          },
          "metadata": {}
        },
        {
          "output_type": "stream",
          "name": "stdout",
          "text": [
            "\n",
            "Precision and recall summary statistics by cutoff\n",
            "+--------+-----------------------+----------------------+\n",
            "| cutoff |     mean_precision    |     mean_recall      |\n",
            "+--------+-----------------------+----------------------+\n",
            "|   1    |  0.00705580500320717  | 0.003883482531570038 |\n",
            "|   2    |  0.005309671441807435 | 0.005764556392231114 |\n",
            "|   3    |  0.004323759294894662 | 0.007011893637537142 |\n",
            "|   4    |  0.007358705723041836 | 0.015175962642873046 |\n",
            "|   5    |  0.006528401396906894 | 0.01730613811600334  |\n",
            "|   6    |  0.006794478891977317 | 0.02164449094697971  |\n",
            "|   7    |  0.006241282059114005 | 0.02307533625210339  |\n",
            "|   8    | 0.0057818402109614435 | 0.024464423115318983 |\n",
            "|   9    |  0.005606632931841459 | 0.027081435320123567 |\n",
            "|   10   |  0.005430831729741287 |  0.0294810538518781  |\n",
            "+--------+-----------------------+----------------------+\n",
            "[10 rows x 3 columns]\n",
            "\n",
            "\n",
            "Overall RMSE: 1.0634499113228957\n",
            "\n",
            "Per User RMSE (best)\n",
            "+------------+------+-------+\n",
            "| customerId | rmse | count |\n",
            "+------------+------+-------+\n",
            "|   22534    | 0.0  |   1   |\n",
            "+------------+------+-------+\n",
            "[1 rows x 3 columns]\n",
            "\n",
            "\n",
            "Per User RMSE (worst)\n",
            "+------------+--------------------+-------+\n",
            "| customerId |        rmse        | count |\n",
            "+------------+--------------------+-------+\n",
            "|    1453    | 30.845487963540805 |   4   |\n",
            "+------------+--------------------+-------+\n",
            "[1 rows x 3 columns]\n",
            "\n",
            "\n",
            "Per Item RMSE (best)\n",
            "+-----------+--------------------+-------+\n",
            "| productId |        rmse        | count |\n",
            "+-----------+--------------------+-------+\n",
            "|    202    | 0.3219103829380837 |   85  |\n",
            "+-----------+--------------------+-------+\n",
            "[1 rows x 3 columns]\n",
            "\n",
            "\n",
            "Per Item RMSE (worst)\n",
            "+-----------+-------------------+-------+\n",
            "| productId |        rmse       | count |\n",
            "+-----------+-------------------+-------+\n",
            "|     82    | 8.026042598370662 |   66  |\n",
            "+-----------+-------------------+-------+\n",
            "[1 rows x 3 columns]\n",
            "\n"
          ]
        }
      ]
    },
    {
      "cell_type": "markdown",
      "source": [
        "Models on purchase dummy"
      ],
      "metadata": {
        "id": "nahbQjMQ3Yj1"
      }
    },
    {
      "cell_type": "code",
      "source": [
        "eval_dummy = tc.recommender.util.compare_models(test_data_dummy, models_w_dummy, model_names=names_w_dummy)"
      ],
      "metadata": {
        "colab": {
          "base_uri": "https://localhost:8080/",
          "height": 1000
        },
        "id": "oQiH5lj03aAu",
        "outputId": "0be5d658-9330-48d0-ca48-4dbf8e1a7fe5"
      },
      "execution_count": null,
      "outputs": [
        {
          "output_type": "stream",
          "name": "stdout",
          "text": [
            "PROGRESS: Evaluate model Popularity Model on Purchase Dummy\n"
          ]
        },
        {
          "output_type": "display_data",
          "data": {
            "text/plain": [
              "recommendations finished on 1000/15565 queries. users per second: 65677.1"
            ],
            "text/html": [
              "<pre>recommendations finished on 1000/15565 queries. users per second: 65677.1</pre>"
            ]
          },
          "metadata": {}
        },
        {
          "output_type": "display_data",
          "data": {
            "text/plain": [
              "recommendations finished on 2000/15565 queries. users per second: 62642.9"
            ],
            "text/html": [
              "<pre>recommendations finished on 2000/15565 queries. users per second: 62642.9</pre>"
            ]
          },
          "metadata": {}
        },
        {
          "output_type": "display_data",
          "data": {
            "text/plain": [
              "recommendations finished on 3000/15565 queries. users per second: 62082.2"
            ],
            "text/html": [
              "<pre>recommendations finished on 3000/15565 queries. users per second: 62082.2</pre>"
            ]
          },
          "metadata": {}
        },
        {
          "output_type": "display_data",
          "data": {
            "text/plain": [
              "recommendations finished on 4000/15565 queries. users per second: 65817.6"
            ],
            "text/html": [
              "<pre>recommendations finished on 4000/15565 queries. users per second: 65817.6</pre>"
            ]
          },
          "metadata": {}
        },
        {
          "output_type": "display_data",
          "data": {
            "text/plain": [
              "recommendations finished on 5000/15565 queries. users per second: 67910.8"
            ],
            "text/html": [
              "<pre>recommendations finished on 5000/15565 queries. users per second: 67910.8</pre>"
            ]
          },
          "metadata": {}
        },
        {
          "output_type": "display_data",
          "data": {
            "text/plain": [
              "recommendations finished on 6000/15565 queries. users per second: 64131.3"
            ],
            "text/html": [
              "<pre>recommendations finished on 6000/15565 queries. users per second: 64131.3</pre>"
            ]
          },
          "metadata": {}
        },
        {
          "output_type": "display_data",
          "data": {
            "text/plain": [
              "recommendations finished on 7000/15565 queries. users per second: 65409.6"
            ],
            "text/html": [
              "<pre>recommendations finished on 7000/15565 queries. users per second: 65409.6</pre>"
            ]
          },
          "metadata": {}
        },
        {
          "output_type": "display_data",
          "data": {
            "text/plain": [
              "recommendations finished on 8000/15565 queries. users per second: 64895"
            ],
            "text/html": [
              "<pre>recommendations finished on 8000/15565 queries. users per second: 64895</pre>"
            ]
          },
          "metadata": {}
        },
        {
          "output_type": "display_data",
          "data": {
            "text/plain": [
              "recommendations finished on 9000/15565 queries. users per second: 62851.4"
            ],
            "text/html": [
              "<pre>recommendations finished on 9000/15565 queries. users per second: 62851.4</pre>"
            ]
          },
          "metadata": {}
        },
        {
          "output_type": "display_data",
          "data": {
            "text/plain": [
              "recommendations finished on 10000/15565 queries. users per second: 64147"
            ],
            "text/html": [
              "<pre>recommendations finished on 10000/15565 queries. users per second: 64147</pre>"
            ]
          },
          "metadata": {}
        },
        {
          "output_type": "display_data",
          "data": {
            "text/plain": [
              "recommendations finished on 11000/15565 queries. users per second: 64785.9"
            ],
            "text/html": [
              "<pre>recommendations finished on 11000/15565 queries. users per second: 64785.9</pre>"
            ]
          },
          "metadata": {}
        },
        {
          "output_type": "display_data",
          "data": {
            "text/plain": [
              "recommendations finished on 12000/15565 queries. users per second: 65738.7"
            ],
            "text/html": [
              "<pre>recommendations finished on 12000/15565 queries. users per second: 65738.7</pre>"
            ]
          },
          "metadata": {}
        },
        {
          "output_type": "display_data",
          "data": {
            "text/plain": [
              "recommendations finished on 13000/15565 queries. users per second: 65826.5"
            ],
            "text/html": [
              "<pre>recommendations finished on 13000/15565 queries. users per second: 65826.5</pre>"
            ]
          },
          "metadata": {}
        },
        {
          "output_type": "display_data",
          "data": {
            "text/plain": [
              "recommendations finished on 14000/15565 queries. users per second: 66290.1"
            ],
            "text/html": [
              "<pre>recommendations finished on 14000/15565 queries. users per second: 66290.1</pre>"
            ]
          },
          "metadata": {}
        },
        {
          "output_type": "display_data",
          "data": {
            "text/plain": [
              "recommendations finished on 15000/15565 queries. users per second: 65891.8"
            ],
            "text/html": [
              "<pre>recommendations finished on 15000/15565 queries. users per second: 65891.8</pre>"
            ]
          },
          "metadata": {}
        },
        {
          "output_type": "stream",
          "name": "stdout",
          "text": [
            "\n",
            "Precision and recall summary statistics by cutoff\n",
            "+--------+-----------------------+-----------------------+\n",
            "| cutoff |     mean_precision    |      mean_recall      |\n",
            "+--------+-----------------------+-----------------------+\n",
            "|   1    |  0.007259877931256014 | 0.0031857160935220698 |\n",
            "|   2    | 0.0073562479922903955 |  0.005886886857654611 |\n",
            "|   3    |  0.00715280008566224  |  0.00861155865942247  |\n",
            "|   4    |  0.007131384516543525 |  0.01150553354986379  |\n",
            "|   5    |  0.007105685833601065 |  0.014434360620997327 |\n",
            "|   6    |  0.007281293500374814 |  0.01821821124230376  |\n",
            "|   7    |  0.007287412234408679 |  0.021194926556077538 |\n",
            "|   8    |  0.007026983617089624 |  0.023490869093748343 |\n",
            "|   9    |  0.006838705071920715 |  0.025848996207737923 |\n",
            "|   10   |  0.006578862833279731 |  0.02755270902773726  |\n",
            "+--------+-----------------------+-----------------------+\n",
            "[10 rows x 3 columns]\n",
            "\n",
            "\n",
            "Overall RMSE: 0.0\n",
            "\n",
            "Per User RMSE (best)\n",
            "+------------+------+-------+\n",
            "| customerId | rmse | count |\n",
            "+------------+------+-------+\n",
            "|   10201    | 0.0  |   4   |\n",
            "+------------+------+-------+\n",
            "[1 rows x 3 columns]\n",
            "\n",
            "\n",
            "Per User RMSE (worst)\n",
            "+------------+------+-------+\n",
            "| customerId | rmse | count |\n",
            "+------------+------+-------+\n",
            "|   24527    | 0.0  |   1   |\n",
            "+------------+------+-------+\n",
            "[1 rows x 3 columns]\n",
            "\n",
            "\n",
            "Per Item RMSE (best)\n",
            "+-----------+------+-------+\n",
            "| productId | rmse | count |\n",
            "+-----------+------+-------+\n",
            "|    149    | 0.0  |  102  |\n",
            "+-----------+------+-------+\n",
            "[1 rows x 3 columns]\n",
            "\n",
            "\n",
            "Per Item RMSE (worst)\n",
            "+-----------+------+-------+\n",
            "| productId | rmse | count |\n",
            "+-----------+------+-------+\n",
            "|    118    | 0.0  |   52  |\n",
            "+-----------+------+-------+\n",
            "[1 rows x 3 columns]\n",
            "\n",
            "PROGRESS: Evaluate model Cosine Similarity on Purchase Dummy\n"
          ]
        },
        {
          "output_type": "display_data",
          "data": {
            "text/plain": [
              "recommendations finished on 1000/15565 queries. users per second: 44531.5"
            ],
            "text/html": [
              "<pre>recommendations finished on 1000/15565 queries. users per second: 44531.5</pre>"
            ]
          },
          "metadata": {}
        },
        {
          "output_type": "display_data",
          "data": {
            "text/plain": [
              "recommendations finished on 2000/15565 queries. users per second: 42404.3"
            ],
            "text/html": [
              "<pre>recommendations finished on 2000/15565 queries. users per second: 42404.3</pre>"
            ]
          },
          "metadata": {}
        },
        {
          "output_type": "display_data",
          "data": {
            "text/plain": [
              "recommendations finished on 3000/15565 queries. users per second: 42945.5"
            ],
            "text/html": [
              "<pre>recommendations finished on 3000/15565 queries. users per second: 42945.5</pre>"
            ]
          },
          "metadata": {}
        },
        {
          "output_type": "display_data",
          "data": {
            "text/plain": [
              "recommendations finished on 4000/15565 queries. users per second: 43583"
            ],
            "text/html": [
              "<pre>recommendations finished on 4000/15565 queries. users per second: 43583</pre>"
            ]
          },
          "metadata": {}
        },
        {
          "output_type": "display_data",
          "data": {
            "text/plain": [
              "recommendations finished on 5000/15565 queries. users per second: 44193.4"
            ],
            "text/html": [
              "<pre>recommendations finished on 5000/15565 queries. users per second: 44193.4</pre>"
            ]
          },
          "metadata": {}
        },
        {
          "output_type": "display_data",
          "data": {
            "text/plain": [
              "recommendations finished on 6000/15565 queries. users per second: 43368.9"
            ],
            "text/html": [
              "<pre>recommendations finished on 6000/15565 queries. users per second: 43368.9</pre>"
            ]
          },
          "metadata": {}
        },
        {
          "output_type": "display_data",
          "data": {
            "text/plain": [
              "recommendations finished on 7000/15565 queries. users per second: 43521.2"
            ],
            "text/html": [
              "<pre>recommendations finished on 7000/15565 queries. users per second: 43521.2</pre>"
            ]
          },
          "metadata": {}
        },
        {
          "output_type": "display_data",
          "data": {
            "text/plain": [
              "recommendations finished on 8000/15565 queries. users per second: 42403.9"
            ],
            "text/html": [
              "<pre>recommendations finished on 8000/15565 queries. users per second: 42403.9</pre>"
            ]
          },
          "metadata": {}
        },
        {
          "output_type": "display_data",
          "data": {
            "text/plain": [
              "recommendations finished on 9000/15565 queries. users per second: 41889.1"
            ],
            "text/html": [
              "<pre>recommendations finished on 9000/15565 queries. users per second: 41889.1</pre>"
            ]
          },
          "metadata": {}
        },
        {
          "output_type": "display_data",
          "data": {
            "text/plain": [
              "recommendations finished on 10000/15565 queries. users per second: 42470.1"
            ],
            "text/html": [
              "<pre>recommendations finished on 10000/15565 queries. users per second: 42470.1</pre>"
            ]
          },
          "metadata": {}
        },
        {
          "output_type": "display_data",
          "data": {
            "text/plain": [
              "recommendations finished on 11000/15565 queries. users per second: 43082.5"
            ],
            "text/html": [
              "<pre>recommendations finished on 11000/15565 queries. users per second: 43082.5</pre>"
            ]
          },
          "metadata": {}
        },
        {
          "output_type": "display_data",
          "data": {
            "text/plain": [
              "recommendations finished on 12000/15565 queries. users per second: 42088.9"
            ],
            "text/html": [
              "<pre>recommendations finished on 12000/15565 queries. users per second: 42088.9</pre>"
            ]
          },
          "metadata": {}
        },
        {
          "output_type": "display_data",
          "data": {
            "text/plain": [
              "recommendations finished on 13000/15565 queries. users per second: 42451.9"
            ],
            "text/html": [
              "<pre>recommendations finished on 13000/15565 queries. users per second: 42451.9</pre>"
            ]
          },
          "metadata": {}
        },
        {
          "output_type": "display_data",
          "data": {
            "text/plain": [
              "recommendations finished on 14000/15565 queries. users per second: 42986.7"
            ],
            "text/html": [
              "<pre>recommendations finished on 14000/15565 queries. users per second: 42986.7</pre>"
            ]
          },
          "metadata": {}
        },
        {
          "output_type": "display_data",
          "data": {
            "text/plain": [
              "recommendations finished on 15000/15565 queries. users per second: 43112.9"
            ],
            "text/html": [
              "<pre>recommendations finished on 15000/15565 queries. users per second: 43112.9</pre>"
            ]
          },
          "metadata": {}
        },
        {
          "output_type": "stream",
          "name": "stdout",
          "text": [
            "\n",
            "Precision and recall summary statistics by cutoff\n",
            "+--------+----------------------+---------------------+\n",
            "| cutoff |    mean_precision    |     mean_recall     |\n",
            "+--------+----------------------+---------------------+\n",
            "|   1    | 0.13485383874076395  | 0.07110617143070183 |\n",
            "|   2    | 0.10591069707677482  | 0.10844323227395057 |\n",
            "|   3    |  0.0891530142413532  |  0.1348911696740241 |\n",
            "|   4    | 0.07826855123674922  |  0.156417796260806  |\n",
            "|   5    | 0.07031159653067824  | 0.17444091598292963 |\n",
            "|   6    |  0.0634864546525326  |  0.188098514122378  |\n",
            "|   7    | 0.05846450369418612  | 0.20162057066379332 |\n",
            "|   8    | 0.05393511082557024  | 0.21124395420462017 |\n",
            "|   9    | 0.05044080379769398  |  0.2211769778351262 |\n",
            "|   10   | 0.047683906199807384 | 0.23219755937297845 |\n",
            "+--------+----------------------+---------------------+\n",
            "[10 rows x 3 columns]\n",
            "\n",
            "\n",
            "Overall RMSE: 0.9714165960420097\n",
            "\n",
            "Per User RMSE (best)\n",
            "+------------+--------------------+-------+\n",
            "| customerId |        rmse        | count |\n",
            "+------------+--------------------+-------+\n",
            "|   20442    | 0.4544368386268616 |   1   |\n",
            "+------------+--------------------+-------+\n",
            "[1 rows x 3 columns]\n",
            "\n",
            "\n",
            "Per User RMSE (worst)\n",
            "+------------+------+-------+\n",
            "| customerId | rmse | count |\n",
            "+------------+------+-------+\n",
            "|   15376    | 1.0  |   1   |\n",
            "+------------+------+-------+\n",
            "[1 rows x 3 columns]\n",
            "\n",
            "\n",
            "Per Item RMSE (best)\n",
            "+-----------+--------------------+-------+\n",
            "| productId |        rmse        | count |\n",
            "+-----------+--------------------+-------+\n",
            "|     48    | 0.8879001827725097 |  156  |\n",
            "+-----------+--------------------+-------+\n",
            "[1 rows x 3 columns]\n",
            "\n",
            "\n",
            "Per Item RMSE (worst)\n",
            "+-----------+--------------------+-------+\n",
            "| productId |        rmse        | count |\n",
            "+-----------+--------------------+-------+\n",
            "|    125    | 0.9997036893897814 |   54  |\n",
            "+-----------+--------------------+-------+\n",
            "[1 rows x 3 columns]\n",
            "\n",
            "PROGRESS: Evaluate model Pearson Similarity on Purchase Dummy\n"
          ]
        },
        {
          "output_type": "display_data",
          "data": {
            "text/plain": [
              "recommendations finished on 1000/15565 queries. users per second: 56334.9"
            ],
            "text/html": [
              "<pre>recommendations finished on 1000/15565 queries. users per second: 56334.9</pre>"
            ]
          },
          "metadata": {}
        },
        {
          "output_type": "display_data",
          "data": {
            "text/plain": [
              "recommendations finished on 2000/15565 queries. users per second: 52044"
            ],
            "text/html": [
              "<pre>recommendations finished on 2000/15565 queries. users per second: 52044</pre>"
            ]
          },
          "metadata": {}
        },
        {
          "output_type": "display_data",
          "data": {
            "text/plain": [
              "recommendations finished on 3000/15565 queries. users per second: 54952.1"
            ],
            "text/html": [
              "<pre>recommendations finished on 3000/15565 queries. users per second: 54952.1</pre>"
            ]
          },
          "metadata": {}
        },
        {
          "output_type": "display_data",
          "data": {
            "text/plain": [
              "recommendations finished on 4000/15565 queries. users per second: 55747.6"
            ],
            "text/html": [
              "<pre>recommendations finished on 4000/15565 queries. users per second: 55747.6</pre>"
            ]
          },
          "metadata": {}
        },
        {
          "output_type": "display_data",
          "data": {
            "text/plain": [
              "recommendations finished on 5000/15565 queries. users per second: 57734.1"
            ],
            "text/html": [
              "<pre>recommendations finished on 5000/15565 queries. users per second: 57734.1</pre>"
            ]
          },
          "metadata": {}
        },
        {
          "output_type": "display_data",
          "data": {
            "text/plain": [
              "recommendations finished on 6000/15565 queries. users per second: 56374.6"
            ],
            "text/html": [
              "<pre>recommendations finished on 6000/15565 queries. users per second: 56374.6</pre>"
            ]
          },
          "metadata": {}
        },
        {
          "output_type": "display_data",
          "data": {
            "text/plain": [
              "recommendations finished on 7000/15565 queries. users per second: 54916.6"
            ],
            "text/html": [
              "<pre>recommendations finished on 7000/15565 queries. users per second: 54916.6</pre>"
            ]
          },
          "metadata": {}
        },
        {
          "output_type": "display_data",
          "data": {
            "text/plain": [
              "recommendations finished on 8000/15565 queries. users per second: 54612"
            ],
            "text/html": [
              "<pre>recommendations finished on 8000/15565 queries. users per second: 54612</pre>"
            ]
          },
          "metadata": {}
        },
        {
          "output_type": "display_data",
          "data": {
            "text/plain": [
              "recommendations finished on 9000/15565 queries. users per second: 53536.4"
            ],
            "text/html": [
              "<pre>recommendations finished on 9000/15565 queries. users per second: 53536.4</pre>"
            ]
          },
          "metadata": {}
        },
        {
          "output_type": "display_data",
          "data": {
            "text/plain": [
              "recommendations finished on 10000/15565 queries. users per second: 53323.9"
            ],
            "text/html": [
              "<pre>recommendations finished on 10000/15565 queries. users per second: 53323.9</pre>"
            ]
          },
          "metadata": {}
        },
        {
          "output_type": "display_data",
          "data": {
            "text/plain": [
              "recommendations finished on 11000/15565 queries. users per second: 54251.1"
            ],
            "text/html": [
              "<pre>recommendations finished on 11000/15565 queries. users per second: 54251.1</pre>"
            ]
          },
          "metadata": {}
        },
        {
          "output_type": "display_data",
          "data": {
            "text/plain": [
              "recommendations finished on 12000/15565 queries. users per second: 54779.8"
            ],
            "text/html": [
              "<pre>recommendations finished on 12000/15565 queries. users per second: 54779.8</pre>"
            ]
          },
          "metadata": {}
        },
        {
          "output_type": "display_data",
          "data": {
            "text/plain": [
              "recommendations finished on 13000/15565 queries. users per second: 54936.5"
            ],
            "text/html": [
              "<pre>recommendations finished on 13000/15565 queries. users per second: 54936.5</pre>"
            ]
          },
          "metadata": {}
        },
        {
          "output_type": "display_data",
          "data": {
            "text/plain": [
              "recommendations finished on 14000/15565 queries. users per second: 55574.5"
            ],
            "text/html": [
              "<pre>recommendations finished on 14000/15565 queries. users per second: 55574.5</pre>"
            ]
          },
          "metadata": {}
        },
        {
          "output_type": "display_data",
          "data": {
            "text/plain": [
              "recommendations finished on 15000/15565 queries. users per second: 55876.1"
            ],
            "text/html": [
              "<pre>recommendations finished on 15000/15565 queries. users per second: 55876.1</pre>"
            ]
          },
          "metadata": {}
        },
        {
          "output_type": "stream",
          "name": "stdout",
          "text": [
            "\n",
            "Precision and recall summary statistics by cutoff\n",
            "+--------+-----------------------+-----------------------+\n",
            "| cutoff |     mean_precision    |      mean_recall      |\n",
            "+--------+-----------------------+-----------------------+\n",
            "|   1    |  0.007259877931256026 | 0.0031857160935220724 |\n",
            "|   2    |  0.007356247992290406 |  0.005886886857654612 |\n",
            "|   3    |  0.007152800085662257 |  0.008611558659422435 |\n",
            "|   4    |  0.007131384516543545 |  0.01150553354986379  |\n",
            "|   5    |  0.007105685833601082 |  0.014434360620997308 |\n",
            "|   6    |  0.007281293500374828 |  0.018218211242303793 |\n",
            "|   7    |  0.007287412234408674 |  0.021194926556077565 |\n",
            "|   8    | 0.0070269836170896195 |  0.02349086909374835  |\n",
            "|   9    |  0.006838705071920719 |  0.025848996207737934 |\n",
            "|   10   |  0.006578862833279739 |  0.027552709027737276 |\n",
            "+--------+-----------------------+-----------------------+\n",
            "[10 rows x 3 columns]\n",
            "\n",
            "\n",
            "Overall RMSE: 1.0\n",
            "\n",
            "Per User RMSE (best)\n",
            "+------------+------+-------+\n",
            "| customerId | rmse | count |\n",
            "+------------+------+-------+\n",
            "|   10201    | 1.0  |   4   |\n",
            "+------------+------+-------+\n",
            "[1 rows x 3 columns]\n",
            "\n",
            "\n",
            "Per User RMSE (worst)\n",
            "+------------+------+-------+\n",
            "| customerId | rmse | count |\n",
            "+------------+------+-------+\n",
            "|   24527    | 1.0  |   1   |\n",
            "+------------+------+-------+\n",
            "[1 rows x 3 columns]\n",
            "\n",
            "\n",
            "Per Item RMSE (best)\n",
            "+-----------+------+-------+\n",
            "| productId | rmse | count |\n",
            "+-----------+------+-------+\n",
            "|    149    | 1.0  |  102  |\n",
            "+-----------+------+-------+\n",
            "[1 rows x 3 columns]\n",
            "\n",
            "\n",
            "Per Item RMSE (worst)\n",
            "+-----------+------+-------+\n",
            "| productId | rmse | count |\n",
            "+-----------+------+-------+\n",
            "|    118    | 1.0  |   52  |\n",
            "+-----------+------+-------+\n",
            "[1 rows x 3 columns]\n",
            "\n"
          ]
        }
      ]
    },
    {
      "cell_type": "markdown",
      "source": [
        "Models on normalized purchase frequency"
      ],
      "metadata": {
        "id": "qLcWaAxC3kD0"
      }
    },
    {
      "cell_type": "code",
      "source": [
        "eval_norm = tc.recommender.util.compare_models(test_data_norm, models_w_norm, model_names=names_w_norm)\n"
      ],
      "metadata": {
        "colab": {
          "base_uri": "https://localhost:8080/",
          "height": 1000
        },
        "id": "GUuJX5mX3lPt",
        "outputId": "326dcfca-b629-4fbd-9893-2c082bcf09b2"
      },
      "execution_count": null,
      "outputs": [
        {
          "output_type": "stream",
          "name": "stdout",
          "text": [
            "PROGRESS: Evaluate model Popularity Model on Scaled Purchase Counts\n"
          ]
        },
        {
          "output_type": "display_data",
          "data": {
            "text/plain": [
              "recommendations finished on 1000/15590 queries. users per second: 62457.1"
            ],
            "text/html": [
              "<pre>recommendations finished on 1000/15590 queries. users per second: 62457.1</pre>"
            ]
          },
          "metadata": {}
        },
        {
          "output_type": "display_data",
          "data": {
            "text/plain": [
              "recommendations finished on 2000/15590 queries. users per second: 58227.6"
            ],
            "text/html": [
              "<pre>recommendations finished on 2000/15590 queries. users per second: 58227.6</pre>"
            ]
          },
          "metadata": {}
        },
        {
          "output_type": "display_data",
          "data": {
            "text/plain": [
              "recommendations finished on 3000/15590 queries. users per second: 59501.4"
            ],
            "text/html": [
              "<pre>recommendations finished on 3000/15590 queries. users per second: 59501.4</pre>"
            ]
          },
          "metadata": {}
        },
        {
          "output_type": "display_data",
          "data": {
            "text/plain": [
              "recommendations finished on 4000/15590 queries. users per second: 60391"
            ],
            "text/html": [
              "<pre>recommendations finished on 4000/15590 queries. users per second: 60391</pre>"
            ]
          },
          "metadata": {}
        },
        {
          "output_type": "display_data",
          "data": {
            "text/plain": [
              "recommendations finished on 5000/15590 queries. users per second: 57268.5"
            ],
            "text/html": [
              "<pre>recommendations finished on 5000/15590 queries. users per second: 57268.5</pre>"
            ]
          },
          "metadata": {}
        },
        {
          "output_type": "display_data",
          "data": {
            "text/plain": [
              "recommendations finished on 6000/15590 queries. users per second: 55254.2"
            ],
            "text/html": [
              "<pre>recommendations finished on 6000/15590 queries. users per second: 55254.2</pre>"
            ]
          },
          "metadata": {}
        },
        {
          "output_type": "display_data",
          "data": {
            "text/plain": [
              "recommendations finished on 7000/15590 queries. users per second: 51935.7"
            ],
            "text/html": [
              "<pre>recommendations finished on 7000/15590 queries. users per second: 51935.7</pre>"
            ]
          },
          "metadata": {}
        },
        {
          "output_type": "display_data",
          "data": {
            "text/plain": [
              "recommendations finished on 8000/15590 queries. users per second: 52773.6"
            ],
            "text/html": [
              "<pre>recommendations finished on 8000/15590 queries. users per second: 52773.6</pre>"
            ]
          },
          "metadata": {}
        },
        {
          "output_type": "display_data",
          "data": {
            "text/plain": [
              "recommendations finished on 9000/15590 queries. users per second: 53553.6"
            ],
            "text/html": [
              "<pre>recommendations finished on 9000/15590 queries. users per second: 53553.6</pre>"
            ]
          },
          "metadata": {}
        },
        {
          "output_type": "display_data",
          "data": {
            "text/plain": [
              "recommendations finished on 10000/15590 queries. users per second: 54926.9"
            ],
            "text/html": [
              "<pre>recommendations finished on 10000/15590 queries. users per second: 54926.9</pre>"
            ]
          },
          "metadata": {}
        },
        {
          "output_type": "display_data",
          "data": {
            "text/plain": [
              "recommendations finished on 11000/15590 queries. users per second: 56166"
            ],
            "text/html": [
              "<pre>recommendations finished on 11000/15590 queries. users per second: 56166</pre>"
            ]
          },
          "metadata": {}
        },
        {
          "output_type": "display_data",
          "data": {
            "text/plain": [
              "recommendations finished on 12000/15590 queries. users per second: 56500.4"
            ],
            "text/html": [
              "<pre>recommendations finished on 12000/15590 queries. users per second: 56500.4</pre>"
            ]
          },
          "metadata": {}
        },
        {
          "output_type": "display_data",
          "data": {
            "text/plain": [
              "recommendations finished on 13000/15590 queries. users per second: 55760"
            ],
            "text/html": [
              "<pre>recommendations finished on 13000/15590 queries. users per second: 55760</pre>"
            ]
          },
          "metadata": {}
        },
        {
          "output_type": "display_data",
          "data": {
            "text/plain": [
              "recommendations finished on 14000/15590 queries. users per second: 56674.9"
            ],
            "text/html": [
              "<pre>recommendations finished on 14000/15590 queries. users per second: 56674.9</pre>"
            ]
          },
          "metadata": {}
        },
        {
          "output_type": "display_data",
          "data": {
            "text/plain": [
              "recommendations finished on 15000/15590 queries. users per second: 57169"
            ],
            "text/html": [
              "<pre>recommendations finished on 15000/15590 queries. users per second: 57169</pre>"
            ]
          },
          "metadata": {}
        },
        {
          "output_type": "stream",
          "name": "stdout",
          "text": [
            "\n",
            "Precision and recall summary statistics by cutoff\n",
            "+--------+-----------------------+-----------------------+\n",
            "| cutoff |     mean_precision    |      mean_recall      |\n",
            "+--------+-----------------------+-----------------------+\n",
            "|   1    | 0.0030788967286722257 | 0.0014948023254630048 |\n",
            "|   2    |  0.002918537524053879 | 0.0028339289532362025 |\n",
            "|   3    | 0.0028437032285653216 |  0.004529850568978213 |\n",
            "|   4    | 0.0027581783194355336 |  0.005782671703133535 |\n",
            "|   5    |  0.002771007055805007 |  0.007484617394816245 |\n",
            "|   6    | 0.0024909129784049617 |  0.008044394372168579 |\n",
            "|   7    |  0.002428296527077794 |  0.00891560302240224  |\n",
            "|   8    |  0.00230115458627325  |  0.00961273516116364  |\n",
            "|   9    | 0.0025016035920461845 |  0.011757704972907025 |\n",
            "|   10   | 0.0024951892238614585 |  0.012925629059368633 |\n",
            "+--------+-----------------------+-----------------------+\n",
            "[10 rows x 3 columns]\n",
            "\n",
            "\n",
            "Overall RMSE: 0.13451464029266946\n",
            "\n",
            "Per User RMSE (best)\n",
            "+------------+------+-------+\n",
            "| customerId | rmse | count |\n",
            "+------------+------+-------+\n",
            "|   22977    | 0.0  |   1   |\n",
            "+------------+------+-------+\n",
            "[1 rows x 3 columns]\n",
            "\n",
            "\n",
            "Per User RMSE (worst)\n",
            "+------------+--------------------+-------+\n",
            "| customerId |        rmse        | count |\n",
            "+------------+--------------------+-------+\n",
            "|    8348    | 0.9547945205479452 |   1   |\n",
            "+------------+--------------------+-------+\n",
            "[1 rows x 3 columns]\n",
            "\n",
            "\n",
            "Per Item RMSE (best)\n",
            "+-----------+----------------------+-------+\n",
            "| productId |         rmse         | count |\n",
            "+-----------+----------------------+-------+\n",
            "|     47    | 0.017540292489759225 |  178  |\n",
            "+-----------+----------------------+-------+\n",
            "[1 rows x 3 columns]\n",
            "\n",
            "\n",
            "Per Item RMSE (worst)\n",
            "+-----------+---------------------+-------+\n",
            "| productId |         rmse        | count |\n",
            "+-----------+---------------------+-------+\n",
            "|    226    | 0.45328898310443944 |   48  |\n",
            "+-----------+---------------------+-------+\n",
            "[1 rows x 3 columns]\n",
            "\n",
            "PROGRESS: Evaluate model Cosine Similarity on Scaled Purchase Counts\n"
          ]
        },
        {
          "output_type": "display_data",
          "data": {
            "text/plain": [
              "recommendations finished on 1000/15590 queries. users per second: 47149.8"
            ],
            "text/html": [
              "<pre>recommendations finished on 1000/15590 queries. users per second: 47149.8</pre>"
            ]
          },
          "metadata": {}
        },
        {
          "output_type": "display_data",
          "data": {
            "text/plain": [
              "recommendations finished on 2000/15590 queries. users per second: 43241.4"
            ],
            "text/html": [
              "<pre>recommendations finished on 2000/15590 queries. users per second: 43241.4</pre>"
            ]
          },
          "metadata": {}
        },
        {
          "output_type": "display_data",
          "data": {
            "text/plain": [
              "recommendations finished on 3000/15590 queries. users per second: 43529.4"
            ],
            "text/html": [
              "<pre>recommendations finished on 3000/15590 queries. users per second: 43529.4</pre>"
            ]
          },
          "metadata": {}
        },
        {
          "output_type": "display_data",
          "data": {
            "text/plain": [
              "recommendations finished on 4000/15590 queries. users per second: 44878.8"
            ],
            "text/html": [
              "<pre>recommendations finished on 4000/15590 queries. users per second: 44878.8</pre>"
            ]
          },
          "metadata": {}
        },
        {
          "output_type": "display_data",
          "data": {
            "text/plain": [
              "recommendations finished on 5000/15590 queries. users per second: 44962"
            ],
            "text/html": [
              "<pre>recommendations finished on 5000/15590 queries. users per second: 44962</pre>"
            ]
          },
          "metadata": {}
        },
        {
          "output_type": "display_data",
          "data": {
            "text/plain": [
              "recommendations finished on 6000/15590 queries. users per second: 43362.9"
            ],
            "text/html": [
              "<pre>recommendations finished on 6000/15590 queries. users per second: 43362.9</pre>"
            ]
          },
          "metadata": {}
        },
        {
          "output_type": "display_data",
          "data": {
            "text/plain": [
              "recommendations finished on 7000/15590 queries. users per second: 43724.9"
            ],
            "text/html": [
              "<pre>recommendations finished on 7000/15590 queries. users per second: 43724.9</pre>"
            ]
          },
          "metadata": {}
        },
        {
          "output_type": "display_data",
          "data": {
            "text/plain": [
              "recommendations finished on 8000/15590 queries. users per second: 44080.5"
            ],
            "text/html": [
              "<pre>recommendations finished on 8000/15590 queries. users per second: 44080.5</pre>"
            ]
          },
          "metadata": {}
        },
        {
          "output_type": "display_data",
          "data": {
            "text/plain": [
              "recommendations finished on 9000/15590 queries. users per second: 44622.5"
            ],
            "text/html": [
              "<pre>recommendations finished on 9000/15590 queries. users per second: 44622.5</pre>"
            ]
          },
          "metadata": {}
        },
        {
          "output_type": "display_data",
          "data": {
            "text/plain": [
              "recommendations finished on 10000/15590 queries. users per second: 44972.1"
            ],
            "text/html": [
              "<pre>recommendations finished on 10000/15590 queries. users per second: 44972.1</pre>"
            ]
          },
          "metadata": {}
        },
        {
          "output_type": "display_data",
          "data": {
            "text/plain": [
              "recommendations finished on 11000/15590 queries. users per second: 45326.8"
            ],
            "text/html": [
              "<pre>recommendations finished on 11000/15590 queries. users per second: 45326.8</pre>"
            ]
          },
          "metadata": {}
        },
        {
          "output_type": "display_data",
          "data": {
            "text/plain": [
              "recommendations finished on 12000/15590 queries. users per second: 44861.3"
            ],
            "text/html": [
              "<pre>recommendations finished on 12000/15590 queries. users per second: 44861.3</pre>"
            ]
          },
          "metadata": {}
        },
        {
          "output_type": "display_data",
          "data": {
            "text/plain": [
              "recommendations finished on 13000/15590 queries. users per second: 44996.1"
            ],
            "text/html": [
              "<pre>recommendations finished on 13000/15590 queries. users per second: 44996.1</pre>"
            ]
          },
          "metadata": {}
        },
        {
          "output_type": "display_data",
          "data": {
            "text/plain": [
              "recommendations finished on 14000/15590 queries. users per second: 45279"
            ],
            "text/html": [
              "<pre>recommendations finished on 14000/15590 queries. users per second: 45279</pre>"
            ]
          },
          "metadata": {}
        },
        {
          "output_type": "display_data",
          "data": {
            "text/plain": [
              "recommendations finished on 15000/15590 queries. users per second: 45024.8"
            ],
            "text/html": [
              "<pre>recommendations finished on 15000/15590 queries. users per second: 45024.8</pre>"
            ]
          },
          "metadata": {}
        },
        {
          "output_type": "stream",
          "name": "stdout",
          "text": [
            "\n",
            "Precision and recall summary statistics by cutoff\n",
            "+--------+----------------------+----------------------+\n",
            "| cutoff |    mean_precision    |     mean_recall      |\n",
            "+--------+----------------------+----------------------+\n",
            "|   1    | 0.07466324567030147  | 0.037426324309644654 |\n",
            "|   2    | 0.06035920461834499  | 0.06106992763419527  |\n",
            "|   3    | 0.050673508659397286 |  0.0756521703711691  |\n",
            "|   4    | 0.044724182168056424 | 0.08765163102423124  |\n",
            "|   5    | 0.03980756895445794  | 0.09625147443123137  |\n",
            "|   6    | 0.03627325208466981  |  0.1041653252443766  |\n",
            "|   7    | 0.03367543296985287  | 0.11286962956943986  |\n",
            "|   8    | 0.03161481719050671  |  0.1215385300360512  |\n",
            "|   9    | 0.02981968498325098  | 0.12847312224165083  |\n",
            "|   10   | 0.028601667735728333 | 0.13681651696411193  |\n",
            "+--------+----------------------+----------------------+\n",
            "[10 rows x 3 columns]\n",
            "\n",
            "\n",
            "Overall RMSE: 0.16165360411190546\n",
            "\n",
            "Per User RMSE (best)\n",
            "+------------+------+-------+\n",
            "| customerId | rmse | count |\n",
            "+------------+------+-------+\n",
            "|   11138    | 0.0  |   1   |\n",
            "+------------+------+-------+\n",
            "[1 rows x 3 columns]\n",
            "\n",
            "\n",
            "Per User RMSE (worst)\n",
            "+------------+------+-------+\n",
            "| customerId | rmse | count |\n",
            "+------------+------+-------+\n",
            "|   25251    | 1.0  |   1   |\n",
            "+------------+------+-------+\n",
            "[1 rows x 3 columns]\n",
            "\n",
            "\n",
            "Per Item RMSE (best)\n",
            "+-----------+---------------------+-------+\n",
            "| productId |         rmse        | count |\n",
            "+-----------+---------------------+-------+\n",
            "|     47    | 0.01728074706023642 |  178  |\n",
            "+-----------+---------------------+-------+\n",
            "[1 rows x 3 columns]\n",
            "\n",
            "\n",
            "Per Item RMSE (worst)\n",
            "+-----------+--------------------+-------+\n",
            "| productId |        rmse        | count |\n",
            "+-----------+--------------------+-------+\n",
            "|    226    | 0.8250906001329104 |   48  |\n",
            "+-----------+--------------------+-------+\n",
            "[1 rows x 3 columns]\n",
            "\n",
            "PROGRESS: Evaluate model Pearson Similarity on Scaled Purchase CounTS\n"
          ]
        },
        {
          "output_type": "display_data",
          "data": {
            "text/plain": [
              "recommendations finished on 1000/15590 queries. users per second: 45622.5"
            ],
            "text/html": [
              "<pre>recommendations finished on 1000/15590 queries. users per second: 45622.5</pre>"
            ]
          },
          "metadata": {}
        },
        {
          "output_type": "display_data",
          "data": {
            "text/plain": [
              "recommendations finished on 2000/15590 queries. users per second: 42923.1"
            ],
            "text/html": [
              "<pre>recommendations finished on 2000/15590 queries. users per second: 42923.1</pre>"
            ]
          },
          "metadata": {}
        },
        {
          "output_type": "display_data",
          "data": {
            "text/plain": [
              "recommendations finished on 3000/15590 queries. users per second: 42745.4"
            ],
            "text/html": [
              "<pre>recommendations finished on 3000/15590 queries. users per second: 42745.4</pre>"
            ]
          },
          "metadata": {}
        },
        {
          "output_type": "display_data",
          "data": {
            "text/plain": [
              "recommendations finished on 4000/15590 queries. users per second: 43261"
            ],
            "text/html": [
              "<pre>recommendations finished on 4000/15590 queries. users per second: 43261</pre>"
            ]
          },
          "metadata": {}
        },
        {
          "output_type": "display_data",
          "data": {
            "text/plain": [
              "recommendations finished on 5000/15590 queries. users per second: 39727.3"
            ],
            "text/html": [
              "<pre>recommendations finished on 5000/15590 queries. users per second: 39727.3</pre>"
            ]
          },
          "metadata": {}
        },
        {
          "output_type": "display_data",
          "data": {
            "text/plain": [
              "recommendations finished on 6000/15590 queries. users per second: 37219.5"
            ],
            "text/html": [
              "<pre>recommendations finished on 6000/15590 queries. users per second: 37219.5</pre>"
            ]
          },
          "metadata": {}
        },
        {
          "output_type": "display_data",
          "data": {
            "text/plain": [
              "recommendations finished on 7000/15590 queries. users per second: 36468"
            ],
            "text/html": [
              "<pre>recommendations finished on 7000/15590 queries. users per second: 36468</pre>"
            ]
          },
          "metadata": {}
        },
        {
          "output_type": "display_data",
          "data": {
            "text/plain": [
              "recommendations finished on 8000/15590 queries. users per second: 36526.2"
            ],
            "text/html": [
              "<pre>recommendations finished on 8000/15590 queries. users per second: 36526.2</pre>"
            ]
          },
          "metadata": {}
        },
        {
          "output_type": "display_data",
          "data": {
            "text/plain": [
              "recommendations finished on 9000/15590 queries. users per second: 37539.7"
            ],
            "text/html": [
              "<pre>recommendations finished on 9000/15590 queries. users per second: 37539.7</pre>"
            ]
          },
          "metadata": {}
        },
        {
          "output_type": "display_data",
          "data": {
            "text/plain": [
              "recommendations finished on 10000/15590 queries. users per second: 38296.9"
            ],
            "text/html": [
              "<pre>recommendations finished on 10000/15590 queries. users per second: 38296.9</pre>"
            ]
          },
          "metadata": {}
        },
        {
          "output_type": "display_data",
          "data": {
            "text/plain": [
              "recommendations finished on 11000/15590 queries. users per second: 38896.5"
            ],
            "text/html": [
              "<pre>recommendations finished on 11000/15590 queries. users per second: 38896.5</pre>"
            ]
          },
          "metadata": {}
        },
        {
          "output_type": "display_data",
          "data": {
            "text/plain": [
              "recommendations finished on 12000/15590 queries. users per second: 39427.1"
            ],
            "text/html": [
              "<pre>recommendations finished on 12000/15590 queries. users per second: 39427.1</pre>"
            ]
          },
          "metadata": {}
        },
        {
          "output_type": "display_data",
          "data": {
            "text/plain": [
              "recommendations finished on 13000/15590 queries. users per second: 39593.9"
            ],
            "text/html": [
              "<pre>recommendations finished on 13000/15590 queries. users per second: 39593.9</pre>"
            ]
          },
          "metadata": {}
        },
        {
          "output_type": "display_data",
          "data": {
            "text/plain": [
              "recommendations finished on 14000/15590 queries. users per second: 39982.3"
            ],
            "text/html": [
              "<pre>recommendations finished on 14000/15590 queries. users per second: 39982.3</pre>"
            ]
          },
          "metadata": {}
        },
        {
          "output_type": "display_data",
          "data": {
            "text/plain": [
              "recommendations finished on 15000/15590 queries. users per second: 39814"
            ],
            "text/html": [
              "<pre>recommendations finished on 15000/15590 queries. users per second: 39814</pre>"
            ]
          },
          "metadata": {}
        },
        {
          "output_type": "stream",
          "name": "stdout",
          "text": [
            "\n",
            "Precision and recall summary statistics by cutoff\n",
            "+--------+-----------------------+-----------------------+\n",
            "| cutoff |     mean_precision    |      mean_recall      |\n",
            "+--------+-----------------------+-----------------------+\n",
            "|   1    | 0.0030788967286722283 | 0.0014948023254630072 |\n",
            "|   2    |  0.002918537524053881 |  0.002833928953236197 |\n",
            "|   3    | 0.0028437032285653233 |  0.004529850568978215 |\n",
            "|   4    | 0.0027581783194355358 |  0.005782671703133533 |\n",
            "|   5    | 0.0027838357921744755 |  0.007548761076663582 |\n",
            "|   6    |  0.002501603592046187 |  0.008108538054015922 |\n",
            "|   7    | 0.0024282965270777963 |  0.008947674863325917 |\n",
            "|   8    | 0.0023091725465041644 |  0.009676878843010968 |\n",
            "|   9    | 0.0025158577435678182 |  0.01184322988203682  |\n",
            "|   10   | 0.0025208466966004013 |  0.013043225809422089 |\n",
            "+--------+-----------------------+-----------------------+\n",
            "[10 rows x 3 columns]\n",
            "\n",
            "\n",
            "Overall RMSE: 0.13426294993525362\n",
            "\n",
            "Per User RMSE (best)\n",
            "+------------+------+-------+\n",
            "| customerId | rmse | count |\n",
            "+------------+------+-------+\n",
            "|    1766    | 0.0  |   1   |\n",
            "+------------+------+-------+\n",
            "[1 rows x 3 columns]\n",
            "\n",
            "\n",
            "Per User RMSE (worst)\n",
            "+------------+--------------------+-------+\n",
            "| customerId |        rmse        | count |\n",
            "+------------+--------------------+-------+\n",
            "|    8348    | 0.9548313121109793 |   1   |\n",
            "+------------+--------------------+-------+\n",
            "[1 rows x 3 columns]\n",
            "\n",
            "\n",
            "Per Item RMSE (best)\n",
            "+-----------+---------------------+-------+\n",
            "| productId |         rmse        | count |\n",
            "+-----------+---------------------+-------+\n",
            "|     47    | 0.01696030569019416 |  178  |\n",
            "+-----------+---------------------+-------+\n",
            "[1 rows x 3 columns]\n",
            "\n",
            "\n",
            "Per Item RMSE (worst)\n",
            "+-----------+--------------------+-------+\n",
            "| productId |        rmse        | count |\n",
            "+-----------+--------------------+-------+\n",
            "|    226    | 0.4532016858596272 |   48  |\n",
            "+-----------+--------------------+-------+\n",
            "[1 rows x 3 columns]\n",
            "\n"
          ]
        }
      ]
    },
    {
      "cell_type": "markdown",
      "source": [
        "Model Selection"
      ],
      "metadata": {
        "id": "B7oU-7zb3teC"
      }
    },
    {
      "cell_type": "markdown",
      "source": [
        "Since RMSE is higher using pearson distance than cosine, we would choose model the smaller mean squared errors, which in this case would be cosine. Therefore, we select the Cosine similarity on Purchase Dummy approach as our final model."
      ],
      "metadata": {
        "id": "wLB3tuwR3wFm"
      }
    },
    {
      "cell_type": "markdown",
      "source": [
        "Output : we will take output as an csv file, and will also build a function that will return recommendation list when given a customer ID."
      ],
      "metadata": {
        "id": "mv3gJddw4Me-"
      }
    },
    {
      "cell_type": "code",
      "source": [
        "# We need to first rerun the model using the whole dataset,\n",
        "# as we came to a final model using train data and evaluated with test set.\n",
        "users_to_recommend = list(customers[user_id])\n",
        "\n",
        "final_model = tc.item_similarity_recommender.create(tc.SFrame(data_dummy),\n",
        "                                            user_id=user_id,\n",
        "                                            item_id=item_id,\n",
        "                                            target='purchase_dummy',\n",
        "                                            similarity_type='cosine')\n",
        "\n",
        "recom = final_model.recommend(users=users_to_recommend, k=n_rec)\n",
        "recom.print_rows(n_display)"
      ],
      "metadata": {
        "colab": {
          "base_uri": "https://localhost:8080/",
          "height": 1000
        },
        "id": "UzayVvOvgOU-",
        "outputId": "56d8d063-bb3b-477f-8202-50269396e992"
      },
      "execution_count": null,
      "outputs": [
        {
          "output_type": "display_data",
          "data": {
            "text/plain": [
              "Warning: Ignoring columns purchase_count;"
            ],
            "text/html": [
              "<pre>Warning: Ignoring columns purchase_count;</pre>"
            ]
          },
          "metadata": {}
        },
        {
          "output_type": "display_data",
          "data": {
            "text/plain": [
              "    To use these columns in scoring predictions, use a model that allows the use of additional features."
            ],
            "text/html": [
              "<pre>    To use these columns in scoring predictions, use a model that allows the use of additional features.</pre>"
            ]
          },
          "metadata": {}
        },
        {
          "output_type": "display_data",
          "data": {
            "text/plain": [
              "Preparing data set."
            ],
            "text/html": [
              "<pre>Preparing data set.</pre>"
            ]
          },
          "metadata": {}
        },
        {
          "output_type": "display_data",
          "data": {
            "text/plain": [
              "    Data has 133585 observations with 24429 users and 300 items."
            ],
            "text/html": [
              "<pre>    Data has 133585 observations with 24429 users and 300 items.</pre>"
            ]
          },
          "metadata": {}
        },
        {
          "output_type": "display_data",
          "data": {
            "text/plain": [
              "    Data prepared in: 0.13949s"
            ],
            "text/html": [
              "<pre>    Data prepared in: 0.13949s</pre>"
            ]
          },
          "metadata": {}
        },
        {
          "output_type": "display_data",
          "data": {
            "text/plain": [
              "Training model from provided data."
            ],
            "text/html": [
              "<pre>Training model from provided data.</pre>"
            ]
          },
          "metadata": {}
        },
        {
          "output_type": "display_data",
          "data": {
            "text/plain": [
              "Gathering per-item and per-user statistics."
            ],
            "text/html": [
              "<pre>Gathering per-item and per-user statistics.</pre>"
            ]
          },
          "metadata": {}
        },
        {
          "output_type": "display_data",
          "data": {
            "text/plain": [
              "+--------------------------------+------------+"
            ],
            "text/html": [
              "<pre>+--------------------------------+------------+</pre>"
            ]
          },
          "metadata": {}
        },
        {
          "output_type": "display_data",
          "data": {
            "text/plain": [
              "| Elapsed Time (Item Statistics) | % Complete |"
            ],
            "text/html": [
              "<pre>| Elapsed Time (Item Statistics) | % Complete |</pre>"
            ]
          },
          "metadata": {}
        },
        {
          "output_type": "display_data",
          "data": {
            "text/plain": [
              "+--------------------------------+------------+"
            ],
            "text/html": [
              "<pre>+--------------------------------+------------+</pre>"
            ]
          },
          "metadata": {}
        },
        {
          "output_type": "display_data",
          "data": {
            "text/plain": [
              "| 2.021ms                        | 4          |"
            ],
            "text/html": [
              "<pre>| 2.021ms                        | 4          |</pre>"
            ]
          },
          "metadata": {}
        },
        {
          "output_type": "display_data",
          "data": {
            "text/plain": [
              "| 17.294ms                       | 100        |"
            ],
            "text/html": [
              "<pre>| 17.294ms                       | 100        |</pre>"
            ]
          },
          "metadata": {}
        },
        {
          "output_type": "display_data",
          "data": {
            "text/plain": [
              "+--------------------------------+------------+"
            ],
            "text/html": [
              "<pre>+--------------------------------+------------+</pre>"
            ]
          },
          "metadata": {}
        },
        {
          "output_type": "display_data",
          "data": {
            "text/plain": [
              "Setting up lookup tables."
            ],
            "text/html": [
              "<pre>Setting up lookup tables.</pre>"
            ]
          },
          "metadata": {}
        },
        {
          "output_type": "display_data",
          "data": {
            "text/plain": [
              "Processing data in one pass using dense lookup tables."
            ],
            "text/html": [
              "<pre>Processing data in one pass using dense lookup tables.</pre>"
            ]
          },
          "metadata": {}
        },
        {
          "output_type": "display_data",
          "data": {
            "text/plain": [
              "+-------------------------------------+------------------+-----------------+"
            ],
            "text/html": [
              "<pre>+-------------------------------------+------------------+-----------------+</pre>"
            ]
          },
          "metadata": {}
        },
        {
          "output_type": "display_data",
          "data": {
            "text/plain": [
              "| Elapsed Time (Constructing Lookups) | Total % Complete | Items Processed |"
            ],
            "text/html": [
              "<pre>| Elapsed Time (Constructing Lookups) | Total % Complete | Items Processed |</pre>"
            ]
          },
          "metadata": {}
        },
        {
          "output_type": "display_data",
          "data": {
            "text/plain": [
              "+-------------------------------------+------------------+-----------------+"
            ],
            "text/html": [
              "<pre>+-------------------------------------+------------------+-----------------+</pre>"
            ]
          },
          "metadata": {}
        },
        {
          "output_type": "display_data",
          "data": {
            "text/plain": [
              "| 18.083ms                            | 0                | 0               |"
            ],
            "text/html": [
              "<pre>| 18.083ms                            | 0                | 0               |</pre>"
            ]
          },
          "metadata": {}
        },
        {
          "output_type": "display_data",
          "data": {
            "text/plain": [
              "| 62.364ms                            | 100              | 300             |"
            ],
            "text/html": [
              "<pre>| 62.364ms                            | 100              | 300             |</pre>"
            ]
          },
          "metadata": {}
        },
        {
          "output_type": "display_data",
          "data": {
            "text/plain": [
              "+-------------------------------------+------------------+-----------------+"
            ],
            "text/html": [
              "<pre>+-------------------------------------+------------------+-----------------+</pre>"
            ]
          },
          "metadata": {}
        },
        {
          "output_type": "display_data",
          "data": {
            "text/plain": [
              "Finalizing lookup tables."
            ],
            "text/html": [
              "<pre>Finalizing lookup tables.</pre>"
            ]
          },
          "metadata": {}
        },
        {
          "output_type": "display_data",
          "data": {
            "text/plain": [
              "Generating candidate set for working with new users."
            ],
            "text/html": [
              "<pre>Generating candidate set for working with new users.</pre>"
            ]
          },
          "metadata": {}
        },
        {
          "output_type": "display_data",
          "data": {
            "text/plain": [
              "Finished training in 0.092184s"
            ],
            "text/html": [
              "<pre>Finished training in 0.092184s</pre>"
            ]
          },
          "metadata": {}
        },
        {
          "output_type": "stream",
          "name": "stdout",
          "text": [
            "+------------+-----------+----------------------+------+\n",
            "| customerId | productId |        score         | rank |\n",
            "+------------+-----------+----------------------+------+\n",
            "|    1553    |     2     | 0.10592188835144042  |  1   |\n",
            "|    1553    |     1     | 0.10348175764083863  |  2   |\n",
            "|    1553    |     35    |  0.0845762014389038  |  3   |\n",
            "|    1553    |     33    |  0.0668614387512207  |  4   |\n",
            "|    1553    |     5     | 0.06496070623397827  |  5   |\n",
            "|    1553    |     61    | 0.060317397117614746 |  6   |\n",
            "|    1553    |     15    | 0.05949603319168091  |  7   |\n",
            "|    1553    |     17    |  0.0519999623298645  |  8   |\n",
            "|    1553    |     11    | 0.050322222709655764 |  9   |\n",
            "|    1553    |     19    | 0.049363481998443606 |  10  |\n",
            "|   20400    |     26    | 0.05812269449234009  |  1   |\n",
            "|   20400    |     6     | 0.05361741781234741  |  2   |\n",
            "|   20400    |    113    | 0.05312788486480713  |  3   |\n",
            "|   20400    |     1     | 0.05210459232330322  |  4   |\n",
            "|   20400    |     15    | 0.047683894634246826 |  5   |\n",
            "|   20400    |     27    | 0.044673383235931396 |  6   |\n",
            "|   20400    |     13    | 0.04383981227874756  |  7   |\n",
            "|   20400    |    246    | 0.04373115301132202  |  8   |\n",
            "|   20400    |    160    | 0.04251152276992798  |  9   |\n",
            "|   20400    |     4     | 0.04242873191833496  |  10  |\n",
            "|   19750    |     48    |  0.132284144560496   |  1   |\n",
            "|   19750    |     36    | 0.12405195832252502  |  2   |\n",
            "|   19750    |     38    | 0.12345944841702779  |  3   |\n",
            "|   19750    |     79    | 0.10431413849194844  |  4   |\n",
            "|   19750    |     1     |  0.1038620372613271  |  5   |\n",
            "|   19750    |     2     | 0.07929716507593791  |  6   |\n",
            "|   19750    |     5     | 0.07093353072802226  |  7   |\n",
            "|   19750    |     17    | 0.06506650646527608  |  8   |\n",
            "|   19750    |     44    | 0.06468223532040913  |  9   |\n",
            "|   19750    |     21    | 0.06357964873313904  |  10  |\n",
            "+------------+-----------+----------------------+------+\n",
            "[10000 rows x 4 columns]\n"
          ]
        },
        {
          "output_type": "display_data",
          "data": {
            "text/plain": [
              "recommendations finished on 1000/1000 queries. users per second: 39710.9"
            ],
            "text/html": [
              "<pre>recommendations finished on 1000/1000 queries. users per second: 39710.9</pre>"
            ]
          },
          "metadata": {}
        },
        {
          "output_type": "stream",
          "name": "stdout",
          "text": [
            "\n"
          ]
        }
      ]
    },
    {
      "cell_type": "code",
      "source": [
        "# creating an csv output file that will be saved in the drive\n",
        "def create_output(model, users_to_recommend, n_rec, print_csv=True):\n",
        "    recomendation = model.recommend(users=users_to_recommend, k=n_rec)\n",
        "    df_rec = recomendation.to_dataframe()\n",
        "    df_rec['recommendedProducts'] = df_rec.groupby([user_id])[item_id] \\\n",
        "        .transform(lambda x: '|'.join(x.astype(str)))\n",
        "    df_output = df_rec[['customerId', 'recommendedProducts']].drop_duplicates() \\\n",
        "        .sort_values('customerId').set_index('customerId')\n",
        "    if print_csv:\n",
        "        df_output.to_csv('/content/drive/MyDrive/output/option1_recommendation.csv')\n",
        "        print(\"An output file can be found in 'output' folder with name 'option1_recommendation.csv'\")\n",
        "    return df_output"
      ],
      "metadata": {
        "id": "zM3WsRGmgvHl"
      },
      "execution_count": null,
      "outputs": []
    },
    {
      "cell_type": "code",
      "source": [
        "df_output = create_output(pear_norm, users_to_recommend, n_rec, print_csv=True)\n",
        "print(df_output.shape)\n",
        "df_output.head()"
      ],
      "metadata": {
        "colab": {
          "base_uri": "https://localhost:8080/",
          "height": 290
        },
        "id": "vtJ-tm56gyZX",
        "outputId": "1bf38e8c-6904-45b0-a291-c0f74bd59531"
      },
      "execution_count": null,
      "outputs": [
        {
          "output_type": "display_data",
          "data": {
            "text/plain": [
              "recommendations finished on 1000/1000 queries. users per second: 60897.6"
            ],
            "text/html": [
              "<pre>recommendations finished on 1000/1000 queries. users per second: 60897.6</pre>"
            ]
          },
          "metadata": {}
        },
        {
          "output_type": "stream",
          "name": "stdout",
          "text": [
            "An output file can be found in 'output' folder with name 'option1_recommendation.csv'\n",
            "(1000, 1)\n"
          ]
        },
        {
          "output_type": "execute_result",
          "data": {
            "text/plain": [
              "                                recommendedProducts\n",
              "customerId                                         \n",
              "4           226|247|230|125|294|248|204|155|213|276\n",
              "11           226|247|230|125|294|248|204|155|276|74\n",
              "12          226|247|230|125|294|248|204|155|213|276\n",
              "16          226|247|230|125|294|248|204|155|213|276\n",
              "21          226|247|230|125|294|248|204|155|213|276"
            ],
            "text/html": [
              "\n",
              "  <div id=\"df-998eba57-108c-4e1e-bca6-01ae94d714df\">\n",
              "    <div class=\"colab-df-container\">\n",
              "      <div>\n",
              "<style scoped>\n",
              "    .dataframe tbody tr th:only-of-type {\n",
              "        vertical-align: middle;\n",
              "    }\n",
              "\n",
              "    .dataframe tbody tr th {\n",
              "        vertical-align: top;\n",
              "    }\n",
              "\n",
              "    .dataframe thead th {\n",
              "        text-align: right;\n",
              "    }\n",
              "</style>\n",
              "<table border=\"1\" class=\"dataframe\">\n",
              "  <thead>\n",
              "    <tr style=\"text-align: right;\">\n",
              "      <th></th>\n",
              "      <th>recommendedProducts</th>\n",
              "    </tr>\n",
              "    <tr>\n",
              "      <th>customerId</th>\n",
              "      <th></th>\n",
              "    </tr>\n",
              "  </thead>\n",
              "  <tbody>\n",
              "    <tr>\n",
              "      <th>4</th>\n",
              "      <td>226|247|230|125|294|248|204|155|213|276</td>\n",
              "    </tr>\n",
              "    <tr>\n",
              "      <th>11</th>\n",
              "      <td>226|247|230|125|294|248|204|155|276|74</td>\n",
              "    </tr>\n",
              "    <tr>\n",
              "      <th>12</th>\n",
              "      <td>226|247|230|125|294|248|204|155|213|276</td>\n",
              "    </tr>\n",
              "    <tr>\n",
              "      <th>16</th>\n",
              "      <td>226|247|230|125|294|248|204|155|213|276</td>\n",
              "    </tr>\n",
              "    <tr>\n",
              "      <th>21</th>\n",
              "      <td>226|247|230|125|294|248|204|155|213|276</td>\n",
              "    </tr>\n",
              "  </tbody>\n",
              "</table>\n",
              "</div>\n",
              "      <button class=\"colab-df-convert\" onclick=\"convertToInteractive('df-998eba57-108c-4e1e-bca6-01ae94d714df')\"\n",
              "              title=\"Convert this dataframe to an interactive table.\"\n",
              "              style=\"display:none;\">\n",
              "        \n",
              "  <svg xmlns=\"http://www.w3.org/2000/svg\" height=\"24px\"viewBox=\"0 0 24 24\"\n",
              "       width=\"24px\">\n",
              "    <path d=\"M0 0h24v24H0V0z\" fill=\"none\"/>\n",
              "    <path d=\"M18.56 5.44l.94 2.06.94-2.06 2.06-.94-2.06-.94-.94-2.06-.94 2.06-2.06.94zm-11 1L8.5 8.5l.94-2.06 2.06-.94-2.06-.94L8.5 2.5l-.94 2.06-2.06.94zm10 10l.94 2.06.94-2.06 2.06-.94-2.06-.94-.94-2.06-.94 2.06-2.06.94z\"/><path d=\"M17.41 7.96l-1.37-1.37c-.4-.4-.92-.59-1.43-.59-.52 0-1.04.2-1.43.59L10.3 9.45l-7.72 7.72c-.78.78-.78 2.05 0 2.83L4 21.41c.39.39.9.59 1.41.59.51 0 1.02-.2 1.41-.59l7.78-7.78 2.81-2.81c.8-.78.8-2.07 0-2.86zM5.41 20L4 18.59l7.72-7.72 1.47 1.35L5.41 20z\"/>\n",
              "  </svg>\n",
              "      </button>\n",
              "      \n",
              "  <style>\n",
              "    .colab-df-container {\n",
              "      display:flex;\n",
              "      flex-wrap:wrap;\n",
              "      gap: 12px;\n",
              "    }\n",
              "\n",
              "    .colab-df-convert {\n",
              "      background-color: #E8F0FE;\n",
              "      border: none;\n",
              "      border-radius: 50%;\n",
              "      cursor: pointer;\n",
              "      display: none;\n",
              "      fill: #1967D2;\n",
              "      height: 32px;\n",
              "      padding: 0 0 0 0;\n",
              "      width: 32px;\n",
              "    }\n",
              "\n",
              "    .colab-df-convert:hover {\n",
              "      background-color: #E2EBFA;\n",
              "      box-shadow: 0px 1px 2px rgba(60, 64, 67, 0.3), 0px 1px 3px 1px rgba(60, 64, 67, 0.15);\n",
              "      fill: #174EA6;\n",
              "    }\n",
              "\n",
              "    [theme=dark] .colab-df-convert {\n",
              "      background-color: #3B4455;\n",
              "      fill: #D2E3FC;\n",
              "    }\n",
              "\n",
              "    [theme=dark] .colab-df-convert:hover {\n",
              "      background-color: #434B5C;\n",
              "      box-shadow: 0px 1px 3px 1px rgba(0, 0, 0, 0.15);\n",
              "      filter: drop-shadow(0px 1px 2px rgba(0, 0, 0, 0.3));\n",
              "      fill: #FFFFFF;\n",
              "    }\n",
              "  </style>\n",
              "\n",
              "      <script>\n",
              "        const buttonEl =\n",
              "          document.querySelector('#df-998eba57-108c-4e1e-bca6-01ae94d714df button.colab-df-convert');\n",
              "        buttonEl.style.display =\n",
              "          google.colab.kernel.accessAllowed ? 'block' : 'none';\n",
              "\n",
              "        async function convertToInteractive(key) {\n",
              "          const element = document.querySelector('#df-998eba57-108c-4e1e-bca6-01ae94d714df');\n",
              "          const dataTable =\n",
              "            await google.colab.kernel.invokeFunction('convertToInteractive',\n",
              "                                                     [key], {});\n",
              "          if (!dataTable) return;\n",
              "\n",
              "          const docLinkHtml = 'Like what you see? Visit the ' +\n",
              "            '<a target=\"_blank\" href=https://colab.research.google.com/notebooks/data_table.ipynb>data table notebook</a>'\n",
              "            + ' to learn more about interactive tables.';\n",
              "          element.innerHTML = '';\n",
              "          dataTable['output_type'] = 'display_data';\n",
              "          await google.colab.output.renderOutput(dataTable, element);\n",
              "          const docLink = document.createElement('div');\n",
              "          docLink.innerHTML = docLinkHtml;\n",
              "          element.appendChild(docLink);\n",
              "        }\n",
              "      </script>\n",
              "    </div>\n",
              "  </div>\n",
              "  "
            ]
          },
          "metadata": {},
          "execution_count": 39
        }
      ]
    },
    {
      "cell_type": "code",
      "source": [
        "def customer_recomendation(customer_id):\n",
        "    if customer_id not in df_output.index:\n",
        "        print('Customer not found.')\n",
        "        return customer_id\n",
        "    return df_output.loc[customer_id]"
      ],
      "metadata": {
        "id": "jyr9ZZ6JiJBU"
      },
      "execution_count": null,
      "outputs": []
    },
    {
      "cell_type": "code",
      "source": [
        "customer_recomendation(21)"
      ],
      "metadata": {
        "colab": {
          "base_uri": "https://localhost:8080/"
        },
        "id": "fZ3AXEVkiRVi",
        "outputId": "5a00329f-e50e-42a1-d1d6-e0ec0669611e"
      },
      "execution_count": null,
      "outputs": [
        {
          "output_type": "execute_result",
          "data": {
            "text/plain": [
              "recommendedProducts    226|247|230|125|294|248|204|155|213|276\n",
              "Name: 21, dtype: object"
            ]
          },
          "metadata": {},
          "execution_count": 41
        }
      ]
    },
    {
      "cell_type": "code",
      "source": [
        "customer_recomendation(2)"
      ],
      "metadata": {
        "colab": {
          "base_uri": "https://localhost:8080/"
        },
        "id": "We1nCI7Z5U7d",
        "outputId": "87ac8094-d4db-49d0-813b-e6dd44fb4422"
      },
      "execution_count": null,
      "outputs": [
        {
          "output_type": "stream",
          "name": "stdout",
          "text": [
            "Customer not found.\n"
          ]
        },
        {
          "output_type": "execute_result",
          "data": {
            "text/plain": [
              "2"
            ]
          },
          "metadata": {},
          "execution_count": 42
        }
      ]
    }
  ]
}